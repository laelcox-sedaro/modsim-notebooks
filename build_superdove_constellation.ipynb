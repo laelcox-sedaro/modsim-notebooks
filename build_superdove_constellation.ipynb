{
 "cells": [
  {
   "attachments": {},
   "cell_type": "markdown",
   "metadata": {},
   "source": [
    "Build a constellation of Planet Dove satellites"
   ]
  },
  {
   "cell_type": "code",
   "execution_count": null,
   "metadata": {},
   "outputs": [],
   "source": [
    "import time\n",
    "import numpy as np\n",
    "import requests\n",
    "from sedaro import SedaroApiClient\n",
    "from sedaro_base_client.apis.tags import jobs_api\n",
    "\n",
    "# Settings\n",
    "API_KEY = '' \n",
    "SCENARIO_BRANCH_ID = 'NXVzrUNTFH9pNn8zTSH1F'\n",
    "HOST = 'https://api.sedaro.com'\n",
    "BASE_AGENT_ID = 'NT-KoZFSELKK8eomP3lkV'"
   ]
  },
  {
   "attachments": {},
   "cell_type": "markdown",
   "metadata": {},
   "source": [
    "### Delete satelllite with old TLEs\n",
    "\n",
    "This is a cleanup step to remove any satellites that were created in a previous run of this notebook. This is not necessary if you are running this notebook for the first time."
   ]
  },
  {
   "cell_type": "code",
   "execution_count": null,
   "metadata": {},
   "outputs": [],
   "source": [
    "with SedaroApiClient(api_key=API_KEY, host=HOST) as sedaro_client:\n",
    "    scenario = sedaro_client.get_branch(SCENARIO_BRANCH_ID)\n",
    "\n",
    "    delete_ids=[]\n",
    "    for agent_id in scenario.data['index']['Agent']:\n",
    "        if agent_id != BASE_AGENT_ID and not (scenario.data['blocks'][agent_id]['peripheral']):\n",
    "            delete_ids.append(agent_id)\n",
    "\n",
    "    if not delete_ids: \n",
    "        print('No blocks were deleted')\n",
    "    else:\n",
    "        scenario.crud(delete=delete_ids)\n",
    "        print(f'Deleted {len(delete_ids)} spacecraft digital twin agents.')"
   ]
  },
  {
   "attachments": {},
   "cell_type": "markdown",
   "metadata": {},
   "source": [
    "### Fetch Constellation TLEs"
   ]
  },
  {
   "cell_type": "code",
   "execution_count": null,
   "metadata": {},
   "outputs": [],
   "source": [
    "# Load TLE file\n",
    "url = 'https://ephemerides.planet-labs.com/planet_mc.tle'\n",
    "tles = requests.get(url).text.splitlines()"
   ]
  },
  {
   "attachments": {},
   "cell_type": "markdown",
   "metadata": {},
   "source": [
    "### Create new agents with new TLEs"
   ]
  },
  {
   "cell_type": "code",
   "execution_count": null,
   "metadata": {},
   "outputs": [],
   "source": [
    "with SedaroApiClient(api_key=API_KEY, host=HOST) as sedaro_client:\n",
    "    scenario = sedaro_client.get_branch(SCENARIO_BRANCH_ID)\n",
    "    base = scenario.Agent.get(BASE_AGENT_ID)\n",
    "\n",
    "    def create_orbit(tle):\n",
    "        return {**base.orbit.data, 'initialStateDefParams': {'tle': tle}}.pop('id')\n",
    "\n",
    "    def create_agent(name, orbit_id):\n",
    "        return {**base.data, 'orbit': orbit_id, 'name': name}.pop('id')\n",
    "\n",
    "    n_sats = int(len(tles)/3)   #temporary limit of to the ammmount of sats in constellation due to issue with simulating all 218\n",
    "    orbits=[create_orbit(tles[3*idx+1] + '\\n' + tles[3*idx+2]) for idx in range(n_sats)]\n",
    "    response = scenario.crud(blocks=orbits)\n",
    "    print(f'Created {n_sats} orbits from TLEs.')\n",
    "\n",
    "    orbit_ids = response['crud']['blocks']\n",
    "    agents = [create_agent(tles[3*idx], orbit_ids[idx]) for idx in range(n_sats)]\n",
    "    scenario.crud(blocks=agents)\n",
    "    print(f'Created {n_sats} spacecraft digital twin agents.')"
   ]
  }
 ],
 "metadata": {
  "kernelspec": {
   "display_name": "Python 3",
   "language": "python",
   "name": "python3"
  },
  "language_info": {
   "codemirror_mode": {
    "name": "ipython",
    "version": 3
   },
   "file_extension": ".py",
   "mimetype": "text/x-python",
   "name": "python",
   "nbconvert_exporter": "python",
   "pygments_lexer": "ipython3",
   "version": "3.9.6"
  },
  "orig_nbformat": 4
 },
 "nbformat": 4,
 "nbformat_minor": 2
}
