{
 "cells": [
  {
   "attachments": {},
   "cell_type": "markdown",
   "metadata": {},
   "source": [
    "Build a constellation of Planet Dove satellites"
   ]
  },
  {
   "cell_type": "code",
   "execution_count": 65,
   "metadata": {},
   "outputs": [],
   "source": [
    "import time\n",
    "import numpy as np\n",
    "import requests\n",
    "from sedaro import SedaroApiClient\n",
    "from sedaro_base_client.apis.tags import jobs_api\n",
    "\n",
    "# Settings\n",
    "API_KEY = '' \n",
    "SCENARIO_BRANCH_ID = 'NXVzrUNTFH9pNn8zTSH1F'\n",
    "HOST = 'https://api.sedaro.com'\n",
    "\n",
    "BASE_AGENT_ID = 'NT-KoZFSELKK8eomP3lkV'"
   ]
  },
  {
   "attachments": {},
   "cell_type": "markdown",
   "metadata": {},
   "source": [
    "delete satelllite with old TLEs"
   ]
  },
  {
   "cell_type": "code",
   "execution_count": 66,
   "metadata": {},
   "outputs": [
    {
     "name": "stdout",
     "output_type": "stream",
     "text": [
      "no blocks were deleted\n"
     ]
    }
   ],
   "source": [
    "with SedaroApiClient(api_key=API_KEY, host=HOST) as sedaro_client:\n",
    "    scenario = sedaro_client.get_branch(SCENARIO_BRANCH_ID)\n",
    "\n",
    "    delete_ids=[]\n",
    "    for agent_id in scenario.data['index']['Agent']:\n",
    "        if agent_id != BASE_AGENT_ID and not (scenario.data['blocks'][agent_id]['peripheral']):\n",
    "            \n",
    "            delete_ids.append(agent_id)\n",
    "\n",
    "    if not delete_ids: \n",
    "        print('no blocks were deleted')\n",
    "        \n",
    "    else:\n",
    "        scenario.crud(delete=delete_ids)\n",
    "        print(f'deleted {len(delete_ids)} spacecraft digital twin agents.')\n",
    "\n",
    "    "
   ]
  },
  {
   "attachments": {},
   "cell_type": "markdown",
   "metadata": {},
   "source": []
  },
  {
   "attachments": {},
   "cell_type": "markdown",
   "metadata": {},
   "source": [
    "create new agents with new TLEs"
   ]
  },
  {
   "cell_type": "code",
   "execution_count": 67,
   "metadata": {},
   "outputs": [
    {
     "name": "stdout",
     "output_type": "stream",
     "text": [
      "Created 218 orbits from tles.\n",
      "Created 218 spacecraft digital twin agents.\n"
     ]
    }
   ],
   "source": [
    "with SedaroApiClient(api_key=API_KEY, host=HOST) as sedaro_client:\n",
    "    scenario = sedaro_client.get_branch(SCENARIO_BRANCH_ID)\n",
    "\n",
    "    base = scenario.Agent.get(BASE_AGENT_ID)\n",
    "\n",
    "    def create_orbit(tle):\n",
    "        _orbit = {\n",
    "            **base.orbit.data,\n",
    "            'initialStateDefParams': {'tle': tle}\n",
    "        }\n",
    "        _orbit.pop('id')\n",
    "\n",
    "        return _orbit\n",
    "\n",
    "    def create_agent(name, orbit_id):\n",
    "        temp = {**base.data, 'orbit': orbit_id, 'name': name}\n",
    "        del temp['id']\n",
    "        \n",
    "        return temp\n",
    "\n",
    "    # Load TLE file\n",
    "    url = 'https://ephemerides.planet-labs.com/planet_mc.tle'\n",
    "    tles = requests.get(url).text.splitlines()\n",
    "\n",
    "    orbits=[]\n",
    "    n_sats = int(len(tles)/3)   #temporary limit of to the ammmount of sats in constellation due to issue with simulating all 218\n",
    "    for idx in range(0, n_sats):\n",
    "        orbits.append(create_orbit( tles[3*idx+1] + '\\n' + tles[3*idx+2]))\n",
    "\n",
    "    orbit_ids = scenario.crud(blocks=orbits)['crud']['blocks']\n",
    "\n",
    "    print(f'Created {n_sats} orbits from tles.')\n",
    "\n",
    "    agents=[]\n",
    "    for idx in range(0, n_sats):\n",
    "        agents.append(create_agent(tles[3*idx], orbit_ids[idx]))\n",
    "\n",
    "    scenario.crud(blocks=agents)\n",
    "\n",
    "    print(f'Created {n_sats} spacecraft digital twin agents.')"
   ]
  }
 ],
 "metadata": {
  "kernelspec": {
   "display_name": "Python 3",
   "language": "python",
   "name": "python3"
  },
  "language_info": {
   "codemirror_mode": {
    "name": "ipython",
    "version": 3
   },
   "file_extension": ".py",
   "mimetype": "text/x-python",
   "name": "python",
   "nbconvert_exporter": "python",
   "pygments_lexer": "ipython3",
   "version": "3.9.6"
  },
  "orig_nbformat": 4
 },
 "nbformat": 4,
 "nbformat_minor": 2
}
