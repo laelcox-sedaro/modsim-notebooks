{
 "cells": [
  {
   "attachments": {},
   "cell_type": "markdown",
   "metadata": {},
   "source": [
    "### Sedaro API \"Rolling Simulations\" Example\n",
    "\n",
    "This notebook shows a powerful use case of the Sedaro API where simulations are started and terminated on a rolling basis to inject incremental state corrections (i.e. from telemetry) over time.\n",
    "\n",
    "This is particularly useful to operations use cases where telemetry can tune the simulation to match the real system(s) - enabling the simulation to predict future performance and fill telemetry gaps."
   ]
  },
  {
   "attachments": {},
   "cell_type": "markdown",
   "metadata": {},
   "source": [
    "#### Important: Read Before Running\n",
    "\n",
    "This notebook makes changes to agent and scenario branches indicated in the settings section. Ensure any changes to the target branches are saved prior to running this code. Sedaro recommends committing current work and creating new branches in the target repositories to avoid loss of work.\n",
    "\n",
    "This notebook also requires that you have previously generated an API key in the web UI. That key should be stored in a file called `secrets.json` in the same directory as this notebook with the following format:\n",
    "\n",
    "```json\n",
    "{\n",
    "    \"API_KEY\": \"<API_KEY>\"\n",
    "}\n",
    "```\n",
    "\n",
    "API keys grant full access to your repositories and should never be shared. If you think your API key has been compromised, you can revoke it in the user settings interface on the Sedaro website."
   ]
  },
  {
   "cell_type": "code",
   "execution_count": null,
   "metadata": {},
   "outputs": [],
   "source": [
    "import json\n",
    "\n",
    "import matplotlib.pyplot as plt\n",
    "from sedaro import SedaroApiClient, SedaroSimulationResult\n",
    "from sedaro_base_client.apis.tags import jobs_api"
   ]
  },
  {
   "cell_type": "code",
   "execution_count": null,
   "metadata": {},
   "outputs": [],
   "source": [
    "# Settings\n",
    "with open('./secrets.json', 'r') as file:\n",
    "    API_KEY = json.load(file)['API_KEY']\n",
    "\n",
    "with open('./config.json', 'r') as file:\n",
    "    config = json.load(file)\n",
    "\n",
    "# Obtain these IDs from the branch list within each repository and add to config.json\n",
    "AGENT_TEMPLATE_BRANCH_ID = config['AGENT_TEMPLATE_BRANCH_ID']    # ID of the Wildfire vehicle template branch\n",
    "SCENARIO_BRANCH_ID = config['SCENARIO_BRANCH_ID']                # ID of the Wildfire scenario template branch\n",
    "HOST = config['HOST']                                            # Sedaro instance URL"
   ]
  },
  {
   "cell_type": "code",
   "execution_count": null,
   "metadata": {},
   "outputs": [],
   "source": [
    "def get_by_name(block_class, name):\n",
    "    '''Search for a block with a particular name.'''\n",
    "    instances = block_class.get_all()\n",
    "    results = [entry for entry in instances if entry.name == name]\n",
    "    if len(results) > 0:\n",
    "        return results[0]\n",
    "    else:\n",
    "        return None"
   ]
  },
  {
   "attachments": {},
   "cell_type": "markdown",
   "metadata": {},
   "source": [
    "#### Query Simulation Elements\n",
    "The API allows for queries of elements in the simulation, commonly referred to as \"blocks\". Here we query every block\n",
    "of the `SubSystem` type that groups spacecraft components for analytics. For each subsystem, we print its name and the\n",
    "name of every `Component` under it. Any element of the simulation can be queried in this manner."
   ]
  },
  {
   "cell_type": "code",
   "execution_count": null,
   "metadata": {},
   "outputs": [],
   "source": [
    "with SedaroApiClient(api_key=API_KEY, host=HOST) as sedaro_client:\n",
    "    branch_client = sedaro_client.get_branch(AGENT_TEMPLATE_BRANCH_ID)\n",
    "    for subsystem in branch_client.Subsystem.get_all():\n",
    "        print(subsystem.name)\n",
    "        for component in subsystem.components:\n",
    "            print(\"    -\", component.name)\n"
   ]
  },
  {
   "attachments": {},
   "cell_type": "markdown",
   "metadata": {},
   "source": [
    "#### Create Simulation Elements\n",
    "\n",
    "Here a new `AngularVelocitySensor` is instantiated using the `branch_client.<BLOCK_NAME>.create` method. See the `sedaro` package documentation [here](https://github.com/sedaro/sedaro-python/tree/main/sedaro) for a listing of available\n",
    "blocks."
   ]
  },
  {
   "cell_type": "code",
   "execution_count": null,
   "metadata": {},
   "outputs": [],
   "source": [
    "with SedaroApiClient(api_key=API_KEY, host=HOST) as sedaro_client:\n",
    "    branch_client = sedaro_client.get_branch(AGENT_TEMPLATE_BRANCH_ID)\n",
    "\n",
    "    gnc_subsystem = get_by_name(branch_client.Subsystem, 'GNC')\n",
    "    sensor_name = 'Test Sensor'\n",
    "    sensor = get_by_name(branch_client.AngularVelocitySensor, sensor_name)\n",
    "    if sensor is None:\n",
    "        sensor = branch_client.AngularVelocitySensor.create(\n",
    "            name=sensor_name,\n",
    "            oneSigmaPerAxisError={'deg/s': 0.01},\n",
    "            subsystem=gnc_subsystem.id\n",
    "        )\n"
   ]
  },
  {
   "attachments": {},
   "cell_type": "markdown",
   "metadata": {},
   "source": [
    "#### Simulate & Plot Results\n",
    "\n",
    "Now we will use the API to start the simulation and plot some of the results. The results of this run will also appear in the web interface as usual."
   ]
  },
  {
   "cell_type": "code",
   "execution_count": null,
   "metadata": {},
   "outputs": [],
   "source": [
    "with SedaroApiClient(api_key=API_KEY, host=HOST) as sedaro_client:\n",
    "    # Instantiate API and scenario objects\n",
    "    api_instance = jobs_api.JobsApi(sedaro_client)\n",
    "    scenario = sedaro_client.get_branch(SCENARIO_BRANCH_ID)\n",
    "\n",
    "    # Start scenario and wait for it to finish, then get data\n",
    "    api_instance.start_simulation(path_params={'branchId': scenario.id})\n",
    "    results = SedaroSimulationResult.poll_scenario_latest(API_KEY, scenario.id, host=HOST)\n",
    "\n",
    "    # Summarize results\n",
    "    results.summarize()"
   ]
  },
  {
   "cell_type": "code",
   "execution_count": null,
   "metadata": {},
   "outputs": [],
   "source": [
    "if results.success:\n",
    "    for agent_name in results.templated_agents:\n",
    "        agent_results = results.agent(agent_name)\n",
    "        if sensor.id in agent_results:\n",
    "            # Select sensor results and show summary\n",
    "            sensor_result = agent_results.block(sensor.id)\n",
    "            sensor_result.summarize()\n",
    "\n",
    "            # Plot Data\n",
    "            sensor_result.measurement.rpm.plot(show=False, marker='.', markersize=2, linewidth=0)\n",
    "            plt.ylabel('Angular Velocity (rpm)')\n",
    "            plt.legend(['x', 'y', 'z'])\n",
    "            plt.show()"
   ]
  }
 ],
 "metadata": {
  "kernelspec": {
   "display_name": "base",
   "language": "python",
   "name": "python3"
  },
  "language_info": {
   "codemirror_mode": {
    "name": "ipython",
    "version": 3
   },
   "file_extension": ".py",
   "mimetype": "text/x-python",
   "name": "python",
   "nbconvert_exporter": "python",
   "pygments_lexer": "ipython3",
   "version": "3.9.13"
  },
  "orig_nbformat": 4,
  "vscode": {
   "interpreter": {
    "hash": "81de021ba986461d7022d4254dbf1b167982aed3c07d0636a22d459172aa19e2"
   }
  }
 },
 "nbformat": 4,
 "nbformat_minor": 2
}
