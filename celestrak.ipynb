{
 "cells": [
  {
   "attachments": {},
   "cell_type": "markdown",
   "metadata": {},
   "source": [
    "### Celestrak Active Satellite Notebook"
   ]
  },
  {
   "cell_type": "code",
   "execution_count": null,
   "metadata": {},
   "outputs": [],
   "source": [
    "import json\n",
    "import requests\n",
    "\n",
    "from sedaro import SedaroApiClient"
   ]
  },
  {
   "attachments": {},
   "cell_type": "markdown",
   "metadata": {},
   "source": [
    "#### Important: Read Before Running\n",
    "\n",
    "This notebook makes changes to a scenario branche indicated in the settings section. Ensure any changes to the target branches are saved prior to running this code. Sedaro recommends committing current work and creating new branches in the target repositories to avoid loss of work.\n",
    "\n",
    "This notebook also requires that you have previously generated an API key in the web UI. That key should be stored in a file called `secrets.json` in the same directory as this notebook with the following format:\n",
    "\n",
    "```json\n",
    "{\n",
    "    \"API_KEY\": \"<API_KEY>\"\n",
    "}\n",
    "```\n",
    "\n",
    "API keys grant full access to your repositories and should never be shared. If you think your API key has been compromised, you can revoke it in the user settings interface on the Sedaro website."
   ]
  },
  {
   "cell_type": "code",
   "execution_count": null,
   "metadata": {},
   "outputs": [],
   "source": [
    "# Settings\n",
    "with open('./secrets.json', 'r') as file:\n",
    "    API_KEY = json.load(file)['API_KEY']\n",
    "\n",
    "# Obtain these IDs from the branch list within each repository and add to config.json\n",
    "SCENARIO_BRANCH_ID = 'NamFO_hSMyzY8s5kFw5hk'      # ID of the scenario branch"
   ]
  },
  {
   "attachments": {},
   "cell_type": "markdown",
   "metadata": {},
   "source": [
    "#### Instantiate Client\n",
    "Instantiate the `SedaroApiClient` with our `API_KEY` and `HOST`, and fetch the desired branch."
   ]
  },
  {
   "cell_type": "code",
   "execution_count": null,
   "metadata": {},
   "outputs": [],
   "source": [
    "sedaro = SedaroApiClient(api_key=API_KEY)\n",
    "scenario_branch = sedaro.scenario(SCENARIO_BRANCH_ID)"
   ]
  },
  {
   "attachments": {},
   "cell_type": "markdown",
   "metadata": {},
   "source": [
    "### Fetch Active Satellite TLEs"
   ]
  },
  {
   "cell_type": "code",
   "execution_count": null,
   "metadata": {},
   "outputs": [],
   "source": [
    "url = 'https://celestrak.org/NORAD/elements/gp.php?GROUP=active&FORMAT=tle'\n",
    "tles = requests.get(url).text.splitlines()"
   ]
  },
  {
   "attachments": {},
   "cell_type": "markdown",
   "metadata": {},
   "source": [
    "### Create new agents with new TLEs"
   ]
  },
  {
   "cell_type": "code",
   "execution_count": null,
   "metadata": {},
   "outputs": [],
   "source": [
    "def create_orbit(tle, i):\n",
    "    _orbit = {\n",
    "        'id': f'${i}',\n",
    "        'initialStateDefType': 'TLE',\n",
    "        'initialStateDefParams': {'tle': tle},\n",
    "        'type': 'Orbit'\n",
    "    }\n",
    "    return _orbit\n",
    "\n",
    "def create_agent(name, i):\n",
    "    temp = {'orbit': f'${i}', 'name': name, 'type': 'Agent', 'peripheral': True, 'differentiatingState': {'targetType': 'SpaceTarget'}}\n",
    "    return temp\n",
    "\n",
    "n_sats = 1200 # int(len(tles)/3)\n",
    "scenario_branch.crud(\n",
    "    blocks=[\n",
    "        create_orbit(tles[3*idx+1] + '\\n' + tles[3*idx+2], f'${idx}') for idx in range(n_sats)\n",
    "    ] + [\n",
    "        create_agent(tles[3*idx], f'${idx}') for idx in range(n_sats)\n",
    "    ]\n",
    ")\n",
    "print(f'Created {n_sats} orbits from TLEs and {n_sats} spacecraft digital twin agents.')"
   ]
  },
  {
   "cell_type": "markdown",
   "metadata": {},
   "source": [
    "### Cleanup"
   ]
  },
  {
   "cell_type": "code",
   "execution_count": null,
   "metadata": {},
   "outputs": [],
   "source": [
    "scenario_branch.crud(delete=[*scenario_branch.Orbit.get_all_ids(), *scenario_branch.Agent.get_all_ids()])"
   ]
  }
 ],
 "metadata": {
  "kernelspec": {
   "display_name": "Python 3",
   "language": "python",
   "name": "python3"
  },
  "language_info": {
   "codemirror_mode": {
    "name": "ipython",
    "version": 3
   },
   "file_extension": ".py",
   "mimetype": "text/x-python",
   "name": "python",
   "nbconvert_exporter": "python",
   "pygments_lexer": "ipython3",
   "version": "3.10.4"
  },
  "orig_nbformat": 4
 },
 "nbformat": 4,
 "nbformat_minor": 2
}
