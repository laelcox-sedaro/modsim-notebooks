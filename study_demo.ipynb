{
 "cells": [
  {
   "attachments": {},
   "cell_type": "markdown",
   "metadata": {},
   "source": [
    "### Sedaro Study API Example\n",
    "\n",
    "This notebook exercises funcionality of the Sedaro Study API tools. The notebook can be pointed at any scenario branch. Examples will step through running a study, downloading the data, and exploring the results."
   ]
  },
  {
   "attachments": {},
   "cell_type": "markdown",
   "metadata": {},
   "source": [
    "### ❗ This is an experimental preview of Study functionality.\n",
    "\n",
    "We are working to add features and streamline usability, so interfaces may change in future versions. Check back for updated versions of this notebook for guidance on the current state of the API."
   ]
  },
  {
   "cell_type": "code",
   "execution_count": 9,
   "metadata": {},
   "outputs": [],
   "source": [
    "import json\n",
    "from sedaro_base_client.apis.tags import jobs_api\n",
    "from sedaro import SedaroApiClient, SedaroStudyResult"
   ]
  },
  {
   "attachments": {},
   "cell_type": "markdown",
   "metadata": {},
   "source": [
    "#### Important: Read Before Running\n",
    "\n",
    "This notebook requires that you have previously generated an API key in the web UI. That key should be stored in a file called `secrets.json` in the same directory as this notebook with the following format:\n",
    "\n",
    "```json\n",
    "{\n",
    "    \"API_KEY\": \"<API_KEY>\"\n",
    "}\n",
    "```\n",
    "\n",
    "API keys grant full access to your repositories and should never be shared. If you think your API key has been compromised, you can revoke it in the user settings interface on the Sedaro website."
   ]
  },
  {
   "cell_type": "code",
   "execution_count": 10,
   "metadata": {},
   "outputs": [],
   "source": [
    "# Settings\n",
    "with open('./secrets.json', 'r') as file:\n",
    "    API_KEY = json.load(file)['API_KEY']\n",
    "\n",
    "# Obtain a scenario ID from the branch table of a particular scenario.\n",
    "SCENARIO_BRANCH_ID = ...\n",
    "HOST = 'https://api.sedaro.com'"
   ]
  },
  {
   "attachments": {},
   "cell_type": "markdown",
   "metadata": {},
   "source": [
    "### Running Studies"
   ]
  },
  {
   "attachments": {},
   "cell_type": "markdown",
   "metadata": {},
   "source": [
    "Studies in Sedaro are collections of individual simulations with varying parameter sets. Currently, variation is limited to the seed for the random number generator. Future versions will offer definition of arbitrary trade studies and covariance analyses.\n",
    "\n",
    "Starting a study requires at least a target scenario branch ID to simulate and the desired number of iterations. Additionally, it is possible to add more iterations to a study after it has been created with the `resumeJobId`. Both initial creation and resumption of a study are shown below."
   ]
  },
  {
   "cell_type": "code",
   "execution_count": 11,
   "metadata": {},
   "outputs": [
    {
     "name": "stdout",
     "output_type": "stream",
     "text": [
      "Started study: 616\n"
     ]
    }
   ],
   "source": [
    "with SedaroApiClient(api_key=API_KEY, host=HOST) as sedaro_client:\n",
    "    api_instance = jobs_api.JobsApi(sedaro_client)\n",
    "\n",
    "    # Create and run a new study\n",
    "    response = api_instance.start_study(\n",
    "        path_params={'branchId': SCENARIO_BRANCH_ID},\n",
    "        query_params={'iterations': 2}\n",
    "    )\n",
    "    study_id = response.body['id']\n",
    "    print(f'Started study: {study_id}')\n",
    "\n",
    "    # Run additional iterations in that same study\n",
    "    response = api_instance.start_study(\n",
    "        path_params={'branchId': SCENARIO_BRANCH_ID},\n",
    "        query_params={'iterations': 2, 'resumeJobId': study_id}\n",
    "    )"
   ]
  },
  {
   "attachments": {},
   "cell_type": "markdown",
   "metadata": {},
   "source": [
    "### Downloading and Navigating Results\n",
    "\n",
    "The primary entrypoint of the results API is the `SedaroStudyResult` class. This class offers a few methods for pulling data from scenarios. The most commonly-used method is `.get` that pulls the latest results into a new result object. If the simulation is not complete, the resulting object will indicate the status is \"Running\" and not contain full results. Alternatively, use the `.poll` method to wait for an in-progress simulation to complete and download results after. Both methods allow the user to specify a particular study if the ID is known.\n",
    "\n",
    "Since Studies potentially contain a large amount of data, it is important to consider memory usage. A `SedaroStudyResult` will lazily load individual `SedaroSimulationResult` as they are requested and cache them in memory for future requests. The `cache` boolean argument to the `.get` and `.poll` constructors controls caching behavior. If caching is disabled, the results will be downloaded each time they are requested memory must be managed manually by the user. With caching enabled, an optional `cache_dir` argument designates an on-disk location for caching simulation result data instead of in-memory. This notebook defaults to in-memory caching.\n",
    "\n",
    "Any object in the results API will provide a descriptive summary of its contents when the `.summarize` method is called."
   ]
  },
  {
   "cell_type": "code",
   "execution_count": 12,
   "metadata": {},
   "outputs": [
    {
     "name": "stdout",
     "output_type": "stream",
     "text": [
      "---------------------------------------------------------------------------\n",
      "                        Sedaro Study Result Summary                        \n",
      "                                 Job ID 616                                \n",
      "---------------------------------------------------------------------------\n",
      "✅ Study succeeded\n",
      "\n",
      "📋 Study contains 4 simulations\n",
      "\n",
      "❗ In-memory simulation result caching is ON\n",
      "---------------------------------------------------------------------------\n",
      "❓ Query individual simulation results with .result(<ID>)\n"
     ]
    }
   ],
   "source": [
    "study = SedaroStudyResult.poll(\n",
    "    API_KEY,\n",
    "    SCENARIO_BRANCH_ID,\n",
    "    job_id=study_id,\n",
    "    cache=True,\n",
    "    # cache_dir='/path/to/existing/dir',\n",
    "    host=HOST,\n",
    ")\n",
    "study.summarize()"
   ]
  },
  {
   "attachments": {},
   "cell_type": "markdown",
   "metadata": {},
   "source": [
    "At any time, the results contained in the local study object can be synced with the server by calling the `.refresh` method. A refresh is only necessary if additional simultions have been triggered for that study or if the study has an in progress status. In all other cases, the data stored locally will remain the same."
   ]
  },
  {
   "cell_type": "code",
   "execution_count": 13,
   "metadata": {},
   "outputs": [],
   "source": [
    "study.refresh()"
   ]
  },
  {
   "attachments": {},
   "cell_type": "markdown",
   "metadata": {},
   "source": [
    "The Study object offers two ways for accessing simulation results: direct indexing and iteration. If results for a particular simulation have not been downloaded yet, a log message will indicate a download is in progress. Both approaches return `SedaroSimulationResult` objects. See the results API demo notebook for guidance on interacting with those results.\n",
    "\n",
    "If caching is enabled, the operations in the cells below will load from cache after the first run, reducing access time."
   ]
  },
  {
   "cell_type": "code",
   "execution_count": 14,
   "metadata": {},
   "outputs": [
    {
     "name": "stdout",
     "output_type": "stream",
     "text": [
      "💾 Downloading simulation result id 620...done!\n",
      "---------------------------------------------------------------------------\n",
      "                      Sedaro Simulation Result Summary                     \n",
      "---------------------------------------------------------------------------\n",
      "✅ Simulation succeeded after 44.4s\n",
      "\n",
      "🛰️ Templated Agents \n",
      "    • SimpleSat\n",
      "\n",
      "📡 Peripheral Agents \n",
      "    • Test GEO\n",
      "    • Test Ground\n",
      "---------------------------------------------------------------------------\n",
      "❓ Query agent results with .agent(<NAME>)\n"
     ]
    }
   ],
   "source": [
    "sim = study.result(study.job_ids[0])\n",
    "sim.summarize()"
   ]
  },
  {
   "cell_type": "code",
   "execution_count": 15,
   "metadata": {},
   "outputs": [
    {
     "name": "stdout",
     "output_type": "stream",
     "text": [
      "SedaroSimulationResult(branch=113, status=SUCCEEDED)\n",
      "💾 Downloading simulation result id 619...done!\n",
      "SedaroSimulationResult(branch=113, status=SUCCEEDED)\n",
      "💾 Downloading simulation result id 618...done!\n",
      "SedaroSimulationResult(branch=113, status=SUCCEEDED)\n",
      "💾 Downloading simulation result id 617...done!\n",
      "SedaroSimulationResult(branch=113, status=SUCCEEDED)\n"
     ]
    }
   ],
   "source": [
    "for sim in study:\n",
    "    print(sim)"
   ]
  },
  {
   "attachments": {},
   "cell_type": "markdown",
   "metadata": {},
   "source": [
    "The cache, whether in-memory or on-disk, can be cleared with the `.clear_cache` method."
   ]
  },
  {
   "cell_type": "code",
   "execution_count": 16,
   "metadata": {},
   "outputs": [],
   "source": [
    "study.clear_cache()"
   ]
  }
 ],
 "metadata": {
  "kernelspec": {
   "display_name": ".venv",
   "language": "python",
   "name": "python3"
  },
  "language_info": {
   "codemirror_mode": {
    "name": "ipython",
    "version": 3
   },
   "file_extension": ".py",
   "mimetype": "text/x-python",
   "name": "python",
   "nbconvert_exporter": "python",
   "pygments_lexer": "ipython3",
   "version": "3.9.13"
  },
  "orig_nbformat": 4,
  "vscode": {
   "interpreter": {
    "hash": "57ef9f7306e2966b9a4e81196535973301de2420feb6cef905a8935fc008d3d3"
   }
  }
 },
 "nbformat": 4,
 "nbformat_minor": 2
}
