{
 "cells": [
  {
   "cell_type": "code",
   "execution_count": 53,
   "metadata": {},
   "outputs": [],
   "source": [
    "import json\n",
    "import requests\n",
    "def print_neat(dictionary_for_viewing):\n",
    "    print(json.dumps(dictionary_for_viewing, indent=4, sort_keys=True))"
   ]
  },
  {
   "cell_type": "code",
   "execution_count": 2,
   "metadata": {},
   "outputs": [],
   "source": [
    "with open('../secrets.json', 'r') as file:\n",
    "    API_KEY = json.load(file)['API_KEY']\n",
    "    # API_KEY = json.load(file)['LOCAL_API_KEY'] # For work in dev environment\n",
    "\n",
    "headers = {'X_API_KEY': API_KEY, 'Content-Type': 'application/json'}"
   ]
  },
  {
   "cell_type": "code",
   "execution_count": 54,
   "metadata": {},
   "outputs": [],
   "source": [
    "URL_BASE = 'https://api.sedaro.com'\n",
    "# URL_BASE = 'http://localhost:80' # For work in dev environment\n",
    "URL_Stems = {\n",
    "    'WORKSPACES': URL_BASE + '/workspaces/',\n",
    "    'REPOSITORIES': URL_BASE + '/models/repositories/',\n",
    "    'BRANCHES': URL_BASE + '/models/branches/',\n",
    "    'SIMULATION': URL_BASE + '/simulations/branches/',\n",
    "    'DATA': URL_BASE + '/data/'\n",
    "}"
   ]
  },
  {
   "cell_type": "code",
   "execution_count": 77,
   "metadata": {},
   "outputs": [],
   "source": [
    "def get_simulation_jobs(branch_id):\n",
    "    q_url = URL_Stems['SIMULATION'] + branch_id + '/control/'\n",
    "    qr = requests.get(q_url, headers=headers)\n",
    "    return qr.json()['contents']"
   ]
  },
  {
   "cell_type": "code",
   "execution_count": 78,
   "metadata": {},
   "outputs": [],
   "source": [
    "def get_latest_simulation_job(branch_id):\n",
    "    q_url = URL_Stems['SIMULATION'] + branch_id + '/control/?latest'\n",
    "    qr = requests.get(q_url, headers=headers)\n",
    "    return qr.json()"
   ]
  },
  {
   "cell_type": "code",
   "execution_count": 79,
   "metadata": {},
   "outputs": [
    {
     "data": {
      "text/plain": [
       "'PLzV6NFb2MmpkrkytRM6l8'"
      ]
     },
     "execution_count": 79,
     "metadata": {},
     "output_type": "execute_result"
    }
   ],
   "source": [
    "branch = 'PLzTPgjCKX9XvSKypDQzpQ'\n",
    "latest_sim_job = get_latest_simulation_job(branch)\n",
    "job_data_array_id = latest_sim_job[0]['dataArray']\n",
    "job_data_array_id"
   ]
  },
  {
   "cell_type": "code",
   "execution_count": 83,
   "metadata": {},
   "outputs": [],
   "source": [
    "def get_simulation_job_data(id, params = None):\n",
    "    q_url = URL_Stems['DATA'] + id\n",
    "    if params != None:\n",
    "        q_url += \"?\" + params\n",
    "    print(q_url)\n",
    "    qr = requests.get(q_url, headers=headers)\n",
    "    return qr"
   ]
  },
  {
   "cell_type": "code",
   "execution_count": 84,
   "metadata": {},
   "outputs": [
    {
     "name": "stdout",
     "output_type": "stream",
     "text": [
      "https://api.sedaro.com/data/PLzV6NFb2MmpkrkytRM6l8?sampleRate=1\n"
     ]
    }
   ],
   "source": [
    "p = 'sampleRate=1'\n",
    "# p = urllib.parse.quote_plus('sampleRate=8')\n",
    "job_id = 'PLzV6NFb2MmpkrkytRM6l8'\n",
    "resultz = get_simulation_job_data(job_id, p).json()"
   ]
  },
  {
   "cell_type": "code",
   "execution_count": 28,
   "metadata": {},
   "outputs": [],
   "source": [
    "def get_item_by_name(object_type_url, name):\n",
    "    q = requests.get(object_type_url, headers=headers)\n",
    "    print('API URL: ', object_type_url)\n",
    "    results = [entry for entry in q.json() if entry['name'] == name]\n",
    "    if len(results) > 0:\n",
    "        return results[0]\n",
    "    else:\n",
    "        return None"
   ]
  },
  {
   "cell_type": "code",
   "execution_count": 27,
   "metadata": {},
   "outputs": [],
   "source": [
    "def get_item_by_id(object_type_url, id):\n",
    "    url = object_type_url + id\n",
    "    q = requests.get(url, headers=headers)\n",
    "    print('API URL: ', url)\n",
    "    if type(q.json()) is dict:\n",
    "        return q.json()\n",
    "    else:\n",
    "        return None"
   ]
  },
  {
   "cell_type": "code",
   "execution_count": 29,
   "metadata": {},
   "outputs": [
    {
     "name": "stdout",
     "output_type": "stream",
     "text": [
      "API URL:  https://api.sedaro.com/workspaces/\n"
     ]
    },
    {
     "data": {
      "text/plain": [
       "'PLbmFrM26h37tNj6XjVvQD'"
      ]
     },
     "execution_count": 29,
     "metadata": {},
     "output_type": "execute_result"
    }
   ],
   "source": [
    "workspace_from_name = get_item_by_name(URL_Stems['WORKSPACES'], \"LC Demos\")\n",
    "workspace_id = workspace_from_name['id']\n",
    "# Watchout, workspaces can have the same name\n",
    "workspace_id"
   ]
  },
  {
   "cell_type": "code",
   "execution_count": 30,
   "metadata": {},
   "outputs": [
    {
     "name": "stdout",
     "output_type": "stream",
     "text": [
      "API URL:  https://api.sedaro.com/workspaces/PLbmFrM26h37tNj6XjVvQD\n"
     ]
    },
    {
     "data": {
      "text/plain": [
       "{'dateCreated': '2024-02-22T21:00:03.024Z',\n",
       " 'dateModified': '2024-04-05T13:11:34.629Z',\n",
       " 'defaultRole': 'PLbmFtH7Hv6tjtVm7CR4YH',\n",
       " 'description': '',\n",
       " 'id': 'PLbmFrM26h37tNj6XjVvQD',\n",
       " 'isActive': True,\n",
       " 'license': {'dateCreated': '2024-02-22T21:00:05.452Z',\n",
       "  'dateExpires': '2024-02-29T21:00:05.452Z',\n",
       "  'dateModified': '2024-02-22T21:00:05.452Z',\n",
       "  'id': 'PLbmFtHHC7y6LYTql6nxy3',\n",
       "  'isActive': True,\n",
       "  'workspace': 'PLbmFrM26h37tNj6XjVvQD'},\n",
       " 'members': [{'dateCreated': '2023-04-26T18:54:35.200Z',\n",
       "   'dateModified': '2024-04-08T14:14:51.890Z',\n",
       "   'email': 'lael.cox@sedarotech.com',\n",
       "   'externalIdentityProvider': None,\n",
       "   'firstName': 'Lael',\n",
       "   'id': 'NTyuhTQSoD0PhFWUTCRiF',\n",
       "   'incomplete': False,\n",
       "   'isFlagged': False,\n",
       "   'isVerified': True,\n",
       "   'lastName': 'Cox',\n",
       "   'organization': 'Sedaro',\n",
       "   'organizationCountryCode': 'US',\n",
       "   'roles': ['PLbmFtHFDvd4r2p6xWL2W6'],\n",
       "   'userCountryCode': 'US',\n",
       "   'workspaces': ['PLSd3LprQLXmJ4M99B8Rb3',\n",
       "    'PLbmFrM26h37tNj6XjVvQD',\n",
       "    'NTz2giOUaiZQ9R6LVXbw-',\n",
       "    'PLcDcq37gxczq49GhBvhcy',\n",
       "    'PJskg2QtjkLMj4kFzMDnWD',\n",
       "    'NXkVfPrRKqcOutT-fBuO-',\n",
       "    'PKCbxBkpxJdxwRbsZTFcDt',\n",
       "    'NalsC8YTWPI4DxnG6z31k']}],\n",
       " 'name': 'LC Demos',\n",
       " 'pendingInvites': {},\n",
       " 'projects': [{'createdBy': 'NTyuhTQSoD0PhFWUTCRiF',\n",
       "   'dateCreated': '2024-03-29T18:55:04.140Z',\n",
       "   'dateModified': '2024-03-29T18:55:04.140Z',\n",
       "   'description': '',\n",
       "   'id': 'PLzRbHslBxmcnmRRntmSpD',\n",
       "   'lastModifiedBy': 'NTyuhTQSoD0PhFWUTCRiF',\n",
       "   'name': 'Orbit Validation',\n",
       "   'repositories': ['PLyQYL2qsyRKqh5b8by52Y',\n",
       "    'PLyQYS9LfFFHHqxxQKcm47',\n",
       "    'PLyQYl3V8rkQsqfkqWXd6H'],\n",
       "   'workspace': 'PLbmFrM26h37tNj6XjVvQD'},\n",
       "  {'createdBy': 'NTyuhTQSoD0PhFWUTCRiF',\n",
       "   'dateCreated': '2024-03-29T20:24:23.955Z',\n",
       "   'dateModified': '2024-03-29T20:24:23.955Z',\n",
       "   'description': '',\n",
       "   'id': 'PLzTJDMVlZ3m47V9ktqNRf',\n",
       "   'lastModifiedBy': 'NTyuhTQSoD0PhFWUTCRiF',\n",
       "   'name': 'Equatorial Ground Station',\n",
       "   'repositories': ['PLzTJTPYBVZqJgp4lt6bnw',\n",
       "    'PLzTPgBxzVRWLzTCtHWZvL',\n",
       "    'PLzRcBfNrzbGsxySgnNNnM'],\n",
       "   'workspace': 'PLbmFrM26h37tNj6XjVvQD'},\n",
       "  {'createdBy': 'NTyuhTQSoD0PhFWUTCRiF',\n",
       "   'dateCreated': '2024-04-08T17:33:29.503Z',\n",
       "   'dateModified': '2024-04-08T17:33:29.503Z',\n",
       "   'description': '',\n",
       "   'id': 'PM6srMHN9p4sqHMb4bTC5J',\n",
       "   'lastModifiedBy': 'NTyuhTQSoD0PhFWUTCRiF',\n",
       "   'name': 'Wildfire',\n",
       "   'repositories': ['PM6srCX2sGy2CXRQTf2sPr',\n",
       "    'PM6srD8gtK2QG9sNpP63J7',\n",
       "    'PM6srDbLvVy6b4Pl7rJhjv'],\n",
       "   'workspace': 'PLbmFrM26h37tNj6XjVvQD'}],\n",
       " 'repositories': [{'branches': ['PM6srCzMVRxbjgg7SFXQ7d'],\n",
       "   'createdBy': 'NTyuhTQSoD0PhFWUTCRiF',\n",
       "   'dateCreated': '2024-04-08T17:33:19.718Z',\n",
       "   'dateModified': '2024-04-08T17:33:37.483Z',\n",
       "   'description': 'A single-vehicle element of a notional optical communications mesh network constellation called \"LaserComm\" that is deployed in an equatorial orbit. This demonstration can serve as a reference when modeling your missions in Sedaro.',\n",
       "   'id': 'PM6srCX2sGy2CXRQTf2sPr',\n",
       "   'lastModifiedBy': 'NTyuhTQSoD0PhFWUTCRiF',\n",
       "   'metamodelType': 'Spacecraft',\n",
       "   'name': '[DEMO] LaserComm Vehicle [import]',\n",
       "   'project': 'PM6srMHN9p4sqHMb4bTC5J',\n",
       "   'repoType': 'AGENT_TEMPLATE',\n",
       "   'versions': ['PM6srCzMVRxbjgg7SFXQ7d'],\n",
       "   'workspace': 'PLbmFrM26h37tNj6XjVvQD'},\n",
       "  {'branches': ['PM6srDQbBYMm92K8RDQD6J'],\n",
       "   'createdBy': 'NTyuhTQSoD0PhFWUTCRiF',\n",
       "   'dateCreated': '2024-04-08T17:33:20.493Z',\n",
       "   'dateModified': '2024-04-08T17:33:35.184Z',\n",
       "   'description': 'A notional satellite mission called \"Wildfire\" to deliver low-latency thermal imagery of active wildfires via optical cross-link to \"LaserComm\" vehicles in an equatorial constellation. This demonstration can serve as a reference when modeling your missions in Sedaro.',\n",
       "   'id': 'PM6srD8gtK2QG9sNpP63J7',\n",
       "   'lastModifiedBy': 'NTyuhTQSoD0PhFWUTCRiF',\n",
       "   'metamodelType': 'Spacecraft',\n",
       "   'name': '[DEMO] Wildfire Vehicle [import]',\n",
       "   'project': 'PM6srMHN9p4sqHMb4bTC5J',\n",
       "   'repoType': 'AGENT_TEMPLATE',\n",
       "   'versions': ['PM6srDQbBYMm92K8RDQD6J'],\n",
       "   'workspace': 'PLbmFrM26h37tNj6XjVvQD'},\n",
       "  {'branches': ['PM6srDxTzwFq4H97lPNK3Z'],\n",
       "   'createdBy': 'NTyuhTQSoD0PhFWUTCRiF',\n",
       "   'dateCreated': '2024-04-08T17:33:21.064Z',\n",
       "   'dateModified': '2024-04-08T17:33:32.470Z',\n",
       "   'description': 'A repository for various Wildfire mission scenarios.  In this Scenario, the \"LaserComm\" vehicle template is used to deploy 4 LaserComm vehicles into an equatorial circular orbit, each phased 90-degrees from the next.  We have also instantiated the Wildfire spacecraft and several Peripheral Agents including: 3 active wildfires and \"Wildfire\\'s\" command and control ground station.',\n",
       "   'id': 'PM6srDbLvVy6b4Pl7rJhjv',\n",
       "   'lastModifiedBy': 'NTyuhTQSoD0PhFWUTCRiF',\n",
       "   'metamodelType': 'Scenario',\n",
       "   'name': '[DEMO] Wildfire Scenarios [import]',\n",
       "   'project': 'PM6srMHN9p4sqHMb4bTC5J',\n",
       "   'repoType': 'SCENARIO',\n",
       "   'versions': ['PM6srDxTzwFq4H97lPNK3Z'],\n",
       "   'workspace': 'PLbmFrM26h37tNj6XjVvQD'},\n",
       "  {'branches': ['PM468zBfWRyLJg75nbf9lH', 'PLzTJTTg9MX5Z9yLTJY4hb'],\n",
       "   'createdBy': 'NTyuhTQSoD0PhFWUTCRiF',\n",
       "   'dateCreated': '2024-03-29T20:24:40.415Z',\n",
       "   'dateModified': '2024-03-29T20:30:14.644Z',\n",
       "   'description': '',\n",
       "   'id': 'PLzTJTPYBVZqJgp4lt6bnw',\n",
       "   'lastModifiedBy': 'NTyuhTQSoD0PhFWUTCRiF',\n",
       "   'metamodelType': 'TerrestrialVehicle',\n",
       "   'name': 'Ground Station',\n",
       "   'project': 'PLzTJDMVlZ3m47V9ktqNRf',\n",
       "   'repoType': 'AGENT_TEMPLATE',\n",
       "   'versions': ['PM468zBfWRyLJg75nbf9lH', 'PLzTJTTg9MX5Z9yLTJY4hb'],\n",
       "   'workspace': 'PLbmFrM26h37tNj6XjVvQD'},\n",
       "  {'branches': ['PLzTPgjCKX9XvSKypDQzpQ'],\n",
       "   'createdBy': 'NTyuhTQSoD0PhFWUTCRiF',\n",
       "   'dateCreated': '2024-03-29T20:30:08.307Z',\n",
       "   'dateModified': '2024-03-29T20:30:12.703Z',\n",
       "   'description': '',\n",
       "   'id': 'PLzTPgBxzVRWLzTCtHWZvL',\n",
       "   'lastModifiedBy': 'NTyuhTQSoD0PhFWUTCRiF',\n",
       "   'metamodelType': 'Scenario',\n",
       "   'name': 'Equatorial Ground Contact',\n",
       "   'project': 'PLzTJDMVlZ3m47V9ktqNRf',\n",
       "   'repoType': 'SCENARIO',\n",
       "   'versions': ['PLzTPgjCKX9XvSKypDQzpQ'],\n",
       "   'workspace': 'PLbmFrM26h37tNj6XjVvQD'},\n",
       "  {'branches': ['PLzRcBmvgpPF5xfYCWjg9v'],\n",
       "   'createdBy': 'NTyuhTQSoD0PhFWUTCRiF',\n",
       "   'dateCreated': '2024-03-29T18:56:00.655Z',\n",
       "   'dateModified': '2024-03-29T20:24:27.369Z',\n",
       "   'description': '',\n",
       "   'id': 'PLzRcBfNrzbGsxySgnNNnM',\n",
       "   'lastModifiedBy': 'NTyuhTQSoD0PhFWUTCRiF',\n",
       "   'metamodelType': 'Spacecraft',\n",
       "   'name': 'LC_SimpleSat',\n",
       "   'project': 'PLzTJDMVlZ3m47V9ktqNRf',\n",
       "   'repoType': 'AGENT_TEMPLATE',\n",
       "   'versions': ['PLzRcBmvgpPF5xfYCWjg9v'],\n",
       "   'workspace': 'PLbmFrM26h37tNj6XjVvQD'},\n",
       "  {'branches': ['PLyQYL4K8xxb5PJWhRthFj'],\n",
       "   'createdBy': 'NTyuhTQSoD0PhFWUTCRiF',\n",
       "   'dateCreated': '2024-03-27T22:10:52.995Z',\n",
       "   'dateModified': '2024-03-29T18:55:11.059Z',\n",
       "   'description': '',\n",
       "   'id': 'PLyQYL2qsyRKqh5b8by52Y',\n",
       "   'lastModifiedBy': 'NTyuhTQSoD0PhFWUTCRiF',\n",
       "   'metamodelType': 'Spacecraft',\n",
       "   'name': 'drag-cannonball [import]',\n",
       "   'project': 'PLzRbHslBxmcnmRRntmSpD',\n",
       "   'repoType': 'AGENT_TEMPLATE',\n",
       "   'versions': ['PLyQYL4K8xxb5PJWhRthFj'],\n",
       "   'workspace': 'PLbmFrM26h37tNj6XjVvQD'},\n",
       "  {'branches': ['PLyQYSBjz3P38b3FgvHq7l'],\n",
       "   'createdBy': 'NTyuhTQSoD0PhFWUTCRiF',\n",
       "   'dateCreated': '2024-03-27T22:11:00.732Z',\n",
       "   'dateModified': '2024-03-29T18:55:08.780Z',\n",
       "   'description': '',\n",
       "   'id': 'PLyQYS9LfFFHHqxxQKcm47',\n",
       "   'lastModifiedBy': 'NTyuhTQSoD0PhFWUTCRiF',\n",
       "   'metamodelType': 'Spacecraft',\n",
       "   'name': 'srp-cannonball [import]',\n",
       "   'project': 'PLzRbHslBxmcnmRRntmSpD',\n",
       "   'repoType': 'AGENT_TEMPLATE',\n",
       "   'versions': ['PLyQYSBjz3P38b3FgvHq7l'],\n",
       "   'workspace': 'PLbmFrM26h37tNj6XjVvQD'},\n",
       "  {'branches': ['PLyQYl5n3gpCJnfRGTZS8J'],\n",
       "   'createdBy': 'NTyuhTQSoD0PhFWUTCRiF',\n",
       "   'dateCreated': '2024-03-27T22:11:19.528Z',\n",
       "   'dateModified': '2024-03-29T18:55:06.035Z',\n",
       "   'description': '',\n",
       "   'id': 'PLyQYl3V8rkQsqfkqWXd6H',\n",
       "   'lastModifiedBy': 'NTyuhTQSoD0PhFWUTCRiF',\n",
       "   'metamodelType': 'Scenario',\n",
       "   'name': 'Orbit Validation',\n",
       "   'project': 'PLzRbHslBxmcnmRRntmSpD',\n",
       "   'repoType': 'SCENARIO',\n",
       "   'versions': ['PLyQYl5n3gpCJnfRGTZS8J'],\n",
       "   'workspace': 'PLbmFrM26h37tNj6XjVvQD'}],\n",
       " 'roles': [{'dateCreated': '2024-02-22T21:00:05.447Z',\n",
       "   'dateModified': '2024-02-22T21:00:05.447Z',\n",
       "   'id': 'PLbmFtH3GfgcnFLL6Sm3dD',\n",
       "   'name': 'Guest',\n",
       "   'permissions': 51456,\n",
       "   'users': [],\n",
       "   'version': 1,\n",
       "   'workspace': 'PLbmFrM26h37tNj6XjVvQD'},\n",
       "  {'dateCreated': '2024-02-22T21:00:05.449Z',\n",
       "   'dateModified': '2024-02-22T21:00:05.449Z',\n",
       "   'id': 'PLbmFtH7Hv6tjtVm7CR4YH',\n",
       "   'name': 'Designer',\n",
       "   'permissions': 64260,\n",
       "   'users': [],\n",
       "   'version': 1,\n",
       "   'workspace': 'PLbmFrM26h37tNj6XjVvQD'},\n",
       "  {'dateCreated': '2024-02-22T21:00:05.451Z',\n",
       "   'dateModified': '2024-02-22T21:00:05.451Z',\n",
       "   'id': 'PLbmFtHCDCcXxFdmFTf4gS',\n",
       "   'name': 'Administrator',\n",
       "   'permissions': 65343,\n",
       "   'users': [],\n",
       "   'version': 1,\n",
       "   'workspace': 'PLbmFrM26h37tNj6XjVvQD'},\n",
       "  {'dateCreated': '2024-02-22T21:00:05.451Z',\n",
       "   'dateModified': '2024-02-22T21:00:05.452Z',\n",
       "   'id': 'PLbmFtHFDvd4r2p6xWL2W6',\n",
       "   'name': 'Owner',\n",
       "   'permissions': 65535,\n",
       "   'users': ['NTyuhTQSoD0PhFWUTCRiF'],\n",
       "   'version': 1,\n",
       "   'workspace': 'PLbmFrM26h37tNj6XjVvQD'}]}"
      ]
     },
     "execution_count": 30,
     "metadata": {},
     "output_type": "execute_result"
    }
   ],
   "source": [
    "workspace = get_item_by_id(URL_Stems['WORKSPACES'], workspace_id)\n",
    "workspace"
   ]
  },
  {
   "cell_type": "code",
   "execution_count": null,
   "metadata": {},
   "outputs": [],
   "source": []
  },
  {
   "cell_type": "code",
   "execution_count": null,
   "metadata": {},
   "outputs": [],
   "source": [
    "# In all requests, either a sampleRate or a continuation token must be provided. It is not necessary to specify a sampleRate when a request includes a continuation token.\n",
    "id = job\n",
    "start/stop = mjd format\n",
    "streams = ID of agent, name of engine, 'GNC', 'CDH', 'Power', 'Thermal'\n",
    "id.CDH\n",
    "\n",
    "shape\n",
    "\n",
    "binwidth\n",
    "\n"
   ]
  }
 ],
 "metadata": {
  "kernelspec": {
   "display_name": "Python 3",
   "language": "python",
   "name": "python3"
  },
  "language_info": {
   "codemirror_mode": {
    "name": "ipython",
    "version": 3
   },
   "file_extension": ".py",
   "mimetype": "text/x-python",
   "name": "python",
   "nbconvert_exporter": "python",
   "pygments_lexer": "ipython3",
   "version": "3.11.7"
  }
 },
 "nbformat": 4,
 "nbformat_minor": 2
}
