{
 "cells": [
  {
   "cell_type": "code",
   "execution_count": null,
   "metadata": {},
   "outputs": [],
   "source": [
    "import json\n",
    "import requests\n",
    "def print_neat(dictionary_for_viewing):\n",
    "    print(json.dumps(dictionary_for_viewing, indent=4, sort_keys=True))"
   ]
  },
  {
   "cell_type": "code",
   "execution_count": null,
   "metadata": {},
   "outputs": [],
   "source": [
    "with open('../secrets.json', 'r') as file:\n",
    "    API_KEY = json.load(file)['API_KEY']\n",
    "    # API_KEY = json.load(file)['LOCAL_API_KEY'] # For work in dev environment\n",
    "\n",
    "headers = {'X_API_KEY': API_KEY, 'Content-Type': 'application/json'}"
   ]
  },
  {
   "cell_type": "code",
   "execution_count": null,
   "metadata": {},
   "outputs": [],
   "source": [
    "URL_BASE = 'https://api.sedaro.com'\n",
    "# URL_BASE = 'http://localhost:80' # For work in dev environment\n",
    "URL_Stems = {\n",
    "    'WORKSPACES': URL_BASE + '/workspaces/',\n",
    "    'REPOSITORIES': URL_BASE + '/models/repositories/',\n",
    "    'BRANCHES': URL_BASE + '/models/branches/',\n",
    "    'SIMULATION': URL_BASE + '/simulations/branches/',\n",
    "    'DATA': URL_BASE + '/data/'\n",
    "}"
   ]
  },
  {
   "cell_type": "code",
   "execution_count": null,
   "metadata": {},
   "outputs": [],
   "source": [
    "branch = 'PLzTPgjCKX9XvSKypDQzpQ'"
   ]
  },
  {
   "cell_type": "code",
   "execution_count": null,
   "metadata": {},
   "outputs": [],
   "source": [
    "def get_simulation_jobs(branch_id):\n",
    "    q_url = URL_Stems['SIMULATION'] + branch_id + '/control/'\n",
    "    qr = requests.get(q_url, headers=headers)\n",
    "    return qr.json()['contents']\n",
    "\n",
    "jobs = get_simulation_jobs(branch)\n",
    "for job in jobs:\n",
    "    print([job['dataArray'], job['dateStarted'], job['label']])"
   ]
  },
  {
   "cell_type": "code",
   "execution_count": null,
   "metadata": {},
   "outputs": [],
   "source": [
    "def get_latest_simulation_job(branch_id):\n",
    "    q_url = URL_Stems['SIMULATION'] + branch_id + '/control/?latest'\n",
    "    qr = requests.get(q_url, headers=headers)\n",
    "    return qr.json()\n",
    "\n",
    "latest_sim_job = get_latest_simulation_job(branch)\n",
    "job_data_array_id = latest_sim_job[0]['dataArray']\n",
    "job_data_array_id"
   ]
  },
  {
   "cell_type": "code",
   "execution_count": null,
   "metadata": {},
   "outputs": [],
   "source": [
    "def get_simulation_job_data(id, params = None):\n",
    "    q_url = URL_Stems['DATA'] + id\n",
    "    if params != None:\n",
    "        q_url += \"?\" + params\n",
    "    print(q_url)\n",
    "    qr = requests.get(q_url, headers=headers)\n",
    "    return qr\n",
    "\n",
    "parameters = 'shape=NESTED&sampleRate=1'\n",
    "# p = urllib.parse.quote_plus('sampleRate=8')\n",
    "job_id = 'PLzV6NFb2MmpkrkytRM6l8'\n",
    "resultz = get_simulation_job_data(job_id, parameters).json()"
   ]
  },
  {
   "cell_type": "code",
   "execution_count": null,
   "metadata": {},
   "outputs": [],
   "source": [
    "# agent template = PLzRcBmvgpPF5xfYCWjg9v\n",
    "# agent instance in scenario = PLzTRfPYp28WJXfh3xZhyY\n",
    "# Scenario > cycle templated agents by type = Templated Agent | PeripheralGroundPoint > id"
   ]
  },
  {
   "cell_type": "code",
   "execution_count": null,
   "metadata": {},
   "outputs": [],
   "source": [
    "for k in resultz['meta']['structure']['scenario'].keys():\n",
    "    print (k)"
   ]
  },
  {
   "cell_type": "code",
   "execution_count": null,
   "metadata": {},
   "outputs": [],
   "source": [
    "print_neat(resultz['meta'])\n",
    "resultz > meta > structure > agents > [id] > type = spacecraft\n",
    "* only the spacecraft\n",
    "resultz > meta > counts > [agent id] and ! index of stream\n",
    "\n",
    "\n"
   ]
  },
  {
   "cell_type": "code",
   "execution_count": null,
   "metadata": {},
   "outputs": [],
   "source": [
    "sc = resultz['meta']['structure']['scenario']"
   ]
  },
  {
   "cell_type": "code",
   "execution_count": null,
   "metadata": {},
   "outputs": [],
   "source": [
    "print_neat(sc)\n",
    "Meta > Structure > Scenario > blocks > iterate blocks > type = TemplatedAgent || Name = "
   ]
  },
  {
   "cell_type": "code",
   "execution_count": null,
   "metadata": {},
   "outputs": [],
   "source": [
    "ag = resultz['meta']['structure']['agents']"
   ]
  },
  {
   "cell_type": "code",
   "execution_count": null,
   "metadata": {},
   "outputs": [],
   "source": [
    "ag.keys()"
   ]
  },
  {
   "cell_type": "code",
   "execution_count": null,
   "metadata": {},
   "outputs": [],
   "source": [
    "ag"
   ]
  },
  {
   "cell_type": "code",
   "execution_count": null,
   "metadata": {},
   "outputs": [],
   "source": []
  },
  {
   "cell_type": "code",
   "execution_count": null,
   "metadata": {},
   "outputs": [],
   "source": [
    "agent > selfiD"
   ]
  },
  {
   "cell_type": "code",
   "execution_count": null,
   "metadata": {},
   "outputs": [],
   "source": [
    "blocks = sc['blocks']\n",
    "for b in blocks:\n",
    "    print(blocks[b]['title'])"
   ]
  },
  {
   "cell_type": "code",
   "execution_count": null,
   "metadata": {},
   "outputs": [],
   "source": [
    "for k in resultz['series'].keys():\n",
    "    print(k)"
   ]
  },
  {
   "cell_type": "code",
   "execution_count": null,
   "metadata": {},
   "outputs": [],
   "source": [
    "print(resultz['series'])"
   ]
  },
  {
   "cell_type": "code",
   "execution_count": null,
   "metadata": {},
   "outputs": [],
   "source": [
    "print_neat(resultz)\n",
    "    },\n",
    "    \"series\": {\n",
    "        \"PLzTRfPYp28WJXfh3xZhyY/0\": [\n",
    "            [\n",
    "                60310.0,\n",
    "            ],\n",
    "            {\n",
    "                \"PLzTRfPYp28WJXfh3xZhyY\": {\n",
    "                    \"PLzTF76Q7KbDm99jPQZXY2\": {\n",
    "                        \"attitude\": {\n",
    "                            \"body_ecef\": [\n",
    "                                [\n",
    "                                    0.0,\n",
    "                                    0.0,\n",
    "                                    0.0,"
   ]
  },
  {
   "cell_type": "code",
   "execution_count": null,
   "metadata": {},
   "outputs": [],
   "source": [
    "def get_item_by_name(object_type_url, name):\n",
    "    q = requests.get(object_type_url, headers=headers)\n",
    "    print('API URL: ', object_type_url)\n",
    "    results = [entry for entry in q.json() if entry['name'] == name]\n",
    "    if len(results) > 0:\n",
    "        return results[0]\n",
    "    else:\n",
    "        return None"
   ]
  },
  {
   "cell_type": "code",
   "execution_count": null,
   "metadata": {},
   "outputs": [],
   "source": [
    "def get_item_by_id(object_type_url, id):\n",
    "    url = object_type_url + id\n",
    "    q = requests.get(url, headers=headers)\n",
    "    print('API URL: ', url)\n",
    "    if type(q.json()) is dict:\n",
    "        return q.json()\n",
    "    else:\n",
    "        return None"
   ]
  },
  {
   "cell_type": "code",
   "execution_count": null,
   "metadata": {},
   "outputs": [],
   "source": [
    "workspace_from_name = get_item_by_name(URL_Stems['WORKSPACES'], \"LC Demos\")\n",
    "workspace_id = workspace_from_name['id']\n",
    "# Watchout, workspaces can have the same name\n",
    "workspace_id"
   ]
  },
  {
   "cell_type": "code",
   "execution_count": null,
   "metadata": {},
   "outputs": [],
   "source": [
    "workspace = get_item_by_id(URL_Stems['WORKSPACES'], workspace_id)\n",
    "workspace"
   ]
  },
  {
   "cell_type": "code",
   "execution_count": null,
   "metadata": {},
   "outputs": [],
   "source": []
  },
  {
   "cell_type": "code",
   "execution_count": null,
   "metadata": {},
   "outputs": [],
   "source": [
    "# In all requests, either a sampleRate or a continuation token must be provided. It is not necessary to specify a sampleRate when a request includes a continuation token.\n",
    "id = job\n",
    "start/stop = mjd format\n",
    "streams = ID of agent, name of engine, 'GNC', 'CDH', 'Power', 'Thermal'\n",
    "id.CDH\n",
    "\n",
    "shape\n",
    "\n",
    "binwidth\n",
    "\n",
    "\n",
    "for mjd, elapsed_time, value in series:\n",
    "    print(mjd, elapsed_time, value)\n",
    "    if elapsed_time > 10:\n",
    "        break\n"
   ]
  }
 ],
 "metadata": {
  "kernelspec": {
   "display_name": "Python 3",
   "language": "python",
   "name": "python3"
  },
  "language_info": {
   "codemirror_mode": {
    "name": "ipython",
    "version": 3
   },
   "file_extension": ".py",
   "mimetype": "text/x-python",
   "name": "python",
   "nbconvert_exporter": "python",
   "pygments_lexer": "ipython3",
   "version": "3.12.2"
  }
 },
 "nbformat": 4,
 "nbformat_minor": 2
}
