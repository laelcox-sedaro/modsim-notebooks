{
 "cells": [
  {
   "cell_type": "code",
   "execution_count": 1,
   "metadata": {},
   "outputs": [],
   "source": [
    "import json\n",
    "\n",
    "import matplotlib.pyplot as plt\n",
    "from sedaro import SedaroApiClient"
   ]
  },
  {
   "cell_type": "code",
   "execution_count": null,
   "metadata": {},
   "outputs": [],
   "source": [
    "# Settings\n",
    "with open('../secrets.json', 'r') as file:\n",
    "    API_KEY = json.load(file)['API_KEY']\n",
    "\n",
    "with open('../config.json', 'r') as file:\n",
    "    config = json.load(file)"
   ]
  },
  {
   "cell_type": "code",
   "execution_count": 2,
   "metadata": {},
   "outputs": [],
   "source": [
    "def get_by_name(block_class, name):\n",
    "    '''Search for a block with a particular name.'''\n",
    "    instances = block_class.get_all()\n",
    "    results = [entry for entry in instances if entry.name == name]\n",
    "    if len(results) > 0:\n",
    "        return results[0]\n",
    "    else:\n",
    "        return None"
   ]
  },
  {
   "cell_type": "code",
   "execution_count": null,
   "metadata": {},
   "outputs": [],
   "source": [
    "sedaro = SedaroApiClient(api_key=API_KEY, host=HOST)\n",
    "\n",
    "agent_template_branch = sedaro.agent_template(AGENT_TEMPLATE_BRANCH_ID)"
   ]
  }
 ],
 "metadata": {
  "kernelspec": {
   "display_name": "venv",
   "language": "python",
   "name": "python3"
  },
  "language_info": {
   "codemirror_mode": {
    "name": "ipython",
    "version": 3
   },
   "file_extension": ".py",
   "mimetype": "text/x-python",
   "name": "python",
   "nbconvert_exporter": "python",
   "pygments_lexer": "ipython3",
   "version": "3.12.2"
  }
 },
 "nbformat": 4,
 "nbformat_minor": 2
}
