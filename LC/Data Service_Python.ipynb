{
 "cells": [
  {
   "attachments": {},
   "cell_type": "markdown",
   "metadata": {},
   "source": [
    "### Sedaro Results API Example\n",
    "\n",
    "This notebook exercises funcionality of the Sedaro results API tools. The notebook can be pointed at any scenario branch that has previously been simulated. Examples will step through downloading the data and exploring the results.\n"
   ]
  },
  {
   "cell_type": "code",
   "execution_count": 1,
   "metadata": {},
   "outputs": [],
   "source": [
    "import json\n",
    "from datetime import datetime\n",
    "\n",
    "from sedaro import SedaroApiClient"
   ]
  },
  {
   "attachments": {},
   "cell_type": "markdown",
   "metadata": {},
   "source": [
    "#### Important: Read Before Running\n",
    "\n",
    "This notebook requires that you have previously generated an API key in the web UI. That key should be stored in a file called `secrets.json` in the same directory as this notebook with the following format:\n",
    "\n",
    "```json\n",
    "{\n",
    "  \"API_KEY\": \"<API_KEY>\"\n",
    "}\n",
    "```\n",
    "\n",
    "API keys grant full access to your repositories and should never be shared. If you think your API key has been compromised, you can revoke it in the user settings interface on the Sedaro website.\n"
   ]
  },
  {
   "cell_type": "code",
   "execution_count": 2,
   "metadata": {},
   "outputs": [],
   "source": [
    "# Settings\n",
    "with open('../secrets.json', 'r') as file:\n",
    "    API_KEY = json.load(file)['API_KEY']\n",
    "\n",
    "with open('../config.json', 'r') as file:\n",
    "    config = json.load(file)\n",
    "\n",
    "# Obtain these IDs from the branch list within each repository and add to config.json\n",
    "SCENARIO_BRANCH_ID = 'PLzTPgjCKX9XvSKypDQzpQ'   # ID of the scenario branch\n",
    "HOST = config['HOST']                                           # Sedaro instance URL"
   ]
  },
  {
   "attachments": {},
   "cell_type": "markdown",
   "metadata": {},
   "source": [
    "### Downloading and Navigating Results\n",
    "\n",
    "The primary entrypoint of the results API is accessed via the `simulation` property on a `ScenarioBranch` retrieved using the `SedaroApiClient`.\n"
   ]
  },
  {
   "cell_type": "code",
   "execution_count": 3,
   "metadata": {},
   "outputs": [],
   "source": [
    "sedaro = SedaroApiClient(API_KEY, HOST)\n",
    "\n",
    "sim = sedaro.scenario(SCENARIO_BRANCH_ID).simulation"
   ]
  },
  {
   "attachments": {},
   "cell_type": "markdown",
   "metadata": {},
   "source": [
    "This class offers a few methods for pulling data from scenarios. The most commonly-used method is `.results` that pulls the latest results into a new result object. If the simulation is not complete, the resulting object will indicate the status is \"Running\" and not contain any results. Alternatively, use the `.results_poll` method to wait for an in-progress simulation to complete and download results after.\n",
    "\n",
    "Any object in the results API will provide a descriptive summary of its contents when the `.summarize` method is called.\n"
   ]
  },
  {
   "cell_type": "code",
   "execution_count": 4,
   "metadata": {},
   "outputs": [
    {
     "name": "stderr",
     "output_type": "stream",
     "text": [
      "Downloading...: 100%|██████████[00:07<00:00]"
     ]
    },
    {
     "name": "stdout",
     "output_type": "stream",
     "text": [
      "---------------------------------------------------------------------------\n",
      "                      Sedaro Simulation Result Summary                     \n",
      "---------------------------------------------------------------------------\n",
      "✅ Simulation succeeded after 84.9s\n",
      "\n",
      "🛰️ Templated Agents \n",
      "    • LC Sat\n",
      "\n",
      "📡 Peripheral Agents \n",
      "    • Ecuador Ground Station\n",
      "---------------------------------------------------------------------------\n",
      "❓ Query agent results with .agent(<NAME>)\n"
     ]
    },
    {
     "name": "stderr",
     "output_type": "stream",
     "text": [
      "\n"
     ]
    }
   ],
   "source": [
    "# Query scenario and do not wait if still running\n",
    "result = sim.results()\n",
    "\n",
    "# Query scenario and wait for it to finish\n",
    "# result = sim.results_poll()\n",
    "\n",
    "result.summarize()"
   ]
  },
  {
   "attachments": {},
   "cell_type": "markdown",
   "metadata": {},
   "source": [
    "Top-level results are broken down by agent. You can view results for any agent (templated or peripheral) by calling the `.agent` method with the name of an agent listed above. The result class also has helper methods containing lists of the available agents: `.templated_agents` and `peripheral_agents`.\n"
   ]
  },
  {
   "cell_type": "code",
   "execution_count": 5,
   "metadata": {},
   "outputs": [
    {
     "name": "stdout",
     "output_type": "stream",
     "text": [
      "---------------------------------------------------------------------------\n",
      "                            Agent Result Summary                           \n",
      "                                  'LC Sat'                                 \n",
      "---------------------------------------------------------------------------\n",
      "🧩 Simulated Modules\n",
      "    • Guidance, Navigation, & Control\n",
      "    • Command & Data Handling\n",
      "\n",
      "📦 Available Blocks\n",
      "    ----------------------------------------------------------\n",
      "    |                  id                         name       |\n",
      "    ----------------------------------------------------------\n",
      "    | root                       |                           |\n",
      "    | YddJw9jfT-IveoP86XQjA      | <Unnamed Block>           |\n",
      "    | PLzTH2THKrFQRfKFcKBkF5     | Target in FoV             |\n",
      "    | PLzTF76Q7KbDm99jPQZXY2     | FOV 1                     |\n",
      "    | PLzTCyQcX5WVXZ3nnBhzTt     | Satellite Elevation Angle |\n",
      "    | PLzSNzjwC8bFBpRzQ4Nd6q     | Ground Target 1           |\n",
      "    | PKCXXxYxn8Z6qL2jvg53qV     | <Unnamed Block>           |\n",
      "    | NSghYm2RqDibih0igHFc-      | Default Power Processor   |\n",
      "    ----------------------------------------------------------\n",
      "\n",
      "    30 block(s) with no associated data\n",
      "---------------------------------------------------------------------------\n",
      "❓ Query block results with .block(<ID>) or .block(<PARTIAL_ID>)\n"
     ]
    }
   ],
   "source": [
    "agent_result = result.agent(result.templated_agents[0])\n",
    "agent_result.summarize()"
   ]
  },
  {
   "attachments": {},
   "cell_type": "markdown",
   "metadata": {},
   "source": [
    "Agent results are organized by blocks, where blocks are the basic elements that make up each simulation. Results for any blocks can be queried by a complete or partial ID, as listed in the ID column above. Note that partial IDs will only return a result if it matches the beginning of only one block ID. The block result class also has a helper attribute, `.blocks`, that returns a list of all block IDs contained in that instance.\n",
    "\n",
    "There is one special entry in the block list: `root`. This index captures all variables that exist on the lowest level of the simulated agent and do not belong to any block. For example, the agent `position` will usually exist in `root`.\n"
   ]
  },
  {
   "cell_type": "code",
   "execution_count": 6,
   "metadata": {},
   "outputs": [
    {
     "name": "stdout",
     "output_type": "stream",
     "text": [
      "---------------------------------------------------------------------------\n",
      "                   Sedaro Simulation Block Result Summary                  \n",
      "                                   'root'                                  \n",
      "---------------------------------------------------------------------------\n",
      "🧩 Simulated Modules\n",
      "    • Guidance, Navigation, & Control\n",
      "    • Command & Data Handling\n",
      "\n",
      "📋 Variables Available\n",
      "    • activePointingMode\n",
      "    • activeRoutines\n",
      "    • angularVelocity\n",
      "    • angularVelocityError\n",
      "    • angularVelocitySolution\n",
      "    • angularVelocitySolutionError\n",
      "    • attitude\n",
      "    • attitudeError\n",
      "    • attitudeSolution\n",
      "    • attitudeSolutionError\n",
      "    • attitudeSolutionErrorAngle\n",
      "    • commandedAngularRates\n",
      "    • commandedAttitude\n",
      "    • controlTorque\n",
      "    • definitiveAngularVelocitySolution\n",
      "    • definitiveAngularVelocitySolutionError\n",
      "    • definitiveAttitudeSolution\n",
      "    • definitiveAttitudeSolutionError\n",
      "    • definitiveAttitudeSolutionErrorAngle\n",
      "    • definitivePositionSolution\n",
      "    • definitivePositionSolutionError\n",
      "    • definitiveVelocitySolution\n",
      "    • definitiveVelocitySolutionError\n",
      "    • dragTorque\n",
      "    • dynamicCenterOfMass\n",
      "    • gravityGradientTorque\n",
      "    • orbitalElements\n",
      "    • perturbationTorque\n",
      "    • pointingErrorAngle\n",
      "    • position\n",
      "    • positionSolution\n",
      "    • positionSolutionError\n",
      "    • predictiveAngularVelocitySolution\n",
      "    • predictiveAngularVelocitySolutionError\n",
      "    • predictiveAttitudeSolutionError\n",
      "    • predictiveAttitudeSolutionErrorAngle\n",
      "    • predictivePositionSolution\n",
      "    • predictivePositionSolutionError\n",
      "    • predictiveVelocitySolution\n",
      "    • predictiveVelocitySolutionError\n",
      "    • srpTorque\n",
      "    • torque\n",
      "    • velocity\n",
      "    • velocitySolution\n",
      "    • velocitySolutionError\n",
      "---------------------------------------------------------------------------\n",
      "❓ Query variables with .<VARIABLE_NAME>\n"
     ]
    }
   ],
   "source": [
    "block_result = agent_result.block('root')\n",
    "block_result.summarize()"
   ]
  },
  {
   "attachments": {},
   "cell_type": "markdown",
   "metadata": {},
   "source": [
    "Block results contain the time histories of state variables associated with that block. State variables can be queried directly through the `.<VARIABLE_NAME>` attribute or the `.variable` method. The `.variables` attribute returns a list of the names of all variables available in the object.\n",
    "\n",
    "Querying a particular variable returns a time series object.\n"
   ]
  },
  {
   "cell_type": "code",
   "execution_count": 7,
   "metadata": {},
   "outputs": [
    {
     "name": "stdout",
     "output_type": "stream",
     "text": [
      "---------------------------------------------------------------------------\n",
      "                      Sedaro Simulation Series Summary                     \n",
      "                            'perturbationTorque'                           \n",
      "---------------------------------------------------------------------------\n",
      "📈 8642 points covering 1440.0 minutes with ~10.0s steps\n",
      "\n",
      "📑 This series has subseries.\n",
      "\n",
      "🗂️ Value data types are:\n",
      "    - '0': 'float64'\n",
      "    - '1': 'float64'\n",
      "    - '2': 'float64'\n",
      "---------------------------------------------------------------------------\n",
      "❓ Index [<SUBSERIES_NAME>] to select a subseries\n"
     ]
    }
   ],
   "source": [
    "series = block_result.perturbationTorque\n",
    "series.summarize()"
   ]
  },
  {
   "attachments": {},
   "cell_type": "markdown",
   "metadata": {},
   "source": [
    "Series allow direct access to the data through three attributes:\n",
    "\n",
    "- `.mjd`: Returns a list of epochs as Modified Julian Dates.\n",
    "- `.elapsed_time`: Returns a list of elapsed times from the initial epoch in seconds.\n",
    "- `.values`: Returns a list of state variable values corresponding to the times above.\n",
    "\n",
    "Alternatively, a series is iterable and can be traversed as shown below.\n"
   ]
  },
  {
   "cell_type": "code",
   "execution_count": 8,
   "metadata": {},
   "outputs": [
    {
     "name": "stdout",
     "output_type": "stream",
     "text": [
      "60310.0 0.0 [0.0, 0.0, 0.0]\n",
      "60310.000000001 8.612405508756638e-05 [0.0, 0.0, 0.0]\n",
      "60310.000115741735 10.000085947103798 [0.0, 0.0, 0.0]\n"
     ]
    }
   ],
   "source": [
    "for mjd, elapsed_time, value in series:\n",
    "    print(mjd, elapsed_time, value)\n",
    "    if elapsed_time > 10:\n",
    "        break"
   ]
  },
  {
   "attachments": {},
   "cell_type": "markdown",
   "metadata": {},
   "source": [
    "Sometimes, a series contains multiple sub-series. This can happen when, for example, multiple frame or unit representations are available for that series. A subseries can be queried through the `.<SERIES_NAME>` attribute and will return a new series.\n"
   ]
  },
  {
   "cell_type": "code",
   "execution_count": 9,
   "metadata": {},
   "outputs": [
    {
     "name": "stdout",
     "output_type": "stream",
     "text": [
      "---------------------------------------------------------------------------\n",
      "                      Sedaro Simulation Series Summary                     \n",
      "                                 'position'                                \n",
      "---------------------------------------------------------------------------\n",
      "📈 8642 points covering 1440.0 minutes with ~10.0s steps\n",
      "\n",
      "📑 This series has subseries.\n",
      "\n",
      "🗂️ Value data types are:\n",
      "    - 'eci.0': 'float64'\n",
      "    - 'eci.1': 'float64'\n",
      "    - 'eci.2': 'float64'\n",
      "    - 'ecef.0': 'float64'\n",
      "    - 'ecef.1': 'float64'\n",
      "    - 'ecef.2': 'float64'\n",
      "    - 'llaDeg.0': 'float64'\n",
      "    - 'llaDeg.1': 'float64'\n",
      "    - 'llaDeg.2': 'float64'\n",
      "---------------------------------------------------------------------------\n",
      "❓ Index [<SUBSERIES_NAME>] to select a subseries\n"
     ]
    }
   ],
   "source": [
    "block_result.position.summarize()"
   ]
  },
  {
   "cell_type": "code",
   "execution_count": 10,
   "metadata": {},
   "outputs": [
    {
     "name": "stdout",
     "output_type": "stream",
     "text": [
      "---------------------------------------------------------------------------\n",
      "                      Sedaro Simulation Series Summary                     \n",
      "                              'position.ecef'                              \n",
      "---------------------------------------------------------------------------\n",
      "📈 8642 points covering 1440.0 minutes with ~10.0s steps\n",
      "\n",
      "📑 This series has subseries.\n",
      "\n",
      "🗂️ Value data types are:\n",
      "    - '0': 'float64'\n",
      "    - '1': 'float64'\n",
      "    - '2': 'float64'\n",
      "---------------------------------------------------------------------------\n",
      "❓ Index [<SUBSERIES_NAME>] to select a subseries\n"
     ]
    }
   ],
   "source": [
    "block_result.position.ecef.summarize()"
   ]
  },
  {
   "attachments": {},
   "cell_type": "markdown",
   "metadata": {},
   "source": [
    "### Saving and Loading Results Locally\n",
    "\n",
    "Every Sedaro result object supports saving and restoring results to and from a file. This functionality can be helpful when working with large results to avoid re-downloading the same data. To save data, call the `.save` method on any result object. Note that the save operation saves the object's data as a directory. If the specified path does not exist, a directory in that location will be created. If a non-empty directory, or a file, is specified, the operation will return an error."
   ]
  },
  {
   "cell_type": "code",
   "execution_count": 11,
   "metadata": {},
   "outputs": [
    {
     "name": "stdout",
     "output_type": "stream",
     "text": [
      "Simulation result saved to SimulationResult_25042024_153829.bak.\n"
     ]
    }
   ],
   "source": [
    "filename = f'SimulationResult_{datetime.now().strftime(\"%d%m%Y_%H%M%S\")}.bak'\n",
    "result.save(filename)"
   ]
  },
  {
   "attachments": {},
   "cell_type": "markdown",
   "metadata": {},
   "source": [
    "Use the `.load` class method to load previously-saved results. Note, that you can also import and call this method on `SimulationResult` directly.\n"
   ]
  },
  {
   "cell_type": "code",
   "execution_count": null,
   "metadata": {},
   "outputs": [],
   "source": [
    "new_result = result.load(filename)\n",
    "\n",
    "# or...\n",
    "# from sedaro import SimulationResult\n",
    "# new_result = SimulationResult.load(filename)\n",
    "\n",
    "new_result.summarize()"
   ]
  },
  {
   "attachments": {},
   "cell_type": "markdown",
   "metadata": {},
   "source": [
    "Saving and loading also works for agent, block, and series results using the same methods. Uncomment examples below to try the functionality for different types.\n"
   ]
  },
  {
   "cell_type": "code",
   "execution_count": null,
   "metadata": {},
   "outputs": [],
   "source": [
    "# # Saving/loading reference examples\n",
    "\n",
    "# from sedaro import SedaroApiClient, SedaroAgentResult, SedaroBlockResult, SedaroSeries\n",
    "\n",
    "# agent_result.save('AgentResult.bak')\n",
    "# new_agent_result = SedaroAgentResult.load('AgentResult.bak')\n",
    "\n",
    "# block_result.save('BlockResult.bak')\n",
    "# new_block_result = SedaroBlockResult.load('BlockResult.bak')\n",
    "\n",
    "# series.save('SeriesResult.bak')\n",
    "# new_series = SedaroSeries.load('SeriesResult.bak')"
   ]
  },
  {
   "attachments": {},
   "cell_type": "markdown",
   "metadata": {},
   "source": [
    "### Plotting\n"
   ]
  },
  {
   "attachments": {},
   "cell_type": "markdown",
   "metadata": {},
   "source": [
    "Series objects also offer some basic plotting functionality for quick visualizations of data through integration with `matplotlib`. If `matplotlib` is not available, the commands below will raise an exception. In some cases, the underlying data is not a plottable data type and the commands below will raise an exception indicating that the operation could not complete.\n",
    "\n",
    "The `.plot` command accepts arbitrary formatting keyword arguments supported by `matplotlib.pyplot.plot` and will pass them directly to that function.\n"
   ]
  },
  {
   "cell_type": "code",
   "execution_count": null,
   "metadata": {},
   "outputs": [],
   "source": [
    "block_result.position.eci.plot(linewidth=1)"
   ]
  },
  {
   "attachments": {},
   "cell_type": "markdown",
   "metadata": {},
   "source": [
    "An optional keyword argument, `show`, allows for plotting multiple series on the same figure. By default, the `.plot` command will show the figure immediately after plotting. With `show=False`, the plot command will not display the figure until a future command uses `show=True` or the user explicitly calls `matplotlib.pyplot.show()`.\n"
   ]
  },
  {
   "cell_type": "code",
   "execution_count": null,
   "metadata": {},
   "outputs": [],
   "source": [
    "block_result.position.eci.plot(linewidth=1, show=False)\n",
    "block_result.position.ecef.plot(linewidth=1)"
   ]
  },
  {
   "attachments": {},
   "cell_type": "markdown",
   "metadata": {},
   "source": [
    "You can also use the optional keyword argument, `ylabel`, to display a label for the vertical axis."
   ]
  },
  {
   "cell_type": "code",
   "execution_count": null,
   "metadata": {},
   "outputs": [],
   "source": [
    "block_result.position.ecef.plot(linewidth=1, ylabel='ECEF position (km)')"
   ]
  }
 ],
 "metadata": {
  "kernelspec": {
   "display_name": ".venv",
   "language": "python",
   "name": "python3"
  },
  "language_info": {
   "codemirror_mode": {
    "name": "ipython",
    "version": 3
   },
   "file_extension": ".py",
   "mimetype": "text/x-python",
   "name": "python",
   "nbconvert_exporter": "python",
   "pygments_lexer": "ipython3",
   "version": "3.12.2"
  },
  "orig_nbformat": 4,
  "vscode": {
   "interpreter": {
    "hash": "57ef9f7306e2966b9a4e81196535973301de2420feb6cef905a8935fc008d3d3"
   }
  }
 },
 "nbformat": 4,
 "nbformat_minor": 2
}
