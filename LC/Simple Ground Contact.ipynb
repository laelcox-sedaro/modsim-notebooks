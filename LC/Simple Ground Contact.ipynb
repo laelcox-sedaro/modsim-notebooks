{
 "cells": [
  {
   "cell_type": "code",
   "execution_count": 1,
   "metadata": {},
   "outputs": [],
   "source": [
    "import json\n",
    "import requests"
   ]
  },
  {
   "cell_type": "code",
   "execution_count": 2,
   "metadata": {},
   "outputs": [],
   "source": [
    "with open('../secrets.json', 'r') as file:\n",
    "    API_KEY = json.load(file)['API_KEY']\n",
    "    # API_KEY = json.load(file)['LOCAL_API_KEY'] # For work in dev environment\n",
    "\n",
    "headers = {'X_API_KEY': API_KEY, 'Content-Type': 'application/json'}"
   ]
  },
  {
   "cell_type": "code",
   "execution_count": 3,
   "metadata": {},
   "outputs": [],
   "source": [
    "URL_BASE = 'https://api.sedaro.com'\n",
    "# URL_BASE = 'http://localhost:80' # For work in dev environment\n",
    "URL_Stems = {\n",
    "    'WORKSPACES': URL_BASE + '/workspaces/',\n",
    "    'REPOSITORIES': URL_BASE + '/models/repositories/',\n",
    "    'BRANCHES': URL_BASE + '/models/branches/'\n",
    "}"
   ]
  },
  {
   "cell_type": "code",
   "execution_count": null,
   "metadata": {},
   "outputs": [],
   "source": []
  }
 ],
 "metadata": {
  "kernelspec": {
   "display_name": "Python 3",
   "language": "python",
   "name": "python3"
  },
  "language_info": {
   "codemirror_mode": {
    "name": "ipython",
    "version": 3
   },
   "file_extension": ".py",
   "mimetype": "text/x-python",
   "name": "python",
   "nbconvert_exporter": "python",
   "pygments_lexer": "ipython3",
   "version": "3.11.7"
  }
 },
 "nbformat": 4,
 "nbformat_minor": 2
}
