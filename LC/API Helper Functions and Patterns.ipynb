{
 "cells": [
  {
   "cell_type": "code",
   "execution_count": 1,
   "metadata": {},
   "outputs": [],
   "source": [
    "import json\n",
    "import requests\n",
    "\n",
    "def print_neat(dictionary_for_viewing):\n",
    "    print(json.dumps(dictionary_for_viewing, indent=4, sort_keys=True))\n",
    "# TODO\n",
    "# why would you update a root?\n",
    "# How do you clone a scenario\n",
    "# How do you create a whole new scenario based on a new branch\n",
    "# Set up routines\n",
    "# Set up studies\n",
    "# Access results\n",
    "# get all the scenarios where a specific agent branch is used\n",
    "\n",
    "\n",
    "# It's easy to accidentally send a string with Python's requests\n",
    "# request.post(..., json={'a': 1, 'b': 2}) works\n",
    "# request.post(..., body=json.dumps({'a': 1, 'b': 2})) works\n",
    "# request.post(..., json=json.dumps({'a': 1, 'b': 2})) sends a string instead of an object – this MR now explicitly blocks this\n",
    "# request.post(..., body={'a': 1, 'b': 2}) sends binary data with the content-type application/x-www-form-urlencoded, which is blocked"
   ]
  },
  {
   "cell_type": "markdown",
   "metadata": {},
   "source": [
    "### Helper Functions"
   ]
  },
  {
   "cell_type": "code",
   "execution_count": 170,
   "metadata": {},
   "outputs": [],
   "source": [
    "with open('../secrets.json', 'r') as file:\n",
    "    API_KEY = json.load(file)['API_KEY']\n",
    "    # API_KEY = json.load(file)['LOCAL_API_KEY'] # For work in dev environment\n",
    "\n",
    "headers = {'X_API_KEY': API_KEY, 'Content-Type': 'application/json'}"
   ]
  },
  {
   "cell_type": "code",
   "execution_count": 171,
   "metadata": {},
   "outputs": [],
   "source": [
    "URL_BASE = 'https://api.sedaro.com'\n",
    "# URL_BASE = 'http://localhost:80' # For work in dev environment\n",
    "URL_Stems = {\n",
    "    'WORKSPACES': URL_BASE + '/workspaces/',\n",
    "    'REPOSITORIES': URL_BASE + '/models/repositories/',\n",
    "    'BRANCHES': URL_BASE + '/models/branches/'\n",
    "}"
   ]
  },
  {
   "cell_type": "code",
   "execution_count": 172,
   "metadata": {},
   "outputs": [],
   "source": [
    "def get_all(object_type_url):\n",
    "    q = requests.get(object_type_url, headers=headers)\n",
    "    print('API URL: ', object_type_url)\n",
    "    return [entry for entry in q.json()]"
   ]
  },
  {
   "cell_type": "code",
   "execution_count": 173,
   "metadata": {},
   "outputs": [],
   "source": [
    "def get_item_by_name(object_type_url, name):\n",
    "    q = requests.get(object_type_url, headers=headers)\n",
    "    print('API URL: ', object_type_url)\n",
    "    results = [entry for entry in q.json() if entry['name'] == name]\n",
    "    if len(results) > 0:\n",
    "        return results[0]\n",
    "    else:\n",
    "        return None"
   ]
  },
  {
   "cell_type": "code",
   "execution_count": 174,
   "metadata": {},
   "outputs": [],
   "source": [
    "def get_item_by_id(object_type_url, id):\n",
    "    url = object_type_url + id\n",
    "    q = requests.get(url, headers=headers)\n",
    "    print('API URL: ', url)\n",
    "    if type(q.json()) is dict:\n",
    "        return q.json()\n",
    "    else:\n",
    "        return None"
   ]
  },
  {
   "cell_type": "code",
   "execution_count": 175,
   "metadata": {},
   "outputs": [],
   "source": [
    "# Also create block\n",
    "def update_item(object_type_url, id, payload):\n",
    "    item_id = id\n",
    "    if object_type_url == URL_Stems['BRANCHES']:\n",
    "        item_id = id + '/template'\n",
    "    url = object_type_url + item_id\n",
    "    q = requests.patch(url, headers=headers, data=payload)\n",
    "    print('API URL: ', url)\n",
    "    return q.json()"
   ]
  },
  {
   "cell_type": "code",
   "execution_count": 246,
   "metadata": {},
   "outputs": [],
   "source": [
    "# When you create a block, you are technically updating/patching the branch\n",
    "# def create_block(object_type_url, id, payload):\n",
    "#     return update_item(object_type_url, id, payload)"
   ]
  },
  {
   "cell_type": "code",
   "execution_count": 176,
   "metadata": {},
   "outputs": [],
   "source": [
    "# repos need a special method to get them by name\n",
    "def get_repo_by_name(workspace_id, repo_name):\n",
    "    ws = get_item_by_id(URL_Stems['WORKSPACES'], workspace_id)\n",
    "    list_of_repos = []\n",
    "    for repository in ws['repositories']:\n",
    "        if repository['name'] == repo_name:\n",
    "            list_of_repos.append(repository)\n",
    "    # Or using a Python list comprehension\n",
    "    # list_of_repos = [repository for repository in workspace['repositories'] if repository['name'] == repo_name]\n",
    "    if len(list_of_repos) > 0:\n",
    "        return list_of_repos[0]\n",
    "    else:\n",
    "        return None"
   ]
  },
  {
   "cell_type": "code",
   "execution_count": 200,
   "metadata": {},
   "outputs": [],
   "source": [
    "def get_branch_by_name(repo_id, branch_name):\n",
    "    rp = get_item_by_id(URL_Stems['REPOSITORIES'], repo_id)\n",
    "    list_of_branches = []\n",
    "    for branch in rp['branches']:\n",
    "        if branch['name'] == branch_name:\n",
    "            list_of_branches.append(branch)\n",
    "    # Or using a Python list comprehension\n",
    "    # list_of_branches = [branch for branch in rp['branches'] if branch['name'] == branch_name]\n",
    "    if len(list_of_branches) > 0:\n",
    "        return list_of_branches[0]\n",
    "    else:\n",
    "        return None"
   ]
  },
  {
   "cell_type": "code",
   "execution_count": 178,
   "metadata": {},
   "outputs": [],
   "source": [
    "def create_repo(object_type_url, payload):\n",
    "    q = requests.post(object_type_url, headers=headers, data=payload)\n",
    "    print('API URL: ', object_type_url)\n",
    "    return q.json()"
   ]
  },
  {
   "cell_type": "code",
   "execution_count": 179,
   "metadata": {},
   "outputs": [],
   "source": [
    "def create_branch(object_type_url, id, payload):\n",
    "    url = object_type_url + id\n",
    "    q = requests.post(url, headers=headers, data=payload)\n",
    "    print('API URL: ', url)\n",
    "    return q.json()"
   ]
  },
  {
   "cell_type": "code",
   "execution_count": 238,
   "metadata": {},
   "outputs": [],
   "source": [
    "def get_block_instances(branch_id, block_type):\n",
    "    branch = get_item_by_id(URL_Stems['BRANCHES'], branch_id)\n",
    "    if 'error' not in branch:\n",
    "        block_ids = branch['data']['index'][block_type]\n",
    "        blocks = {}\n",
    "        for block_id in block_ids:\n",
    "            block = branch['data']['blocks'][block_id]\n",
    "            blocks[block['id']]=block\n",
    "        if len(block_ids) > 0:\n",
    "            return {'UIDs': block_ids, 'blocks': blocks}\n",
    "        else:\n",
    "            return {'UIDs': None, 'blocks': None}\n",
    "    else:\n",
    "        return branch"
   ]
  },
  {
   "cell_type": "code",
   "execution_count": 241,
   "metadata": {},
   "outputs": [],
   "source": [
    "def get_block_instance_by_name(branch_id, block_type, name):\n",
    "    block_results = get_block_instances(branch_id, block_type)\n",
    "    print(block_results)\n",
    "    if 'error' not in block_results:\n",
    "        blocks = []\n",
    "        if block_results['UIDs'] is not None:\n",
    "            for id in block_results['UIDs']:\n",
    "                b = block_results['blocks'][id]\n",
    "                if b['name'] == name:\n",
    "                    blocks.append(b)\n",
    "        if len(blocks) > 0:\n",
    "            return blocks[0]\n",
    "        else:\n",
    "            return None\n",
    "    else:\n",
    "        return block_results"
   ]
  },
  {
   "cell_type": "markdown",
   "metadata": {},
   "source": [
    "### Workspaces"
   ]
  },
  {
   "cell_type": "code",
   "execution_count": null,
   "metadata": {},
   "outputs": [],
   "source": [
    "workspace_from_name = get_item_by_name(URL_Stems['WORKSPACES'], \"LC Demos\")\n",
    "workspace_id = workspace_from_name['id']\n",
    "# Watchout, workspaces can have the same name\n",
    "workspace_id"
   ]
  },
  {
   "cell_type": "code",
   "execution_count": null,
   "metadata": {},
   "outputs": [],
   "source": [
    "# Get workspace by id\n",
    "workspace = get_item_by_id(URL_Stems['WORKSPACES'], workspace_id)\n",
    "workspace"
   ]
  },
  {
   "cell_type": "code",
   "execution_count": null,
   "metadata": {},
   "outputs": [],
   "source": [
    "# Rename a workspace\n",
    "workspace_data = {'id': 'PLbmFrM26h37tNj6XjVvQD', 'name': 'LC Demos'}\n",
    "update_item(URL_Stems['WORKSPACES'], 'PLbmFrM26h37tNj6XjVvQD', json.dumps(workspace_data))\n",
    "# returns the workspace"
   ]
  },
  {
   "cell_type": "markdown",
   "metadata": {},
   "source": [
    "### Repos"
   ]
  },
  {
   "cell_type": "code",
   "execution_count": null,
   "metadata": {},
   "outputs": [],
   "source": [
    "# Create a Repository\n",
    "repo_data = {'name': 'API_SC7', 'description': 'Test3',\n",
    "                   'metamodelType': 'Spacecraft', 'workspace': workspace['id']}\n",
    "new_repo = create_repo(URL_Stems['REPOSITORIES'], json.dumps(repo_data))\n",
    "new_repo\n",
    "# Returns the new repo"
   ]
  },
  {
   "cell_type": "code",
   "execution_count": null,
   "metadata": {},
   "outputs": [],
   "source": [
    "# To get all your repos across all workspaces you belong to (this can take a while)\n",
    "all_repos = get_all(URL_Stems['REPOSITORIES'])\n",
    "for r in all_repos:\n",
    "    print('Workspace: ', r['workspace']['id'], 'Repo: ', r['name'])"
   ]
  },
  {
   "cell_type": "code",
   "execution_count": null,
   "metadata": {},
   "outputs": [],
   "source": [
    "# Get a list of repos in workspace\n",
    "workspace['repositories']"
   ]
  },
  {
   "cell_type": "code",
   "execution_count": null,
   "metadata": {},
   "outputs": [],
   "source": [
    "# Getting a repo by name has its own function\n",
    "repo = get_repo_by_name(workspace['id'],'API_SC')\n",
    "repo"
   ]
  },
  {
   "cell_type": "code",
   "execution_count": null,
   "metadata": {},
   "outputs": [],
   "source": [
    "# Get a repo by id\n",
    "repository_from_id = get_item_by_id(URL_Stems['REPOSITORIES'], repo['id'])\n",
    "repository_from_id"
   ]
  },
  {
   "cell_type": "code",
   "execution_count": null,
   "metadata": {},
   "outputs": [],
   "source": [
    "repo"
   ]
  },
  {
   "cell_type": "markdown",
   "metadata": {},
   "source": [
    "### Branches"
   ]
  },
  {
   "cell_type": "code",
   "execution_count": null,
   "metadata": {},
   "outputs": [],
   "source": [
    "# Get list of branches\n",
    "repo['branches']"
   ]
  },
  {
   "cell_type": "code",
   "execution_count": null,
   "metadata": {},
   "outputs": [],
   "source": [
    "# Get a branch by name\n",
    "branch = get_branch_by_name('PM47rR7jsCHHdLM2RGLDtJ','main')\n",
    "branch"
   ]
  },
  {
   "cell_type": "code",
   "execution_count": null,
   "metadata": {},
   "outputs": [],
   "source": [
    "# Get a branch by id\n",
    "branch_from_id = get_item_by_id(URL_Stems['BRANCHES'], 'PM47vRx4XcgfXX8LgNzwDK')\n",
    "branch_from_id"
   ]
  },
  {
   "cell_type": "code",
   "execution_count": null,
   "metadata": {},
   "outputs": [],
   "source": [
    "# Create a branch\n",
    "branch_data = {'name': 'API Branch 8', 'description': 'Test Branch3',\n",
    "                   'branchId': branch['id']}\n",
    "create_branch(URL_Stems['BRANCHES'], branch['id'], payload=json.dumps(branch_data))"
   ]
  },
  {
   "cell_type": "markdown",
   "metadata": {},
   "source": [
    "### Working with Blocks"
   ]
  },
  {
   "cell_type": "code",
   "execution_count": null,
   "metadata": {},
   "outputs": [],
   "source": [
    "# Pattern to create\n",
    "url = URL_Stems['BRANCHES'] + id + '/template'\n",
    "\n",
    "data = {'blocks': [{\n",
    "    'id': '',  # optional\n",
    "    'type': '',\n",
    "    # 'property': 'value'\n",
    "    }]}\n",
    "\n",
    "q = requests.post(url, headers=headers, data=json.dumps(data))\n",
    "print(json.dumps(q.json(), indent=2))"
   ]
  },
  {
   "cell_type": "code",
   "execution_count": null,
   "metadata": {},
   "outputs": [],
   "source": [
    "get_block_instances('PM47vRx4XcgfXX8LgNzwDK','BodyFrameVector')"
   ]
  },
  {
   "cell_type": "code",
   "execution_count": 242,
   "metadata": {},
   "outputs": [
    {
     "name": "stdout",
     "output_type": "stream",
     "text": [
      "API URL:  https://api.sedaro.com/models/branches/PM47vRx4XcgfXX8LgNzwD\n",
      "{'error': {'code': 'ENDPOINT_NOT_FOUND', 'message': 'The requested endpoint does not exist or is not accessible with your current permissions.', 'status': 404}}\n"
     ]
    },
    {
     "data": {
      "text/plain": [
       "{'error': {'code': 'ENDPOINT_NOT_FOUND',\n",
       "  'message': 'The requested endpoint does not exist or is not accessible with your current permissions.',\n",
       "  'status': 404}}"
      ]
     },
     "execution_count": 242,
     "metadata": {},
     "output_type": "execute_result"
    }
   ],
   "source": [
    "get_block_instance_by_name('PM47vRx4XcgfXX8LgNzwD', 'BodyFrameVector','+X')"
   ]
  },
  {
   "cell_type": "markdown",
   "metadata": {},
   "source": [
    "### Other Useful Blocks"
   ]
  },
  {
   "cell_type": "code",
   "execution_count": null,
   "metadata": {},
   "outputs": [],
   "source": [
    "# To create a block, you are updating the branch\n",
    "data = {'blocks': [{\n",
    "            'name': 'VT6',\n",
    "            'type': 'BodyFrameVector',\n",
    "            'definitionType': 'SPHERICAL_ANGLES',\n",
    "            'definitionParams': {\n",
    "                'phi': 7,\n",
    "                'theta': 2\n",
    "            }\n",
    "        }]}\n",
    "\n",
    "update_item(URL_Stems['BRANCHES'], 'PM47vRx4XcgfXX8LgNzwDK', json.dumps(data))\n",
    "# print(json.dumps(q.json(), indent=2))"
   ]
  },
  {
   "cell_type": "code",
   "execution_count": null,
   "metadata": {},
   "outputs": [],
   "source": [
    "#Invoke ideal pointing mode, you are updating the branch\n",
    "data = {'blocks': [{\n",
    "    'type': \"IdealOrbitalAttitudeDynamics\"\n",
    "}]}\n",
    "update_item(URL_Stems['BRANCHES'], 'PM47vRx4XcgfXX8LgNzwDK', json.dumps(data))\n",
    "\n",
    "# When you switch between pointing modes, it just overwrites the block\n",
    "# These create and update actions return the whole branch"
   ]
  }
 ],
 "metadata": {
  "kernelspec": {
   "display_name": "venv",
   "language": "python",
   "name": "python3"
  },
  "language_info": {
   "codemirror_mode": {
    "name": "ipython",
    "version": 3
   },
   "file_extension": ".py",
   "mimetype": "text/x-python",
   "name": "python",
   "nbconvert_exporter": "python",
   "pygments_lexer": "ipython3",
   "version": "3.11.7"
  }
 },
 "nbformat": 4,
 "nbformat_minor": 2
}
