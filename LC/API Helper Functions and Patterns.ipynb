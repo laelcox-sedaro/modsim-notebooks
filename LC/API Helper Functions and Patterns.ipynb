{
 "cells": [
  {
   "cell_type": "code",
   "execution_count": 1,
   "metadata": {},
   "outputs": [],
   "source": [
    "import json\n",
    "import requests\n",
    "\n",
    "def print_neat(dictionary_for_viewing):\n",
    "    print(json.dumps(dictionary_for_viewing, indent=4, sort_keys=True))\n",
    "# TODO\n",
    "# why would you update a root?\n",
    "# How do you clone a scenario\n",
    "# How do you create a whole new scenario based on a new branch\n",
    "# Set up routines\n",
    "# Set up studies\n",
    "# Access results\n",
    "# get all the scenarios where a specific agent branch is used\n",
    "\n",
    "\n",
    "# It's easy to accidentally send a string with Python's requests\n",
    "# request.post(..., json={'a': 1, 'b': 2}) works\n",
    "# request.post(..., body=json.dumps({'a': 1, 'b': 2})) works\n",
    "# request.post(..., json=json.dumps({'a': 1, 'b': 2})) sends a string instead of an object – this MR now explicitly blocks this\n",
    "# request.post(..., body={'a': 1, 'b': 2}) sends binary data with the content-type application/x-www-form-urlencoded, which is blocked"
   ]
  },
  {
   "cell_type": "markdown",
   "metadata": {},
   "source": [
    "### Helper Functions"
   ]
  },
  {
   "cell_type": "code",
   "execution_count": 2,
   "metadata": {},
   "outputs": [],
   "source": [
    "with open('../secrets.json', 'r') as file:\n",
    "    API_KEY = json.load(file)['API_KEY']\n",
    "    # API_KEY = json.load(file)['ASTAGE_API_KEY'] # For work in dev environment\n",
    "    # API_KEY = json.load(file)['LOCAL_API_KEY'] # For work in dev environment\n",
    "\n",
    "headers = {'X_API_KEY': API_KEY, 'Content-Type': 'application/json'}"
   ]
  },
  {
   "cell_type": "code",
   "execution_count": 32,
   "metadata": {},
   "outputs": [],
   "source": [
    "URL_BASE = 'https://api.sedaro.com'\n",
    "# URL_BASE = 'https://api.astage.sedaro.com'\n",
    "# URL_BASE = 'http://localhost:80' # For work in dev environment\n",
    "\n",
    "URL_Stems = {\n",
    "    'WORKSPACES': URL_BASE + '/workspaces/',\n",
    "    'REPOSITORIES': URL_BASE + '/models/repositories/',\n",
    "    'BRANCHES': URL_BASE + '/models/branches/',\n",
    "    'PROJECTS': URL_BASE + '/projects/'\n",
    "}"
   ]
  },
  {
   "cell_type": "code",
   "execution_count": 4,
   "metadata": {},
   "outputs": [],
   "source": [
    "def get_all(object_type_url):\n",
    "    q = requests.get(object_type_url, headers=headers)\n",
    "    print('API URL: ', object_type_url)\n",
    "    return [entry for entry in q.json()]"
   ]
  },
  {
   "cell_type": "code",
   "execution_count": 5,
   "metadata": {},
   "outputs": [],
   "source": [
    "def get_item_by_name(object_type_url, name):\n",
    "    q = requests.get(object_type_url, headers=headers)\n",
    "    print('API URL: ', object_type_url)\n",
    "    results = [entry for entry in q.json() if entry['name'] == name]\n",
    "    if len(results) > 0:\n",
    "        return results[0]\n",
    "    else:\n",
    "        return None"
   ]
  },
  {
   "cell_type": "code",
   "execution_count": 6,
   "metadata": {},
   "outputs": [],
   "source": [
    "def get_item_by_id(object_type_url, id):\n",
    "    url = object_type_url + id\n",
    "    q = requests.get(url, headers=headers)\n",
    "    print('API URL: ', url)\n",
    "    if type(q.json()) is dict:\n",
    "        return q.json()\n",
    "    else:\n",
    "        return None"
   ]
  },
  {
   "cell_type": "code",
   "execution_count": 7,
   "metadata": {},
   "outputs": [],
   "source": [
    "# Also create block\n",
    "def update_item(object_type_url, id, payload):\n",
    "    item_id = id\n",
    "    if object_type_url == URL_Stems['BRANCHES']:\n",
    "        item_id = id + '/template'\n",
    "    url = object_type_url + item_id\n",
    "    q = requests.patch(url, headers=headers, data=payload)\n",
    "    print('API URL: ', url)\n",
    "    return q.json()"
   ]
  },
  {
   "cell_type": "code",
   "execution_count": 246,
   "metadata": {},
   "outputs": [],
   "source": [
    "# When you create a block, you are technically updating/patching the branch\n",
    "# def create_block(object_type_url, id, payload):\n",
    "#     return update_item(object_type_url, id, payload)"
   ]
  },
  {
   "cell_type": "code",
   "execution_count": 8,
   "metadata": {},
   "outputs": [],
   "source": [
    "# repos need a special method to get them by name\n",
    "def get_repo_by_name(workspace_id, repo_name):\n",
    "    ws = get_item_by_id(URL_Stems['WORKSPACES'], workspace_id)\n",
    "    list_of_repos = []\n",
    "    for repository in ws['repositories']:\n",
    "        if repository['name'] == repo_name:\n",
    "            list_of_repos.append(repository)\n",
    "    # Or using a Python list comprehension\n",
    "    # list_of_repos = [repository for repository in workspace['repositories'] if repository['name'] == repo_name]\n",
    "    if len(list_of_repos) > 0:\n",
    "        return list_of_repos[0]\n",
    "    else:\n",
    "        return None"
   ]
  },
  {
   "cell_type": "code",
   "execution_count": 9,
   "metadata": {},
   "outputs": [],
   "source": [
    "def get_branch_by_name(repo_id, branch_name):\n",
    "    rp = get_item_by_id(URL_Stems['REPOSITORIES'], repo_id)\n",
    "    list_of_branches = []\n",
    "    for branch in rp['branches']:\n",
    "        if branch['name'] == branch_name:\n",
    "            list_of_branches.append(branch)\n",
    "    # Or using a Python list comprehension\n",
    "    # list_of_branches = [branch for branch in rp['branches'] if branch['name'] == branch_name]\n",
    "    if len(list_of_branches) > 0:\n",
    "        return list_of_branches[0]\n",
    "    else:\n",
    "        return None"
   ]
  },
  {
   "cell_type": "code",
   "execution_count": 10,
   "metadata": {},
   "outputs": [],
   "source": [
    "def create_repo(object_type_url, payload):\n",
    "    q = requests.post(object_type_url, headers=headers, data=payload)\n",
    "    print('API URL: ', object_type_url)\n",
    "    return q.json()"
   ]
  },
  {
   "cell_type": "code",
   "execution_count": 11,
   "metadata": {},
   "outputs": [],
   "source": [
    "def create_branch(object_type_url, id, payload):\n",
    "    url = object_type_url + id\n",
    "    q = requests.post(url, headers=headers, data=payload)\n",
    "    print('API URL: ', url)\n",
    "    return q.json()"
   ]
  },
  {
   "cell_type": "code",
   "execution_count": 12,
   "metadata": {},
   "outputs": [],
   "source": [
    "def get_block_instances(branch_id, block_type):\n",
    "    branch = get_item_by_id(URL_Stems['BRANCHES'], branch_id)\n",
    "    if 'error' not in branch:\n",
    "        block_ids = branch['data']['index'][block_type]\n",
    "        blocks = {}\n",
    "        for block_id in block_ids:\n",
    "            block = branch['data']['blocks'][block_id]\n",
    "            blocks[block['id']]=block\n",
    "        if len(block_ids) > 0:\n",
    "            return {'UIDs': block_ids, 'blocks': blocks}\n",
    "        else:\n",
    "            return {'UIDs': None, 'blocks': None}\n",
    "    else:\n",
    "        return branch"
   ]
  },
  {
   "cell_type": "code",
   "execution_count": 13,
   "metadata": {},
   "outputs": [],
   "source": [
    "def get_block_instance_by_name(branch_id, block_type, name):\n",
    "    block_results = get_block_instances(branch_id, block_type)\n",
    "    print(block_results)\n",
    "    if 'error' not in block_results:\n",
    "        blocks = []\n",
    "        if block_results['UIDs'] is not None:\n",
    "            for id in block_results['UIDs']:\n",
    "                b = block_results['blocks'][id]\n",
    "                if b['name'] == name:\n",
    "                    blocks.append(b)\n",
    "        if len(blocks) > 0:\n",
    "            return blocks[0]\n",
    "        else:\n",
    "            return None\n",
    "    else:\n",
    "        return block_results"
   ]
  },
  {
   "cell_type": "markdown",
   "metadata": {},
   "source": [
    "### Workspaces"
   ]
  },
  {
   "cell_type": "code",
   "execution_count": 22,
   "metadata": {},
   "outputs": [
    {
     "name": "stdout",
     "output_type": "stream",
     "text": [
      "API URL:  https://api.sedaro.com/workspaces/\n"
     ]
    },
    {
     "data": {
      "text/plain": [
       "'PLbmFrM26h37tNj6XjVvQD'"
      ]
     },
     "execution_count": 22,
     "metadata": {},
     "output_type": "execute_result"
    }
   ],
   "source": [
    "workspace_from_name = get_item_by_name(URL_Stems['WORKSPACES'], \"LC Demos\")\n",
    "workspace_id = workspace_from_name['id']\n",
    "# Watchout, workspaces can have the same name\n",
    "workspace_id"
   ]
  },
  {
   "cell_type": "code",
   "execution_count": null,
   "metadata": {},
   "outputs": [],
   "source": [
    "# Get workspace by id\n",
    "workspace = get_item_by_id(URL_Stems['WORKSPACES'], workspace_id)\n",
    "print_neat(workspace)"
   ]
  },
  {
   "cell_type": "code",
   "execution_count": null,
   "metadata": {},
   "outputs": [],
   "source": [
    "# Rename a workspace\n",
    "workspace_data = {'id': workspace_id, 'name': 'LC Demos'}\n",
    "update_item(URL_Stems['WORKSPACES'], workspace_id, json.dumps(workspace_data))\n",
    "# returns the workspace"
   ]
  },
  {
   "cell_type": "code",
   "execution_count": null,
   "metadata": {},
   "outputs": [],
   "source": [
    "ws = get_item_by_id(URL_Stems['WORKSPACES'], 'PLbmFrM26h37tNj6XjVvQD')"
   ]
  },
  {
   "cell_type": "code",
   "execution_count": null,
   "metadata": {},
   "outputs": [],
   "source": [
    "print_neat(ws)\n",
    "# get_repo_by_name('PMDvpzbKWZNnxPssSnXSgk','')"
   ]
  },
  {
   "cell_type": "markdown",
   "metadata": {},
   "source": [
    "### Projects"
   ]
  },
  {
   "cell_type": "code",
   "execution_count": 33,
   "metadata": {},
   "outputs": [
    {
     "name": "stdout",
     "output_type": "stream",
     "text": [
      "API URL:  https://api.sedaro.com/projects/PLzRbHslBxmcnmRRntmSpD\n"
     ]
    }
   ],
   "source": [
    "prj = get_item_by_id(URL_Stems['PROJECTS'], 'PLzRbHslBxmcnmRRntmSpD')"
   ]
  },
  {
   "cell_type": "code",
   "execution_count": 34,
   "metadata": {},
   "outputs": [
    {
     "name": "stdout",
     "output_type": "stream",
     "text": [
      "{\n",
      "    \"createdBy\": {\n",
      "        \"dateCreated\": \"2023-04-26T18:54:35.200Z\",\n",
      "        \"dateModified\": \"2024-05-06T17:19:36.051Z\",\n",
      "        \"email\": \"lael.cox@sedarotech.com\",\n",
      "        \"externalIdentityProvider\": null,\n",
      "        \"firstName\": \"Lael\",\n",
      "        \"id\": \"NTyuhTQSoD0PhFWUTCRiF\",\n",
      "        \"incomplete\": false,\n",
      "        \"isFlagged\": false,\n",
      "        \"isVerified\": true,\n",
      "        \"lastName\": \"Cox\",\n",
      "        \"organization\": \"Sedaro\",\n",
      "        \"organizationCountryCode\": \"US\",\n",
      "        \"roles\": [\n",
      "            \"NTz2gzIRRXIC1vkE1PEtV\",\n",
      "            \"PJskg3GfQFffDH2ZfspGRf\",\n",
      "            \"NalsCPtTsegMUKS_J1XwV\",\n",
      "            \"NXkVfgZSZXPbmqCFzfUGV\",\n",
      "            \"PLbmFtHFDvd4r2p6xWL2W6\",\n",
      "            \"PLcDcrxBtHtN8RlpKSWJfW\",\n",
      "            \"PLSd3NhpgNY2KNVGXn7f5Q\",\n",
      "            \"PMDvq3Sf24bm9fCH8npSyy\",\n",
      "            \"PKCbxCmbl6ptnqfmSrHHSj\",\n",
      "            \"PMHfkfBNcWKrwpMcfG8nxy\"\n",
      "        ],\n",
      "        \"userCountryCode\": \"US\",\n",
      "        \"workspaces\": [\n",
      "            \"PMHfkcJQMZFPx9Nd7HJhCv\",\n",
      "            \"PLSd3LprQLXmJ4M99B8Rb3\",\n",
      "            \"PLbmFrM26h37tNj6XjVvQD\",\n",
      "            \"NTz2giOUaiZQ9R6LVXbw-\",\n",
      "            \"PLcDcq37gxczq49GhBvhcy\",\n",
      "            \"PJskg2QtjkLMj4kFzMDnWD\",\n",
      "            \"NXkVfPrRKqcOutT-fBuO-\",\n",
      "            \"PKCbxBkpxJdxwRbsZTFcDt\",\n",
      "            \"NalsC8YTWPI4DxnG6z31k\",\n",
      "            \"PMDvpzbKWZNnxPssSnXSgk\"\n",
      "        ]\n",
      "    },\n",
      "    \"dateCreated\": \"2024-03-29T18:55:04.140Z\",\n",
      "    \"dateModified\": \"2024-03-29T18:55:04.140Z\",\n",
      "    \"description\": \"\",\n",
      "    \"id\": \"PLzRbHslBxmcnmRRntmSpD\",\n",
      "    \"lastModifiedBy\": \"NTyuhTQSoD0PhFWUTCRiF\",\n",
      "    \"name\": \"Orbit Validation\",\n",
      "    \"repositories\": [\n",
      "        {\n",
      "            \"branches\": [\n",
      "                \"PLyQYL4K8xxb5PJWhRthFj\"\n",
      "            ],\n",
      "            \"createdBy\": \"NTyuhTQSoD0PhFWUTCRiF\",\n",
      "            \"dateCreated\": \"2024-03-27T22:10:52.995Z\",\n",
      "            \"dateModified\": \"2024-03-29T18:55:11.059Z\",\n",
      "            \"description\": \"\",\n",
      "            \"id\": \"PLyQYL2qsyRKqh5b8by52Y\",\n",
      "            \"lastModifiedBy\": \"NTyuhTQSoD0PhFWUTCRiF\",\n",
      "            \"metamodelType\": \"Spacecraft\",\n",
      "            \"name\": \"drag-cannonball [import]\",\n",
      "            \"project\": \"PLzRbHslBxmcnmRRntmSpD\",\n",
      "            \"repoType\": \"AGENT_TEMPLATE\",\n",
      "            \"versions\": [\n",
      "                \"PLyQYL4K8xxb5PJWhRthFj\"\n",
      "            ],\n",
      "            \"workspace\": \"PLbmFrM26h37tNj6XjVvQD\"\n",
      "        },\n",
      "        {\n",
      "            \"branches\": [\n",
      "                \"PLyQYSBjz3P38b3FgvHq7l\"\n",
      "            ],\n",
      "            \"createdBy\": \"NTyuhTQSoD0PhFWUTCRiF\",\n",
      "            \"dateCreated\": \"2024-03-27T22:11:00.732Z\",\n",
      "            \"dateModified\": \"2024-03-29T18:55:08.780Z\",\n",
      "            \"description\": \"\",\n",
      "            \"id\": \"PLyQYS9LfFFHHqxxQKcm47\",\n",
      "            \"lastModifiedBy\": \"NTyuhTQSoD0PhFWUTCRiF\",\n",
      "            \"metamodelType\": \"Spacecraft\",\n",
      "            \"name\": \"srp-cannonball [import]\",\n",
      "            \"project\": \"PLzRbHslBxmcnmRRntmSpD\",\n",
      "            \"repoType\": \"AGENT_TEMPLATE\",\n",
      "            \"versions\": [\n",
      "                \"PLyQYSBjz3P38b3FgvHq7l\"\n",
      "            ],\n",
      "            \"workspace\": \"PLbmFrM26h37tNj6XjVvQD\"\n",
      "        },\n",
      "        {\n",
      "            \"branches\": [\n",
      "                \"PLyQYl5n3gpCJnfRGTZS8J\"\n",
      "            ],\n",
      "            \"createdBy\": \"NTyuhTQSoD0PhFWUTCRiF\",\n",
      "            \"dateCreated\": \"2024-03-27T22:11:19.528Z\",\n",
      "            \"dateModified\": \"2024-03-29T18:55:06.035Z\",\n",
      "            \"description\": \"\",\n",
      "            \"id\": \"PLyQYl3V8rkQsqfkqWXd6H\",\n",
      "            \"lastModifiedBy\": \"NTyuhTQSoD0PhFWUTCRiF\",\n",
      "            \"metamodelType\": \"Scenario\",\n",
      "            \"name\": \"Orbit Validation\",\n",
      "            \"project\": \"PLzRbHslBxmcnmRRntmSpD\",\n",
      "            \"repoType\": \"SCENARIO\",\n",
      "            \"versions\": [\n",
      "                \"PLyQYl5n3gpCJnfRGTZS8J\"\n",
      "            ],\n",
      "            \"workspace\": \"PLbmFrM26h37tNj6XjVvQD\"\n",
      "        }\n",
      "    ],\n",
      "    \"workspace\": {\n",
      "        \"dateCreated\": \"2024-02-22T21:00:03.024Z\",\n",
      "        \"dateModified\": \"2024-04-05T13:11:34.629Z\",\n",
      "        \"defaultRole\": \"PLbmFtH7Hv6tjtVm7CR4YH\",\n",
      "        \"description\": \"\",\n",
      "        \"id\": \"PLbmFrM26h37tNj6XjVvQD\",\n",
      "        \"isActive\": true,\n",
      "        \"license\": \"PLbmFtHHC7y6LYTql6nxy3\",\n",
      "        \"members\": [\n",
      "            \"NTyuhTQSoD0PhFWUTCRiF\"\n",
      "        ],\n",
      "        \"name\": \"LC Demos\",\n",
      "        \"pendingInvites\": {},\n",
      "        \"projects\": [\n",
      "            \"PLzRbHslBxmcnmRRntmSpD\",\n",
      "            \"PLzTJDMVlZ3m47V9ktqNRf\",\n",
      "            \"PM6srMHN9p4sqHMb4bTC5J\",\n",
      "            \"PMHB4RkD8wVySlbp5llXcr\"\n",
      "        ],\n",
      "        \"repositories\": [\n",
      "            \"PLzRcBfNrzbGsxySgnNNnM\",\n",
      "            \"PMRrypb3gQpP3MwGpk8Mz4\",\n",
      "            \"PMNbHytkg6X5R6FRFFd7Q3\",\n",
      "            \"PMJ7BM8b4RdwCsf25v7fLY\",\n",
      "            \"PMHB49t3Dyz2pGm5mKZL3W\",\n",
      "            \"PMHB49mB8D8hFHdnlb6Q6V\",\n",
      "            \"PMHB49YRL39YYgPHBqlmqX\",\n",
      "            \"PM6srCX2sGy2CXRQTf2sPr\",\n",
      "            \"PM6srD8gtK2QG9sNpP63J7\",\n",
      "            \"PM6srDbLvVy6b4Pl7rJhjv\",\n",
      "            \"PLzTJTPYBVZqJgp4lt6bnw\",\n",
      "            \"PLzTPgBxzVRWLzTCtHWZvL\",\n",
      "            \"PLyQYL2qsyRKqh5b8by52Y\",\n",
      "            \"PLyQYS9LfFFHHqxxQKcm47\",\n",
      "            \"PLyQYl3V8rkQsqfkqWXd6H\"\n",
      "        ],\n",
      "        \"roles\": [\n",
      "            \"PLbmFtH3GfgcnFLL6Sm3dD\",\n",
      "            \"PLbmFtH7Hv6tjtVm7CR4YH\",\n",
      "            \"PLbmFtHCDCcXxFdmFTf4gS\",\n",
      "            \"PLbmFtHFDvd4r2p6xWL2W6\"\n",
      "        ]\n",
      "    }\n",
      "}\n"
     ]
    }
   ],
   "source": [
    "print_neat(prj)"
   ]
  },
  {
   "cell_type": "markdown",
   "metadata": {},
   "source": [
    "### Repos"
   ]
  },
  {
   "cell_type": "code",
   "execution_count": null,
   "metadata": {},
   "outputs": [],
   "source": [
    "# Create a Repository\n",
    "repo_data = {'name': 'API_SC7', 'description': 'Test3',\n",
    "                   'metamodelType': 'Spacecraft', 'workspace': workspace['id']}\n",
    "new_repo = create_repo(URL_Stems['REPOSITORIES'], json.dumps(repo_data))\n",
    "new_repo\n",
    "# Returns the new repo"
   ]
  },
  {
   "cell_type": "code",
   "execution_count": null,
   "metadata": {},
   "outputs": [],
   "source": [
    "# To get all your repos across all workspaces you belong to (this can take a while)\n",
    "all_repos = get_all(URL_Stems['REPOSITORIES'])\n",
    "for r in all_repos:\n",
    "    print('Workspace: ', r['workspace']['id'], 'Repo: ', r['name'])"
   ]
  },
  {
   "cell_type": "code",
   "execution_count": null,
   "metadata": {},
   "outputs": [],
   "source": [
    "# Get a list of repos in workspace\n",
    "repos = workspace['repositories']\n",
    "print_neat(repos)"
   ]
  },
  {
   "cell_type": "code",
   "execution_count": null,
   "metadata": {},
   "outputs": [],
   "source": [
    "# Getting a repo by name has its own function\n",
    "repo = get_repo_by_name(workspace['id'],'Sensing Sat')\n",
    "print_neat(repo)"
   ]
  },
  {
   "cell_type": "code",
   "execution_count": null,
   "metadata": {},
   "outputs": [],
   "source": [
    "# Get a repo by id\n",
    "repository_from_id = get_item_by_id(URL_Stems['REPOSITORIES'], repo['id'])\n",
    "print_neat(repository_from_id)"
   ]
  },
  {
   "cell_type": "code",
   "execution_count": null,
   "metadata": {},
   "outputs": [],
   "source": [
    "repo"
   ]
  },
  {
   "cell_type": "markdown",
   "metadata": {},
   "source": [
    "### Branches"
   ]
  },
  {
   "cell_type": "code",
   "execution_count": null,
   "metadata": {},
   "outputs": [],
   "source": [
    "# Get list of branches\n",
    "repo['branches']"
   ]
  },
  {
   "cell_type": "code",
   "execution_count": null,
   "metadata": {},
   "outputs": [],
   "source": [
    "# Get a branch by name\n",
    "branch = get_branch_by_name(repo['id'],'main')\n",
    "branch"
   ]
  },
  {
   "cell_type": "code",
   "execution_count": null,
   "metadata": {},
   "outputs": [],
   "source": [
    "# Get a branch by id\n",
    "branch_from_id = get_item_by_id(URL_Stems['BRANCHES'], 'PLzRcBmvgpPF5xfYCWjg9v')\n",
    "print_neat(branch_from_id)"
   ]
  },
  {
   "cell_type": "code",
   "execution_count": null,
   "metadata": {},
   "outputs": [],
   "source": [
    "# Create a branch\n",
    "branch_data = {'name': 'API Branch 8', 'description': 'Test Branch3',\n",
    "                   'branchId': branch['id']}\n",
    "create_branch(URL_Stems['BRANCHES'], branch['id'], payload=json.dumps(branch_data))"
   ]
  },
  {
   "cell_type": "markdown",
   "metadata": {},
   "source": [
    "### Working with Blocks"
   ]
  },
  {
   "cell_type": "code",
   "execution_count": null,
   "metadata": {},
   "outputs": [],
   "source": [
    "# Pattern to create\n",
    "url = URL_Stems['BRANCHES'] + id + '/template'\n",
    "\n",
    "data = {'blocks': [{\n",
    "    'id': '',  # optional\n",
    "    'type': '',\n",
    "    # 'property': 'value'\n",
    "    }]}\n",
    "\n",
    "q = requests.post(url, headers=headers, data=json.dumps(data))\n",
    "print(json.dumps(q.json(), indent=2))"
   ]
  },
  {
   "cell_type": "code",
   "execution_count": null,
   "metadata": {},
   "outputs": [],
   "source": [
    "get_block_instances('PLzRcBmvgpPF5xfYCWjg9v', 'BodyFrameVector')"
   ]
  },
  {
   "cell_type": "code",
   "execution_count": null,
   "metadata": {},
   "outputs": [],
   "source": [
    "get_block_instance_by_name('PLzRcBmvgpPF5xfYCWjg9v', 'BodyFrameVector', '+X')"
   ]
  },
  {
   "cell_type": "markdown",
   "metadata": {},
   "source": [
    "### Other Useful Blocks"
   ]
  },
  {
   "cell_type": "code",
   "execution_count": null,
   "metadata": {},
   "outputs": [],
   "source": [
    "# To create a block, you are updating the branch\n",
    "data = {'blocks': [{\n",
    "            'name': 'VT6',\n",
    "            'type': 'BodyFrameVector',\n",
    "            'definitionType': 'SPHERICAL_ANGLES',\n",
    "            'definitionParams': {\n",
    "                'phi': 7,\n",
    "                'theta': 2\n",
    "            }\n",
    "        }]}\n",
    "\n",
    "update_item(URL_Stems['BRANCHES'], 'PM47vRx4XcgfXX8LgNzwDK', json.dumps(data))\n",
    "# print(json.dumps(q.json(), indent=2))"
   ]
  },
  {
   "cell_type": "code",
   "execution_count": null,
   "metadata": {},
   "outputs": [],
   "source": [
    "#Invoke ideal pointing mode, you are updating the branch\n",
    "data = {'blocks': [{\n",
    "    'type': \"IdealOrbitalAttitudeDynamics\"\n",
    "}]}\n",
    "update_item(URL_Stems['BRANCHES'], 'PM47vRx4XcgfXX8LgNzwDK', json.dumps(data))\n",
    "\n",
    "# When you switch between pointing modes, it just overwrites the block\n",
    "# These create and update actions return the whole branch"
   ]
  }
 ],
 "metadata": {
  "kernelspec": {
   "display_name": "venv",
   "language": "python",
   "name": "python3"
  },
  "language_info": {
   "codemirror_mode": {
    "name": "ipython",
    "version": 3
   },
   "file_extension": ".py",
   "mimetype": "text/x-python",
   "name": "python",
   "nbconvert_exporter": "python",
   "pygments_lexer": "ipython3",
   "version": "3.11.7"
  }
 },
 "nbformat": 4,
 "nbformat_minor": 2
}
