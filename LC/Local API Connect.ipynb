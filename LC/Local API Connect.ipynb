{
 "cells": [
  {
   "cell_type": "code",
   "execution_count": 1,
   "metadata": {},
   "outputs": [],
   "source": [
    "import json\n",
    "import requests"
   ]
  },
  {
   "cell_type": "code",
   "execution_count": 2,
   "metadata": {},
   "outputs": [],
   "source": [
    "with open('../secrets.json', 'r') as file:\n",
    "    LOCAL_API_KEY = json.load(file)['LOCAL_API_KEY']\n",
    "headers = {'X_API_KEY': LOCAL_API_KEY}\n",
    "api_url = 'http://localhost:80'"
   ]
  },
  {
   "cell_type": "code",
   "execution_count": 3,
   "metadata": {},
   "outputs": [],
   "source": [
    "# Get a workspace\n",
    "q1_url = api_url + '/workspaces/'\n",
    "q1 = requests.get(q1_url, headers=headers)\n",
    "# print(json.dumps(q1.json(), indent=2))"
   ]
  },
  {
   "cell_type": "code",
   "execution_count": null,
   "metadata": {},
   "outputs": [],
   "source": [
    "# Get a workspace\n",
    "q1_url = api_url + '/workspaces/PLqjKtHyXJ8hfZb869zqNg'\n",
    "q1 = requests.get(q1_url, headers=headers)\n",
    "# print(json.dumps(q1.json(), indent=2))"
   ]
  },
  {
   "cell_type": "code",
   "execution_count": 5,
   "metadata": {},
   "outputs": [
    {
     "name": "stdout",
     "output_type": "stream",
     "text": [
      "{'branches': ['PLxsg87GM8hXSMxTFLRctM'], 'createdBy': 'PLq7gzJhBclZPFLrjj8r85', 'dateCreated': '2024-03-26T22:37:01.518Z', 'dateModified': '2024-03-26T22:37:01.518Z', 'description': 'Test', 'id': 'PLxsg7b76BRJ9vWmQdWfSZ', 'lastModifiedBy': 'PLq7gzJhBclZPFLrjj8r85', 'metamodelType': 'Spacecraft', 'name': 'Test', 'project': None, 'repoType': 'AGENT_TEMPLATE', 'versions': ['PLxsg87GM8hXSMxTFLRctM'], 'workspace': 'PLqjKtHyXJ8hfZb869zqNg'}\n",
      "{'branches': ['PLxrghZ4WbRtTchRYtpwVn', 'PLqjLq6JTkGnbSSwrPy8My'], 'createdBy': 'PLq7gzJhBclZPFLrjj8r85', 'dateCreated': '2024-03-15T16:21:56.378Z', 'dateModified': '2024-03-15T16:21:56.379Z', 'description': '', 'id': 'PLqjLpkCLJTGSf5WmCr63F', 'lastModifiedBy': 'PLq7gzJhBclZPFLrjj8r85', 'metamodelType': 'Scenario', 'name': 'Simple2', 'project': None, 'repoType': 'SCENARIO', 'versions': ['PLxrghZ4WbRtTchRYtpwVn', 'PLqjLq6JTkGnbSSwrPy8My'], 'workspace': 'PLqjKtHyXJ8hfZb869zqNg'}\n",
      "{'branches': ['PLqjLDnZJpmkPxfCTRSqWX'], 'createdBy': 'PLq7gzJhBclZPFLrjj8r85', 'dateCreated': '2024-03-15T16:21:18.235Z', 'dateModified': '2024-03-15T16:21:18.235Z', 'description': '', 'id': 'PLqjLDWMGvzfMM8lscCBpw', 'lastModifiedBy': 'PLq7gzJhBclZPFLrjj8r85', 'metamodelType': 'Spacecraft', 'name': 'Simple', 'project': None, 'repoType': 'AGENT_TEMPLATE', 'versions': ['PLqjLDnZJpmkPxfCTRSqWX'], 'workspace': 'PLqjKtHyXJ8hfZb869zqNg'}\n",
      "{'branches': ['PLqjKyPLSYVkxNDCf9mPXL'], 'createdBy': 'PLq7gzJhBclZPFLrjj8r85', 'dateCreated': '2024-03-15T16:21:02.602Z', 'dateModified': '2024-03-15T16:21:02.602Z', 'description': '', 'id': 'PLqjKy8GqMCqm2WLny2ncx', 'lastModifiedBy': 'PLq7gzJhBclZPFLrjj8r85', 'metamodelType': 'Scenario', 'name': '[DEV] SuperSat Scenario', 'project': 'PLqjKxWPqzs8vXxnYlb4gr', 'repoType': 'SCENARIO', 'versions': ['PLqjKyPLSYVkxNDCf9mPXL'], 'workspace': 'PLqjKtHyXJ8hfZb869zqNg'}\n",
      "{'branches': ['PLqjKxzc4VCCDXwBdgKSnF'], 'createdBy': 'PLq7gzJhBclZPFLrjj8r85', 'dateCreated': '2024-03-15T16:21:02.401Z', 'dateModified': '2024-03-15T16:21:02.401Z', 'description': '', 'id': 'PLqjKxyJfvhMB7bkdm4bPx', 'lastModifiedBy': 'PLq7gzJhBclZPFLrjj8r85', 'metamodelType': 'TerrestrialVehicle', 'name': '[DEV] Launch Vehicle', 'project': 'PLqjKxWPqzs8vXxnYlb4gr', 'repoType': 'AGENT_TEMPLATE', 'versions': ['PLqjKxzc4VCCDXwBdgKSnF'], 'workspace': 'PLqjKtHyXJ8hfZb869zqNg'}\n",
      "{'branches': ['PLqjKxkfLgLyDQHvZgXLNk'], 'createdBy': 'PLq7gzJhBclZPFLrjj8r85', 'dateCreated': '2024-03-15T16:21:01.824Z', 'dateModified': '2024-03-15T16:21:01.824Z', 'description': '', 'id': 'PLqjKxWRs62hgmwz6PYNNg', 'lastModifiedBy': 'PLq7gzJhBclZPFLrjj8r85', 'metamodelType': 'Spacecraft', 'name': '[DEV] SuperSat Vehicle', 'project': 'PLqjKxWPqzs8vXxnYlb4gr', 'repoType': 'AGENT_TEMPLATE', 'versions': ['PLqjKxkfLgLyDQHvZgXLNk'], 'workspace': 'PLqjKtHyXJ8hfZb869zqNg'}\n",
      "{'branches': ['PLqjKxHCptYhLbddkJsgkX'], 'createdBy': 'PLq7gzJhBclZPFLrjj8r85', 'dateCreated': '2024-03-15T16:21:01.221Z', 'dateModified': '2024-03-15T16:21:01.221Z', 'description': 'A repository for scenarios simulating SimpleSat, the simplest spacecraft digital twin model you can simulate in Sedaro Satellite.', 'id': 'PLqjKx3YXVr7g9NB5k5QV8', 'lastModifiedBy': 'PLq7gzJhBclZPFLrjj8r85', 'metamodelType': 'Scenario', 'name': '[DEV] SimpleSat Scenarios', 'project': 'PLqjKwrG377rJd62wSJCxv', 'repoType': 'SCENARIO', 'versions': ['PLqjKxHCptYhLbddkJsgkX'], 'workspace': 'PLqjKtHyXJ8hfZb869zqNg'}\n",
      "{'branches': ['PLqjKwtrmv3wx7vM935tWK'], 'createdBy': 'PLq7gzJhBclZPFLrjj8r85', 'dateCreated': '2024-03-15T16:21:00.987Z', 'dateModified': '2024-03-15T16:21:00.987Z', 'description': 'The simplest satellite model that can be simulated in Sedaro Satellite.', 'id': 'PLqjKwrJ2mz2nDNl25XMm9', 'lastModifiedBy': 'PLq7gzJhBclZPFLrjj8r85', 'metamodelType': 'Spacecraft', 'name': '[DEV] SimpleSat Vehicle', 'project': 'PLqjKwrG377rJd62wSJCxv', 'repoType': 'AGENT_TEMPLATE', 'versions': ['PLqjKwtrmv3wx7vM935tWK'], 'workspace': 'PLqjKtHyXJ8hfZb869zqNg'}\n",
      "{'branches': ['PLqjKwc9wZZDpszpvH2gyv'], 'createdBy': 'PLq7gzJhBclZPFLrjj8r85', 'dateCreated': '2024-03-15T16:21:00.374Z', 'dateModified': '2024-03-15T16:21:00.374Z', 'description': 'A repository to demonstrate constellation design in Sedaro.', 'id': 'PLqjKwMzn9XZJfc5VVsSwS', 'lastModifiedBy': 'PLq7gzJhBclZPFLrjj8r85', 'metamodelType': 'Scenario', 'name': '[DEMO] Planet SuperDove Scenarios', 'project': 'PLqjKw4bKSw9jjW6S3FQ47', 'repoType': 'SCENARIO', 'versions': ['PLqjKwc9wZZDpszpvH2gyv'], 'workspace': 'PLqjKtHyXJ8hfZb869zqNg'}\n",
      "{'branches': ['PLqjKwD5gDJ4kXYdMdFhGv'], 'createdBy': 'PLq7gzJhBclZPFLrjj8r85', 'dateCreated': '2024-03-15T16:20:59.986Z', 'dateModified': '2024-03-15T16:20:59.986Z', 'description': \"A demo vehicle template created using publically available information on Planet's SuperDove.\", 'id': 'PLqjKw4dN8j6L5ZHpnhNgh', 'lastModifiedBy': 'PLq7gzJhBclZPFLrjj8r85', 'metamodelType': 'Spacecraft', 'name': '[DEMO] Planet SuperDove Vehicle', 'project': 'PLqjKw4bKSw9jjW6S3FQ47', 'repoType': 'AGENT_TEMPLATE', 'versions': ['PLqjKwD5gDJ4kXYdMdFhGv'], 'workspace': 'PLqjKtHyXJ8hfZb869zqNg'}\n",
      "{'branches': ['PLqjKvmV9nMRdcxxw4hD3s'], 'createdBy': 'PLq7gzJhBclZPFLrjj8r85', 'dateCreated': '2024-03-15T16:20:59.310Z', 'dateModified': '2024-03-15T16:20:59.310Z', 'description': 'A repository for various Wildfire mission scenarios.  In this Scenario, the \"LaserComm\" vehicle template is used to deploy 4 LaserComm vehicles into an equatorial circular orbit, each phased 90-degrees from the next.  We have also instantiated the Wildfire spacecraft and several Peripheral Agents including: 3 active wildfires and \"Wildfire\\'s\" command and control ground station.', 'id': 'PLqjKvWrM9dmnmVzGfmxKq', 'lastModifiedBy': 'PLq7gzJhBclZPFLrjj8r85', 'metamodelType': 'Scenario', 'name': '[DEMO] Wildfire Scenarios', 'project': 'PLqjKtK7yjWVn4mDnRdzMp', 'repoType': 'SCENARIO', 'versions': ['PLqjKvmV9nMRdcxxw4hD3s'], 'workspace': 'PLqjKtHyXJ8hfZb869zqNg'}\n",
      "{'branches': ['PLqjKvFWNw3v2DYsg7bjR9'], 'createdBy': 'PLq7gzJhBclZPFLrjj8r85', 'dateCreated': '2024-03-15T16:20:58.641Z', 'dateModified': '2024-03-15T16:20:58.641Z', 'description': 'A single-vehicle element of a notional optical communications mesh network constellation called \"LaserComm\" that is deployed in an equatorial orbit. This demonstration can serve as a reference when modeling your missions in Sedaro.', 'id': 'PLqjKtzKKmfKtQdYlJ2mVf', 'lastModifiedBy': 'PLq7gzJhBclZPFLrjj8r85', 'metamodelType': 'Spacecraft', 'name': '[DEMO] LaserComm Vehicle', 'project': 'PLqjKtK7yjWVn4mDnRdzMp', 'repoType': 'AGENT_TEMPLATE', 'versions': ['PLqjKvFWNw3v2DYsg7bjR9'], 'workspace': 'PLqjKtHyXJ8hfZb869zqNg'}\n",
      "{'branches': ['PLqjKtghsQ3FqBz5n5X6Bw'], 'createdBy': 'PLq7gzJhBclZPFLrjj8r85', 'dateCreated': '2024-03-15T16:20:57.779Z', 'dateModified': '2024-03-15T16:20:57.779Z', 'description': 'A notional satellite mission called \"Wildfire\" to deliver low-latency thermal imagery of active wildfires via optical cross-link to \"LaserComm\" vehicles in an equatorial constellation. This demonstration can serve as a reference when modeling your missions in Sedaro.', 'id': 'PLqjKtK9sN5Wfnkw8Lx35n', 'lastModifiedBy': 'PLq7gzJhBclZPFLrjj8r85', 'metamodelType': 'Spacecraft', 'name': '[DEMO] Wildfire Vehicle', 'project': 'PLqjKtK7yjWVn4mDnRdzMp', 'repoType': 'AGENT_TEMPLATE', 'versions': ['PLqjKtghsQ3FqBz5n5X6Bw'], 'workspace': 'PLqjKtHyXJ8hfZb869zqNg'}\n"
     ]
    }
   ],
   "source": [
    "# Iterate repos\n",
    "q1_url = api_url + '/workspaces/PLqjKtHyXJ8hfZb869zqNg'\n",
    "q1 = requests.get(q1_url, headers=headers)\n",
    "reps = q1.json()['repositories']\n",
    "for r in reps:\n",
    "    print(r)\n",
    "# print(json.dumps(q1.json(), indent=2))"
   ]
  },
  {
   "cell_type": "markdown",
   "metadata": {},
   "source": [
    "# Repos"
   ]
  },
  {
   "cell_type": "code",
   "execution_count": null,
   "metadata": {},
   "outputs": [],
   "source": [
    "# Get a repo\n",
    "q2_url = api_url + '/models/repositories/'\n",
    "q2 = requests.get(q2_url, headers=headers)\n",
    "# print(json.dumps(q2.json(), indent=2))"
   ]
  },
  {
   "cell_type": "code",
   "execution_count": null,
   "metadata": {},
   "outputs": [],
   "source": [
    "# Create a Repo\n",
    "d = json.dumps({'name': 'Test10', 'description': 'Test3',\n",
    "               'metamodelType': 'Scenario', 'workspace': 'PLqjKtHyXJ8hfZb869zqNg'})\n",
    "url = api_url + '/models/repositories/'\n",
    "post_headers = {'X_API_KEY': LOCAL_API_KEY, 'Content-Type': 'application/json'}\n",
    "q = requests.post(url, headers=post_headers, data=d)\n",
    "# print(json.dumps(q.json(), indent=2))"
   ]
  },
  {
   "cell_type": "code",
   "execution_count": null,
   "metadata": {},
   "outputs": [],
   "source": [
    "# Get a Repo from workspace list\n",
    "# reps = q1.json()['repositories']\n",
    "# id = reps[0]['id']\n",
    "\n",
    "# for r in reps:\n",
    "q2_url = api_url + '/models/repositories/PLqjLpkCLJTGSf5WmCr63F'\n",
    "q2 = requests.get(q2_url, headers=headers)\n",
    "# print(json.dumps(q2.json(), indent=2))"
   ]
  },
  {
   "cell_type": "markdown",
   "metadata": {},
   "source": [
    "# Branches"
   ]
  },
  {
   "cell_type": "code",
   "execution_count": null,
   "metadata": {},
   "outputs": [],
   "source": [
    "# Get a branch\n",
    "q_url = api_url + '/models/branches/PLlNbbtRxqlLJCYYHGkdSx'\n",
    "q = requests.get(q_url, headers=headers)\n",
    "# print(json.dumps(q.json(), indent=2))"
   ]
  }
 ],
 "metadata": {
  "kernelspec": {
   "display_name": "venv",
   "language": "python",
   "name": "python3"
  },
  "language_info": {
   "codemirror_mode": {
    "name": "ipython",
    "version": 3
   },
   "file_extension": ".py",
   "mimetype": "text/x-python",
   "name": "python",
   "nbconvert_exporter": "python",
   "pygments_lexer": "ipython3",
   "version": "3.12.2"
  }
 },
 "nbformat": 4,
 "nbformat_minor": 2
}
