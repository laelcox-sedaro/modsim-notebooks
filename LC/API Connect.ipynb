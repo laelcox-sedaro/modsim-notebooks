{
 "cells": [
  {
   "cell_type": "code",
   "execution_count": 1,
   "metadata": {},
   "outputs": [],
   "source": [
    "import json\n",
    "import requests"
   ]
  },
  {
   "cell_type": "code",
   "execution_count": 2,
   "metadata": {},
   "outputs": [],
   "source": [
    "with open('../secrets.json', 'r') as file:\n",
    "    API_KEY = json.load(file)['API_KEY']\n",
    "headers = {'X_API_KEY': API_KEY}\n",
    "api_url = 'https://api.sedaro.com'"
   ]
  },
  {
   "cell_type": "code",
   "execution_count": null,
   "metadata": {},
   "outputs": [],
   "source": [
    "# Get a list of all workspaces\n",
    "q1_url = api_url + '/workspaces/'\n",
    "q1 = requests.get(q1_url, headers=headers)\n",
    "print(json.dumps(q1.json(), indent=2))"
   ]
  },
  {
   "cell_type": "code",
   "execution_count": null,
   "metadata": {},
   "outputs": [],
   "source": [
    "# Get a workspace\n",
    "q1_url = api_url + '/workspaces/NTz2giOUaiZQ9R6LVXbw-'\n",
    "q1 = requests.get(q1_url, headers=headers)\n",
    "print(json.dumps(q1.json(), indent=2))"
   ]
  },
  {
   "cell_type": "code",
   "execution_count": null,
   "metadata": {},
   "outputs": [],
   "source": [
    "# Get a Repo\n",
    "\n",
    "# Get a workspace\n",
    "q1_url = api_url + '/workspaces/NTz2giOUaiZQ9R6LVXbw-'\n",
    "q1 = requests.get(q1_url, headers=headers)\n",
    "# print(json.dumps(q1.json(), indent=2))\n",
    "reps = q1.json()['repositories']\n",
    "id = reps[0]['id']\n",
    "\n",
    "# for r in reps:\n",
    "q2_url = api_url + '/models/repositories/' + id\n",
    "q2 = requests.get(q2_url, headers=headers)\n",
    "print(json.dumps(q2.json(), indent=2))"
   ]
  },
  {
   "cell_type": "code",
   "execution_count": null,
   "metadata": {},
   "outputs": [],
   "source": [
    "# Get a branch\n",
    "q_url = api_url + '/models/branches/PLlNbbtRxqlLJCYYHGkdSx'\n",
    "q = requests.get(q_url, headers=headers)\n",
    "# print(json.dumps(q.json(), indent=2))"
   ]
  }
 ],
 "metadata": {
  "kernelspec": {
   "display_name": "venv",
   "language": "python",
   "name": "python3"
  },
  "language_info": {
   "codemirror_mode": {
    "name": "ipython",
    "version": 3
   },
   "file_extension": ".py",
   "mimetype": "text/x-python",
   "name": "python",
   "nbconvert_exporter": "python",
   "pygments_lexer": "ipython3",
   "version": "3.12.2"
  }
 },
 "nbformat": 4,
 "nbformat_minor": 2
}
