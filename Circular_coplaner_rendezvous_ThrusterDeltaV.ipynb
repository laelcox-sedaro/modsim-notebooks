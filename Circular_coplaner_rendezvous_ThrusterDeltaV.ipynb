{
 "cells": [
  {
   "cell_type": "markdown",
   "metadata": {},
   "source": [
    "# Sedaro Rendezous Tutorial Notebook \n",
    "Demonstrates using the Sedaro API  to calculate Hohmann Rendezous manevuers between two satelite using a Jupyter notebook.\n",
    "\n",
    "1. Manuever 1: Start a Hohmann transfer to raise the orbit of the chaser satelite to the same altitude as the target satelite.\n",
    "2. Manuever 2: Complete the Hohmann transfer to match the velocity of the target satelite.\n",
    "3. Manuever 3: Engage the Richard WARAT (Wicked Awesome Rendezous Approach Thrust) algorithm "
   ]
  },
  {
   "cell_type": "code",
   "execution_count": 1,
   "metadata": {},
   "outputs": [
    {
     "name": "stderr",
     "output_type": "stream",
     "text": [
      "/usr/local/lib/python3.10/site-packages/tqdm/auto.py:21: TqdmWarning: IProgress not found. Please update jupyter and ipywidgets. See https://ipywidgets.readthedocs.io/en/stable/user_install.html\n",
      "  from .autonotebook import tqdm as notebook_tqdm\n"
     ]
    }
   ],
   "source": [
    "import sedaro\n",
    "import math\n",
    "import yaml\n",
    "import json\n",
    "import matplotlib.pyplot as plt\n",
    "import hohmann_utils as hohmann"
   ]
  },
  {
   "cell_type": "markdown",
   "metadata": {},
   "source": [
    "## Important: Read Before Running\n",
    "\n",
    "This notebook makes changes to agent and scenario branches indicated in the settings section. Ensure any changes to the target branches are saved prior to running this code. Sedaro recommends committing current changes and creating new branches in the target repositories to avoid loss of work.\n",
    "\n",
    "This notebook also requires that you have previously generated an API key in the web UI. That key should be stored in a file called `secrets.json` in the same directory as this notebook with the following format:\n",
    "\n",
    "```json\n",
    "{\n",
    "    \"API_KEY\": \"<API_KEY>\"\n",
    "}\n",
    "```\n",
    "\n",
    "API keys grant full access to your repositories and should never be shared. If you think your API key has been compromised, you can revoke it in the user settings interface on the Sedaro website."
   ]
  },
  {
   "cell_type": "markdown",
   "metadata": {},
   "source": [
    "## Sedaro python client setup\n",
    "Note: More information about the sedaro-python client can be found here: [https://github.com/sedaro/sedaro-python]\n",
    "\n",
    "\n",
    "In the next cell, adjust the following variables as needed\n",
    "- *Sedaro_api_host*\n",
    "- *Sedaro_api_token*"
   ]
  },
  {
   "cell_type": "code",
   "execution_count": 2,
   "metadata": {},
   "outputs": [],
   "source": [
    "Sedaro_api_host  = \"https://api.astage.sedaro.com\" # \" \"http://localhost:80\" # \"api.sedaro.com\"\n",
    "\n",
    "# Set your API token value either directly or via loading a secrets file\n",
    "# !! NOTE !!  Be careful not to check in your API Key into a source control repo  !! Note !!\n",
    "secretPath = '/Users/sedaro/Documents/sedaro/sedaro-satellite/secrets.json'\n",
    "with open(secretPath, 'r') as file:\n",
    "    Sedaro_api_token = json.load(file)['Alpha_API_key']\n",
    "    \n",
    "sedaroAPI = sedaro.SedaroApiClient(api_key=Sedaro_api_token, host=Sedaro_api_host)"
   ]
  },
  {
   "cell_type": "markdown",
   "metadata": {},
   "source": [
    "Resources:\n",
    "- Fundamentals of Astrodynamics 1971 (Bate, Mueller, White) pg 163, 362\n",
    "- Fundamentals of Astrodynamics and Applications Fifth Edition 2022 (Vallado) pg 329, 367\n",
    " "
   ]
  },
  {
   "cell_type": "markdown",
   "metadata": {},
   "source": [
    "Orbits based on the Vanguard 1 TLE but made circular"
   ]
  },
  {
   "cell_type": "code",
   "execution_count": 3,
   "metadata": {},
   "outputs": [],
   "source": [
    "\n",
    "# orbits \n",
    "# TLE - 20Mar2024 from https://celestrak.org/NORAD/elements/gp.php?CATNR=5\n",
    "# VANGUARD 1              \n",
    "# 1 00005U 58002B   24078.99142898  .00000601  00000+0  79998-3 0  9992\n",
    "# 2 00005  34.2449 325.2683 1840098  41.3159 331.2952 10.85238290354123\n",
    "\n",
    "    \n"
   ]
  },
  {
   "cell_type": "code",
   "execution_count": 51,
   "metadata": {},
   "outputs": [],
   "source": [
    "# get the inputs we need to calculate the hohmann transfer\n",
    "# 1. the current position of the chaser satellite\n",
    "# 2. the current position of the target satellite\n",
    "\n",
    "\n",
    "workspace_id = \"PLtYYcbJgKLbL8bcWbPG62\"\n",
    "\n",
    "scenario_branch_id = \"PLynLwhkPrvr7TLGvvKX4m\" # <- notebook_updated    main branch: \"PLtYcxShg3qwn87bVn4nv7\"\n",
    "scenario_branch = sedaroAPI.scenario(scenario_branch_id)\n",
    "\n",
    "chaser_agent_branch_id = \"PLymrrqSPnDftvZv9VqJ9R\" # <-- notebook_updated branch   main branch: \"PLtYdbNnDYHRXhZRphdr6k\"\n",
    "chaser_agent_branch = sedaroAPI.agent_template(chaser_agent_branch_id)\n",
    "\n",
    "target_agent_branch_id = \"PLtYdJg3f28MDqp3Jn5GRw\"\n",
    "target_agent_branch = sedaroAPI.agent_template(target_agent_branch_id)\n"
   ]
  },
  {
   "cell_type": "markdown",
   "metadata": {},
   "source": [
    "# Define the agents and its orbit\n",
    "Use vanguard OE as a basis for the two coplaner circular orbits"
   ]
  },
  {
   "cell_type": "code",
   "execution_count": 52,
   "metadata": {},
   "outputs": [],
   "source": [
    "chaser_radius_km = 7000.0\n",
    "target_radius_km = 10000.0\n",
    "circuliar_eccentricity = 0.0\n",
    "inclination_deg = 34.2449 # vanguard\n",
    "raan_deg = 325.2683 # vanguard\n",
    "argument_of_latitude_deg = 331 # vanguard\n",
    "# helper constants\n",
    "km_per_ER = 6378.1363\n",
    "earth_u_ER = 1\n",
    "sec_per_TU = 806.811"
   ]
  },
  {
   "cell_type": "markdown",
   "metadata": {},
   "source": [
    "Delete Existing agent and orbits"
   ]
  },
  {
   "cell_type": "code",
   "execution_count": 53,
   "metadata": {},
   "outputs": [],
   "source": [
    "\n",
    "# skip for now while debugging\n",
    "# delete_existing:\n",
    "# agent_ids = [entry.id for entry in scenario_branch.Agent.get_all()]\n",
    "# orbit_ids = [entry.id for entry in scenario_branch.Orbit.get_all()]\n",
    "# if len(agent_ids) + len(orbit_ids) > 0:\n",
    "#     scenario_branch.crud(delete=(agent_ids + orbit_ids))\n"
   ]
  },
  {
   "cell_type": "markdown",
   "metadata": {},
   "source": [
    "create the agents and assign orbits"
   ]
  },
  {
   "cell_type": "code",
   "execution_count": 54,
   "metadata": {},
   "outputs": [],
   "source": [
    "chaser_orbit = dict(\n",
    "        type='PropagatedOrbitKinematics',\n",
    "        initialStateDefType='ORBITAL_ELEMENTS',\n",
    "        initialStateDefParams={\n",
    "            'a': chaser_radius_km,\n",
    "            'e': circuliar_eccentricity,\n",
    "            'inc': inclination_deg,\n",
    "            'raan': raan_deg,\n",
    "            'om': 0.0,\n",
    "            'nu': argument_of_latitude_deg\n",
    "        }\n",
    "    )\n",
    "\n",
    "\n",
    "target_orbit = dict(   \n",
    "        type='PropagatedOrbitKinematics',\n",
    "        initialStateDefType='ORBITAL_ELEMENTS',\n",
    "        initialStateDefParams={\n",
    "            'a': target_radius_km,\n",
    "            'e': circuliar_eccentricity,\n",
    "            'inc': inclination_deg,\n",
    "            'raan': raan_deg,\n",
    "            'om': 0.0,\n",
    "            'nu': argument_of_latitude_deg\n",
    "        }\n",
    "    )\n",
    " "
   ]
  },
  {
   "cell_type": "code",
   "execution_count": 55,
   "metadata": {},
   "outputs": [],
   "source": [
    "\n",
    "# skip for now while debugging\n",
    "# orbits = [chaser_orbit, target_orbit]\n",
    "# result = scenario_branch.crud(blocks=orbits)\n",
    "# orbit_ids = result['crud']['blocks']\n"
   ]
  },
  {
   "cell_type": "code",
   "execution_count": 56,
   "metadata": {},
   "outputs": [],
   "source": [
    "   \n",
    "chaser_agent = dict(\n",
    "        type='TemplatedAgent',\n",
    "        name=f'Chaser',\n",
    "        templateRef = chaser_agent_branch_id\n",
    "    )\n",
    "target_agent = dict(\n",
    "        type='TemplatedAgent',\n",
    "        name=f'Target',\n",
    "        templateRef = target_agent_branch_id\n",
    "    )\n"
   ]
  },
  {
   "cell_type": "code",
   "execution_count": 57,
   "metadata": {},
   "outputs": [],
   "source": [
    "\n",
    "# skip for now while debugging\n",
    "# agents = [chaser_agent, target_agent]\n",
    "# for orbit_id, agent in zip(orbit_ids, agents):\n",
    "#     agent['kinematics'] = orbit_id\n",
    "# result = scenario_branch.crud(blocks=agents)\n",
    "# agent_ids = result['crud']['blocks']\n"
   ]
  },
  {
   "cell_type": "code",
   "execution_count": 58,
   "metadata": {},
   "outputs": [],
   "source": [
    "\n",
    "# chaser_agent_id = agent_ids[0]\n",
    "# target_agent_id = agent_ids[1]\n",
    "# chaser_agent_id, target_agent_id"
   ]
  },
  {
   "cell_type": "markdown",
   "metadata": {},
   "source": [
    "Calc the two hohmann manuever times and delta V"
   ]
  },
  {
   "cell_type": "code",
   "execution_count": 59,
   "metadata": {},
   "outputs": [],
   "source": [
    "\n",
    "target_position = target_radius_km\n",
    "chaser_position = chaser_radius_km\n",
    "phase_angle_deg = 0.0 #-80.0 # setup the orbital elements to make this true at start of the simulation "
   ]
  },
  {
   "cell_type": "markdown",
   "metadata": {},
   "source": [
    "Convert to ER units"
   ]
  },
  {
   "cell_type": "code",
   "execution_count": 60,
   "metadata": {},
   "outputs": [
    {
     "data": {
      "text/plain": [
       "(1.0974992804716324, 1.567856114959475)"
      ]
     },
     "execution_count": 60,
     "metadata": {},
     "output_type": "execute_result"
    }
   ],
   "source": [
    "# convert the radii to canonical units\n",
    "a_chaser_ER = hohmann.calc_radaii_canonical_units(chaser_radius_km)\n",
    "a_target_ER = hohmann.calc_radaii_canonical_units(target_radius_km) \n",
    "a_chaser_ER, a_target_ER"
   ]
  },
  {
   "cell_type": "markdown",
   "metadata": {},
   "source": [
    "Calculate the wait time till the first transfer orbit burn "
   ]
  },
  {
   "cell_type": "code",
   "execution_count": 61,
   "metadata": {},
   "outputs": [
    {
     "data": {
      "text/plain": [
       "1521.6247436492436"
      ]
     },
     "execution_count": 61,
     "metadata": {},
     "output_type": "execute_result"
    }
   ],
   "source": [
    "wait_seconds_to_dv1 = hohmann.calc_hohmann_transfer_wait_time(a_chaser_ER, a_target_ER, phase_angle_deg, k=0)*sec_per_TU\n",
    "wait_seconds_to_dv1"
   ]
  },
  {
   "cell_type": "markdown",
   "metadata": {},
   "source": [
    "and how long until dv2"
   ]
  },
  {
   "cell_type": "code",
   "execution_count": 62,
   "metadata": {},
   "outputs": [
    {
     "data": {
      "text/plain": [
       "3899.504072553566"
      ]
     },
     "execution_count": 62,
     "metadata": {},
     "output_type": "execute_result"
    }
   ],
   "source": [
    "transfer_orbit_time_dv1_to_dv2_secs =hohmann.calc_hohmann_transfer_time(a_chaser_ER, a_target_ER)*sec_per_TU\n",
    "transfer_orbit_time_dv1_to_dv2_secs"
   ]
  },
  {
   "cell_type": "markdown",
   "metadata": {},
   "source": [
    "and the actual delta V burn amounts"
   ]
  },
  {
   "cell_type": "code",
   "execution_count": 63,
   "metadata": {},
   "outputs": [
    {
     "data": {
      "text/plain": [
       "(0.6387906775042261, 0.5840903571011151, 1.2228810346053414)"
      ]
     },
     "execution_count": 63,
     "metadata": {},
     "output_type": "execute_result"
    }
   ],
   "source": [
    "dv_start, dv_end = hohmann.calc_hohmann_transfer_dvs(a_chaser_ER, a_target_ER)\n",
    "total_delta_v_ERperTU = dv_start + dv_end \n",
    "dv_start *= km_per_ER/sec_per_TU\n",
    "dv_end *= km_per_ER/sec_per_TU\n",
    "total_delta = dv_start + dv_end\n",
    "\n",
    "# in km/s\n",
    "dv_start, dv_end, total_delta"
   ]
  },
  {
   "cell_type": "markdown",
   "metadata": {},
   "source": [
    "Convert the DV's into thruster burn N and Burn time required\n",
    "\n",
    "F = N = kg*m/sec**2\n",
    "\n",
    "Lets assume a 60 second burn for each"
   ]
  },
  {
   "cell_type": "code",
   "execution_count": 87,
   "metadata": {},
   "outputs": [],
   "source": [
    "# need to account for the mass of the fuel used to calculate the total delta v\n",
    "burn_fuel_rate_kg_per_sec = 0.08649999999999997\n",
    "dv_1_burn_length_secs = 56.7 # kg\n",
    "dv_2_burn_length_secs = 59.58 # kg\n",
    "fuel_used_dv1 = dv_1_burn_length_secs * burn_fuel_rate_kg_per_sec\n",
    "fuel_used_dv2 = dv_2_burn_length_secs * burn_fuel_rate_kg_per_sec\n",
    "starting_fuel_mass = 200 # kg\n",
    "dv_1_fuel_mass = starting_fuel_mass #- fuel_used_dv1   # kg\n",
    "dv_2_fuel_mass = dv_1_fuel_mass -  fuel_used_dv1 #fuel_used_dv2 # kg"
   ]
  },
  {
   "cell_type": "markdown",
   "metadata": {},
   "source": [
    "Convert dv_start and dv_end into  m/sec"
   ]
  },
  {
   "cell_type": "code",
   "execution_count": 88,
   "metadata": {},
   "outputs": [],
   "source": [
    "dv_1_m_per_sec = dv_start * 1000\n",
    "dv_2_m_per_sec = dv_end * 1000"
   ]
  },
  {
   "cell_type": "markdown",
   "metadata": {},
   "source": [
    "Calc DV1 and DV2 Burn Newtons\n",
    "\n",
    "F = N = kg*m/sec**2"
   ]
  },
  {
   "cell_type": "code",
   "execution_count": 89,
   "metadata": {},
   "outputs": [],
   "source": [
    "dv1_N = dv_1_fuel_mass * dv_1_m_per_sec / dv_1_burn_length_secs\n",
    "dv2_N = dv_2_fuel_mass * dv_2_m_per_sec / dv_2_burn_length_secs"
   ]
  },
  {
   "attachments": {
    "image.png": {
     "image/png": "[encoded data removed]"
    }
   },
   "cell_type": "markdown",
   "metadata": {},
   "source": [
    "Chaser agent thruster is already aligned with the negative Velocity vector (-**Anti-Ram**)\n",
    "\n",
    "The Relative Schedule for the Chaser agent is already setup\n",
    "\n",
    "![image.png](attachment:image.png)\n",
    "\n",
    "We will set the Delta V N values for DV1 and DV2 so lets find the blocks we need to adjust:"
   ]
  },
  {
   "cell_type": "code",
   "execution_count": 90,
   "metadata": {},
   "outputs": [
    {
     "data": {
      "text/plain": [
       "\n",
       "StaticThrustControlAlgorithm(\n",
       "   disabled=False\n",
       "   id='PLxh3dpWNTlNXQB2H69DsH'\n",
       "   name='Maneuver Thrust DV1'\n",
       "   rate=None\n",
       "   thrusters={'PLxh55BnBYqvRxlSzQ8RP9': {'thrust': 2253.229903013143}}\n",
       "   type='StaticThrustControlAlgorithm'\n",
       ")"
      ]
     },
     "execution_count": 90,
     "metadata": {},
     "output_type": "execute_result"
    }
   ],
   "source": [
    "dv1_block = [block for block in  chaser_agent_branch.StaticThrustControlAlgorithm.get_all() if block.name == 'Maneuver Thrust DV1'][0]\n",
    "thruster = next(iter(dv1_block.thrusters.keys()))\n",
    "dv1_block.update( thrusters= {thruster.id: {'thrust': dv1_N} })\n",
    "dv1_block"
   ]
  },
  {
   "cell_type": "code",
   "execution_count": 91,
   "metadata": {},
   "outputs": [
    {
     "data": {
      "text/plain": [
       "\n",
       "StaticThrustControlAlgorithm(\n",
       "   disabled=False\n",
       "   id='PLxhH3m4GGcj6ThkMMfnB6'\n",
       "   name='Maneuver Thrust DV2'\n",
       "   rate=None\n",
       "   thrusters={'PLxh55BnBYqvRxlSzQ8RP9': {'thrust': 1912.6111288906138}}\n",
       "   type='StaticThrustControlAlgorithm'\n",
       ")"
      ]
     },
     "execution_count": 91,
     "metadata": {},
     "output_type": "execute_result"
    }
   ],
   "source": [
    "\n",
    "dv2_block = [block for block in  chaser_agent_branch.StaticThrustControlAlgorithm.get_all() if block.name == 'Maneuver Thrust DV2'][0]\n",
    "thruster = next(iter(dv2_block.thrusters.keys()))\n",
    "dv2_block.update( thrusters= {thruster.id: {'thrust': dv2_N} })\n",
    "dv2_block\n"
   ]
  },
  {
   "cell_type": "code",
   "execution_count": 92,
   "metadata": {},
   "outputs": [],
   "source": [
    "\n",
    "# already updated\n",
    "#dv_block_ids = [dv1_block.id, dv2_block.id]\n",
    "#result = chaser_agent_branch.crud(blocks=dv_block_ids)"
   ]
  },
  {
   "cell_type": "markdown",
   "metadata": {},
   "source": [
    "Next we update the burn schedules for each phase"
   ]
  },
  {
   "cell_type": "code",
   "execution_count": 93,
   "metadata": {},
   "outputs": [],
   "source": [
    "wait_for_dv1_routine = [block for block in  chaser_agent_branch.Routine.get_all() if block.name == 'Wait_for_transfer'][0]\n",
    "dv1_routine = [block for block in  chaser_agent_branch.Routine.get_all() if block.name == 'DV1'][0]\n",
    "transfer_routine = [block for block in  chaser_agent_branch.Routine.get_all() if block.name == 'Transfer'][0]\n",
    "dv2_routine = [block for block in  chaser_agent_branch.Routine.get_all() if block.name == 'DV2'][0]\n",
    "rat_routine = [block for block in  chaser_agent_branch.Routine.get_all() if block.name == 'RAT'][0]\n"
   ]
  },
  {
   "cell_type": "code",
   "execution_count": 94,
   "metadata": {},
   "outputs": [],
   "source": [
    "routine_map = {\n",
    "    wait_for_dv1_routine.id: wait_for_dv1_routine.name,\n",
    "    dv1_routine.id: dv1_routine.name,\n",
    "    transfer_routine.id: transfer_routine.name,\n",
    "    dv2_routine.id: dv2_routine.name,\n",
    "    rat_routine.id: rat_routine.name\n",
    "}"
   ]
  },
  {
   "cell_type": "code",
   "execution_count": 95,
   "metadata": {},
   "outputs": [
    {
     "data": {
      "text/plain": [
       "{'PLxkBYb5cdCpR2Cjhx6Mpm': 'Wait_for_transfer',\n",
       " 'PLxC4Nqcg55vqBRhwSVpv9': 'DV1',\n",
       " 'PLxhrYrJJWTPFNBnmbBCCt': 'Transfer',\n",
       " 'PLxC4NqfgNBRJv7hGPSFxW': 'DV2',\n",
       " 'PLxC4NqhfyGTjLH59tLtrN': 'RAT'}"
      ]
     },
     "execution_count": 95,
     "metadata": {},
     "output_type": "execute_result"
    }
   ],
   "source": [
    "routine_map"
   ]
  },
  {
   "cell_type": "code",
   "execution_count": 96,
   "metadata": {},
   "outputs": [
    {
     "data": {
      "text/plain": [
       "\n",
       "RelativeSchedule(\n",
       "   activeSubroutine=None\n",
       "   defaultSubroutine='PLxkBYb5cdCpR2Cjhx6Mpm'\n",
       "   disabled=False\n",
       "   id='PLxBzFxMZ3FKVvCBtTH6C5'\n",
       "   isActive=False\n",
       "   name='Default Main Routine'\n",
       "   parentRoutines=[]\n",
       "   pathToActiveLeaf=[]\n",
       "   scheduleData={'PLxC4Nqcg55vqBRhwSVpv9': {'activeTimes': [[{'min': 24.415412394154057}, {'min': 25.36041239415406}]]}, 'PLxC4NqfgNBRJv7hGPSFxW': {'activeTimes': [[{'min': 89.35914693671349}, {'min': 90.3521469367135}]]}, 'PLxC4NqhfyGTjLH59tLtrN': {'activeTimes': [[{'min': 90.3521469367135}, {'min': 1440.0}]]}, 'PLxhrYrJJWTPFNBnmbBCCt': {'activeTimes': [[{'min': 25.36041239415406}, {'min': 89.35914693671349}]]}, 'PLxkBYb5cdCpR2Cjhx6Mpm': {'activeTimes': [[{'min': 0.0}, {'min': 24.415412394154057}]]}}\n",
       "   startElapsedTime={'s': -1.0}\n",
       "   subroutines=['PLxkBYb5cdCpR2Cjhx6Mpm', 'PLxC4NqfgNBRJv7hGPSFxW', 'PLxC4NqhfyGTjLH59tLtrN', 'PLxhrYrJJWTPFNBnmbBCCt', 'PLxC4Nqcg55vqBRhwSVpv9']\n",
       "   timeSinceActive={'day': 1000000.0}\n",
       "   timeSinceInactive={'day': 0.0}\n",
       "   type='RelativeSchedule'\n",
       ")"
      ]
     },
     "execution_count": 96,
     "metadata": {},
     "output_type": "execute_result"
    }
   ],
   "source": [
    "relative_schedule = [block for block in  chaser_agent_branch.RelativeSchedule.get_all() if block.name == 'Default Main Routine'][0]\n",
    "# update the existing schedule\n",
    "for routine, data in relative_schedule.scheduleData.items():\n",
    "    match  routine_map[routine.id]:\n",
    "        case 'Wait_for_transfer':\n",
    "            data['activeTimes'][0][0]['min'] = 0\n",
    "            data['activeTimes'][0][1]['min'] = (wait_seconds_to_dv1 - dv_1_burn_length_secs )/60.0 \n",
    "        case 'DV1':\n",
    "            data['activeTimes'][0][0]['min'] = (wait_seconds_to_dv1 - dv_1_burn_length_secs )/60.0 \n",
    "            data['activeTimes'][0][1]['min'] = (wait_seconds_to_dv1 )/60.0 \n",
    "        case 'Transfer':\n",
    "            data['activeTimes'][0][0]['min'] = (wait_seconds_to_dv1 )/60.0 \n",
    "            data['activeTimes'][0][1]['min'] = (wait_seconds_to_dv1 + transfer_orbit_time_dv1_to_dv2_secs - dv_2_burn_length_secs )/60.0\n",
    "        case 'DV2':\n",
    "            data['activeTimes'][0][0]['min'] = (wait_seconds_to_dv1 + transfer_orbit_time_dv1_to_dv2_secs - dv_2_burn_length_secs )/60.0\n",
    "            data['activeTimes'][0][1]['min'] = (wait_seconds_to_dv1 + transfer_orbit_time_dv1_to_dv2_secs )/60.0\n",
    "        case 'RAT':\n",
    "            data['activeTimes'][0][0]['min'] = (wait_seconds_to_dv1 + transfer_orbit_time_dv1_to_dv2_secs )/60.0\n",
    "            data['activeTimes'][0][1]['min'] = 1440.0 # minutes in a day\n",
    "        case _:\n",
    "            print(f'Unknown routine id {routine.id}')\n",
    "\n",
    "relative_schedule.update(scheduleData=relative_schedule.data['scheduleData'])"
   ]
  },
  {
   "cell_type": "markdown",
   "metadata": {},
   "source": [
    "Run the Sim"
   ]
  },
  {
   "cell_type": "code",
   "execution_count": 97,
   "metadata": {},
   "outputs": [
    {
     "name": "stdout",
     "output_type": "stream",
     "text": [
      "[■■■■■■■■■■■■■■■■■■■■■■■■■■■■■■■■■■■■■■■■■■■■■■■■□□] (96.71%)\r"
     ]
    },
    {
     "name": "stderr",
     "output_type": "stream",
     "text": [
      "Downloading...: 100%|██████████[00:02<00:00]"
     ]
    },
    {
     "name": "stdout",
     "output_type": "stream",
     "text": [
      "---------------------------------------------------------------------------\n",
      "                      Sedaro Simulation Result Summary                     \n",
      "---------------------------------------------------------------------------\n",
      "✅ Simulation succeeded after 44.5s\n",
      "\n",
      "🛰️ Templated Agents \n",
      "    • Chaser\n",
      "    • Target\n",
      "---------------------------------------------------------------------------\n",
      "❓ Query agent results with .agent(<NAME>)\n"
     ]
    },
    {
     "name": "stderr",
     "output_type": "stream",
     "text": [
      "\n"
     ]
    }
   ],
   "source": [
    "sim = scenario_branch.simulation\n",
    "# Start scenario\n",
    "sim.start()\n",
    "\n",
    "# Wait for it to finish, then get results\n",
    "results = sim.results_poll()\n",
    "\n",
    "# Summarize results\n",
    "results.summarize()"
   ]
  },
  {
   "cell_type": "markdown",
   "metadata": {},
   "source": [
    "Load results and analyse"
   ]
  },
  {
   "cell_type": "code",
   "execution_count": 99,
   "metadata": {},
   "outputs": [
    {
     "data": {
      "image/png": "[encoded data removed]",
      "text/plain": [
       "<Figure size 640x480 with 1 Axes>"
      ]
     },
     "metadata": {},
     "output_type": "display_data"
    },
    {
     "data": {
      "image/png": "[encoded data removed]",
      "text/plain": [
       "<Figure size 640x480 with 1 Axes>"
      ]
     },
     "metadata": {},
     "output_type": "display_data"
    }
   ],
   "source": [
    "results.agent('Chaser').block('YddJw9jfT-IveoP86XQjA').orbitalElements.e.plot()\n",
    "results.agent('Chaser').block('YddJw9jfT-IveoP86XQjA').orbitalElements.a.plot()"
   ]
  },
  {
   "cell_type": "markdown",
   "metadata": {},
   "source": [
    "Cleanup"
   ]
  },
  {
   "cell_type": "code",
   "execution_count": null,
   "metadata": {},
   "outputs": [],
   "source": [
    "# Delete created Agents and Orbits\n",
    "scenario_branch.crud(delete=agent_ids + orbit_ids)"
   ]
  },
  {
   "cell_type": "code",
   "execution_count": 44,
   "metadata": {},
   "outputs": [],
   "source": [
    "# delete the Maneuvers\n",
    "burn_ids = [entry.id for entry in chaser_agent_branch.ImpulsiveDeltaVAlgorithm.get_all()]\n",
    "if len(burn_ids) > 0:\n",
    "    chaser_agent_branch.crud(delete=(burn_ids))"
   ]
  },
  {
   "cell_type": "code",
   "execution_count": null,
   "metadata": {},
   "outputs": [],
   "source": []
  }
 ],
 "metadata": {
  "kernelspec": {
   "display_name": "Python 3",
   "language": "python",
   "name": "python3"
  },
  "language_info": {
   "codemirror_mode": {
    "name": "ipython",
    "version": 3
   },
   "file_extension": ".py",
   "mimetype": "text/x-python",
   "name": "python",
   "nbconvert_exporter": "python",
   "pygments_lexer": "ipython3",
   "version": "3.10.13"
  }
 },
 "nbformat": 4,
 "nbformat_minor": 2
}
