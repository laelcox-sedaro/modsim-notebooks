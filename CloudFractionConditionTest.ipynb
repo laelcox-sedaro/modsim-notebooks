{
 "cells": [
  {
   "cell_type": "code",
   "execution_count": 1,
   "id": "b362e3af-329c-4cdd-89e1-867ca4f04834",
   "metadata": {},
   "outputs": [
    {
     "name": "stderr",
     "output_type": "stream",
     "text": [
      "/usr/local/lib/python3.11/site-packages/numba/core/decorators.py:262: NumbaDeprecationWarning: numba.generated_jit is deprecated. Please see the documentation at: https://numba.readthedocs.io/en/stable/reference/deprecation.html#deprecation-of-generated-jit for more information and advice on a suitable replacement.\n",
      "  warnings.warn(msg, NumbaDeprecationWarning)\n",
      "/usr/local/lib/python3.11/site-packages/visions/backends/shared/nan_handling.py:50: NumbaDeprecationWarning: The 'nopython' keyword argument was not supplied to the 'numba.jit' decorator. The implicit default value for this argument is currently False, but it will be changed to True in Numba 0.59.0. See https://numba.readthedocs.io/en/stable/reference/deprecation.html#deprecation-of-object-mode-fall-back-behaviour-when-using-jit for details.\n",
      "  @nb.jit\n"
     ]
    }
   ],
   "source": [
    "import sedaro\n",
    "import yaml\n",
    "import json\n",
    "import matplotlib.pyplot as plt\n",
    "import pandas as pd\n",
    "\n",
    "# optional\n",
    "import sweetviz as sv"
   ]
  },
  {
   "cell_type": "markdown",
   "id": "f33a62f8-bde3-4a1a-9e49-c04d2364b35f",
   "metadata": {},
   "source": [
    "# Important: Read Before Running\n",
    "\n",
    "This notebook makes changes to agent and scenario branches indicated in the settings section. Ensure any changes to the target branches are saved prior to running this code. Sedaro recommends committing current changes and creating new branches in the target repositories to avoid loss of work.\n",
    "\n",
    "This notebook also requires that you have previously generated an API key in the web UI. That key should be stored in a file called `secrets.json` in the same directory as this notebook with the following format:\n",
    "\n",
    "```json\n",
    "{\n",
    "    \"API_KEY\": \"<API_KEY>\"\n",
    "}\n",
    "```\n",
    "\n",
    "API keys grant full access to your repositories and should never be shared. If you think your API key has been compromised, you can revoke it in the user settings interface on the Sedaro website."
   ]
  },
  {
   "cell_type": "code",
   "execution_count": 4,
   "id": "921b351b-aecb-403b-9902-af35b7c2a853",
   "metadata": {},
   "outputs": [],
   "source": [
    "Sedaro_api_host  = \"http://localhost:80\" # \"api.sedaro.com\"\n",
    "secretPath = '/Users/sedaro/Documents/sedaro/sedaro-satellite/secrets.json'\n",
    "with open(secretPath, 'r') as file:\n",
    "    Sedaro_api_token = json.load(file)['API_KEY']\n",
    "\n",
    "sedaroAPI = sedaro.SedaroApiClient(api_key=Sedaro_api_token, host=Sedaro_api_host)"
   ]
  },
  {
   "cell_type": "code",
   "execution_count": 163,
   "id": "83a3f2e1-a6a7-457f-89d3-b72ec46c5796",
   "metadata": {},
   "outputs": [],
   "source": [
    "scenario_branch_id = \"PKNxCWQL8N3cR5CG7YS6X3\"\n",
    "wildfire_scenario_branch = sedaroAPI.scenario(scenario_branch_id)"
   ]
  },
  {
   "cell_type": "code",
   "execution_count": 164,
   "id": "d15938b2-320f-465b-99b1-553cff0656a5",
   "metadata": {},
   "outputs": [],
   "source": [
    "wildfire_agent_branch_id = 'PKNxCTjFd3mBD3QlYM5W5F'\n",
    "wildfire_vehicle_agent_branch = sedaroAPI.agent_template(wildfire_agent_branch_id)"
   ]
  },
  {
   "cell_type": "code",
   "execution_count": 23,
   "id": "4adb8f6c-f84d-4b26-bf21-91dccb7b5641",
   "metadata": {},
   "outputs": [],
   "source": [
    "tg =  wildfire_vehicle_agent_branch.TargetGroup.get_first()\n",
    "tg_id = tg.id # <<< or target group id"
   ]
  },
  {
   "cell_type": "code",
   "execution_count": null,
   "id": "4f5bae51-f90d-41fb-8a2a-e705bba20587",
   "metadata": {},
   "outputs": [],
   "source": [
    "# make target group for the CFG block"
   ]
  },
  {
   "cell_type": "code",
   "execution_count": 67,
   "id": "a5ed40aa-e8d0-4323-b2b8-e5e64add2ff3",
   "metadata": {},
   "outputs": [],
   "source": [
    "cf_target_group_id = 'PKSmYkqHX3bQJ47rYSqWfF'"
   ]
  },
  {
   "cell_type": "code",
   "execution_count": 48,
   "id": "249e8620-680f-4f1e-ad0a-86d3615e3a00",
   "metadata": {},
   "outputs": [
    {
     "data": {
      "text/plain": [
       "BlockType(CloudFractionGroupToScalarCondition, branch=PKNxCTjFd3mBD3QlYM5W5F)"
      ]
     },
     "execution_count": 48,
     "metadata": {},
     "output_type": "execute_result"
    }
   ],
   "source": [
    "wildfire_vehicle_agent_branch.CloudFractionGroupToScalarCondition"
   ]
  },
  {
   "cell_type": "code",
   "execution_count": 68,
   "id": "96a84c39-a920-4453-a7bd-f27ce53ff131",
   "metadata": {},
   "outputs": [],
   "source": [
    "myCfCondition = wildfire_vehicle_agent_branch.CloudFractionGroupToScalarCondition.create(\n",
    "  name='CF_group_condition_test',\n",
    "  targetGroup=cf_target_group_id, \n",
    "  tgParam='PREDICTED_CLOUD_FRACTION',\n",
    "  relationship='GREATER',\n",
    "  scalar=0.3)"
   ]
  },
  {
   "cell_type": "code",
   "execution_count": 69,
   "id": "ef6373d8-7195-43a5-b1aa-828b1c8f9e24",
   "metadata": {},
   "outputs": [
    {
     "data": {
      "text/plain": [
       "\n",
       "CloudFractionGroupToScalarCondition(\n",
       "   cloudFractionGroup=None\n",
       "   cloudFractionTargetCompliance=None\n",
       "   compliance=None\n",
       "   countRelationship=None\n",
       "   countValue=None\n",
       "   groupRoller='ANY'\n",
       "   id='PKSmcyc3Q45fMchYjwJM7L'\n",
       "   isFilter=None\n",
       "   name='CF_group_condition_test'\n",
       "   relationship='GREATER'\n",
       "   scalar=0.3\n",
       "   targetCompliance=None\n",
       "   targetGroup='PKSmYkqHX3bQJ47rYSqWfF'\n",
       "   terminator=False\n",
       "   tgParam='PREDICTED_CLOUD_FRACTION'\n",
       "   type='CloudFractionGroupToScalarCondition'\n",
       ")"
      ]
     },
     "execution_count": 69,
     "metadata": {},
     "output_type": "execute_result"
    }
   ],
   "source": [
    "myCfCondition"
   ]
  },
  {
   "cell_type": "code",
   "execution_count": 70,
   "id": "b9f502e7-eab7-49bc-8855-0f1086b0aa74",
   "metadata": {},
   "outputs": [],
   "source": [
    "myCfBlockedCondition = wildfire_vehicle_agent_branch.CloudFractionGroupToScalarCondition.create(\n",
    "  name='CF_group_IS_CLOUD_BLOCKED_condition_test',\n",
    "  targetGroup=cf_target_group_id, \n",
    "  tgParam='IS_CLOUD_BLOCKED',\n",
    "  relationship='EQUAL',\n",
    "  scalar=False)"
   ]
  },
  {
   "cell_type": "code",
   "execution_count": 88,
   "id": "df77cf24-81c1-42f2-ad91-c20c10cddf35",
   "metadata": {},
   "outputs": [
    {
     "data": {
      "text/plain": [
       "\n",
       "CloudFractionGroupToScalarCondition(\n",
       "   cloudFractionGroup=None\n",
       "   cloudFractionTargetCompliance=None\n",
       "   compliance=None\n",
       "   countRelationship=None\n",
       "   countValue=None\n",
       "   groupRoller='ANY'\n",
       "   id='PKSmd7bTCy92RlCNSsC63s'\n",
       "   isFilter=None\n",
       "   name='CF_group_IS_CLOUD_BLOCKED_condition_test'\n",
       "   relationship='EQUAL'\n",
       "   scalar=False\n",
       "   targetCompliance=None\n",
       "   targetGroup='PKSmYkqHX3bQJ47rYSqWfF'\n",
       "   terminator=False\n",
       "   tgParam='IS_CLOUD_BLOCKED'\n",
       "   type='CloudFractionGroupToScalarCondition'\n",
       ")"
      ]
     },
     "execution_count": 88,
     "metadata": {},
     "output_type": "execute_result"
    }
   ],
   "source": [
    "myCfBlockedCondition"
   ]
  },
  {
   "cell_type": "code",
   "execution_count": 72,
   "id": "ed9fd43d-185c-44fb-b9e7-68b2f81eeeb1",
   "metadata": {},
   "outputs": [],
   "source": [
    "cfg_EIGHTDAY_1x1deg_CLOUD = wildfire_vehicle_agent_branch.CloudFractionGroup.create(\n",
    "    name='Cloud_fraction_EIGHTDAY_1x1deg',\n",
    "    normalvariateSigma=0.10,\n",
    "    cloudLayerAltitude={'km':9.0},\n",
    "    defaultCloudfractionValue=0.50,\n",
    "    geoAreaDatetimeTargetGroup=cf_target_group_id)\n",
    "    "
   ]
  },
  {
   "cell_type": "code",
   "execution_count": 136,
   "id": "f7a49f4e-2280-4055-86b3-c43e5e11babc",
   "metadata": {},
   "outputs": [
    {
     "data": {
      "text/plain": [
       "\n",
       "CloudFractionGroup(\n",
       "   cloudFractionGroupResults={}\n",
       "   cloudLayerAltitude={'km': 9.0}\n",
       "   dataset=4\n",
       "   defaultCloudfractionValue=0.5\n",
       "   filterConditions=[]\n",
       "   geoAreaDatetimeTargetGroup='PKSmYkqHX3bQJ47rYSqWfF'\n",
       "   id='PKSmpmwbT3v8FtLwHWTS6d'\n",
       "   name='Cloud_fraction_EIGHTDAY_1x1deg'\n",
       "   normalvariateSigma=0.1\n",
       "   type='CloudFractionGroup'\n",
       ")"
      ]
     },
     "execution_count": 136,
     "metadata": {},
     "output_type": "execute_result"
    }
   ],
   "source": [
    "cfg_EIGHTDAY_1x1deg_CLOUD"
   ]
  },
  {
   "cell_type": "code",
   "execution_count": 149,
   "id": "aa986f71-b045-4081-b46c-b73fe6e3c7ee",
   "metadata": {},
   "outputs": [
    {
     "data": {
      "text/plain": [
       "[\n",
       " CloudFractionGroup(\n",
       "    cloudFractionGroupResults={}\n",
       "    cloudLayerAltitude={'km': 9.0}\n",
       "    dataset=4\n",
       "    defaultCloudfractionValue=0.5\n",
       "    filterConditions=[]\n",
       "    geoAreaDatetimeTargetGroup='PKSmYkqHX3bQJ47rYSqWfF'\n",
       "    id='PKSmpmwbT3v8FtLwHWTS6d'\n",
       "    name='Cloud_fraction_EIGHTDAY_1x1deg'\n",
       "    normalvariateSigma=0.1\n",
       "    type='CloudFractionGroup'\n",
       " )]"
      ]
     },
     "execution_count": 149,
     "metadata": {},
     "output_type": "execute_result"
    }
   ],
   "source": [
    "wildfire_vehicle_agent_branch.CloudFractionGroup.get_all()"
   ]
  },
  {
   "cell_type": "code",
   "execution_count": 89,
   "id": "a4539979-975c-4f90-9faf-893eeff3736f",
   "metadata": {},
   "outputs": [
    {
     "data": {
      "text/plain": [
       "\n",
       "CloudFractionGroupToScalarCondition(\n",
       "   cloudFractionGroup='PKSmpmwbT3v8FtLwHWTS6d'\n",
       "   cloudFractionTargetCompliance=None\n",
       "   compliance=None\n",
       "   countRelationship=None\n",
       "   countValue=None\n",
       "   groupRoller='ANY'\n",
       "   id='PKSmd7bTCy92RlCNSsC63s'\n",
       "   isFilter=None\n",
       "   name='CF_group_IS_CLOUD_BLOCKED_condition_test'\n",
       "   relationship='EQUAL'\n",
       "   scalar=False\n",
       "   targetCompliance=None\n",
       "   targetGroup='PKSmYkqHX3bQJ47rYSqWfF'\n",
       "   terminator=False\n",
       "   tgParam='IS_CLOUD_BLOCKED'\n",
       "   type='CloudFractionGroupToScalarCondition'\n",
       ")"
      ]
     },
     "execution_count": 89,
     "metadata": {},
     "output_type": "execute_result"
    }
   ],
   "source": [
    "myCfBlockedCondition.update(cloudFractionGroup = cfg_EIGHTDAY_1x1deg_CLOUD.id)"
   ]
  },
  {
   "cell_type": "code",
   "execution_count": 90,
   "id": "f06266a3-0944-4aef-bdad-bc6f180de1ed",
   "metadata": {},
   "outputs": [
    {
     "data": {
      "text/plain": [
       "\n",
       "CloudFractionGroupToScalarCondition(\n",
       "   cloudFractionGroup='PKSmpmwbT3v8FtLwHWTS6d'\n",
       "   cloudFractionTargetCompliance=None\n",
       "   compliance=None\n",
       "   countRelationship=None\n",
       "   countValue=None\n",
       "   groupRoller='ANY'\n",
       "   id='PKSmcyc3Q45fMchYjwJM7L'\n",
       "   isFilter=None\n",
       "   name='CF_group_condition_test'\n",
       "   relationship='GREATER'\n",
       "   scalar=0.3\n",
       "   targetCompliance=None\n",
       "   targetGroup='PKSmYkqHX3bQJ47rYSqWfF'\n",
       "   terminator=False\n",
       "   tgParam='PREDICTED_CLOUD_FRACTION'\n",
       "   type='CloudFractionGroupToScalarCondition'\n",
       ")"
      ]
     },
     "execution_count": 90,
     "metadata": {},
     "output_type": "execute_result"
    }
   ],
   "source": [
    "myCfCondition.update(cloudFractionGroup = cfg_EIGHTDAY_1x1deg_CLOUD.id)"
   ]
  },
  {
   "cell_type": "code",
   "execution_count": 150,
   "id": "f9db42ef-7d46-45aa-9d95-cb63345a6e8b",
   "metadata": {},
   "outputs": [],
   "source": [
    "wildfire_agent = wildfire_scenario_branch.Agent.get(\"NT06aqHUT5djI1_JPAsck\")"
   ]
  },
  {
   "cell_type": "code",
   "execution_count": 151,
   "id": "392eb9e0-6d39-4855-ad5e-12f7532d5c89",
   "metadata": {},
   "outputs": [
    {
     "data": {
      "text/plain": [
       "\n",
       "Agent(\n",
       "   differentiatingState={}\n",
       "   externalState=[]\n",
       "   id='NT06aqHUT5djI1_JPAsck'\n",
       "   name='Wildfire'\n",
       "   orbit='NT06alVRg9PCnSV4yQ9aV'\n",
       "   path=None\n",
       "   peripheral=False\n",
       "   targetGroupMapping={'NT08XthUqifGQ8cUDtZk-': {'associatedTargetGroups': ['NT-gzNsR9XIipaCAF2hvF']}, 'NT08_XVROe2Va_eBgCK2k': {'associatedTargetGroups': ['NT-gucwTh1uB2n5LFj92F']}, 'NTKAJurTrHOKg99QP6Hpk': {'associatedTargetGroups': ['PKSmYkqHX3bQJ47rYSqWfF', 'NTKAO1cREDpGEm8yUjFlF']}}\n",
       "   targetMapping={'NT074oHRqqXQPLoTOHQl-': {'associatedTargets': ['NTKBtVLSQa0nR-czw3uL-']}, 'NT0LLnQRA9be3moDIgAq-': {'associatedTargets': ['NYU1Sl9SJXxW4kwQ7h24-']}, 'NT0LWIfSJ1RIenKpUmJEV': {'associatedTargets': ['NYcdwKoUmX6JMt84OwhdV']}, 'NT0LhZuRIm7Cfvs0RFvW-': {'associatedTargets': ['NYcdzEdUYXpvrrVgfIcRV']}, 'NT0Ln1gS8elWEK4Y-l7m-': {'associatedTargets': ['NYce19JSr1-UwArEhWKLF']}}\n",
       "   templateRef='PKNxCTjFd3mBD3QlYM5W5F'\n",
       "   type='Agent'\n",
       ")"
      ]
     },
     "execution_count": 151,
     "metadata": {},
     "output_type": "execute_result"
    }
   ],
   "source": [
    "wildfire_agent #PKSmpmwbT3v8FtLwHWTS6d   PKSmYkqHX3bQJ47rYSqWfF"
   ]
  },
  {
   "cell_type": "code",
   "execution_count": 173,
   "id": "fd09f5e8-5812-4017-8b1d-73a4d7ff74de",
   "metadata": {},
   "outputs": [],
   "source": [
    "sim = wildfire_scenario_branch.simulation"
   ]
  },
  {
   "cell_type": "code",
   "execution_count": 174,
   "id": "8ba24eeb-aa23-4c73-9cd9-4aba52a6d783",
   "metadata": {},
   "outputs": [],
   "source": [
    "simulation_handle = sim.start()"
   ]
  },
  {
   "cell_type": "code",
   "execution_count": 175,
   "id": "477c0dce-bab9-484b-bf22-268dbd4a5242",
   "metadata": {},
   "outputs": [
    {
     "name": "stdout",
     "output_type": "stream",
     "text": [
      "[■■■■■■■■■■■■■■■■■■■■■■■■■■■■■■■■■■■■■■■■■■■■■■■■■□] (99.98%)\r"
     ]
    },
    {
     "data": {
      "text/plain": [
       "SedaroSimulationResult(branch=PKNxCWQL8N3cR5CG7YS6X3, status=SUCCEEDED)"
      ]
     },
     "execution_count": 175,
     "metadata": {},
     "output_type": "execute_result"
    }
   ],
   "source": [
    "simulation_handle.results_poll()"
   ]
  },
  {
   "cell_type": "code",
   "execution_count": null,
   "id": "27fbb112-7057-47a9-bc5a-e087000ba74a",
   "metadata": {},
   "outputs": [],
   "source": [
    "The field \"isFilter\" on CloudFractionGroupToScalarCondition(name=\"CF_group_condition_test\" id=PKSmcyc3Q45fMchYjwJM7L) must point to \"CloudFractionGroup\" not \"TargetGroup\"."
   ]
  },
  {
   "cell_type": "code",
   "execution_count": 176,
   "id": "51c484ca-8ed4-45dc-9ba9-7f1abd58064c",
   "metadata": {},
   "outputs": [],
   "source": [
    "cf_results = simulation_handle.results()"
   ]
  },
  {
   "cell_type": "code",
   "execution_count": 177,
   "id": "771a2958-0d5f-4060-92cd-c805b9c7a4ed",
   "metadata": {},
   "outputs": [
    {
     "name": "stdout",
     "output_type": "stream",
     "text": [
      "---------------------------------------------------------------------------\n",
      "                            Agent Result Summary                           \n",
      "                                 'Wildfire'                                \n",
      "---------------------------------------------------------------------------\n",
      "🧩 Simulated Modules\n",
      "    • Guidance, Navigation, & Control\n",
      "    • Command & Data Handling\n",
      "    • Power\n",
      "    • Thermal\n",
      "\n",
      "📦 Available Blocks\n",
      "    ----------------------------------------------------------\n",
      "    |                  id                         name       |\n",
      "    ----------------------------------------------------------\n",
      "    | root                       |                           |\n",
      "    | YddJw9jfT-IveoP86XQjA      | <Unnamed Block>           |\n",
      "    | PKSmpmwbT3v8FtLwHWTS6d     | Cloud_fraction_EIGHTDAY_1 |\n",
      "    | PKSmYkqHX3bQJ47rYSqWfF     | CloudFractionTargets      |\n",
      "    | NdIPXBHRGPHHj0nN2QnQV      | Communication Chassis <>  |\n",
      "    | NdIPSoVRyPSGOI4p_2Wx-      | Communication Chassis <>  |\n",
      "    | NdHVPaPSqXaJPzWN4hB1-      | Crosslink Interface (T)   |\n",
      "    | NYrjYgLRByQd5po55x0eV      | Crosslink Interface (RS)  |\n",
      "    | NYcZjDwRfLNLX_FGOHwTk      | Crosslink Modem Storage   |\n",
      "    | NYU27SZSBLZ7xv7egmtQF      | Payload Comp. to CL Modem |\n",
      "    | NYTzloWUkeD14ix-4NXRF      | Crosslink FoV             |\n",
      "    | NYTzYcPUpioCrxy0rXgE-      | Crosslink Antenna         |\n",
      "    | NYTzPowStDhWKzEndl0PV      | Crosslink Modem           |\n",
      "    | NUxE63uRxTQfLj5uMYzOV      | Battery Heater B <> Batte |\n",
      "    | NUxE4EMTX9dq0yDb8uuC-      | Battery Heater A <> Batte |\n",
      "    | NUxDraPR6uDXMED-1DALk      | Battery Heater B          |\n",
      "    | NUxDh3fTx5oFQG5D2tAUF      | Battery Heater A          |\n",
      "    | NUx6DmpUK1Is1i9Hc62ak      | Solar Panel +Y Sun Track  |\n",
      "    | NUx62INUeHcZuHtJui53V      | Solar Panel -Y Sun Track  |\n",
      "    | NUx5WNORvmVTAJWAEsNEF      | Solar Panel -Y Sun Track  |\n",
      "    | NUx5Gr6Ura9PFiuTQ3wE-      | Solar Panel +Y Sun Track  |\n",
      "    | NTKMl58UbixLnzGjnyK5-      | Communication Chassis <>  |\n",
      "    | NTKM-JTRQPakywgulRE_V      | Communication Chassis     |\n",
      "    | NTKAFyiU_9oo2dw6nTZzk      | Ground Station: Hawaii    |\n",
      "    | NTJv0ORRpTJJedhXjObZk      | Comp. to Crosslink Modem  |\n",
      "    | NTJusaJThmMDdathYRTK-      | Operating                 |\n",
      "    | NTJuDGsR19pteyaX1eOLk      | TT&C Storage              |\n",
      "    | NTJcE_USMDog2Sq4hfh2F      | Cam to Payload Comp. Inte |\n",
      "    | NTJa_MxTmXQH2Z2XFRM0-      | Remote Sensing            |\n",
      "    | NTJXvVUSRXOGc7OVgOqd-      | Sensing Storage           |\n",
      "    | NTFkaaQRTyFMSWSPkYpyV      | Burning                   |\n",
      "    | NTFkRCzUPXwWMG6ZZUSi-      | Orbit Raising             |\n",
      "    | NTFkJPBTCqkmS2znJOrtk      | Burn Condition            |\n",
      "    | NTFkBjfTxqmQoXnVaSNXk      | Burn 2 Condition          |\n",
      "    | NTFk83oSzuyVM6IBKyqvV      | Burn 2 Upper Limit        |\n",
      "    | NTFk3eAS1P0MF52V6230k      | Burn 2 Lower Limit        |\n",
      "    | NTFjwKsTt5il4Gnbw7gSV      | Burn 1 Condition          |\n",
      "    | NTFjonYR5irImhO7yD4zV      | Orbit Raising Window      |\n",
      "    | NTFjfNKTyqsFEfgo9sTMk      | Burn 1 Upper Limit        |\n",
      "    | NTFjW26R5mWVv_J52ZRkV      | Burn 1 Lower Limit        |\n",
      "    | NT5IfQ6TjmwtJnYgxS3lV      | Payload Cooler <> Payload |\n",
      "    | NT5I_IfS3yzNZTYBtQ_Q-      | -X Surface <> Payload Coo |\n",
      "    | NT5ICmOSFyDsdj-T7HkIV      | Payload Cooler            |\n",
      "    | NT5EqmbTduUFkiswE8pi-      | Power Chassis <> Spacecra |\n",
      "    | NT5Enx1UYD2thGG0OjmOV      | Power Processor <> Power  |\n",
      "    | NT5EljBTyqgP4sZkhfFFV      | Battery Pack B <> Power C |\n",
      "    | NT5EjhlSiiIDE4eDIS4Mk      | Battery Pack A <> Power C |\n",
      "    | NT5Ef74R7m4pwrT6lMIjV      | Power Chassis             |\n",
      "    | NT5DAEqThyE112o7fKC6-      | Payload Camera <> Payload |\n",
      "    | NT5CboBU79lnFobnwrUBV      | Payload Camera            |\n",
      "    | NT5CR4RRhTEibesfxRT_F      | -Z Surface <> Spacecraft  |\n",
      "    | NT5CPbAR8DqgAOVcQ9DX-      | +Z Surface <> Spacecraft  |\n",
      "    | NT5COczTM907vwlqqrBw-      | -Y Surface <> Spacecraft  |\n",
      "    | NT5CNKES0TkejO8Em_Z0V      | +Y Surface <> Spacecraft  |\n",
      "    | NT5CF2vSdq4qrB0pcZR9k      | +X Surface <> Spacecraft  |\n",
      "    | NT5CBsURJ5d3WcU_Ob_oF      | -Y Fixed Solar Panel <> S |\n",
      "    | NT5C9XYS6T7ye0aEphI_V      | +Y Fixed Solar Panel <> S |\n",
      "    | NT5C0qRUXXrDAU8ukQxVk      | -Y Sun Track Solar Panel  |\n",
      "    | NT5BuxgRNekwk1dHXPeSF      | Solar Panel -Y Fixed Surf |\n",
      "    | NT5BsSIT-PNy56vDGZTLV      | Solar Panel +Y Fixed Surf |\n",
      "    | NT5BJq8UFacRnUfxRXFD-      | +Y Sun Track Solar Panel  |\n",
      "    | NT5BBDmTtyXJtX84SDgQ-      | Solar Panel -Y Sun Track  |\n",
      "    | NT5B6P2RW9uvJf5vjjzAV      | Solar Panel +Y Sun Track  |\n",
      "    | NT5AwWlU7aTWmJcOGmMKk      | Magnetometer <> Control C |\n",
      "    | NT59IhWSnTHs5Q05VdPhk      | Thruster <> Spacecraft Ch |\n",
      "    | NT59GJcRDelTbIim6O-Lk      | Fuel Tank <> Spacecraft C |\n",
      "    | NT56zQ6UnuZ3RmvyCdKG-      | Payload Chassis <> Spacec |\n",
      "    | NT56np7TfLxqOkCfBOLvk      | -Z Surface                |\n",
      "    | NT56iGTRNXw0tLwGP-_xF      | +Z Surface                |\n",
      "    | NT56aNKRhPXGJR6XSPelF      | -Y Surface                |\n",
      "    | NT56WdATN5YJwZv7H5D7V      | +Y Surface                |\n",
      "    | NT56QQRSyigs8ZgkaHKrF      | -X Surface                |\n",
      "    | NT55wIxTs50y5iPfp7fPk      | +X Surface                |\n",
      "    | NT557OdSDLrXvYKk0sQUF      | Star Tracker <> Control C |\n",
      "    | NT54Uc8RSeSKu2C376j8-      | Gyro <> Control Chassis   |\n",
      "    | NT54LF0SEaDZ2HKpxp5a-      | GPS <> Control Chassis    |\n",
      "    | NT53jIgStywJY25FuncjF      | MT-Z <> Control Chassis   |\n",
      "    | NT53hLGTdy6yk6CmMmz5F      | MT-Y <> Control Chassis   |\n",
      "    | NT53fofTxy_bJzhn8mAj-      | MT-X <> Control Chassis   |\n",
      "    | NT53FqyU1HbyYZbU7qJp-      | RW-Z <> Control Chassis   |\n",
      "    | NT53B6oSV1yxISjdEefNF      | RW-Y <> Control Chassis   |\n",
      "    | NT539PPR1qLfNS3-ftHLV      | RW-X <> Control Chassis   |\n",
      "    | NT51mR0TSaV6mu7l00e0V      | Payload Processor <> Payl |\n",
      "    | NT51hDhTWux2HPh3vATfk      | Flight Computer <> Contro |\n",
      "    | NT51Li9Td9zWv0x-tZ6EV      | Control Chassis <> Spacec |\n",
      "    | NT51AuEUHL3fqLgjs5-4F      | Control Chassis           |\n",
      "    | NT4nrY8TTDkw3sJI9RJ7k      | Thruster                  |\n",
      "    | NT4mjhzTwm1CPY3pNfZYF      | Fuel Reservoir            |\n",
      "    | NT4mf0mUmP9PdUmMe79nV      | Fuel Tank                 |\n",
      "    | NT4_rh1U_PlQCLKcKB6a-      | Fixed Panels              |\n",
      "    | NT4_qBCSniEUNJCDidO_V      | Sun Tracking Panels       |\n",
      "    | NT4_mh-ULq2Rls0pd2rd-      | -Y Fixed Solar Panel      |\n",
      "    | NT4_dduSZT824a-xJq1C-      | +Y Fixed Solar Panel      |\n",
      "    | NT4_ZGPR7XLaQlkXn9VQk      | -Y Sun Track Solar Panel  |\n",
      "    | NT4_StgRty9EJhiqQ44A-      | +Y Sun Track Solar Panel  |\n",
      "    | NT4ZQWgR29TZ7djikHTxV      | Solar Panel -Y Fixed Surf |\n",
      "    | NT4ZHhLTxL5M-SdIrAr3V      | Solar Panel +Y Fixed Surf |\n",
      "    | NT4YuQBTV9on4DqlPvdW-      | Solar Panel -Y Sun Track  |\n",
      "    | NT4YpFBUi5w0ODkVd0t_F      | Solar Panel +Y Sun Track  |\n",
      "    | NT4XAEUUhykxZBUGVKfV-      | Payload Computer          |\n",
      "    | NT4X6NiUVigYGNO_s5Eu-      | Payload Chassis           |\n",
      "    | NT4WvizUEu1LQOMLE_lsk      | Payload                   |\n",
      "    | NT4VO8jS_HPyoLi2pu1tF      | Flight Computer           |\n",
      "    | NT4RQ3PT9PoazGlEqM-rk      | Standby                   |\n",
      "    | NT4R0nbSgiC96Y2hxvLr-      | 28 V                      |\n",
      "    | NT4QLkERqutpLvRCqU_wV      | 12 V                      |\n",
      "    | NT4PQQCRiTtWCuRLQjRek      | Spacecraft Chassis        |\n",
      "    | NT0U_uSRGPDN0fMdfdp3k      | Battery Pack B            |\n",
      "    | NT0UYspRnaun-vODA4rNk      | Battery Pack A            |\n",
      "    | NT0Ln1gS8elWEK4Y-l7m-      | LaserComm-4               |\n",
      "    | NT0LhZuRIm7Cfvs0RFvW-      | LaserComm-3               |\n",
      "    | NT0LWIfSJ1RIenKpUmJEV      | LaserComm-2               |\n",
      "    | NT0LLnQRA9be3moDIgAq-      | LaserComm-1               |\n",
      "    | NT08TgvRfy6qz5T_YobYk      | Fire: Jasper National Par |\n",
      "    | NT07fkvTc9XNO5IE3oeUF      | Fire: Chichen Itza        |\n",
      "    | NT07_QBTSmnV1S7t9vsVV      | Fire: Brook Mole          |\n",
      "    | NT074oHRqqXQPLoTOHQl-      | Ground Station: Cape Cana |\n",
      "    | NT02IuYSW15sQ0SU8QgGV      | LaserComm Line of Sight   |\n",
      "    | NT028CnT0XWZTS18D6XNk      | Crosslink                 |\n",
      "    | NT-z6txTcqiQFlrpcr_-k      | Non-Eclipse               |\n",
      "    | NT-yaR4SE5lFXsXuWtrFV      | Imaging Elevation Angle   |\n",
      "    | NT-xTr8ReekoIh9WNhfg-      | Battery Nominal           |\n",
      "    | NT-xKO9SpLpF-1wYlKcIV      | Imaging                   |\n",
      "    | NT-toOUSWiwgq7xJUZHNF      | Attitude Determination    |\n",
      "    | NT-tetzROqc-cD1y4uXC-      | Orbit Determination       |\n",
      "    | NT-sT2aRN5YF8XZPsYfn-      | RW-Z                      |\n",
      "    | NT-sOVhS9mfh2rkbf6sek      | RW-Y                      |\n",
      "    | NT-sInmRs5Kc4_RwgIAyV      | RW-X                      |\n",
      "    | NT-rPjgUvi4RBq0nIX-8V      | MT-Z                      |\n",
      "    | NT-q1M8U_P09cMpH_Y1fF      | MT-Y                      |\n",
      "    | NT-py3yU9i8KUihtF0kWV      | MT-X                      |\n",
      "    | NT-oRZ6SvP5lHuZyiFIlk      | Gyro                      |\n",
      "    | NT-mw0JS_Dm-jB86pmTQV      | Magnetometer              |\n",
      "    | NT-lCYAS6PMq1xbJ8A8gk      | Star Tracker              |\n",
      "    | NT-kiVbTPLBDGk63KY5H-      | Star Tracker FoV          |\n",
      "    | NT-ir3NSHTrx3r7KjWPYk      | GPS                       |\n",
      "    | NT-gzNsR9XIipaCAF2hvF      | Wildfires                 |\n",
      "    | NT-gucwTh1uB2n5LFj92F      | LaserComm Relays          |\n",
      "    | NSghkyoTLeQzaNfeeckQV      | Structure                 |\n",
      "    | NSghj1hTM9mz2Vl08G5rk      | Thermal                   |\n",
      "    | NSghgp0ThH8gNv5Ady03k      | GNC                       |\n",
      "    | NSgheitRQ51bMoH_95sZk      | Data Handling             |\n",
      "    | NSghcbxRIX9eXogEB0li-      | Command & Control         |\n",
      "    | NSghaQGUD5XkZv-hq4TTV      | Power                     |\n",
      "    | NSghYm2RqDibih0igHFc-      | Power Processor           |\n",
      "    | NSghWfrUj9OyAK8OBAXa-      | <Unnamed Block>           |\n",
      "    ----------------------------------------------------------\n",
      "\n",
      "    80 block(s) with no associated data\n",
      "---------------------------------------------------------------------------\n",
      "❓ Query block results with .block(<ID>) or .block(<PARTIAL_ID>) or .blockname(<name>)\n",
      "📊 Display agent modules variables statistics with .stats( module ) \n",
      "🧩        Where module must be one of the following: ['gnc', 'cdh', 'power', 'thermal'] \n"
     ]
    }
   ],
   "source": [
    "cf_results.agent('Wildfire').summarize() "
   ]
  },
  {
   "cell_type": "code",
   "execution_count": 179,
   "id": "a1d0ca8b-71a8-4631-82bb-91d1ccb40177",
   "metadata": {},
   "outputs": [],
   "source": [
    "cloudFractionResults = cf_results.agent('Wildfire').block('PKSmpmwbT3v8FtLwHWTS6d')#.summarize() "
   ]
  },
  {
   "cell_type": "code",
   "execution_count": 197,
   "id": "d6266422-fb7e-4239-b37f-f4350cd00a42",
   "metadata": {},
   "outputs": [
    {
     "name": "stdout",
     "output_type": "stream",
     "text": [
      "---------------------------------------------------------------------------\n",
      "                   Sedaro Simulation Block Result Summary                  \n",
      "                      'Cloud_fraction_EIGHTDAY_1x1deg'                     \n",
      "---------------------------------------------------------------------------\n",
      "🧩 Simulated Modules\n",
      "    • Command & Data Handling\n",
      "\n",
      "📋 Variables Available\n",
      "    • cloudFractionGroupResults\n",
      "---------------------------------------------------------------------------\n",
      "❓ Query variables with .<VARIABLE_NAME>\n",
      "📊 Display all block variables statistics with .stats( output_html=False ) \n"
     ]
    }
   ],
   "source": [
    "cloudFractionResults.summarize()"
   ]
  },
  {
   "cell_type": "code",
   "execution_count": 181,
   "id": "8cd39534-c4e5-4494-ad0d-452eed0fca42",
   "metadata": {},
   "outputs": [
    {
     "name": "stdout",
     "output_type": "stream",
     "text": [
      "---------------------------------------------------------------------------\n",
      "                      Sedaro Simulation Series Summary                     \n",
      "                        'cloudFractionGroupResults'                        \n",
      "---------------------------------------------------------------------------\n",
      "📈 2976 points covering 494.5 minutes with ~10.0s steps\n",
      "\n",
      "📑 This series has subseries.\n",
      "\n",
      "🗂️ Value data types are:\n",
      "    - 'NT074oHRqqXQPLoTOHQl-': 'str'\n",
      "    - 'NTKAFyiU_9oo2dw6nTZzk': 'str'\n",
      "---------------------------------------------------------------------------\n",
      "❓ Index [<SUBSERIES_NAME>] to select a subseries\n"
     ]
    }
   ],
   "source": [
    "cloudFractionResults.cloudFractionGroupResults.summarize()"
   ]
  },
  {
   "cell_type": "code",
   "execution_count": 182,
   "id": "ebee63ea-4b07-40b6-bb80-3533b2f349e2",
   "metadata": {},
   "outputs": [
    {
     "name": "stdout",
     "output_type": "stream",
     "text": [
      "---------------------------------------------------------------------------\n",
      "                      Sedaro Simulation Series Summary                     \n",
      "             'cloudFractionGroupResults.NT074oHRqqXQPLoTOHQl-'             \n",
      "---------------------------------------------------------------------------\n",
      "📈 2976 points covering 494.5 minutes with ~10.0s steps\n",
      "\n",
      "📑 This series has subseries.\n",
      "\n",
      "🗂️ Value data types are:\n",
      "    - 'isCloudBlocked': 'bool'\n",
      "    - 'actualCloudFractionPercent': 'float'\n",
      "    - 'cloudLayerIntersection_alt': 'float'\n",
      "    - 'cloudLayerIntersection_lat': 'float'\n",
      "    - 'cloudLayerIntersection_lon': 'float'\n",
      "    - 'predictedCloudFractionPercent': 'float'\n",
      "---------------------------------------------------------------------------\n",
      "❓ Index [<SUBSERIES_NAME>] to select a subseries\n"
     ]
    }
   ],
   "source": [
    "cloudFractionResults.cloudFractionGroupResults['NT074oHRqqXQPLoTOHQl-'].summarize()"
   ]
  },
  {
   "cell_type": "code",
   "execution_count": 211,
   "id": "9d3fb01d-fbc1-4dfa-8d62-f7fa748c6d56",
   "metadata": {},
   "outputs": [
    {
     "data": {
      "image/png": "[encoded data removed]",
      "text/plain": [
       "<Figure size 640x480 with 1 Axes>"
      ]
     },
     "metadata": {},
     "output_type": "display_data"
    }
   ],
   "source": [
    "cloudFractionResults.cloudFractionGroupResults['NT074oHRqqXQPLoTOHQl-']['cloudLayerIntersection_alt'].plot()"
   ]
  },
  {
   "cell_type": "code",
   "execution_count": 210,
   "id": "87816927-9ce2-4e75-9e08-59111210ba76",
   "metadata": {},
   "outputs": [
    {
     "data": {
      "text/plain": [
       "<matplotlib.collections.PathCollection at 0x1c360c990>"
      ]
     },
     "execution_count": 210,
     "metadata": {},
     "output_type": "execute_result"
    },
    {
     "data": {
      "image/png": "[encoded data removed]",
      "text/plain": [
       "<Figure size 640x480 with 1 Axes>"
      ]
     },
     "metadata": {},
     "output_type": "display_data"
    }
   ],
   "source": [
    "\n",
    "first, second = 0, -1\n",
    "groundTarget = 'NTKAFyiU_9oo2dw6nTZzk'\n",
    "\n",
    "lons = cloudFractionResults.cloudFractionGroupResults.values[groundTarget]['cloudLayerIntersection_lon'][first:second]\n",
    "lats = cloudFractionResults.cloudFractionGroupResults.values[groundTarget]['cloudLayerIntersection_lat'][first:second]\n",
    "alts = cloudFractionResults.cloudFractionGroupResults.values[groundTarget]['cloudLayerIntersection_alt'][first:second]\n",
    "cf   = cloudFractionResults.cloudFractionGroupResults.values[groundTarget]['actualCloudFractionPercent'][first:second]\n",
    "plt.scatter( list(map(lambda x:x, lons)), list(map(lambda x:x,lats)),  alpha=cf)"
   ]
  },
  {
   "cell_type": "code",
   "execution_count": 209,
   "id": "bd8a7fa1-289f-44eb-8bfc-56a4245811f4",
   "metadata": {},
   "outputs": [
    {
     "data": {
      "text/plain": [
       "dict_keys(['NT074oHRqqXQPLoTOHQl-', 'NTKAFyiU_9oo2dw6nTZzk'])"
      ]
     },
     "execution_count": 209,
     "metadata": {},
     "output_type": "execute_result"
    }
   ],
   "source": [
    "cloudFractionResults.cloudFractionGroupResults.values.keys()"
   ]
  },
  {
   "cell_type": "code",
   "execution_count": null,
   "id": "43cf5c49-36a4-4f89-98ee-1a19e6ab6386",
   "metadata": {},
   "outputs": [],
   "source": []
  },
  {
   "cell_type": "code",
   "execution_count": 213,
   "id": "0b57c541-fa72-4782-8b92-7221a4af2ef0",
   "metadata": {},
   "outputs": [
    {
     "data": {
      "image/png": "[encoded data removed]",
      "text/plain": [
       "<Figure size 640x480 with 1 Axes>"
      ]
     },
     "metadata": {},
     "output_type": "display_data"
    }
   ],
   "source": [
    "predicted = cloudFractionResults.cloudFractionGroupResults.NTKAFyiU_9oo2dw6nTZzk.predictedCloudFractionPercent.values[0:-1]\n",
    "actual    = cloudFractionResults.cloudFractionGroupResults.NTKAFyiU_9oo2dw6nTZzk.actualCloudFractionPercent.values[0:-1]    \n",
    "plt.plot(predicted[0:], marker='.', markersize=1, linewidth=1, label = \"predicted\")\n",
    "plt.plot(actual[0:], marker='.', markersize=1, linewidth=1, label = \"actual\")\n",
    "plt.legend()\n",
    "plt.show()"
   ]
  },
  {
   "cell_type": "code",
   "execution_count": 218,
   "id": "4d30c834-e79f-4384-89ae-ad32133f11c7",
   "metadata": {},
   "outputs": [
    {
     "data": {
      "image/png": "[encoded data removed]",
      "text/plain": [
       "<Figure size 640x480 with 1 Axes>"
      ]
     },
     "metadata": {},
     "output_type": "display_data"
    }
   ],
   "source": [
    "cloudFractionResults.cloudFractionGroupResults['NTKAFyiU_9oo2dw6nTZzk']['isCloudBlocked'].plot()"
   ]
  },
  {
   "cell_type": "code",
   "execution_count": 214,
   "id": "85af4f4e-0887-43eb-8729-719f56824a8f",
   "metadata": {},
   "outputs": [
    {
     "data": {
      "text/plain": [
       "<matplotlib.collections.PathCollection at 0x1c40f78d0>"
      ]
     },
     "execution_count": 214,
     "metadata": {},
     "output_type": "execute_result"
    },
    {
     "data": {
      "image/png": "[encoded data removed]",
      "text/plain": [
       "<Figure size 640x480 with 1 Axes>"
      ]
     },
     "metadata": {},
     "output_type": "display_data"
    }
   ],
   "source": [
    "\n",
    "first, second = 0, -1\n",
    "groundTarget = 'NT074oHRqqXQPLoTOHQl-'\n",
    "\n",
    "lons = cloudFractionResults.cloudFractionGroupResults.values[groundTarget]['cloudLayerIntersection_lon'][first:second]\n",
    "lats = cloudFractionResults.cloudFractionGroupResults.values[groundTarget]['cloudLayerIntersection_lat'][first:second]\n",
    "alts = cloudFractionResults.cloudFractionGroupResults.values[groundTarget]['cloudLayerIntersection_alt'][first:second]\n",
    "cf   = cloudFractionResults.cloudFractionGroupResults.values[groundTarget]['actualCloudFractionPercent'][first:second]\n",
    "plt.scatter( list(map(lambda x:x, lons)), list(map(lambda x:x,lats)),  alpha=cf)"
   ]
  },
  {
   "cell_type": "code",
   "execution_count": 216,
   "id": "ee7ad006-3675-45c4-8f43-0f5e18e9be61",
   "metadata": {},
   "outputs": [
    {
     "data": {
      "image/png": "[encoded data removed]",
      "text/plain": [
       "<Figure size 640x480 with 1 Axes>"
      ]
     },
     "metadata": {},
     "output_type": "display_data"
    }
   ],
   "source": [
    "predicted = cloudFractionResults.cloudFractionGroupResults['NT074oHRqqXQPLoTOHQl-'].predictedCloudFractionPercent.values[0:-1]\n",
    "actual    = cloudFractionResults.cloudFractionGroupResults['NT074oHRqqXQPLoTOHQl-'].actualCloudFractionPercent.values[0:-1]    \n",
    "plt.plot(predicted[0:], marker='.', markersize=1, linewidth=1, label = \"predicted\")\n",
    "plt.plot(actual[0:], marker='.', markersize=1, linewidth=1, label = \"actual\")\n",
    "plt.legend()\n",
    "plt.show()"
   ]
  },
  {
   "cell_type": "code",
   "execution_count": 217,
   "id": "0aeae04f-1206-4a14-863f-8b73164c0389",
   "metadata": {},
   "outputs": [
    {
     "data": {
      "image/png": "[encoded data removed]",
      "text/plain": [
       "<Figure size 640x480 with 1 Axes>"
      ]
     },
     "metadata": {},
     "output_type": "display_data"
    }
   ],
   "source": [
    "cloudFractionResults.cloudFractionGroupResults['NT074oHRqqXQPLoTOHQl-']['isCloudBlocked'].plot()"
   ]
  },
  {
   "cell_type": "code",
   "execution_count": 112,
   "id": "21692926-c3aa-42d6-9d93-3af5099b9793",
   "metadata": {},
   "outputs": [],
   "source": [
    "data = simulation_handle.results_plain()"
   ]
  },
  {
   "cell_type": "code",
   "execution_count": 129,
   "id": "e73d0731-8755-494f-8cc4-2b9d4102d38d",
   "metadata": {},
   "outputs": [
    {
     "data": {
      "text/plain": [
       "2976"
      ]
     },
     "execution_count": 129,
     "metadata": {},
     "output_type": "execute_result"
    }
   ],
   "source": [
    "len(data['series']['NT06aqHUT5djI1_JPAsck/1'][0])"
   ]
  },
  {
   "cell_type": "code",
   "execution_count": null,
   "id": "bfa2b267-304f-41cc-addd-427521864ced",
   "metadata": {},
   "outputs": [],
   "source": []
  }
 ],
 "metadata": {
  "kernelspec": {
   "display_name": "Python 3 (ipykernel)",
   "language": "python",
   "name": "python3"
  },
  "language_info": {
   "codemirror_mode": {
    "name": "ipython",
    "version": 3
   },
   "file_extension": ".py",
   "mimetype": "text/x-python",
   "name": "python",
   "nbconvert_exporter": "python",
   "pygments_lexer": "ipython3",
   "version": "3.11.6"
  }
 },
 "nbformat": 4,
 "nbformat_minor": 5
}
