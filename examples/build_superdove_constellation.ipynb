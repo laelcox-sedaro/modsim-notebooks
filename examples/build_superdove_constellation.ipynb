{
 "cells": [
  {
   "attachments": {},
   "cell_type": "markdown",
   "metadata": {},
   "source": [
    "### Build a SuperDove Constellation in Sedaro\n",
    "\n",
    "This notebook exercises functionality of deleting any agents with outdated TLEs in the [DEMO] Planet SuperDove Scenario and repopulating the scenario with new agents using current TLEs through the Sedaro API.\n"
   ]
  },
  {
   "cell_type": "code",
   "execution_count": null,
   "metadata": {},
   "outputs": [],
   "source": [
    "import json\n",
    "import requests\n",
    "\n",
    "from sedaro import SedaroApiClient"
   ]
  },
  {
   "attachments": {},
   "cell_type": "markdown",
   "metadata": {},
   "source": [
    "#### Important: Read Before Running\n",
    "\n",
    "This notebook makes changes to a scenario branche indicated in the settings section. Ensure any changes to the target branches are saved prior to running this code. Sedaro recommends committing current work and creating new branches in the target repositories to avoid loss of work.\n",
    "\n",
    "This notebook also requires that you have previously generated an API key in the web UI. That key should be stored in a file called `secrets.json` in the same directory as this notebook with the following format:\n",
    "\n",
    "```json\n",
    "{\n",
    "  \"API_KEY\": \"<API_KEY>\"\n",
    "}\n",
    "```\n",
    "\n",
    "API keys grant full access to your repositories and should never be shared. If you think your API key has been compromised, you can revoke it in the user settings interface on the Sedaro website.\n"
   ]
  },
  {
   "cell_type": "code",
   "execution_count": null,
   "metadata": {},
   "outputs": [],
   "source": [
    "# Settings\n",
    "with open('../secrets.json', 'r') as file:\n",
    "    API_KEY = json.load(file)['API_KEY']\n",
    "\n",
    "with open('../config.json', 'r') as file:\n",
    "    config = json.load(file)\n",
    "\n",
    "# Obtain these IDs from the branch list within each repository and add to config.json\n",
    "SCENARIO_BRANCH_ID = config['SUPERDOVE']['SCENARIO_BRANCH_ID']      # ID of the scenario branch\n",
    "HOST = config['HOST']                                               # Sedaro instance URL\n",
    "BASE_AGENT_ID = 'NT-KoZFSELKK8eomP3lkV'"
   ]
  },
  {
   "attachments": {},
   "cell_type": "markdown",
   "metadata": {},
   "source": [
    "#### Instantiate Client\n",
    "\n",
    "Instantiate the `SedaroApiClient` with our `API_KEY` and `HOST`, and fetch the desired branch.\n"
   ]
  },
  {
   "cell_type": "code",
   "execution_count": null,
   "metadata": {},
   "outputs": [],
   "source": [
    "sedaro = SedaroApiClient(api_key=API_KEY, host=HOST)\n",
    "\n",
    "scenario_branch = sedaro.scenario(SCENARIO_BRANCH_ID)"
   ]
  },
  {
   "attachments": {},
   "cell_type": "markdown",
   "metadata": {},
   "source": [
    "### Delete satelllites with old TLEs\n",
    "\n",
    "This is a cleanup step to remove any satellites that were created in a previous run of this notebook. This is not necessary if you are running this notebook for the first time.\n"
   ]
  },
  {
   "cell_type": "code",
   "execution_count": null,
   "metadata": {},
   "outputs": [],
   "source": [
    "delete_ids = []\n",
    "for agent_id in scenario_branch.data['index']['TemplatedAgent']:\n",
    "    if agent_id != BASE_AGENT_ID:\n",
    "        delete_ids.append(agent_id)\n",
    "\n",
    "if not delete_ids:\n",
    "    print('No blocks were deleted')\n",
    "else:\n",
    "    scenario_branch.crud(delete=delete_ids)\n",
    "    print(f'Deleted {len(delete_ids)} spacecraft digital twin agents.')"
   ]
  },
  {
   "attachments": {},
   "cell_type": "markdown",
   "metadata": {},
   "source": [
    "### Fetch Constellation TLEs\n"
   ]
  },
  {
   "cell_type": "code",
   "execution_count": null,
   "metadata": {},
   "outputs": [],
   "source": [
    "# Load TLE file\n",
    "url = 'https://ephemerides.planet-labs.com/planet_mc.tle'\n",
    "tles = requests.get(url).text.splitlines()"
   ]
  },
  {
   "attachments": {},
   "cell_type": "markdown",
   "metadata": {},
   "source": [
    "### Create new agents with new TLEs\n"
   ]
  },
  {
   "cell_type": "code",
   "execution_count": null,
   "metadata": {},
   "outputs": [],
   "source": [
    "base = scenario_branch.Agent.get(BASE_AGENT_ID)\n",
    "base_orbit = scenario_branch.Orbit.get(base.kinematics)\n",
    "\n",
    "\n",
    "def create_orbit(tle, orbit_ref_id):\n",
    "    _orbit = {\n",
    "        **base_orbit.data,\n",
    "        'initialStateDefParams': {'tle': tle},\n",
    "        'id': orbit_ref_id\n",
    "    }\n",
    "    return _orbit\n",
    "\n",
    "\n",
    "def create_agent(name, orbit_ref_id):\n",
    "    if name[0] == '0':  # Strip line number\n",
    "        name = name[2:]\n",
    "    _agent = {**base.data, 'kinematics': orbit_ref_id, 'name': name}\n",
    "    del _agent['id']\n",
    "    return _agent\n",
    "\n",
    "\n",
    "n_sats = int(len(tles)/3)\n",
    "\n",
    "scenario_branch.crud(\n",
    "    blocks=[\n",
    "        create_orbit(tles[3*idx+1] + '\\n' + tles[3*idx+2], f'$-{idx}') for idx in range(n_sats)\n",
    "    ] + [\n",
    "        create_agent(tles[3*idx], f'$-{idx}') for idx in range(n_sats)\n",
    "    ]\n",
    ")\n",
    "print(f'Created {n_sats} orbits from TLEs and {n_sats} spacecraft digital twin agents.')"
   ]
  }
 ],
 "metadata": {
  "kernelspec": {
   "display_name": "Python 3",
   "language": "python",
   "name": "python3"
  },
  "language_info": {
   "codemirror_mode": {
    "name": "ipython",
    "version": 3
   },
   "file_extension": ".py",
   "mimetype": "text/x-python",
   "name": "python",
   "nbconvert_exporter": "python",
   "pygments_lexer": "ipython3",
   "version": "3.11.7"
  },
  "orig_nbformat": 4
 },
 "nbformat": 4,
 "nbformat_minor": 2
}
