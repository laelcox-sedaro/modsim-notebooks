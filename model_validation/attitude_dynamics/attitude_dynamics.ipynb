{
 "cells": [
  {
   "attachments": {},
   "cell_type": "markdown",
   "metadata": {},
   "source": [
    "## Sedaro Validaton Notebook\n",
    "### Attitude Dynamics\n",
    "\n",
    "Compare the results of a Sedaro simulation with closed-loop attitude control to a Basilisk simulation with the same commanded reaction wheel torques. Basilisk is a software framework for \n",
    "astrodynamics simulations developed by the Autonomous Vehicle Systems Lab and Laboratory for Atmospheric and Space\n",
    "Physics at CU Boulder. More information about Basilisk can be found here: https://hanspeterschaub.info/basilisk/\n",
    "\n",
    "Since the Basilisk simulation features open-loop control, we can isolate the attitude dynamics and kinematics for validation. We expect the attitude in Basilisk to diverge eventually since there is no feedback loop to suppress any perturbations. This analogous to commanding the physical twin of the Sedaro model without feedback, and the result will in turn characterize a time-scale for which the digital twin can reproduce the exact attitude behavior of the physical one."
   ]
  },
  {
   "cell_type": "markdown",
   "metadata": {},
   "source": [
    "### Reproducing our Results\n",
    "\n",
    "To ensure reproducibility, the directory containing this notebook also includes a `requirements.txt` file that specifies the exact package versions that were used. To create a similar environment, use the following sequence of commands with Python `3.11` and the built-in `venv` package. See the [venv documentation](https://docs.python.org/3/library/venv.html) for more details on how this works.\n",
    "\n",
    "- In a unix-like terminal:\n",
    "\n",
    "    ```zsh\n",
    "    > python -m venv .venv\n",
    "    > source .venv/bin/activate\n",
    "    > pip install -r requirements.txt\n",
    "    ```\n",
    "\n",
    "- In a Windows `cmd.exe` terminal:\n",
    "    ```bat\n",
    "    C:\\> python -m venv .venv\n",
    "    C:\\> .venv\\Scripts\\activate.bat\n",
    "    C:\\> pip install -r requirements.txt\n",
    "    ```\n",
    "\n",
    "- In Windows PowerShell:\n",
    "\n",
    "    ```bat\n",
    "    C:\\> python -m venv .venv\n",
    "    C:\\> .venv\\Scripts\\Activate.ps1\n",
    "    C:\\> pip install -r requirements.txt\n",
    "    ```\n",
    "\n",
    "Confirm that the Jupyter notebook is using this virtual evironment before running the code below."
   ]
  },
  {
   "cell_type": "code",
   "execution_count": null,
   "metadata": {},
   "outputs": [],
   "source": [
    "import json\n",
    "import os\n",
    "import matplotlib.pyplot as plt\n",
    "import numpy as np\n",
    "from utils import mrp_to_quaternion, angleBetweenClosestQuaternions, sedaroLogin"
   ]
  },
  {
   "attachments": {},
   "cell_type": "markdown",
   "metadata": {},
   "source": [
    "### Important: Read Before Running\n",
    "\n",
    "This notebook requires that you have previously generated an API key in the web UI. That key should be stored in a file called `secrets.json` in the same directory as this notebook with the following format:\n",
    "\n",
    "```json\n",
    "{\n",
    "    \"API_KEY\": \"<API_KEY>\"\n",
    "}\n",
    "```\n",
    "\n",
    "API keys grant full access to your repositories and should never be shared. If you think your API key has been compromised, you can revoke it in the user settings interface on the Sedaro website."
   ]
  },
  {
   "cell_type": "code",
   "execution_count": null,
   "metadata": {},
   "outputs": [],
   "source": [
    "sedaro = sedaroLogin()"
   ]
  },
  {
   "attachments": {},
   "cell_type": "markdown",
   "metadata": {},
   "source": [
    "## Download Scenario Data\n",
    "# FIXME\n",
    "This notebook considers the following reference scenario(s):\n",
    "- [Scenario Name 1](https://satellite.sedaro.com/shareable_link)\n",
    "- [Scenario Name 2](https://satellite.sedaro.com/shareable_link)"
   ]
  },
  {
   "cell_type": "code",
   "execution_count": null,
   "metadata": {},
   "outputs": [],
   "source": [
    "scenario_branch_id = ''\n",
    "basilisk_results_file = 'reference_data/basilisk_results_active.json'\n",
    "results = sedaro.scenario(scenario_branch_id).simulation.results()\n",
    "\n",
    "per_agent_results = {}\n",
    "for agent_name in results.templated_agents:\n",
    "    per_agent_results[agent_name] = results.agent(agent_name)"
   ]
  },
  {
   "cell_type": "markdown",
   "metadata": {},
   "source": [
    "Get static wheel ids from the Agent Template"
   ]
  },
  {
   "cell_type": "code",
   "execution_count": null,
   "metadata": {},
   "outputs": [],
   "source": [
    "template_branch = 'PKr2lf72VtjwRNW8KPGlx9'  # FIXME\n",
    "vehicle = sedaro.agent_template(template_branch)\n",
    "wheels = vehicle.ReactionWheel.get_all()\n",
    "x_wheel_id = next(wheel.id for wheel in wheels if 'X' in wheel.name)\n",
    "y_wheel_id = next(wheel.id for wheel in wheels if 'Y' in wheel.name)\n",
    "z_wheel_id = next(wheel.id for wheel in wheels if 'Z' in wheel.name)"
   ]
  },
  {
   "cell_type": "markdown",
   "metadata": {},
   "source": [
    "## Prepare Data"
   ]
  },
  {
   "cell_type": "markdown",
   "metadata": {},
   "source": [
    "Get dictionaries of the quantities of interest from the Sedaro simulation keyed by the name of each agent."
   ]
  },
  {
   "cell_type": "code",
   "execution_count": null,
   "metadata": {},
   "outputs": [],
   "source": [
    "sedaro_attitude_results = {name: np.array(r.block('root').attitude.body_eci.values) for name, r in per_agent_results.items()}\n",
    "sedaro_omega_x = {name: np.array(r.block(x_wheel_id).speed.values) for name, r in per_agent_results.items()}\n",
    "sedaro_omega_y = {name: np.array(r.block(y_wheel_id).speed.values) for name, r in per_agent_results.items()}\n",
    "sedaro_omega_z = {name: np.array(r.block(z_wheel_id).speed.values) for name, r in per_agent_results.items()}\n",
    "sedaro_gg = {name: np.array(r.block('root').gravityGradientTorque.values) for name, r in per_agent_results.items()}\n",
    "sedaro_ts = {name: r.block('root').attitude.body_eci.elapsed_time for name, r in per_agent_results.items()}"
   ]
  },
  {
   "cell_type": "markdown",
   "metadata": {},
   "source": [
    "Read and format basilisk results"
   ]
  },
  {
   "cell_type": "code",
   "execution_count": null,
   "metadata": {},
   "outputs": [],
   "source": [
    "with open(basilisk_results_file, 'r') as f:\n",
    "    basilisk_results = json.load(f)\n",
    "\n",
    "basilisk_agent_attitude = {name: [\n",
    "    mrp_to_quaternion(mrp) for mrp in r['attitude_mrp']\n",
    "    ] for name, r in basilisk_results.items()}\n",
    "basilisk_gg = {name: np.array(r['gg_torque']) for name, r in basilisk_results.items()}\n",
    "basilisk_agent_time_arr = {name: np.array(r['time']) for name, r in basilisk_results.items()}\n",
    "basilisk_omega_x = {name: np.array(r['rw_x_omega']) for name, r in basilisk_results.items()}\n",
    "basilisk_omega_y = {name: np.array(r['rw_y_omega']) for name, r in basilisk_results.items()}\n",
    "basilisk_omega_z = {name: np.array(r['rw_z_omega']) for name, r in basilisk_results.items()}"
   ]
  },
  {
   "cell_type": "markdown",
   "metadata": {},
   "source": [
    "## Visualize Results\n"
   ]
  },
  {
   "cell_type": "code",
   "execution_count": null,
   "metadata": {},
   "outputs": [],
   "source": [
    "sedaro_savoy = '#4f64ce'\n",
    "basilisk_gold = '#CFB87C'"
   ]
  },
  {
   "cell_type": "markdown",
   "metadata": {},
   "source": [
    "### Attitude Quaternions\n",
    "Generate plots of the attitude quaternions produced by Sedaro and Basilisk for each agent. Note that q and -q correspond to the same rotation, so I've plotted both for the Sedaro data, since the representation from Basilisk sometimes flips."
   ]
  },
  {
   "cell_type": "code",
   "execution_count": null,
   "metadata": {},
   "outputs": [],
   "source": [
    "if not os.path.exists('plots/attitude'):\n",
    "    os.makedirs('plots/attitude')\n",
    "for agent_name in sedaro_attitude_results.keys():\n",
    "    # Neatly grab data\n",
    "    basilisk_attitude = np.array(basilisk_agent_attitude[agent_name])\n",
    "    sedaro_attitude = sedaro_attitude_results[agent_name]\n",
    "    ts = sedaro_ts[agent_name]\n",
    "    basilisk_ts = basilisk_agent_time_arr[agent_name]\n",
    "\n",
    "    # Plot the x, y, z components of the attitude quaternion\n",
    "    fig, ax = plt.subplots(3, 1)\n",
    "    # Plot x result\n",
    "    ax[0].plot(basilisk_ts, basilisk_attitude[:,0], label='Basilisk', color=basilisk_gold,linewidth=4)\n",
    "    ax[0].plot(ts, sedaro_attitude[:,0], color= sedaro_savoy, label='Sedaro')\n",
    "    ax[0].plot(ts, -sedaro_attitude[:, 0], ':', color= sedaro_savoy)\n",
    "    ax[0].legend(loc='upper left')\n",
    "    ax[0].set_ylabel('Quaternion x')\n",
    "    # Plot y result, no legend\n",
    "    ax[1].plot(basilisk_ts, basilisk_attitude[:,1], color=basilisk_gold, linewidth=4)\n",
    "    ax[1].plot(ts, sedaro_attitude[:,1], color= sedaro_savoy)\n",
    "    ax[1].plot(ts, -sedaro_attitude[:, 1], ':', color= sedaro_savoy)\n",
    "    ax[1].set_ylabel('Quaternion y')\n",
    "    # Plot z result, no legend\n",
    "    ax[2].plot(basilisk_ts,  basilisk_attitude[:,2], color=basilisk_gold,linewidth=4)\n",
    "    ax[2].plot(ts, sedaro_attitude[:,2], color= sedaro_savoy)\n",
    "    ax[2].plot(ts, -sedaro_attitude[:, 2], ':', color= sedaro_savoy)\n",
    "    ax[2].set_ylabel('Quaternion z')\n",
    "    ax[2].set_xlabel('Time (s)')\n",
    "    fig.set_tight_layout(True)\n",
    "    fig.suptitle(f'{agent_name} Attitude Time Series')\n",
    "    fig.set_size_inches(8, 8)\n",
    "    fig.savefig(f'plots/attitude/{agent_name}_attitude.png')"
   ]
  },
  {
   "cell_type": "markdown",
   "metadata": {},
   "source": [
    "### Attitude Error\n",
    "Using the Basilisk results as the \"truth\" plot the attitude error time series for each agent."
   ]
  },
  {
   "cell_type": "code",
   "execution_count": null,
   "metadata": {},
   "outputs": [],
   "source": [
    "fig, ax = plt.subplots()    \n",
    "for agent_name in sedaro_attitude_results.keys():\n",
    "    # Neatly grab data\n",
    "    basilisk_time_arr = np.array(basilisk_agent_time_arr[agent_name])\n",
    "    ts = np.array(sedaro_ts[agent_name])\n",
    "    basilisk_attitude = np.array(basilisk_agent_attitude[agent_name])\n",
    "    sedaro_attitude = sedaro_attitude_results[agent_name]\n",
    "\n",
    "    # Plot\n",
    "    diff_angles = [np.degrees(angleBetweenClosestQuaternions(sedaro_q, t_1, basilisk_attitude, basilisk_time_arr)) \n",
    "                   for sedaro_q, t_1 in zip(sedaro_attitude, ts)]\n",
    "    ax.plot(ts, diff_angles, label = agent_name)\n",
    "\n",
    "# Label axes, etc.\n",
    "ax.legend()\n",
    "ax.set_ylabel('Attitude Error (deg)')\n",
    "ax.set_xlabel('Time (s)')\n",
    "fig.suptitle(f'Attitude Error for All Agents')\n",
    "fig.set_tight_layout(True)\n",
    "fig.set_size_inches(8, 6)\n",
    "fig.savefig(f'plots/attitude/attitude_error.png')"
   ]
  },
  {
   "cell_type": "markdown",
   "metadata": {},
   "source": [
    "### Reaction Wheel Speeds\n",
    "\n",
    "We also want to check that the reaction wheel speeds respond as expected to the applied control torques."
   ]
  },
  {
   "cell_type": "code",
   "execution_count": null,
   "metadata": {},
   "outputs": [],
   "source": [
    "if not os.path.exists('plots/wheels'):\n",
    "    os.makedirs('plots/wheels')\n",
    "for agent_name in sedaro_attitude_results.keys():\n",
    "    # Neatly grab data\n",
    "    ts = sedaro_ts[agent_name]\n",
    "    basilisk_ts = basilisk_agent_time_arr[agent_name]\n",
    "    sedaro_xs = sedaro_omega_x[agent_name]\n",
    "    sedaro_ys = sedaro_omega_y[agent_name]\n",
    "    sedaro_zs = sedaro_omega_z[agent_name]\n",
    "    basilisk_xs = basilisk_omega_x[agent_name]\n",
    "    basilisk_ys = basilisk_omega_y[agent_name]\n",
    "    basilisk_zs = basilisk_omega_z[agent_name]\n",
    "\n",
    "    # Set up axes and plot\n",
    "    fig,ax = plt.subplots(3, 1)\n",
    "    # x\n",
    "    ax[0].plot(basilisk_ts, basilisk_xs, label='Basilisk', color=basilisk_gold,linewidth=4)\n",
    "    ax[0].plot(ts, sedaro_xs, label='Sedaro', color=sedaro_savoy)\n",
    "    ax[0].set_ylabel('Wheel Speed x (rad/s)')\n",
    "    ax[0].legend(loc='upper right')\n",
    "    # y\n",
    "    ax[1].plot(basilisk_ts, basilisk_ys, color=basilisk_gold,linewidth=4)\n",
    "    ax[1].plot(ts, sedaro_ys, color=sedaro_savoy)\n",
    "    ax[1].set_ylabel('Wheel Speed y (rad/s)')\n",
    "    # z\n",
    "    ax[2].plot(basilisk_ts, basilisk_zs, color=basilisk_gold,linewidth=4)\n",
    "    ax[2].plot(ts, sedaro_zs, color=sedaro_savoy)\n",
    "    ax[2].set_ylabel('Wheel Speed z (rad/s)')\n",
    "    ax[2].set_xlabel('Time (s)')\n",
    "    # Make axes look nice\n",
    "    fig.set_tight_layout(True)\n",
    "    fig.suptitle(f'{agent_name} Reaction Wheel Speed Time Series')\n",
    "    fig.set_size_inches(8, 8)\n",
    "    fig.savefig(f'plots/wheels/{agent_name}_wheels.png')"
   ]
  }
 ],
 "metadata": {
  "kernelspec": {
   "display_name": "test_user",
   "language": "python",
   "name": "test_user"
  },
  "language_info": {
   "codemirror_mode": {
    "name": "ipython",
    "version": 3
   },
   "file_extension": ".py",
   "mimetype": "text/x-python",
   "name": "python",
   "nbconvert_exporter": "python",
   "pygments_lexer": "ipython3",
   "version": "3.11.3"
  },
  "orig_nbformat": 4
 },
 "nbformat": 4,
 "nbformat_minor": 2
}
