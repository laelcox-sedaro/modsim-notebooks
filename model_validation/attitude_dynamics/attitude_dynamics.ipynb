{
 "cells": [
  {
   "attachments": {},
   "cell_type": "markdown",
   "metadata": {},
   "source": [
    "## Sedaro Validaton Notebook\n",
    "### Attitude Dynamics\n",
    "\n",
    "Compare to basilisk."
   ]
  },
  {
   "cell_type": "markdown",
   "metadata": {},
   "source": [
    "### Reproducing our Results\n",
    "\n",
    "To ensure reproducibility, the directory containing this notebook also includes a `requirements.txt` file that specifies the exact package versions that were used. To create a similar environment, use the following sequence of commands with Python `3.11` and the built-in `venv` package. See the [venv documentation](https://docs.python.org/3/library/venv.html) for more details on how this works.\n",
    "\n",
    "- In a unix-like terminal:\n",
    "\n",
    "    ```zsh\n",
    "    > python -m venv .venv\n",
    "    > source .venv/bin/activate\n",
    "    > pip install -r requirements.txt\n",
    "    ```\n",
    "\n",
    "- In a Windows `cmd.exe` terminal:\n",
    "    ```bat\n",
    "    C:\\> python -m venv .venv\n",
    "    C:\\> .venv\\Scripts\\activate.bat\n",
    "    C:\\> pip install -r requirements.txt\n",
    "    ```\n",
    "\n",
    "- In Windows PowerShell:\n",
    "\n",
    "    ```bat\n",
    "    C:\\> python -m venv .venv\n",
    "    C:\\> .venv\\Scripts\\Activate.ps1\n",
    "    C:\\> pip install -r requirements.txt\n",
    "    ```\n",
    "\n",
    "Confirm that the Jupyter notebook is using this virtual evironment before running the code below."
   ]
  },
  {
   "cell_type": "code",
   "execution_count": 265,
   "metadata": {},
   "outputs": [],
   "source": [
    "# FIXME: Use pip freeze > requirements.txt when the notebook is finalized.\n",
    "#        Ensure that there are no unnecessary packages or local installations.\n",
    "import json\n",
    "\n",
    "import matplotlib.pyplot as plt\n",
    "import pandas\n",
    "import numpy as np\n",
    "from sedaro import SedaroApiClient\n",
    "from utils import mrp_to_quaternion, angleBetweenClosestQuaternions, findClosestIndex, angleBetweenQuaternion"
   ]
  },
  {
   "attachments": {},
   "cell_type": "markdown",
   "metadata": {},
   "source": [
    "### Important: Read Before Running\n",
    "\n",
    "This notebook requires that you have previously generated an API key in the web UI. That key should be stored in a file called `secrets.json` in the same directory as this notebook with the following format:\n",
    "\n",
    "```json\n",
    "{\n",
    "    \"API_KEY\": \"<API_KEY>\"\n",
    "}\n",
    "```\n",
    "\n",
    "API keys grant full access to your repositories and should never be shared. If you think your API key has been compromised, you can revoke it in the user settings interface on the Sedaro website."
   ]
  },
  {
   "cell_type": "code",
   "execution_count": 266,
   "metadata": {},
   "outputs": [],
   "source": [
    "with open('/Users/richard/sedaro/satellite-app/secrets.json', 'r') as file:\n",
    "    API_KEY = json.load(file)['garfunkel']\n",
    "# with open('../../secrets.json', 'r') as file: FIXME\n",
    "#     API_KEY = json.load(file)['API_KEY_LOCAL']"
   ]
  },
  {
   "cell_type": "code",
   "execution_count": 268,
   "metadata": {},
   "outputs": [],
   "source": [
    "SCENARIO_BRANCH_ID = 'PKnnzr5ZZDs2mKTfqXnpqs'  # FIXME: Populate this for them, since it is static\n",
    "VEHICLE_BRANCH_ID = 'PKnnwtdWXcdfCDk9LzZb8T'\n",
    "\n",
    "sedaro = SedaroApiClient(API_KEY, host='http://localhost')\n",
    "scenario = sedaro.scenario(SCENARIO_BRANCH_ID)"
   ]
  },
  {
   "cell_type": "markdown",
   "metadata": {},
   "source": [
    "## (Optional) Edit Scenario to Create Agents with Varying Orbits"
   ]
  },
  {
   "cell_type": "code",
   "execution_count": 242,
   "metadata": {},
   "outputs": [],
   "source": [
    "stations = pandas.read_csv('stations.csv')\n",
    "kinematics = scenario.EcefStationaryKinematics.get_first()\n",
    "_ = [p.delete() for p in scenario.PeripheralGroundPoint.get_all()]\n",
    "# Helper fn\n",
    "def get_lat(lat_str:str) -> float:\n",
    "    s = lat_str.split('°')\n",
    "    if s[1] == ' N':\n",
    "        return float(s[0])\n",
    "    elif s[1] == ' S':\n",
    "        return -float(s[0])\n",
    "    else:\n",
    "        raise ValueError(f'Unknown hemisphere {s[1]}')\n",
    "def get_lon(lon_str:str) -> float:\n",
    "    s = lon_str.split('°')\n",
    "    if s[1] == ' E':\n",
    "        return float(s[0])\n",
    "    elif s[1] == ' W':\n",
    "        return -float(s[0])\n",
    "    else:\n",
    "        raise ValueError(f'Unknown hemisphere {s[1]}')\n",
    "\n",
    "# Add stations as agent and as tg\n",
    "crud = []\n",
    "names = []\n",
    "for _, row in stations.iterrows():\n",
    "    name = row['Train Station']\n",
    "    if name in names:\n",
    "        name = row['City'] + ' ' + name\n",
    "    names.append(name)\n",
    "    crud.append({\n",
    "        'name': name[:32],\n",
    "        'type': 'PeripheralGroundPoint',\n",
    "        'lat': {'deg': get_lat(row['Latitude'])},\n",
    "        'lon': {'deg': get_lon(row['Longitude'])},\n",
    "        'alt': {'km': 0},\n",
    "        'id': f'${name}',\n",
    "        'kinematics': kinematics.id,\n",
    "    })\n",
    "crud.append({\n",
    "    'name': 'Some Train Stations',\n",
    "    'type': 'AgentGroup',\n",
    "    'agentType': 'GroundTarget',\n",
    "    'agentAssociations': {f'${name}': {'priority': i} for i, name in enumerate(names)},\n",
    "})\n",
    "_ = scenario.crud(blocks=crud)"
   ]
  },
  {
   "cell_type": "code",
   "execution_count": 246,
   "metadata": {},
   "outputs": [
    {
     "data": {
      "text/plain": [
       "\n",
       "TargetGroup(\n",
       "   activeTarget=None\n",
       "   disabled=False\n",
       "   filterConditions=[]\n",
       "   id='PKnnxky8XfpS4kxCTtnxNh'\n",
       "   name='Point at These'\n",
       "   sortOrder='DESCENDING'\n",
       "   sortValue='ELEVATION'\n",
       "   targetAssociations={}\n",
       "   targetType='GroundTarget'\n",
       "   targets=[]\n",
       "   type='TargetGroup'\n",
       ")"
      ]
     },
     "execution_count": 246,
     "metadata": {},
     "output_type": "execute_result"
    }
   ],
   "source": [
    "vehicle = sedaro.agent_template(VEHICLE_BRANCH_ID)\n",
    "vehicle.TargetGroup.get_first().update(sortValue='ELEVATION', sortOrder='DESCENDING')"
   ]
  },
  {
   "cell_type": "code",
   "execution_count": 277,
   "metadata": {},
   "outputs": [],
   "source": [
    "base_agent = scenario.TemplatedAgent.get_first()\n",
    "blocks_to_delete = []\n",
    "for a in scenario.TemplatedAgent.get_all():\n",
    "    if a.id == base_agent.id:\n",
    "        continue\n",
    "    blocks_to_delete.append(a.id)\n",
    "    blocks_to_delete.append(a.kinematics.id)\n",
    "scenario.crud(delete=blocks_to_delete)\n",
    "base_orbit = base_agent.kinematics\n",
    "orbit_params = base_orbit.initialStateDefParams\n",
    "\n",
    "for i, inc in enumerate(np.linspace(0, 170, 10)):\n",
    "    new_orbit = base_orbit.clone()\n",
    "    new_orbit = new_orbit.update(initialStateDefParams={\n",
    "        **orbit_params,\n",
    "        'inc': inc,\n",
    "        'raan': 90,\n",
    "        # 'nu': 2*(np.abs(inc)-90)+90,\n",
    "        # 'raan': 180.\n",
    "    })\n",
    "    new_agent = base_agent.clone().update(kinematics=new_orbit.id, name=f'Agent {i}')"
   ]
  },
  {
   "cell_type": "code",
   "execution_count": 275,
   "metadata": {},
   "outputs": [
    {
     "data": {
      "text/plain": [
       "<sedaro.branches.scenario_branch.sim_client.SimulationHandle at 0x2ba4afe90>"
      ]
     },
     "execution_count": 275,
     "metadata": {},
     "output_type": "execute_result"
    }
   ],
   "source": [
    "scenario.simulation.start()"
   ]
  },
  {
   "cell_type": "code",
   "execution_count": 269,
   "metadata": {},
   "outputs": [],
   "source": [
    "for i, v in enumerate(scenario.PeripheralGroundPoint.get_all()):\n",
    "    if i % 4 == 0:\n",
    "        continue\n",
    "    v.delete()"
   ]
  },
  {
   "attachments": {},
   "cell_type": "markdown",
   "metadata": {},
   "source": [
    "## Download Scenario Data\n",
    "\n",
    "This notebook considers the following reference scenario(s):\n",
    "- [Scenario Name 1](https://satellite.sedaro.com/shareable_link)\n",
    "- [Scenario Name 2](https://satellite.sedaro.com/shareable_link)"
   ]
  },
  {
   "cell_type": "code",
   "execution_count": null,
   "metadata": {},
   "outputs": [],
   "source": [
    "results = sedaro.scenario(SCENARIO_BRANCH_ID).simulation.results()\n",
    "agent_results = results.agent(results.templated_agents[0])"
   ]
  },
  {
   "cell_type": "code",
   "execution_count": null,
   "metadata": {},
   "outputs": [],
   "source": [
    "template_branch = 'PKgktBPKwNRrQh2KtsTjtc'\n",
    "vehicle = sedaro.agent_template(template_branch)\n",
    "wheels = vehicle.ReactionWheel.get_all()\n",
    "x_wheel_id = next(wheel.id for wheel in wheels if 'X' in wheel.name)\n",
    "y_wheel_id = next(wheel.id for wheel in wheels if 'Y' in wheel.name)\n",
    "z_wheel_id = next(wheel.id for wheel in wheels if 'Z' in wheel.name)"
   ]
  },
  {
   "cell_type": "markdown",
   "metadata": {},
   "source": [
    "## Prepare Data"
   ]
  },
  {
   "cell_type": "code",
   "execution_count": null,
   "metadata": {},
   "outputs": [],
   "source": [
    "sedaro_attitude_results = np.array(agent_results.block('root').attitude.body_eci.values)\n",
    "sedaro_ts = agent_results.block('root').attitude.body_eci.elapsed_time\n",
    "sedaro_commanded = np.array([v if v else [0, 0, 0, 0] for v in agent_results.block('root').commandedAttitude.values])"
   ]
  },
  {
   "cell_type": "markdown",
   "metadata": {},
   "source": [
    "Read basilisk results"
   ]
  },
  {
   "cell_type": "code",
   "execution_count": null,
   "metadata": {},
   "outputs": [],
   "source": [
    "with open('sedaro_rw_basilisk_lock.csv', 'r') as f:\n",
    "    basilisk_results = pandas.read_csv(f)"
   ]
  },
  {
   "cell_type": "code",
   "execution_count": null,
   "metadata": {},
   "outputs": [],
   "source": [
    "basilisk_results['attitude_q'] = [mrp_to_quaternion((x,y,z)) for x,y,z in zip(basilisk_results['attitude_mrp_x'], basilisk_results['attitude_mrp_y'], basilisk_results['attitude_mrp_z'])]\n",
    "basilisk_time_arr = basilisk_results['time'].to_numpy()"
   ]
  },
  {
   "cell_type": "markdown",
   "metadata": {},
   "source": [
    "## Visualize Results"
   ]
  },
  {
   "cell_type": "code",
   "execution_count": null,
   "metadata": {},
   "outputs": [],
   "source": [
    "import matplotlib.pyplot as plt\n",
    "\n",
    "basilisk_attitude = np.array(basilisk_results['attitude_q'].to_list())\n",
    "\n",
    "\n",
    "fig, ax = plt.subplots(3, 1)\n",
    "# Plot x result\n",
    "ax[0].plot(basilisk_results['time'], basilisk_attitude[:,0], label='basilisk')\n",
    "ax[0].plot(sedaro_ts, sedaro_attitude_results[:,0], label='sedaro')\n",
    "ax[0].plot(sedaro_ts, -sedaro_attitude_results[:, 0], ':', label='-sedaro')\n",
    "ax[0].legend()\n",
    "ax[0].set_ylabel('Quaternion x')\n",
    "# ax[0].legend()\n",
    "# Plot y result, no legend\n",
    "ax[1].plot(basilisk_results['time'], basilisk_attitude[:,1])\n",
    "ax[1].plot(sedaro_ts, sedaro_attitude_results[:,1])\n",
    "ax[1].plot(sedaro_ts, -sedaro_attitude_results[:, 1], ':')\n",
    "ax[1].set_ylabel('Quaternion y')\n",
    "# Plot z result, no legend\n",
    "ax[2].plot(basilisk_results['time'], basilisk_attitude[:,2])\n",
    "ax[2].plot(sedaro_ts, sedaro_attitude_results[:,2])\n",
    "ax[2].plot(sedaro_ts, -sedaro_attitude_results[:, 2], ':')\n",
    "ax[2].set_ylabel('Quaternion z')\n",
    "ax[2].set_xlabel('Time (s)')\n",
    "fig.set_tight_layout(True)\n",
    "plt.show()"
   ]
  },
  {
   "cell_type": "code",
   "execution_count": null,
   "metadata": {},
   "outputs": [],
   "source": [
    "# Plot the angle between\n",
    "fig, ax = plt.subplots(1, 1)\n",
    "basilisk_time_arr = basilisk_results['time'].to_numpy()\n",
    "diff_angles = [np.degrees(angleBetweenClosestQuaternions(sedaro_q, t_1, basilisk_attitude, basilisk_results['time'])) for sedaro_q, t_1 in zip(sedaro_attitude_results, sedaro_ts)]\n",
    "ax.plot(sedaro_ts, diff_angles)\n",
    "ax.set_ylabel('Angle between closest quaternions (deg)')\n",
    "ax.set_xlabel('Time (s)')"
   ]
  },
  {
   "cell_type": "code",
   "execution_count": null,
   "metadata": {},
   "outputs": [],
   "source": [
    "sedaro_gg = np.array(agent_results.block('root').gravityGradientTorque.values)"
   ]
  },
  {
   "cell_type": "code",
   "execution_count": null,
   "metadata": {},
   "outputs": [],
   "source": [
    "basilisk_gg = np.array([[x,y,z] for x,y,z in zip(basilisk_results['gg_torque_x'], basilisk_results['gg_torque_y'], basilisk_results['gg_torque_z'])])"
   ]
  },
  {
   "cell_type": "code",
   "execution_count": null,
   "metadata": {},
   "outputs": [],
   "source": [
    "indices = [findClosestIndex(s_t, basilisk_time_arr) for s_t in sedaro_ts]\n",
    "diff_torque = [np.linalg.norm(s_gg - basilisk_gg[i]) for i, s_gg in zip(indices, sedaro_gg)]\n",
    "diff_angles = [angleBetweenQuaternion(s_q, basilisk_attitude[i]) for i, s_q in zip(indices, sedaro_attitude_results)]\n",
    "fig, ax = plt.subplots()\n",
    "ax.scatter(diff_angles, diff_torque)\n",
    "ax.set_xlabel('Angle between quaternions')\n",
    "ax.set_ylabel('Difference in torque')"
   ]
  },
  {
   "cell_type": "code",
   "execution_count": null,
   "metadata": {},
   "outputs": [],
   "source": [
    "diff_torque_v = np.array([s_gg - basilisk_gg[i] for i, s_gg in zip(indices, sedaro_gg)])\n",
    "fig, ax = plt.subplots()\n",
    "ax.plot(sedaro_ts, diff_torque_v[:, 0], label='x')\n",
    "ax.plot(sedaro_ts, diff_torque_v[:, 1], label='y')\n",
    "ax.plot(sedaro_ts, diff_torque_v[:, 2], label='z')\n",
    "ax.legend()\n",
    "ax.set_xlabel('Time (s)')\n",
    "ax.set_ylabel('Torque Difference (Nm)')"
   ]
  },
  {
   "cell_type": "code",
   "execution_count": null,
   "metadata": {},
   "outputs": [],
   "source": [
    "fig,ax = plt.subplots(3, 1)\n",
    "ax[0].plot(sedaro_ts, agent_results.block(x_wheel_id).speed.values, label='sedaro')\n",
    "ax[0].plot(basilisk_time_arr, basilisk_results['rw_x_omega'], label='basilisk')\n",
    "ax[0].set_ylabel('Wheel Speed x')\n",
    "ax[0].legend()\n",
    "ax[1].plot(sedaro_ts, agent_results.block(y_wheel_id).speed.values)\n",
    "ax[1].plot(basilisk_time_arr, basilisk_results['rw_y_omega'])\n",
    "ax[1].set_ylabel('Wheel Speed y')\n",
    "ax[2].plot(sedaro_ts, agent_results.block(z_wheel_id).speed.values)\n",
    "ax[2].plot(basilisk_time_arr, basilisk_results['rw_z_omega'])\n",
    "ax[2].set_ylabel('Wheel Speed z')\n",
    "ax[2].set_xlabel('Time (s)')\n",
    "fig.set_tight_layout(True)\n",
    "plt.show()"
   ]
  },
  {
   "cell_type": "code",
   "execution_count": null,
   "metadata": {},
   "outputs": [],
   "source": []
  }
 ],
 "metadata": {
  "kernelspec": {
   "display_name": "sedaro",
   "language": "python",
   "name": "sedaro"
  },
  "language_info": {
   "codemirror_mode": {
    "name": "ipython",
    "version": 3
   },
   "file_extension": ".py",
   "mimetype": "text/x-python",
   "name": "python",
   "nbconvert_exporter": "python",
   "pygments_lexer": "ipython3",
   "version": "3.11.3"
  },
  "orig_nbformat": 4
 },
 "nbformat": 4,
 "nbformat_minor": 2
}
