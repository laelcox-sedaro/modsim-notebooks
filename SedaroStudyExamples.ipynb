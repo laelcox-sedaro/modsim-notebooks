{
 "cells": [
  {
   "cell_type": "markdown",
   "id": "5a053b78-b637-4e78-93e3-32ac4700d76b",
   "metadata": {},
   "source": [
    "# Sedaro Studies Example Notebook\n",
    "Demostrates Sedaro Studies support via the sedaro python client using a Jupyter notebook."
   ]
  },
  {
   "cell_type": "markdown",
   "id": "a4d87cc2-78b1-4113-8fbe-a17f7da1b39a",
   "metadata": {},
   "source": [
    "> Task\n",
    "Where users can adapt them to do their own studies. It should be obvious where the top level override configuration is done as well as the feedback loop (in the case of the Monte Carlo). The notebooks should demonstrate the ability to run many simulations in parallel.  In the monte carlo case, this will be via batches of N sims that are run and then the results pulled and then another N run depending on feedback loop.\n",
    "- Public jupyter notebooks for:\n",
    "    - Wildfire Trade Space Analysis: Battery Size vs. Mass\n",
    "    - Wildfire Monte Carlo: \n",
    "        - Vary uncertainty on:\n",
    "            - Moment of magnetorquers\n",
    "            - Mass of reaction wheels\n",
    "            -  Initial position, velocity, and attitude\n",
    "            - Vary random seeds of sensors by changing simulation-wide seen\n",
    "        - To understand uncertainty of average pointing error\n"
   ]
  },
  {
   "cell_type": "markdown",
   "id": "3abf7051-878e-4921-927c-b91b830ac70a",
   "metadata": {},
   "source": [
    "# Introduction"
   ]
  },
  {
   "cell_type": "markdown",
   "id": "fb73afd7-c6bf-4917-b62f-8c9b37b10266",
   "metadata": {},
   "source": [
    "This notebook demostrates how to use the new Studies support added to Sedaro. \n",
    "The core of this support is the new API python client object **SimStudy**\n",
    "SimStudy will generate and run a series of SimJobs in parallel up to account capacity limits. The remaining simjobs will be placed in a queue and will be execute when resources are available. "
   ]
  },
  {
   "cell_type": "markdown",
   "id": "159380f4-4e05-4f5f-bacf-fc0127f39cc2",
   "metadata": {},
   "source": [
    "# Setup"
   ]
  },
  {
   "cell_type": "markdown",
   "id": "565c8bb0-33b5-46e2-9ea0-f8030a8b90c3",
   "metadata": {},
   "source": [
    "Requires\n",
    "- Sedaro Account          --> https://www.sedaro.com\n",
    "- Sedaro API Token        --> https://www.sedaro.com/#/account\n",
    "- Wildfire Demo Branch ID --> login --> select/click or create workspace --> select/click Project: [DEMO] WildFire --> select/click  Repositories: [DEMO] Wildfire Scenarios --> copy main branch ID via clipboard icon (insert screen shot)\n",
    "- Python 3.10+ installed  --> https://www.python.org\n",
    "- Jupyter notebook or lab --> https://jupyter.org\n"
   ]
  },
  {
   "cell_type": "markdown",
   "id": "5506746f-6d01-4235-b05b-6a306f63f483",
   "metadata": {},
   "source": [
    "## Pip requirements"
   ]
  },
  {
   "cell_type": "code",
   "execution_count": null,
   "id": "cba98eb9-e2de-4bc4-af30-9c401bbdbbcf",
   "metadata": {},
   "outputs": [],
   "source": [
    "# create/activate a python venv if desired\n",
    "\n",
    "# https://github.com/sedaro/sedaro-python\n",
    "# Required\n",
    "!python -m pip install -e sedaro pytest mathplotlib pandas sweetviz"
   ]
  },
  {
   "cell_type": "code",
   "execution_count": null,
   "id": "8c8c33e6-d2b1-4519-8597-4ebbee06b468",
   "metadata": {},
   "outputs": [],
   "source": [
    "# or replace python with python3 if needed \n",
    "!python -m pip install -e sedaro pytest mathplotlib pandas sweetviz"
   ]
  },
  {
   "cell_type": "code",
   "execution_count": null,
   "id": "474d1d2d-f58f-4718-853d-24d5ffdd6ed4",
   "metadata": {},
   "outputs": [],
   "source": [
    "# optional \n",
    "!pip3 install sweetviz"
   ]
  },
  {
   "cell_type": "code",
   "execution_count": 31,
   "id": "a2766def-43d2-4126-958b-c8ee17383c32",
   "metadata": {},
   "outputs": [],
   "source": [
    "import sedaro\n",
    "import yaml\n",
    "import json\n",
    "import matplotlib.pyplot as plt\n",
    "import pandas as pd\n",
    "\n",
    "# optional\n",
    "import sweetviz as sv"
   ]
  },
  {
   "cell_type": "code",
   "execution_count": null,
   "id": "7604a592-a5b7-414f-9ca9-1e33605988b8",
   "metadata": {},
   "outputs": [],
   "source": []
  },
  {
   "cell_type": "markdown",
   "id": "e6a45eb2-0af3-4891-95fd-a79e82bf4227",
   "metadata": {},
   "source": [
    "## Sedaro python client setup"
   ]
  },
  {
   "cell_type": "code",
   "execution_count": 36,
   "id": "9aa55f8b-b408-4b2a-b2f3-b8717cf85f83",
   "metadata": {},
   "outputs": [],
   "source": [
    "Sedaro_api_host  = \"http://localhost:80\" # \"api.sedaro.com\"\n",
    "Sedaro_api_token = \"PKNxBcgPj8Hl6vzhJhTgDp.mPjNiu-ZmWxwm6buhu3pjic8aNyQaYnGWpaMgE7051uvCUVJI4SvzBasB_BzvoPnDcB7CqWDq4umZl7w9q5aFw\"\n",
    "sedaroAPI = sedaro.SedaroApiClient(api_key=Sedaro_api_token, host=Sedaro_api_host)"
   ]
  },
  {
   "cell_type": "code",
   "execution_count": null,
   "id": "923ebc8f-029f-4b0f-93fb-4b063b816d74",
   "metadata": {},
   "outputs": [],
   "source": []
  },
  {
   "cell_type": "markdown",
   "id": "2d736410-1076-4fdb-ae30-9bad51d65e96",
   "metadata": {},
   "source": [
    "## Load wildfire scenario branch data"
   ]
  },
  {
   "cell_type": "code",
   "execution_count": 54,
   "id": "6118aee4-8497-4ceb-9b16-75813455a1f9",
   "metadata": {},
   "outputs": [],
   "source": [
    "scenario_branch_id = \"PKNxCWQL8N3cR5CG7YS6X3\"\n",
    "wildfire_scenario_branch = sedaroAPI.scenario(scenario_branch_id)"
   ]
  },
  {
   "cell_type": "code",
   "execution_count": null,
   "id": "844c1c70-d9ee-41f8-b346-960e967cc996",
   "metadata": {},
   "outputs": [],
   "source": [
    "wildfire_scenario_branch.study(sedaroAPI, scenario_branch_id)"
   ]
  },
  {
   "cell_type": "markdown",
   "id": "a35c4002-69ff-4302-86ca-113a1de7ce1a",
   "metadata": {},
   "source": [
    "# Overview of the Study objects"
   ]
  },
  {
   "cell_type": "markdown",
   "id": "1fa701de-7ed2-49b7-b8d2-c674376b12a1",
   "metadata": {},
   "source": [
    "## Study\n",
    "Create via\n",
    "```\n",
    "resource = f'/simulations/branches/{scenario_branch_id}/control/study/'\n",
    "result = sedaroAPI.request.post(resource,\n",
    "       body={\n",
    "            \"iterations\": 3\n",
    "            })\n",
    "```\n",
    "| Class Method | Arguments  | Returns | Description |\n",
    "| :-: | :-: | :-: | :- | \n",
    "| start | ( iterations: int ) | StudyHandle | Starts study corresponding to the respective Sedaro Scenario Branch id. |\n",
    "| status | ( job_id: str = None ) | StudyHandle |  Refreshes the local study status. |\n",
    "| terminate | ( job_id: str = None ) | StudyHandle | Terminate latest running simulation job corresponding to the respective Sedaro Scenario Branch id. |\n",
    "|  |  |  | If a `job_id` is provided, that simulation job will be terminated rather than the latest. |\n",
    "| |\n",
    "| results | (job_id: str = None) | StudyResult | Query latest scenario study result. If a `job_id` is passed, query for corresponding sim results rather than latest. |\n",
    "| results_poll | ( job_id: str = None, retry_interval: int = 2) | StudyResult | Query latest scenario study result and wait for sim to finish if it's running. | \n",
    "| | | | If a `job_id` is passed, query for corresponding study results rather than latest. See `results` method for details on using the `streams` kwarg. |\n",
    "| |\n",
    "| stats_results | () | StudyStatsResult | Retuens a 'StudyStatsResult' instance of Statistics based on the study result data |\n"
   ]
  },
  {
   "cell_type": "markdown",
   "id": "9ffa7ad7-5075-4235-8ae4-0c090cb40629",
   "metadata": {},
   "source": [
    "## StudyHandle\n",
    "\n",
    "| Class Method | Arguments  | Returns | Description |\n",
    "| :-: | :-: | :-: | :- | \n",
    "| get | (key, default=None) | StudyHandle | Returns a Study handle with the given key |\n",
    "| status | (err_if_empty: bool = True) | StudyHandle | Refreshes the local study status. |\n",
    "| terminate | () | StudyHandle | Terminate the running study. |\n",
    "| |\n",
    "| results | () | StudyResults | Query study results. |\n",
    "| results_poll | (retry_interval: int = 2) | StudyResults | Query study results but wait for sim to finish if it's running. See `results` method for details on using the `streams` kwarg. |\n",
    "| |\n",
    "| stats_results | () | StudyStatsResult | Returns a StudyStatResult object |"
   ]
  },
  {
   "cell_type": "markdown",
   "id": "781fd264-a468-45b7-9db6-fc5f2da68482",
   "metadata": {},
   "source": [
    "## StudyResults\n",
    "By default, this class will lazily load simulation results as requested\n",
    "and cache them in-memory. Different caching options can be enabled with\n",
    "the .set_cache method.\n",
    "        \n",
    "| Class Method | Arguments  | Returns | Description |\n",
    "| :-: | :-: | :-: | :- | \n",
    "| id | () | int | Returns the id of the StudyResult Object |\n",
    "| branch | () | str | Returns the branch id of the StudyResult Object |\n",
    "| scenario_hash | () | str | Returns a unique hash |\n",
    "| status | () | str | xx |\n",
    "| date_created | () | datetime | xx |\n",
    "| date_modified | () | datetime | xx |\n",
    "| job_ids | () | List[int] | Returns a list of SimJob id's created by the Study.start method |\n",
    "| iterations | () | int | Returns the number of SimJobs created by the Study.start method |\n",
    "| set_cache | (cache: bool = True, cache_dir: str = None) | None | Set caching options for this study result. |\n",
    "| | | | cache: Boolean option to turn caching on or off. |\n",
    "| | | | cache_dir: Path to a directory for on-disk caching. |\n",
    "| result | (id_: str, streams: Optional[List[Tuple[str, ...]]] = None) | SimulationResult | Query results for a particular simulation. |\n",
    "| clear_cache | () | None | Clears the cache files in the cache_dir |\n",
    "| summarize | () | None | Summarize these results in the console.' |\n"
   ]
  },
  {
   "cell_type": "markdown",
   "id": "9b8ef351-f911-4041-b381-54e3695d6f68",
   "metadata": {},
   "source": [
    "## StudyStatsResults\n",
    "By default, this class will lazily load simulation results as requested\n",
    "and cache them in-memory. Different caching options can be enabled with\n",
    "the .set_cache method.\n",
    "\n",
    "| Class Method | Arguments  | Returns | Description |\n",
    "| :-: | :-: | :-: | :- | \n",
    "| id | () | int | Returns the id of the StudyResult Object |\n",
    "| branch | () | str | Returns the branch id of the StudyResult Object |\n",
    "| scenario_hash | () | str | Returns a unique hash |\n",
    "| status | () | str | xx |\n",
    "| date_created | () | datetime | xx |\n",
    "| date_modified | () | datetime | xx |\n",
    "| job_ids | () | List[int] | Returns a list of SimJob id's created by the Study.start method |\n",
    "| iterations | () | int | Returns the number of SimJobs created by the Study.start method |\n",
    "| set_cache | (cache: bool = True, cache_dir: str = None) | None | Set caching options for this study result. |\n",
    "| | | | cache: Boolean option to turn caching on or off. |\n",
    "| | | | cache_dir: Path to a directory for on-disk caching. |\n",
    "| result | (id_: str, streams: Optional[List[Tuple[str, ...]]] = None) | SimulationResult | Query results for a particular simulation. |\n",
    "| clear_cache | () | None | Clears the cache files in the cache_dir |\n",
    "| summarize | () | None | Summarize these results in the console.' |\n",
    "| stats_results | (_ids=None ) | dict[simjob_id, pandas.dataframe] | Packages the sim results into a dictory of simjob_id to sim results as a pandas dataframe |\n",
    "| xx | xx | xx | xx |\n",
    "| xx | xx | xx | xx |\n",
    "| xx | xx | xx | xx |"
   ]
  },
  {
   "cell_type": "code",
   "execution_count": null,
   "id": "66d263d1-75c1-4ccc-9550-5b6ba1af5ef0",
   "metadata": {},
   "outputs": [],
   "source": []
  },
  {
   "cell_type": "markdown",
   "id": "625e7a95-66f8-4dfe-967f-2a53f5c1a2eb",
   "metadata": {},
   "source": [
    "# Overview of the overrides feature"
   ]
  },
  {
   "cell_type": "markdown",
   "id": "267696eb-dc9c-4ae1-bd45-6d7f685bc246",
   "metadata": {},
   "source": [
    "## What do they do\n",
    "- Change anything and choose how it is varied\n",
    " - Adds Model snapshotting\n",
    " - Choice is Deterministic between Simulation runs"
   ]
  },
  {
   "cell_type": "markdown",
   "id": "d4ec1111-8a2c-47dd-8209-fbea8b8a393d",
   "metadata": {},
   "source": [
    "## Paths\n",
    "an addressing means to access a parameter of an Agents block. Currently there are two version:\n",
    "- \"path\":  Agent Name / blockname / parameter name / sub series\n",
    " - Example: “Wildfire/Crosslink/minTimeBetweenOccurrences/min”\n",
    " - Uses “/“ to mimic file locations\n",
    " - More human readable\n",
    "- \"agent_key\": agent_id.data.blocks.block_id.parameter.subseries\n",
    " - Example: “NT0LWIfSJ1RIenKpUmJEV.data.blocks.NV0bIfUUj9e6l-PX4ql1V.loadDefParams.power”\n",
    " - Uses ‘.’ for the separator\n",
    " - Similar to how Sedaro results streams are named"
   ]
  },
  {
   "cell_type": "markdown",
   "id": "57ec01d5-4de8-491b-ad1b-9a2dc9257b2f",
   "metadata": {},
   "source": [
    "## Variables\n",
    "Used to ensure consistany when assigning random values to parameters For example if the area of a solar panel is randomly assigned, then  "
   ]
  },
  {
   "cell_type": "markdown",
   "id": "4c2366d2-e3f6-4765-8542-c862485794b9",
   "metadata": {},
   "source": [
    "### Built-in"
   ]
  },
  {
   "cell_type": "markdown",
   "id": "fb7438a4-6b47-4d7f-a57d-f9dd945f809e",
   "metadata": {},
   "source": [
    "### User defined"
   ]
  },
  {
   "cell_type": "code",
   "execution_count": 32,
   "id": "1bdee15a-9280-4db3-8400-2984c3cd5bcb",
   "metadata": {},
   "outputs": [],
   "source": [
    "variables = [\n",
    "        {\n",
    "            \"name\": \"gyroHotTemp\",\n",
    "            \"path\": \"Wildfire/Gyro/hotTempRating/degC\",      \n",
    "        },\n",
    "        {\n",
    "            \"name\": \"gyro_Sandwich\",\n",
    "            \"equals\": \"tasty\"\n",
    "        }\n",
    "    ]"
   ]
  },
  {
   "cell_type": "code",
   "execution_count": null,
   "id": "fd35cd28-9cc5-467e-a538-e553a28b5f02",
   "metadata": {},
   "outputs": [],
   "source": []
  },
  {
   "cell_type": "code",
   "execution_count": null,
   "id": "6f8afe29-1588-4d22-9e3d-7111a8f9ecbc",
   "metadata": {},
   "outputs": [],
   "source": []
  },
  {
   "cell_type": "code",
   "execution_count": 33,
   "id": "8942f17c-ace6-4e7d-97b1-e591a601b651",
   "metadata": {},
   "outputs": [],
   "source": [
    "overrides = [\n",
    "        {\n",
    "            \"path\": \"Wildfire/Gyro/hotTempRating/degC\", # 100.0\n",
    "            \"fn\": \"=\",\n",
    "            \"arg\": 90.0\n",
    "        },\n",
    "    ...\n",
    "]"
   ]
  },
  {
   "cell_type": "code",
   "execution_count": 34,
   "id": "cf2182dd-3f2d-49be-a29a-22a9f9feaceb",
   "metadata": {},
   "outputs": [
    {
     "data": {
      "text/plain": [
       "[{'path': 'Wildfire/Gyro/hotTempRating/degC', 'fn': '=', 'arg': 90.0},\n",
       " Ellipsis]"
      ]
     },
     "execution_count": 34,
     "metadata": {},
     "output_type": "execute_result"
    }
   ],
   "source": [
    "overrides"
   ]
  },
  {
   "cell_type": "code",
   "execution_count": null,
   "id": "c028c712-2156-4932-b0e7-ac5dd887ce84",
   "metadata": {},
   "outputs": [],
   "source": []
  },
  {
   "cell_type": "code",
   "execution_count": null,
   "id": "a7b93e1d-fa4d-4684-82b4-75f79de9fa59",
   "metadata": {},
   "outputs": [],
   "source": []
  },
  {
   "cell_type": "code",
   "execution_count": null,
   "id": "25037acc-859d-4d4f-9498-95a15f6f4151",
   "metadata": {},
   "outputs": [],
   "source": []
  },
  {
   "cell_type": "markdown",
   "id": "8452788e-0d59-4ab4-bcbc-9725beead323",
   "metadata": {},
   "source": [
    "## Available overrides"
   ]
  },
  {
   "cell_type": "markdown",
   "id": "e3602488-b997-45bb-96fe-a99ae05d7694",
   "metadata": {},
   "source": [
    "### fn"
   ]
  },
  {
   "cell_type": "markdown",
   "id": "613853fd-0384-4ee1-8ce3-d19c0dd3f2ec",
   "metadata": {},
   "source": [
    "Executes the function and places the result into the provided Parameter Path"
   ]
  },
  {
   "cell_type": "markdown",
   "id": "c56a6d78-0313-4a70-a0cd-0095515b33c6",
   "metadata": {},
   "source": [
    "##### basic math operators +, -, *, /\n",
    "##### Python random module functions\n",
    "\n",
    "| Basic Math Operators | Random Module |  |   |   |\n",
    "| :-: | - | - | - | - |\n",
    "| + | choices | sample | randrange | uniform |\n",
    "| - | triangular |expovariate | gammavariate | gauss |\n",
    "| * | normalvariate | lognormvariate | vonmisesvariate | paretovariate| \n",
    "| / | weibullvariate |\n"
   ]
  },
  {
   "cell_type": "markdown",
   "id": "0f133363-97fc-4eb5-a420-99c59a931ae0",
   "metadata": {},
   "source": [
    "### fn_chain\n",
    "Performs the provided list of fn overrides in order, each time storing the result in the given parameter path   "
   ]
  },
  {
   "cell_type": "markdown",
   "id": "16e4269e-c940-4a83-8a3b-afb9b882f9ec",
   "metadata": {},
   "source": [
    "### sim_index\n",
    "Used to perform tradespace studies. The StudyJob object will create SimJobs each with an unique index. The **sim_index** override will use this index to select from a list of **fn** overrides to use for that SimJob.\n",
    "\n",
    "The **sim_index**  is modulated by the size of the provided override fn list\n",
    "> fn used = fn_list[ int(sim_index)%len(fn_list) ]\n"
   ]
  },
  {
   "cell_type": "markdown",
   "id": "28b2223d-7bdd-4087-a5e2-81ab49735535",
   "metadata": {},
   "source": [
    "### copy_value_to (*Working name*)"
   ]
  },
  {
   "cell_type": "code",
   "execution_count": null,
   "id": "de16eac4-73b3-467b-8311-3724c5ed20c3",
   "metadata": {},
   "outputs": [],
   "source": []
  },
  {
   "cell_type": "markdown",
   "id": "ef70df6e-e33c-4e42-bb58-22ed3aa6db67",
   "metadata": {},
   "source": [
    "### clamp"
   ]
  },
  {
   "cell_type": "code",
   "execution_count": null,
   "id": "179aeef1-cdcb-4916-8330-9b21a3722648",
   "metadata": {},
   "outputs": [],
   "source": []
  },
  {
   "cell_type": "markdown",
   "id": "363f1c99-6279-4a07-b4a0-7ec0e1c4c7a9",
   "metadata": {},
   "source": [
    "### clampRedo(*soon*)"
   ]
  },
  {
   "cell_type": "code",
   "execution_count": null,
   "id": "8bff4d85-ab5b-4ffc-9c4e-d71c953a3818",
   "metadata": {},
   "outputs": [],
   "source": []
  },
  {
   "cell_type": "code",
   "execution_count": null,
   "id": "af02dc32-7c4d-448f-a402-f58d90395de6",
   "metadata": {},
   "outputs": [],
   "source": []
  },
  {
   "cell_type": "code",
   "execution_count": null,
   "id": "3cd04aa0-fc5b-4de2-980c-d2cf09a2ca9d",
   "metadata": {},
   "outputs": [],
   "source": []
  },
  {
   "cell_type": "markdown",
   "id": "ed450dc7-58ba-4129-9023-6c99856b1d88",
   "metadata": {},
   "source": [
    "# Example Studies"
   ]
  },
  {
   "cell_type": "code",
   "execution_count": null,
   "id": "27d77409-a9aa-4db9-89d8-725ad51dd69e",
   "metadata": {},
   "outputs": [],
   "source": []
  },
  {
   "cell_type": "code",
   "execution_count": null,
   "id": "832d4cc1-13b7-4026-98f4-d135b3100243",
   "metadata": {},
   "outputs": [],
   "source": []
  },
  {
   "cell_type": "markdown",
   "id": "04e3411d-175e-4995-8aed-78606df59373",
   "metadata": {
    "editable": true,
    "slideshow": {
     "slide_type": ""
    },
    "tags": []
   },
   "source": []
  },
  {
   "cell_type": "markdown",
   "id": "5e98193d-8fca-4349-a04b-ed19eedcdeba",
   "metadata": {},
   "source": [
    "## Wildfire Tradespace Analysis: Battery Size vs. Mass effects on Agent maneuverability\n",
    "### Optional: Load shared workspace to skip setup and running the study\n",
    "\n",
    "#### Tradespace table used\n",
    "#### Overrides used\n"
   ]
  },
  {
   "cell_type": "markdown",
   "id": "d617a5e4-844e-4342-9ad2-9683ed15a1ba",
   "metadata": {},
   "source": [
    "### Setup"
   ]
  },
  {
   "cell_type": "markdown",
   "id": "ba61963f-8e52-4b8f-bda5-2b5935638d52",
   "metadata": {},
   "source": [
    "#### Deternmine Parameter Paths"
   ]
  },
  {
   "cell_type": "markdown",
   "id": "aa48613c-9abd-4d01-844e-f4c0796b7128",
   "metadata": {},
   "source": [
    "#### Create tradespace table "
   ]
  },
  {
   "cell_type": "markdown",
   "id": "b311fbe6-ac06-45c2-bed1-ca0cd6a81a0d",
   "metadata": {},
   "source": [
    "| Agent Parameter | Sim Alpha Value | Sim Beta Value | Sim Charlie Value | Parameter Path | Agent_ID_PATH |\n",
    "| :-: | :-: | :-: | :-: | :-: | :-: |\n",
    "| Battery Size | 9999 | 8888 | 7777 | xxxx | yyyy |\n",
    "| Mass | 6666 | 5555 | 4444 | aaaa | bbbb |"
   ]
  },
  {
   "cell_type": "markdown",
   "id": "235df35e-ac3c-41bb-9bda-bc1db5bf3627",
   "metadata": {},
   "source": []
  },
  {
   "cell_type": "markdown",
   "id": "e0b4f978-bc9b-4fb5-b2fd-161f688f2d82",
   "metadata": {},
   "source": [
    "#### Create overrides from tradespace table"
   ]
  },
  {
   "cell_type": "code",
   "execution_count": null,
   "id": "7dda1091-e55b-46d1-a28c-9fb068758f94",
   "metadata": {},
   "outputs": [],
   "source": []
  },
  {
   "cell_type": "code",
   "execution_count": null,
   "id": "357d7753-e16c-4c5f-a5f8-434c71bfb710",
   "metadata": {},
   "outputs": [],
   "source": [
    "tradespace_overrides_dict = {}"
   ]
  },
  {
   "cell_type": "code",
   "execution_count": null,
   "id": "97d7577f-a580-43cb-97eb-3516c88b534c",
   "metadata": {},
   "outputs": [],
   "source": [
    "tradespace_overrides_block = wildfire_branch.OverrideSet.create(**tradespace_overrides_dict)"
   ]
  },
  {
   "cell_type": "markdown",
   "id": "d069bfdc-2f6f-4e1a-be4e-43cb585f0bf0",
   "metadata": {},
   "source": [
    "record the generated override block ID"
   ]
  },
  {
   "cell_type": "markdown",
   "id": "64ccf2f9-d100-47e1-bb61-e00125f34903",
   "metadata": {},
   "source": [
    "#### Create Study "
   ]
  },
  {
   "cell_type": "code",
   "execution_count": null,
   "id": "1375e154-e932-4f1b-a6a3-0f5ee5dede9b",
   "metadata": {},
   "outputs": [],
   "source": [
    "study_id = 'PK5Z4Mrx8Phf7ZbgGqy4Rr'\n",
    "study_control_resource = f'/simulations/branches/{scenario_id}/control/study/{study_id}'"
   ]
  },
  {
   "cell_type": "markdown",
   "id": "65a14dbe-7221-4f0c-8e9d-c0bb675e271b",
   "metadata": {},
   "source": [
    "### Run Study"
   ]
  },
  {
   "cell_type": "code",
   "execution_count": null,
   "id": "bc843191-12c0-4397-955d-5828818157a6",
   "metadata": {},
   "outputs": [],
   "source": [
    "study_status = sedaroAPI.request.get(study_control_resource)"
   ]
  },
  {
   "cell_type": "code",
   "execution_count": null,
   "id": "f74f1575-c2be-4e4a-8bd3-f4dff3f7d770",
   "metadata": {},
   "outputs": [],
   "source": [
    "study_status"
   ]
  },
  {
   "cell_type": "code",
   "execution_count": null,
   "id": "6235d3b4-880d-45c5-b456-92da6a3ced52",
   "metadata": {},
   "outputs": [],
   "source": [
    "study_job_ids = study_status['jobs']"
   ]
  },
  {
   "cell_type": "code",
   "execution_count": null,
   "id": "99135f12-6445-45e4-97bd-4ca90725e716",
   "metadata": {},
   "outputs": [],
   "source": [
    "[ sedaroAPI.request.get(f'/simulations/branches/{scenario_id}/control/{job_id}') for job_id in study_job_ids]"
   ]
  },
  {
   "cell_type": "markdown",
   "id": "b5519b29-709c-4ee4-b67f-7d6dc3788cd5",
   "metadata": {},
   "source": [
    "### Load Study results"
   ]
  },
  {
   "cell_type": "code",
   "execution_count": null,
   "id": "30970fc1-a4f2-49ef-8e89-d547f2976421",
   "metadata": {},
   "outputs": [],
   "source": [
    "study_alpha_results = studyjob.result(study_job_ids[0])"
   ]
  },
  {
   "cell_type": "markdown",
   "id": "19122d3c-e423-4c37-a8f3-c5baef6fa342",
   "metadata": {},
   "source": [
    "### Analyze Study results"
   ]
  },
  {
   "cell_type": "code",
   "execution_count": null,
   "id": "80abcf94-4185-4172-9504-759fb73333ca",
   "metadata": {},
   "outputs": [],
   "source": [
    "study_alpha_results.summarize()"
   ]
  },
  {
   "cell_type": "code",
   "execution_count": null,
   "id": "46d226dd-2537-4109-8fe6-3affba5f7eb3",
   "metadata": {},
   "outputs": [],
   "source": [
    "study_alpha_Wildfire_agent_result = study_first_results.agent('Wildfire')"
   ]
  },
  {
   "cell_type": "code",
   "execution_count": null,
   "id": "3d9c4e56-981f-4f52-a3c1-fc1e8e2ec7cd",
   "metadata": {},
   "outputs": [],
   "source": [
    "study_alpha_Wildfire_agent_result.stats(module='cdh')"
   ]
  },
  {
   "cell_type": "code",
   "execution_count": null,
   "id": "03368dff-bd27-447b-948c-9724e2bf68f5",
   "metadata": {},
   "outputs": [],
   "source": [
    "study_alpha_Wildfire_agent_result.blockname(\"Magnetometer\").stats()"
   ]
  },
  {
   "cell_type": "code",
   "execution_count": null,
   "id": "21afc3bf-03ca-4b2d-96c8-544edb697996",
   "metadata": {},
   "outputs": [],
   "source": [
    "study_alpha_Wildfire_agent_result.blockname(\"Magnetometer\").scatter_matrix()"
   ]
  },
  {
   "cell_type": "code",
   "execution_count": null,
   "id": "32867ae4-d717-484a-bb89-973cb59587d8",
   "metadata": {},
   "outputs": [],
   "source": [
    "plain_first_results =  wildfire_branch.simulation.results_plain(streams=[(wildfire_agent_id,'CDH')])"
   ]
  },
  {
   "cell_type": "code",
   "execution_count": null,
   "id": "5255ff6c-7d29-474a-a798-60d664e25b40",
   "metadata": {},
   "outputs": [],
   "source": [
    "with open(\"first_CDH_results.json\", 'w') as writer:\n",
    "    writer.write(str(plain_first_results))"
   ]
  },
  {
   "cell_type": "code",
   "execution_count": null,
   "id": "082340a6-b196-48f4-9d95-051a0a5dc1b1",
   "metadata": {},
   "outputs": [],
   "source": [
    "first_results = wildfire_branch.simulation.results(study_job_ids[1],[(wildfire_agent_id,'CDH')])"
   ]
  },
  {
   "cell_type": "code",
   "execution_count": null,
   "id": "1a5646b7-e12f-4d92-93b3-30ce5098248a",
   "metadata": {},
   "outputs": [],
   "source": [
    "first_results.summarize()"
   ]
  },
  {
   "cell_type": "code",
   "execution_count": null,
   "id": "bea47cf0-e418-4d76-8425-fb9f438c5c4d",
   "metadata": {},
   "outputs": [],
   "source": [
    "first_results.agent('Wildfire').stats('cdh', make_histogram_plots=False)"
   ]
  },
  {
   "cell_type": "code",
   "execution_count": null,
   "id": "0d2de15f-61ab-4609-9852-ff216f86d898",
   "metadata": {},
   "outputs": [],
   "source": [
    "(first_results.agent('Wildfire').blockname('Fire: Chichen Itza').summarize())"
   ]
  },
  {
   "cell_type": "code",
   "execution_count": null,
   "id": "c3e78828-c5a7-479a-a573-230c0ea6d8d4",
   "metadata": {},
   "outputs": [],
   "source": [
    "(first_results.agent('Wildfire').blockname('Fire: Chichen Itza').stats())"
   ]
  },
  {
   "cell_type": "code",
   "execution_count": null,
   "id": "fba61d2d-5d6f-40d5-b3e2-433add229ed2",
   "metadata": {},
   "outputs": [],
   "source": [
    "first_results.agent('Wildfire').blockname('LaserComm-4').range['km'].stats(output_html=False)"
   ]
  },
  {
   "cell_type": "code",
   "execution_count": null,
   "id": "8bd02d9a-1ef3-4030-bdf1-53ac88a76556",
   "metadata": {},
   "outputs": [],
   "source": [
    "second_results = wildfire_branch.simulation.results(study_job_ids[1],[(wildfire_agent_id,'CDH')])"
   ]
  },
  {
   "cell_type": "code",
   "execution_count": null,
   "id": "3c0166ac-bfd7-45b5-98eb-db960fcfb1e1",
   "metadata": {},
   "outputs": [],
   "source": [
    "second_results.agent('Wildfire').blockname('LaserComm-4').targetElevation['deg'].plot()"
   ]
  },
  {
   "cell_type": "code",
   "execution_count": null,
   "id": "c58bb53b-c26b-491c-aed9-0aeb55891ca4",
   "metadata": {},
   "outputs": [],
   "source": []
  },
  {
   "cell_type": "code",
   "execution_count": null,
   "id": "ee533bd8-6215-44f6-a796-59775341ed93",
   "metadata": {},
   "outputs": [],
   "source": [
    "tradespace_studyjob = wildfire_branch.study.results('PK5Z4Mrx8Phf7ZbgGqy4Rr')"
   ]
  },
  {
   "cell_type": "code",
   "execution_count": null,
   "id": "3895770f-4662-47ff-9a52-71598ddd5d35",
   "metadata": {},
   "outputs": [],
   "source": [
    "studyjob.summarize()"
   ]
  },
  {
   "cell_type": "code",
   "execution_count": null,
   "id": "de23318b-e8d3-4449-8030-59200dd83916",
   "metadata": {},
   "outputs": [],
   "source": []
  },
  {
   "cell_type": "code",
   "execution_count": null,
   "id": "0e1b6427-1df8-42f5-a4b0-b09aa9e5d867",
   "metadata": {},
   "outputs": [],
   "source": []
  },
  {
   "cell_type": "code",
   "execution_count": null,
   "id": "4db1f35c-832c-4c03-a912-2d55168bc0a3",
   "metadata": {},
   "outputs": [],
   "source": []
  },
  {
   "cell_type": "markdown",
   "id": "944c0e9c-d2f6-4827-bae0-dd13effc517f",
   "metadata": {},
   "source": [
    "## Wildfire Monte Carlo Analysis: Understand uncertainty of average pointing error\n",
    "Parameters to vary:\n",
    "- Moment of magnetorquers\n",
    "- Mass of reaction wheels\n",
    "- Initial position, velocity, and attitude\n",
    "- Vary random seeds of sensors by changing simulation-wide seen\n",
    "- \n",
    "### Optional: Load shared workspace to skip setup and running the study\n",
    "\n",
    "#### Tradespace table used\n",
    "#### Overrides used"
   ]
  },
  {
   "cell_type": "markdown",
   "id": "08d25c6e-d541-446a-9f8a-3e5412b91ecf",
   "metadata": {},
   "source": [
    "### Setup"
   ]
  },
  {
   "cell_type": "markdown",
   "id": "9c445cb7-af6c-40d1-9667-72a49631c356",
   "metadata": {},
   "source": [
    "#### Table of Agent parameters to vary"
   ]
  },
  {
   "cell_type": "markdown",
   "id": "5f0575ee-07f5-4dc9-a682-576d768813d7",
   "metadata": {},
   "source": [
    "#### Determine how to vary the parameters"
   ]
  },
  {
   "cell_type": "markdown",
   "id": "72834402-5003-48ef-83a2-eb51154d986e",
   "metadata": {},
   "source": [
    "#### Create Overrides"
   ]
  },
  {
   "cell_type": "markdown",
   "id": "3f81b90f-3cab-4677-ad0c-9d51de415541",
   "metadata": {},
   "source": [
    "#### Create Study"
   ]
  },
  {
   "cell_type": "markdown",
   "id": "ac230593-4a8d-4f1b-a25a-27b3629c7124",
   "metadata": {},
   "source": [
    "### Run Study"
   ]
  },
  {
   "cell_type": "markdown",
   "id": "9b99f834-daa7-4f71-b6e0-b4ed4249a2c3",
   "metadata": {},
   "source": [
    "### Load Study Results"
   ]
  },
  {
   "cell_type": "markdown",
   "id": "606c4ce4-9657-4476-9a3e-9709c0eed0b7",
   "metadata": {},
   "source": [
    "### Analyze Results"
   ]
  },
  {
   "cell_type": "code",
   "execution_count": null,
   "id": "b6c52039-6f0d-4c58-85a2-1de62d5a74bc",
   "metadata": {},
   "outputs": [],
   "source": []
  },
  {
   "cell_type": "code",
   "execution_count": null,
   "id": "f0c8c948-3dac-43b3-8d10-081798dcb3e9",
   "metadata": {},
   "outputs": [],
   "source": [
    "monte_carlo_overrides_block = wildfire_branch.OverrideSet.create(**monte_carlo_overrides_dict)"
   ]
  },
  {
   "cell_type": "code",
   "execution_count": null,
   "id": "5140e5dd-ac82-4048-8604-6259fa9942dd",
   "metadata": {},
   "outputs": [],
   "source": []
  },
  {
   "cell_type": "markdown",
   "id": "7f6830dd-b09c-46d1-9193-ddf7690c57ba",
   "metadata": {},
   "source": []
  },
  {
   "cell_type": "code",
   "execution_count": null,
   "id": "a7ea0082-1af5-459f-a2ee-bbbbf1886c1f",
   "metadata": {},
   "outputs": [],
   "source": []
  },
  {
   "cell_type": "markdown",
   "id": "d04c7658-2474-4d5e-bc0b-fd459651eb1e",
   "metadata": {},
   "source": [
    "# Appendix A: Python client plot/statistics features"
   ]
  },
  {
   "cell_type": "markdown",
   "id": "fa97478b-4b7b-42af-a264-299530d81d7d",
   "metadata": {},
   "source": [
    "## Agent level"
   ]
  },
  {
   "cell_type": "markdown",
   "id": "9dad276a-5e10-446c-a875-196dfffabff0",
   "metadata": {},
   "source": [
    "## Block level"
   ]
  },
  {
   "cell_type": "markdown",
   "id": "b47e414d-64c2-4eea-bb13-aa97561018bb",
   "metadata": {},
   "source": [
    "## Parameter level"
   ]
  },
  {
   "cell_type": "markdown",
   "id": "266f47fc-6846-4e82-86cd-0e4d145fb50c",
   "metadata": {},
   "source": [
    "## Study level"
   ]
  },
  {
   "cell_type": "code",
   "execution_count": null,
   "id": "59fe146f-bab2-464f-99d1-b2f871508773",
   "metadata": {},
   "outputs": [],
   "source": []
  }
 ],
 "metadata": {
  "kernelspec": {
   "display_name": "Python 3 (ipykernel)",
   "language": "python",
   "name": "python3"
  },
  "language_info": {
   "codemirror_mode": {
    "name": "ipython",
    "version": 3
   },
   "file_extension": ".py",
   "mimetype": "text/x-python",
   "name": "python",
   "nbconvert_exporter": "python",
   "pygments_lexer": "ipython3",
   "version": "3.11.6"
  }
 },
 "nbformat": 4,
 "nbformat_minor": 5
}
