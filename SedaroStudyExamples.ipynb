{
 "cells": [
  {
   "attachments": {},
   "cell_type": "markdown",
   "id": "5a053b78-b637-4e78-93e3-32ac4700d76b",
   "metadata": {},
   "source": [
    "# Sedaro Studies Example Notebook \n",
    "Demonstrates Sedaro Studies support via the sedaro python client using a Jupyter notebook."
   ]
  },
  {
   "attachments": {},
   "cell_type": "markdown",
   "id": "a4d87cc2-78b1-4113-8fbe-a17f7da1b39a",
   "metadata": {},
   "source": [
    "(REMOVE BEFORE PUBLISHING)\n",
    "> Task \n",
    "Where users can adapt them to do their own studies. It should be obvious where the top level override configuration is done as well as the feedback loop (in the case of the Monte Carlo). The notebooks should demonstrate the ability to run many simulations in parallel.  In the monte carlo case, this will be via batches of N sims that are run and then the results pulled and then another N run depending on feedback loop.\n",
    "- Public jupyter notebooks for:\n",
    "    - Wildfire Trade Space Analysis: Battery Size vs. Mass\n",
    "    - Wildfire Monte Carlo: \n",
    "        - Vary uncertainty on:\n",
    "            - Moment of magnetorquers\n",
    "            - Mass of reaction wheels\n",
    "            -  Initial position, velocity, and attitude\n",
    "            - Vary random seeds of sensors by changing simulation-wide seen\n",
    "        - To understand uncertainty of average pointing error\n"
   ]
  },
  {
   "attachments": {},
   "cell_type": "markdown",
   "id": "3abf7051-878e-4921-927c-b91b830ac70a",
   "metadata": {},
   "source": [
    "# Introduction  \n",
    "This notebook demonstrates how to use the new Studies support added to Sedaro. \n",
    "The core of this support is the new API python client object **SimStudy**.\n",
    "**SimStudy** will generate and run a series of *SimJobs* in parallel up to account capacity limits. The remaining simjobs will be placed in a queue and will be execute when resources are available. \n",
    "\n",
    "Each *SimJob* of a **SimStudy** will set the random seed to a different value in order to generate different output results from the simulation.\n",
    "The **Overrides** feature takes this a step further by providing a means to adjust any starting value of any model of the simulation using a set of pre-defined functions. In other words, each *SimJob* of a **SimStudy** will run a baseline Scenario branch with model parameters variations in order to observe their effects on performance results."
   ]
  },
  {
   "attachments": {},
   "cell_type": "markdown",
   "id": "159380f4-4e05-4f5f-bacf-fc0127f39cc2",
   "metadata": {},
   "source": [
    "# Setup\n",
    "Running this notebook requires the following:\n",
    "- A Sedaro Account            --> https://www.sedaro.com\n",
    "- A Sedaro API Token          --> https://www.sedaro.com/#/account\n",
    "- The Wildfire Demo Branch ID --> login --> select/click or create workspace --> select/click Project: [DEMO] WildFire --> select/click  Repositories: [DEMO] Wildfire Scenarios --> copy main branch ID via clipboard icon (TODO insert screen shot)\n",
    "- Python 3.10+ installed      --> https://www.python.org\n",
    "- Jupyter notebook or lab     --> https://jupyter.org"
   ]
  },
  {
   "attachments": {},
   "cell_type": "markdown",
   "id": "5506746f-6d01-4235-b05b-6a306f63f483",
   "metadata": {},
   "source": [
    "## Pip requirements\n",
    "Create/activate a python venv if desired"
   ]
  },
  {
   "cell_type": "code",
   "execution_count": null,
   "id": "ef850272-9617-449e-a66a-df1ce475f89f",
   "metadata": {},
   "outputs": [],
   "source": [
    "!python -m venv /path/to/new/virtual/environment"
   ]
  },
  {
   "attachments": {},
   "cell_type": "markdown",
   "id": "c1030e59-4909-471c-aa8f-3057015ca840",
   "metadata": {},
   "source": [
    "Activate it via this table\n",
    "| Platform | Shell | Command to activate virtual environment |\n",
    "| :- | :- | :- |\n",
    "| POSIX | bash/zsh |  source <venv>/bin/activate |\n",
    "| | fish |  source <venv>/bin/activate.fish |\n",
    "| | csh/tcsh |  source <venv>/bin/activate.csh |\n",
    "| | PowerShell |  <venv>/bin/Activate.ps1 |\n",
    "| Windows | cmd.exe | C:\\> <venv>\\Scripts\\activate.bat |\n",
    "| | PowerShell | PS C:\\> <venv>\\Scripts\\Activate.ps1 |"
   ]
  },
  {
   "attachments": {},
   "cell_type": "markdown",
   "id": "eb0fe246-e57f-4bd6-893f-492b752b6003",
   "metadata": {},
   "source": [
    "Required python modules:\n",
    "> replace *python* with *python3* if needed "
   ]
  },
  {
   "cell_type": "code",
   "execution_count": null,
   "id": "1a5a0edc-dafa-431e-8e1e-c9a01d7b5a6f",
   "metadata": {},
   "outputs": [],
   "source": [
    "!python -m pip install -e sedaro pytest mathplotlib pandas sweetviz"
   ]
  },
  {
   "attachments": {},
   "cell_type": "markdown",
   "id": "9a3519f2",
   "metadata": {},
   "source": [
    "or"
   ]
  },
  {
   "cell_type": "code",
   "execution_count": null,
   "id": "cd7cdb22-bfeb-49c0-8686-d36a311ac7e3",
   "metadata": {},
   "outputs": [],
   "source": [
    "!python3 -m pip install -e sedaro pytest mathplotlib pandas sweetviz"
   ]
  },
  {
   "attachments": {},
   "cell_type": "markdown",
   "id": "cdf741b3-bb16-4605-a230-38dbb39ec564",
   "metadata": {
    "jp-MarkdownHeadingCollapsed": true
   },
   "source": [
    "Optional module needed by the stats() function if desired "
   ]
  },
  {
   "cell_type": "code",
   "execution_count": null,
   "id": "2bebfa21-d791-4f00-992f-08e68821385f",
   "metadata": {},
   "outputs": [],
   "source": [
    "!pip3 install sweetviz"
   ]
  },
  {
   "attachments": {},
   "cell_type": "markdown",
   "id": "524abc97-18a3-497e-9d80-2468b8ae9870",
   "metadata": {},
   "source": [
    "Run the following cells to test if all required python modules are installed correctly"
   ]
  },
  {
   "cell_type": "code",
   "execution_count": null,
   "id": "ffb9ab5d-dae7-4ca9-9dc9-1ad02389aa03",
   "metadata": {},
   "outputs": [],
   "source": [
    "import sedaro\n",
    "import yaml\n",
    "import json\n",
    "import matplotlib.pyplot as plt\n",
    "import pandas as pd"
   ]
  },
  {
   "cell_type": "code",
   "execution_count": null,
   "id": "ddd2aad9-e196-49b3-9b4c-4e3113efe825",
   "metadata": {},
   "outputs": [],
   "source": [
    "# optional\n",
    "import sweetviz as sv"
   ]
  },
  {
   "attachments": {},
   "cell_type": "markdown",
   "id": "7604a592-a5b7-414f-9ca9-1e33605988b8",
   "metadata": {},
   "source": [
    "## Important: Read Before Running\n",
    "\n",
    "This notebook makes changes to agent and scenario branches indicated in the settings section. Ensure any changes to the target branches are saved prior to running this code. Sedaro recommends committing current changes and creating new branches in the target repositories to avoid loss of work.\n",
    "\n",
    "This notebook also requires that you have previously generated an API key in the web UI. That key should be stored in a file called `secrets.json` in the same directory as this notebook with the following format:\n",
    "\n",
    "```json\n",
    "{\n",
    "    \"API_KEY\": \"<API_KEY>\"\n",
    "}\n",
    "```\n",
    "\n",
    "API keys grant full access to your repositories and should never be shared. If you think your API key has been compromised, you can revoke it in the user settings interface on the Sedaro website."
   ]
  },
  {
   "attachments": {},
   "cell_type": "markdown",
   "id": "e6a45eb2-0af3-4891-95fd-a79e82bf4227",
   "metadata": {},
   "source": [
    "\n",
    "\n",
    "## Sedaro python client setup\n",
    "Note: More information about the sedaro-python client can be found here: [https://github.com/sedaro/sedaro-python]\n",
    "\n",
    "\n",
    "In the next cell, adjust the following variables as needed\n",
    "- *Sedaro_api_host*\n",
    "- *Sedaro_api_token*"
   ]
  },
  {
   "cell_type": "code",
   "execution_count": null,
   "id": "9aa55f8b-b408-4b2a-b2f3-b8717cf85f83",
   "metadata": {},
   "outputs": [],
   "source": [
    "Sedaro_api_host  = \"http://localhost:80\" # \"api.sedaro.com\"\n",
    "\n",
    "# Set your API token value either directly or via loading a secrets file\n",
    "# !! NOTE !!  Be careful not to check in your API Key into a source control repo  !! Note !!\n",
    "secretPath = '/Users/sedaro/Documents/sedaro/sedaro-satellite/secrets.json'\n",
    "with open(secretPath, 'r') as file:\n",
    "    Sedaro_api_token = json.load(file)['API_KEY']\n",
    "    \n",
    "sedaroAPI = sedaro.SedaroApiClient(api_key=Sedaro_api_token, host=Sedaro_api_host)"
   ]
  },
  {
   "cell_type": "code",
   "execution_count": null,
   "id": "923ebc8f-029f-4b0f-93fb-4b063b816d74",
   "metadata": {},
   "outputs": [],
   "source": []
  },
  {
   "attachments": {},
   "cell_type": "markdown",
   "id": "2d736410-1076-4fdb-ae30-9bad51d65e96",
   "metadata": {},
   "source": [
    "## Load the wildfire scenario branch data\n",
    "Change the value of the *scenario_branch_id* in the next cell to the branch id noted above during the **Setup** section.\n",
    "then run the following cell:"
   ]
  },
  {
   "cell_type": "code",
   "execution_count": 54,
   "id": "6118aee4-8497-4ceb-9b16-75813455a1f9",
   "metadata": {},
   "outputs": [],
   "source": [
    "scenario_branch_id = \"PKNxCWQL8N3cR5CG7YS6X3\"\n",
    "wildfire_scenario_branch = sedaroAPI.scenario(scenario_branch_id)"
   ]
  },
  {
   "attachments": {},
   "cell_type": "markdown",
   "id": "a35c4002-69ff-4302-86ca-113a1de7ce1a",
   "metadata": {},
   "source": [
    "# Overview of the Study objects\n",
    "Existing Study objects of a scenario_branch object can be listed via runnng the following cell:  "
   ]
  },
  {
   "cell_type": "code",
   "execution_count": null,
   "id": "cfd65021-ad04-4fc8-870f-3837f3f11756",
   "metadata": {},
   "outputs": [],
   "source": [
    "wildfire_scenario_branch.study.get_all()"
   ]
  },
  {
   "attachments": {},
   "cell_type": "markdown",
   "id": "1b73867f-8f75-4e37-83a5-0ad22be2d5b2",
   "metadata": {},
   "source": [
    "but if this is the first time running this notebook then an empty list will be returned ( [] )."
   ]
  },
  {
   "attachments": {},
   "cell_type": "markdown",
   "id": "1fa701de-7ed2-49b7-b8d2-c674376b12a1",
   "metadata": {},
   "source": [
    "## Study\n",
    "Created via the sedaro-python REST post method   \n",
    "```\n",
    "resource = f'/simulations/branches/{scenario_branch_id}/control/study/'\n",
    "result = sedaroAPI.request.post(resource,\n",
    "       body={\n",
    "            \"iterations\": 3\n",
    "            })\n",
    "```\n",
    "where the body can have the following options:\n",
    "- iterations:\n",
    "- seed:\n"
   ]
  },
  {
   "attachments": {},
   "cell_type": "markdown",
   "id": "9ffa7ad7-5075-4235-8ae4-0c090cb40629",
   "metadata": {},
   "source": []
  },
  {
   "cell_type": "code",
   "execution_count": null,
   "id": "66d263d1-75c1-4ccc-9550-5b6ba1af5ef0",
   "metadata": {},
   "outputs": [],
   "source": []
  },
  {
   "attachments": {},
   "cell_type": "markdown",
   "id": "625e7a95-66f8-4dfe-967f-2a53f5c1a2eb",
   "metadata": {},
   "source": [
    "# Overview of the overrides feature\n",
    "Overrides provide a means of varying Agent model parameters in a scenario to explore trade spaces and result sensitivities in your Agent design.  \n",
    "\n",
    "Summary of what do overrides do?\n",
    "- Change starting values of model parameters via selected functions\n",
    " - Saves these model parameter changes so they can be loaded and re-run later \n",
    "- The **Function** random choices are deterministic between simulation runs.\n"
   ]
  },
  {
   "attachments": {},
   "cell_type": "markdown",
   "id": "267696eb-dc9c-4ae1-bd45-6d7f685bc246",
   "metadata": {},
   "source": [
    "\n",
    "\n",
    "Override objects consist of a:\n",
    " - **path** to the Agent model parameter to change and a \n",
    " - **function** to perform the actual change itself.\n",
    "\n",
    "> Note: *Variables* can be used to hold a value of a model parameter or a constant. They are used to ease modification of override values and provide a means to ensure overall model consistency.\n",
    "\n",
    "The **functions** used to change Agent model parameters support trade-space tables and randomized assignment via functions available in Pythons Random module."
   ]
  },
  {
   "attachments": {},
   "cell_type": "markdown",
   "id": "d4ec1111-8a2c-47dd-8209-fbea8b8a393d",
   "metadata": {},
   "source": [
    "## Paths\n",
    "An addressing means to access a parameter of an Agents block. Currently there are two versions:\n",
    "- \"**path**\": A human readable format based on the names of models and its components. \n",
    " - Format: Agent Name / blockname / parameter name / sub series\n",
    " - Example: “Wildfire/Crosslink/minTimeBetweenOccurrences/min”\n",
    " - Uses “/“ as a delimiter to mimic file location paths\n",
    "- \"**agent_key**\": Based on the ids of a model and its components.\n",
    " - Format: agent_id.data.blocks.block_id.parameter.subseries\n",
    " - Example: “NT0LWIfSJ1RIenKpUmJEV.data.blocks.NV0bIfUUj9e6l-PX4ql1V.loadDefParams.power”\n",
    " - Uses ‘.’ for the separator\n",
    " - Similar to how Sedaro results streams are named"
   ]
  },
  {
   "attachments": {},
   "cell_type": "markdown",
   "id": "57ec01d5-4de8-491b-ad1b-9a2dc9257b2f",
   "metadata": {},
   "source": [
    "## Variables\n",
    "Used to ensure consistency when assigning random values to parameters. When a model parameter is set with the result of a random fn,  then its value can be saved to a variable in order to update other model parameters that are affected by the change. \n",
    "\n",
    "> For example if the area of a solar panel is randomly assigned via a selected distribution function, then the mass of the panel and the Agents overall mass, will need to be adjusted accordingly.\n",
    "\n"
   ]
  },
  {
   "attachments": {},
   "cell_type": "markdown",
   "id": "4c2366d2-e3f6-4765-8542-c862485794b9",
   "metadata": {},
   "source": [
    "### Built-in Variables\n",
    "Always available to use as values for function arguments\n",
    "\n",
    "| Name | Description |\n",
    "| :-: | :- |\n",
    "| x |  Replaced by the value in the parameter path before the function is run |\n",
    "| original | Same as 'x' but more explicit |"
   ]
  },
  {
   "attachments": {},
   "cell_type": "markdown",
   "id": "fb7438a4-6b47-4d7f-a57d-f9dd945f809e",
   "metadata": {},
   "source": [
    "### User defined\n",
    "Defined in the \"variables\" section of the overrides datastructure\n",
    "\n",
    "**add overrides structure map here**\n",
    "\n",
    "\n",
    "or defined as a list of json objects"
   ]
  },
  {
   "cell_type": "code",
   "execution_count": null,
   "id": "01d00649-02b9-45cc-8130-99338bed226d",
   "metadata": {},
   "outputs": [],
   "source": [
    "wildfire_scenario_branch.Variable"
   ]
  },
  {
   "cell_type": "code",
   "execution_count": 32,
   "id": "1bdee15a-9280-4db3-8400-2984c3cd5bcb",
   "metadata": {},
   "outputs": [],
   "source": [
    "variables = [\n",
    "        {\n",
    "            \"name\": \"gyroHotTemp\",\n",
    "            \"path\": \"Wildfire/Gyro/hotTempRating/degC\",      \n",
    "        },\n",
    "        {\n",
    "            \"name\": \"gyro_Sandwich\",\n",
    "            \"equals\": \"tasty\"\n",
    "        }\n",
    "    ]"
   ]
  },
  {
   "attachments": {},
   "cell_type": "markdown",
   "id": "0512a410-4365-4076-ad7e-7a50dab07ebd",
   "metadata": {},
   "source": [
    "Variables must have a 'name' and either:\n",
    "- A **path** or **Agent_path** which assigned the variable to the parameters starting value\n",
    "- A **equals** which sets the variable to a given value.\n",
    " - This value must be the same type of the parameter, aka string, int, or float\n",
    "  - A key: value pair is used for paths with sub series\n",
    "   - Example: { \"Degrees\": 90 } \n",
    " - Values in arrays or lists must have the index in the path address"
   ]
  },
  {
   "cell_type": "code",
   "execution_count": null,
   "id": "6f8afe29-1588-4d22-9e3d-7111a8f9ecbc",
   "metadata": {},
   "outputs": [],
   "source": []
  },
  {
   "attachments": {},
   "cell_type": "markdown",
   "id": "cf2182dd-3f2d-49be-a29a-22a9f9feaceb",
   "metadata": {},
   "source": [
    "## Override Functions\n",
    "A function executed with provided arguments and stores the result in the model parameter listed in the path key."
   ]
  },
  {
   "attachments": {},
   "cell_type": "markdown",
   "id": "8452788e-0d59-4ab4-bcbc-9725beead323",
   "metadata": {},
   "source": [
    "### Available override functions\n",
    "From basic arithmetic to drawing random numbers from a distribution, Sedaro provides a number of built-in functions for use to set starting values of Agent model parameters. \n",
    "\n",
    "#### Fn Summary Table\n",
    "| Basic Math Operators | | Python | Random Module |   |\n",
    "| :-: | -|  - | - | - |\n",
    "| + | | choices | sample | randrange | \n",
    "| - | | uniform |triangular |expovariate | \n",
    "| * | | gammavariate | gauss | normalvariate | \n",
    "| / | | lognormvariate | vonmisesvariate | \n",
    "| = | | paretovariate | weibullvariate |\n"
   ]
  },
  {
   "attachments": {},
   "cell_type": "markdown",
   "id": "be58b0fb-e672-451a-add5-61b4d16e5326",
   "metadata": {},
   "source": [
    "#### Basic math operators +, -, *, /, =\n",
    "Performs the math operator with the current value of the model parameter then stores the results on the given parameter\n",
    "\n",
    "Examples:\n",
    "```\n",
    "{\n",
    "    \"path\": \"Wildfire/Gyro/hotTempRating/degC\",\n",
    "    \"fn\": \"=\",\n",
    "    \"arg\": 90.0\n",
    "},\n",
    "```\n",
    "- Sets the model parameter *Wildfire/Gyro/hotTempRating/degC* to 90.0, overriding its original value of 100.0\n",
    "\n",
    "```\n",
    "{\n",
    "   \"path\": \"Wildfire/Power Processor/thermalCapacitance\",\n",
    "   \"fn\": \"*\",\n",
    "   \"arg\": 1.2\n",
    "}\n",
    "```\n",
    "- Will multiply the original value of the *Wildfire/Power Processor/thermalCapacitance* model parameter by 1.2\n",
    "- Then it will set the result to the *Wildfire/Power Processor/thermalCapacitance* model parameter"
   ]
  },
  {
   "attachments": {},
   "cell_type": "markdown",
   "id": "dce1dbb3-90ef-4ae1-89ca-91033e6f9eb6",
   "metadata": {},
   "source": [
    "#### Python random module functions\n",
    "Allows the use of the functions available in pythons random module. These include various random number draws from various types of distribution curves, choices from a list with weights, and so on. More information about these functions can be found here: [https://docs.python.org/3/library/random.html]\n",
    "\n",
    "---\n",
    "- Functions for integers\n",
    "  - Randrange(start, stop[, step]) \n",
    "    - generates a random integer within the specified range\n",
    "\n",
    "---\n",
    "- Functions for sequences\n",
    "  -  Choices(population, weights=None, *, cum_weights=None, k=1) \n",
    "    - Return a k sized list of elements chosen from the population with replacement. \n",
    "  -  Sample(population, k, *, counts=None) \n",
    "    - Return a k length list of unique elements chosen from the population sequence. Used for random sampling without replacement.\n",
    "\n",
    "---\n",
    "- Real-valued distributions\n",
    "  - Uniform(a, b) \n",
    "    - generates a random float between a and b\n",
    "  - Triangular(low, high, mode) \n",
    "    - Return a random floating point number N such that low <= N <= high\n",
    "  - Expovariate(lambd=1.0) \n",
    "    - Exponential distribution. lambd is 1.0 divided by the desired mean. It should be nonzero.\n",
    "  - gammavariate(alpha, beta) \n",
    "    - Gamma distribution. (Not the gamma function!) The shape and scale parameters, alpha and beta, must have positive values.\n",
    "  - gauss(mu=0.0, sigma=1.0) \n",
    "    - Normal distribution, also called the Gaussian distribution. mu is the mean, and sigma is the standard deviation. \n",
    "  - normalvariate(mu=0.0, sigma=1.0) \n",
    "    - Normal distribution. mu is the mean, and sigma is the standard deviation.\n",
    "  - lognormvariate(mu, sigma) \n",
    "    - Log normal distribution. If you take the natural logarithm of this distribution, you’ll get a normal distribution with mean mu and standard deviation sigma. \n",
    "  - vonmisesvariate(mu, kappa) \n",
    "    - mu is the mean angle, expressed in radians between 0 and 2*pi, and kappa is the concentration parameter, which must be greater than or equal to zero.\n",
    "  - paretovariate(alpha) \n",
    "    - Pareto distribution. alpha is the shape parameter.\n",
    "  - weibullvariate(alpha, beta) \n",
    "    - Weibull distribution. alpha is the scale parameter and beta is the shape parameter.\n",
    "---\n",
    "\n",
    "Examples:\n",
    "```\n",
    "{\n",
    "    \"path\": \"Wildfire/Battery/initialSoc\", # starts as 0.8.\n",
    "    \"fn\": \"choices\",\n",
    "    \"population\": [0.6, 0.9], \n",
    "    \"weights\":[1.0, 0.5], \n",
    "    \"k\":1\n",
    "},\n",
    "```\n",
    "Will run the python *random.choices* function with **[0.6, 0.9]** as its *population* and **[1.0,0.5]** as its *weights* arguements\n",
    "and sets the Agent Model parameter **Wildfire/Battery/initialSoc** to the result.\n",
    "\n",
    "\n",
    "```\n",
    "{\n",
    "    \"path\": \"Wildfire/-Z Surface/temperature/degC\", # 20.0\n",
    "    \"fn\": \"normalvariate\",\n",
    "    \"mu\": \"x\", \n",
    "    \"sigma\": 2.0 \n",
    "},\n",
    "```\n",
    "Runs the python *random.normalvariate* function with the arguement *sigma* set to **2.0** and the *mu* arguement set to the current Agents Model parameter **'Wildfire/-Z Surface/temperature/degC'** value. \n",
    "> In this example: If the current parameter \"Wildfire/-Z Surface/temperature/degC\" value was **20.0**, then the *'x'* is replaced by **20.0** which is then used as the *mu* argument for the function call.\n"
   ]
  },
  {
   "attachments": {},
   "cell_type": "markdown",
   "id": "aae379fc-5029-4c93-87cf-ebd7c8562ec4",
   "metadata": {},
   "source": [
    "##### Function Signatures\n",
    "Varies, based on the signature of the python random module itself. See the Signatures addendix for details. \n",
    "\n",
    "Example:\n",
    "The python random module function \"WeibullVariate\" has the following signature:\n",
    "```\n",
    "class WeibullVariate(PathFn):\n",
    "    fn: Literal[\"weibullvariate\"]\n",
    "    alpha: int | float \n",
    "    beta:  int | float \n",
    "```\n",
    "This states the WeibullVariate function expects its alpha and beta parameters to be an integer, float, or string\n",
    "> Do note arguments can be set with *str* types in this context of defined variable names which are replaced by the variable value before running the function. \n"
   ]
  },
  {
   "attachments": {},
   "cell_type": "markdown",
   "id": "0f133363-97fc-4eb5-a420-99c59a931ae0",
   "metadata": {},
   "source": [
    "### fn_chain\n",
    "Performs the provided list of fn overrides in order, each time storing the result in the given parameter path  \n",
    "\n",
    "Signature:\n",
    "```\n",
    "class FnChain(PAthFn):\n",
    "    fn_chain: List[ possible_fns ]\n",
    "```\n",
    "\n",
    "Example:\n",
    "Given the following **fn_chain** override json\n",
    "```\n",
    "{\n",
    "   \"path\": \"Wildfire/Power Processor/thermalCapacitance\",\n",
    "   \"fn_chain\": [\n",
    "          {\"fn\": \"*\", \"arg\": 1.2}, \n",
    "          {\"fn\": \"-\", \"arg\": 1.0}, \n",
    "          {\"fn\": \"triangular\", \"low\": 4000, \"high\": 4500, \"mode\": \"x\" },\n",
    "          {\"fn\": \"clamp\", \"low\": 4100} ]\n",
    "}\n",
    "```\n",
    "- Will first multiply the value located in the *thermalCapacitance* parameter of the *Wildfire/Power Processor* model by **1.2**\n",
    "- Then it will substract **1.0** from the previous result\n",
    "- Then draw a random value from a *triangular* shaped distribution centered around the **current result** *(x is replaced by the current result)*, with low of **4000** and the high of **4500**\n",
    "- Then clamp the final result to be **4100** or greater\n",
    "- the final result is then stored in the *Wildfire/Power Processor/thermalCapacitance* parameter"
   ]
  },
  {
   "attachments": {},
   "cell_type": "markdown",
   "id": "16e4269e-c940-4a83-8a3b-afb9b882f9ec",
   "metadata": {},
   "source": [
    "### sim_index\n",
    "Used to perform tradespace studies. The StudyJob object will create SimJobs each with an unique index. The **sim_index** override will use this index to select from a list of **fn** overrides to use for that SimJob.\n",
    "\n",
    "The **sim_index**  is modulated by the size of the provided override fn list\n",
    "> fn used = fn_list[ int(sim_index)%len(fn_list) ]\n",
    "\n",
    "Signature\n",
    "```\n",
    "class SimIndex(PathFn):\n",
    "    sim_index: List[ possible_fns ]\n",
    "```\n",
    "Example:\n",
    "Given the following **sim_index** entry JSON \n",
    "\n",
    "```\n",
    "\"seed_index\": [ \n",
    "                {\"fn\": \"uniform\",\n",
    "                  \"a\": 2900.0, \n",
    "                  \"b\": 3100  },\n",
    "                {\"fn\": \"=\", \"arg\": 3000.0}, \n",
    "                {\"fn\": \"*\", \"arg\": 1.2}, \n",
    "             ]\n",
    "```\n",
    "\n"
   ]
  },
  {
   "attachments": {},
   "cell_type": "markdown",
   "id": "28b2223d-7bdd-4087-a5e2-81ab49735535",
   "metadata": {},
   "source": [
    "### copy_value_to (*Working name*)\n",
    "Copies the current value of a model parameter into a variable.\n",
    "\n",
    "Example:"
   ]
  },
  {
   "cell_type": "code",
   "execution_count": null,
   "id": "de16eac4-73b3-467b-8311-3724c5ed20c3",
   "metadata": {},
   "outputs": [],
   "source": []
  },
  {
   "attachments": {},
   "cell_type": "markdown",
   "id": "ef70df6e-e33c-4e42-bb58-22ed3aa6db67",
   "metadata": {},
   "source": [
    "### clamp\n",
    "Bounds a parameter value to a given range. Meant to be used with a fn_chain to ensure a randomly set vallue is within valid bounds.\n",
    "\n",
    "Example:"
   ]
  },
  {
   "cell_type": "code",
   "execution_count": null,
   "id": "179aeef1-cdcb-4916-8330-9b21a3722648",
   "metadata": {},
   "outputs": [],
   "source": []
  },
  {
   "attachments": {},
   "cell_type": "markdown",
   "id": "363f1c99-6279-4a07-b4a0-7ec0e1c4c7a9",
   "metadata": {},
   "source": [
    "### clampRedo(*coming soon-ish*)\n",
    "Will rerun an overfunction if the result is outside a given range. Meant to be used with random based override functions.\n",
    "\n",
    "Example:"
   ]
  },
  {
   "cell_type": "code",
   "execution_count": null,
   "id": "8bff4d85-ab5b-4ffc-9c4e-d71c953a3818",
   "metadata": {},
   "outputs": [],
   "source": []
  },
  {
   "cell_type": "code",
   "execution_count": null,
   "id": "af02dc32-7c4d-448f-a402-f58d90395de6",
   "metadata": {},
   "outputs": [],
   "source": []
  },
  {
   "cell_type": "code",
   "execution_count": null,
   "id": "3cd04aa0-fc5b-4de2-980c-d2cf09a2ca9d",
   "metadata": {},
   "outputs": [],
   "source": []
  },
  {
   "attachments": {},
   "cell_type": "markdown",
   "id": "ed450dc7-58ba-4129-9023-6c99856b1d88",
   "metadata": {},
   "source": [
    "# Example Studies"
   ]
  },
  {
   "cell_type": "code",
   "execution_count": null,
   "id": "27d77409-a9aa-4db9-89d8-725ad51dd69e",
   "metadata": {},
   "outputs": [],
   "source": []
  },
  {
   "cell_type": "code",
   "execution_count": null,
   "id": "832d4cc1-13b7-4026-98f4-d135b3100243",
   "metadata": {},
   "outputs": [],
   "source": []
  },
  {
   "attachments": {},
   "cell_type": "markdown",
   "id": "04e3411d-175e-4995-8aed-78606df59373",
   "metadata": {
    "editable": true,
    "slideshow": {
     "slide_type": ""
    },
    "tags": []
   },
   "source": []
  },
  {
   "attachments": {},
   "cell_type": "markdown",
   "id": "5e98193d-8fca-4349-a04b-ed19eedcdeba",
   "metadata": {},
   "source": [
    "## Wildfire Tradespace Analysis: Battery Size vs. Mass effects on Agent maneuverability\n",
    "The first study example will show the effects of Agent maneuverability, measured by the Wildfire Agent total in Field of view time to its ground stations, by the choice of battery size and weight. \n",
    "\n",
    "### Setup\n",
    "Find or make a branch of the wildfire scenaro and record its ID value.\n",
    "\n",
    "### Optional: Load shared workspace to skip setup and running the study\n",
    "\n",
    "#### Research\n",
    "- Data sources: \n",
    "  - Spec sheets for satellite batteries (https://www.eaglepicher.com/markets/space/satellites/)\n",
    "\n",
    "In particular:\n",
    "- Primary Lithium-Ion Cells Space COTS Batteries Offerings from Eaglepicher\n",
    "  - (https://www.eaglepicher.com/sites/default/files/COTS%201022.pdf):\n",
    "  - <img src=\"attachment:7f97e497-fb94-4de2-9a3c-fca9fce91918.png\" width=\"30%\">\n",
    "|  | Specifications |\n",
    "| :-: | :-: |\n",
    "| Nominal Voltage | 28.0 V |\n",
    "| Maximum Voltage | 33.6 V |\n",
    "| Minimum Voltage | 24.0 V |\n",
    "| Max Discharge Current | 60 A |\n",
    "| Operating Temperature | -10 to 45°C (14 to 113°F) |\n",
    "\n",
    "  - <img src=\"attachment:d38371e6-3107-4e01-8e5b-3a4111e940b9.png\" width=\"50%\">\n",
    "| Model | Capacity | Variation | Cell Type | Weight lbs(kgs) | Length in.(mm) | Width in. (mm) | Height in. (mm) |\n",
    "| :-: | :-: | :-: | :-: | :-: | :-: | :-: | :-: |\n",
    "| SAR-10237 | 27.0 Ah | 10P8S | Power | 12.68 (5.75) | 10.66 (271) | 6.80 (173) | 6.8 (173) | 3.54 (90) |\n",
    "| SAR-10243 | 31.5 Ah | | Energy |  |\n",
    "| |\n",
    "| SAR-10239 | 32.4 Ah | 12P8S | Power | 12.68 (5.75) | 14.88 (6.75) |12.06 (306) | 6.8 (173) | 3.54 (90) |\n",
    "| SAR-10243 | 31.5 Ah |  | Energy |  |\n",
    "\n",
    "\n",
    "#### Create tradespace table \n",
    "| Agent Parameter | Sim Alpha Value | Sim Beta Value | Sim Charlie Value | Parameter Path | Agent_ID_PATH |\n",
    "| :-: | :-: | :-: | :-: | :-: | :-: |\n",
    "| Battery Size | 9999 | 8888 | 7777 | xxxx | yyyy |\n",
    "| Mass | 6666 | 5555 | 4444 | aaaa | bbbb |\n",
    "\n",
    "\n",
    "#### Deternmine Parameter Paths\n",
    "The paths we will be modifying will be\n",
    "- /wildfire/\n",
    "\n",
    "\n",
    "#### Overrides used\n",
    "\n"
   ]
  },
  {
   "attachments": {},
   "cell_type": "markdown",
   "id": "d617a5e4-844e-4342-9ad2-9683ed15a1ba",
   "metadata": {},
   "source": []
  },
  {
   "attachments": {},
   "cell_type": "markdown",
   "id": "ba61963f-8e52-4b8f-bda5-2b5935638d52",
   "metadata": {},
   "source": []
  },
  {
   "attachments": {},
   "cell_type": "markdown",
   "id": "aa48613c-9abd-4d01-844e-f4c0796b7128",
   "metadata": {},
   "source": []
  },
  {
   "attachments": {},
   "cell_type": "markdown",
   "id": "b311fbe6-ac06-45c2-bed1-ca0cd6a81a0d",
   "metadata": {},
   "source": []
  },
  {
   "attachments": {},
   "cell_type": "markdown",
   "id": "235df35e-ac3c-41bb-9bda-bc1db5bf3627",
   "metadata": {},
   "source": []
  },
  {
   "attachments": {},
   "cell_type": "markdown",
   "id": "e0b4f978-bc9b-4fb5-b2fd-161f688f2d82",
   "metadata": {},
   "source": [
    "#### Create overrides from tradespace table"
   ]
  },
  {
   "cell_type": "code",
   "execution_count": null,
   "id": "7dda1091-e55b-46d1-a28c-9fb068758f94",
   "metadata": {},
   "outputs": [],
   "source": [
    "The paths we will be modifying will be\n",
    "- /wildfire/"
   ]
  },
  {
   "cell_type": "code",
   "execution_count": null,
   "id": "357d7753-e16c-4c5f-a5f8-434c71bfb710",
   "metadata": {},
   "outputs": [],
   "source": [
    "tradespace_overrides_dict = {}"
   ]
  },
  {
   "cell_type": "code",
   "execution_count": null,
   "id": "97d7577f-a580-43cb-97eb-3516c88b534c",
   "metadata": {},
   "outputs": [],
   "source": [
    "tradespace_overrides_block = wildfire_branch.OverrideSet.create(**tradespace_overrides_dict)"
   ]
  },
  {
   "attachments": {},
   "cell_type": "markdown",
   "id": "d069bfdc-2f6f-4e1a-be4e-43cb585f0bf0",
   "metadata": {},
   "source": [
    "record the generated override block ID"
   ]
  },
  {
   "attachments": {},
   "cell_type": "markdown",
   "id": "64ccf2f9-d100-47e1-bb61-e00125f34903",
   "metadata": {},
   "source": [
    "#### Create Study "
   ]
  },
  {
   "cell_type": "code",
   "execution_count": null,
   "id": "1375e154-e932-4f1b-a6a3-0f5ee5dede9b",
   "metadata": {},
   "outputs": [],
   "source": [
    "study_id = 'PK5Z4Mrx8Phf7ZbgGqy4Rr'\n",
    "study_control_resource = f'/simulations/branches/{scenario_id}/control/study/{study_id}'"
   ]
  },
  {
   "attachments": {},
   "cell_type": "markdown",
   "id": "65a14dbe-7221-4f0c-8e9d-c0bb675e271b",
   "metadata": {},
   "source": [
    "### Run Study"
   ]
  },
  {
   "cell_type": "code",
   "execution_count": null,
   "id": "bc843191-12c0-4397-955d-5828818157a6",
   "metadata": {},
   "outputs": [],
   "source": [
    "study_status = sedaroAPI.request.get(study_control_resource)"
   ]
  },
  {
   "cell_type": "code",
   "execution_count": null,
   "id": "f74f1575-c2be-4e4a-8bd3-f4dff3f7d770",
   "metadata": {},
   "outputs": [],
   "source": [
    "study_status"
   ]
  },
  {
   "cell_type": "code",
   "execution_count": null,
   "id": "6235d3b4-880d-45c5-b456-92da6a3ced52",
   "metadata": {},
   "outputs": [],
   "source": [
    "study_job_ids = study_status['jobs']"
   ]
  },
  {
   "cell_type": "code",
   "execution_count": null,
   "id": "99135f12-6445-45e4-97bd-4ca90725e716",
   "metadata": {},
   "outputs": [],
   "source": [
    "[ sedaroAPI.request.get(f'/simulations/branches/{scenario_id}/control/{job_id}') for job_id in study_job_ids]"
   ]
  },
  {
   "attachments": {},
   "cell_type": "markdown",
   "id": "b5519b29-709c-4ee4-b67f-7d6dc3788cd5",
   "metadata": {},
   "source": [
    "### Load Study results"
   ]
  },
  {
   "cell_type": "code",
   "execution_count": null,
   "id": "30970fc1-a4f2-49ef-8e89-d547f2976421",
   "metadata": {},
   "outputs": [],
   "source": [
    "study_alpha_results = studyjob.result(study_job_ids[0])"
   ]
  },
  {
   "attachments": {},
   "cell_type": "markdown",
   "id": "19122d3c-e423-4c37-a8f3-c5baef6fa342",
   "metadata": {},
   "source": [
    "### Analyze Study results"
   ]
  },
  {
   "cell_type": "code",
   "execution_count": null,
   "id": "80abcf94-4185-4172-9504-759fb73333ca",
   "metadata": {},
   "outputs": [],
   "source": [
    "study_alpha_results.summarize()"
   ]
  },
  {
   "cell_type": "code",
   "execution_count": null,
   "id": "46d226dd-2537-4109-8fe6-3affba5f7eb3",
   "metadata": {},
   "outputs": [],
   "source": [
    "study_alpha_Wildfire_agent_result = study_first_results.agent('Wildfire')"
   ]
  },
  {
   "cell_type": "code",
   "execution_count": null,
   "id": "3d9c4e56-981f-4f52-a3c1-fc1e8e2ec7cd",
   "metadata": {},
   "outputs": [],
   "source": [
    "study_alpha_Wildfire_agent_result.stats(module='cdh')"
   ]
  },
  {
   "cell_type": "code",
   "execution_count": null,
   "id": "03368dff-bd27-447b-948c-9724e2bf68f5",
   "metadata": {},
   "outputs": [],
   "source": [
    "study_alpha_Wildfire_agent_result.blockname(\"Magnetometer\").stats()"
   ]
  },
  {
   "cell_type": "code",
   "execution_count": null,
   "id": "21afc3bf-03ca-4b2d-96c8-544edb697996",
   "metadata": {},
   "outputs": [],
   "source": [
    "study_alpha_Wildfire_agent_result.blockname(\"Magnetometer\").scatter_matrix()"
   ]
  },
  {
   "cell_type": "code",
   "execution_count": null,
   "id": "32867ae4-d717-484a-bb89-973cb59587d8",
   "metadata": {},
   "outputs": [],
   "source": [
    "plain_first_results =  wildfire_branch.simulation.results_plain(streams=[(wildfire_agent_id,'CDH')])"
   ]
  },
  {
   "cell_type": "code",
   "execution_count": null,
   "id": "5255ff6c-7d29-474a-a798-60d664e25b40",
   "metadata": {},
   "outputs": [],
   "source": [
    "with open(\"first_CDH_results.json\", 'w') as writer:\n",
    "    writer.write(str(plain_first_results))"
   ]
  },
  {
   "cell_type": "code",
   "execution_count": null,
   "id": "082340a6-b196-48f4-9d95-051a0a5dc1b1",
   "metadata": {},
   "outputs": [],
   "source": [
    "first_results = wildfire_branch.simulation.results(study_job_ids[1],[(wildfire_agent_id,'CDH')])"
   ]
  },
  {
   "cell_type": "code",
   "execution_count": null,
   "id": "1a5646b7-e12f-4d92-93b3-30ce5098248a",
   "metadata": {},
   "outputs": [],
   "source": [
    "first_results.summarize()"
   ]
  },
  {
   "cell_type": "code",
   "execution_count": null,
   "id": "bea47cf0-e418-4d76-8425-fb9f438c5c4d",
   "metadata": {},
   "outputs": [],
   "source": [
    "first_results.agent('Wildfire').stats('cdh', make_histogram_plots=False)"
   ]
  },
  {
   "cell_type": "code",
   "execution_count": null,
   "id": "0d2de15f-61ab-4609-9852-ff216f86d898",
   "metadata": {},
   "outputs": [],
   "source": [
    "(first_results.agent('Wildfire').blockname('Fire: Chichen Itza').summarize())"
   ]
  },
  {
   "cell_type": "code",
   "execution_count": null,
   "id": "c3e78828-c5a7-479a-a573-230c0ea6d8d4",
   "metadata": {},
   "outputs": [],
   "source": [
    "(first_results.agent('Wildfire').blockname('Fire: Chichen Itza').stats())"
   ]
  },
  {
   "cell_type": "code",
   "execution_count": null,
   "id": "fba61d2d-5d6f-40d5-b3e2-433add229ed2",
   "metadata": {},
   "outputs": [],
   "source": [
    "first_results.agent('Wildfire').blockname('LaserComm-4').range['km'].stats(output_html=False)"
   ]
  },
  {
   "cell_type": "code",
   "execution_count": null,
   "id": "8bd02d9a-1ef3-4030-bdf1-53ac88a76556",
   "metadata": {},
   "outputs": [],
   "source": [
    "second_results = wildfire_branch.simulation.results(study_job_ids[1],[(wildfire_agent_id,'CDH')])"
   ]
  },
  {
   "cell_type": "code",
   "execution_count": null,
   "id": "3c0166ac-bfd7-45b5-98eb-db960fcfb1e1",
   "metadata": {},
   "outputs": [],
   "source": [
    "second_results.agent('Wildfire').blockname('LaserComm-4').targetElevation['deg'].plot()"
   ]
  },
  {
   "cell_type": "code",
   "execution_count": null,
   "id": "c58bb53b-c26b-491c-aed9-0aeb55891ca4",
   "metadata": {},
   "outputs": [],
   "source": []
  },
  {
   "cell_type": "code",
   "execution_count": null,
   "id": "ee533bd8-6215-44f6-a796-59775341ed93",
   "metadata": {},
   "outputs": [],
   "source": [
    "tradespace_studyjob = wildfire_branch.study.results('PK5Z4Mrx8Phf7ZbgGqy4Rr')"
   ]
  },
  {
   "cell_type": "code",
   "execution_count": null,
   "id": "3895770f-4662-47ff-9a52-71598ddd5d35",
   "metadata": {},
   "outputs": [],
   "source": [
    "studyjob.summarize()"
   ]
  },
  {
   "cell_type": "code",
   "execution_count": null,
   "id": "de23318b-e8d3-4449-8030-59200dd83916",
   "metadata": {},
   "outputs": [],
   "source": []
  },
  {
   "cell_type": "code",
   "execution_count": null,
   "id": "0e1b6427-1df8-42f5-a4b0-b09aa9e5d867",
   "metadata": {},
   "outputs": [],
   "source": []
  },
  {
   "cell_type": "code",
   "execution_count": null,
   "id": "4db1f35c-832c-4c03-a912-2d55168bc0a3",
   "metadata": {},
   "outputs": [],
   "source": []
  },
  {
   "attachments": {},
   "cell_type": "markdown",
   "id": "944c0e9c-d2f6-4827-bae0-dd13effc517f",
   "metadata": {},
   "source": [
    "## Wildfire Monte Carlo Analysis: Understand uncertainty of average pointing error\n",
    "Parameters to vary:\n",
    "- Moment of magnetorquers\n",
    "- Mass of reaction wheels\n",
    "- Initial position, velocity, and attitude\n",
    "- Vary random seeds of sensors by changing simulation-wide seen\n",
    "- \n",
    "### Optional: Load shared workspace to skip setup and running the study\n",
    "\n",
    "#### Tradespace table used\n",
    "#### Overrides used"
   ]
  },
  {
   "attachments": {},
   "cell_type": "markdown",
   "id": "08d25c6e-d541-446a-9f8a-3e5412b91ecf",
   "metadata": {},
   "source": [
    "### Setup"
   ]
  },
  {
   "attachments": {},
   "cell_type": "markdown",
   "id": "9c445cb7-af6c-40d1-9667-72a49631c356",
   "metadata": {},
   "source": [
    "#### Table of Agent parameters to vary"
   ]
  },
  {
   "attachments": {},
   "cell_type": "markdown",
   "id": "5f0575ee-07f5-4dc9-a682-576d768813d7",
   "metadata": {},
   "source": [
    "#### Determine how to vary the parameters"
   ]
  },
  {
   "attachments": {},
   "cell_type": "markdown",
   "id": "72834402-5003-48ef-83a2-eb51154d986e",
   "metadata": {},
   "source": [
    "#### Create Overrides"
   ]
  },
  {
   "attachments": {},
   "cell_type": "markdown",
   "id": "3f81b90f-3cab-4677-ad0c-9d51de415541",
   "metadata": {},
   "source": [
    "#### Create Study"
   ]
  },
  {
   "attachments": {},
   "cell_type": "markdown",
   "id": "ac230593-4a8d-4f1b-a25a-27b3629c7124",
   "metadata": {},
   "source": [
    "### Run Study"
   ]
  },
  {
   "attachments": {},
   "cell_type": "markdown",
   "id": "9b99f834-daa7-4f71-b6e0-b4ed4249a2c3",
   "metadata": {},
   "source": [
    "### Load Study Results"
   ]
  },
  {
   "attachments": {},
   "cell_type": "markdown",
   "id": "606c4ce4-9657-4476-9a3e-9709c0eed0b7",
   "metadata": {},
   "source": [
    "### Analyze Results"
   ]
  },
  {
   "cell_type": "code",
   "execution_count": null,
   "id": "b6c52039-6f0d-4c58-85a2-1de62d5a74bc",
   "metadata": {},
   "outputs": [],
   "source": []
  },
  {
   "cell_type": "code",
   "execution_count": null,
   "id": "f0c8c948-3dac-43b3-8d10-081798dcb3e9",
   "metadata": {},
   "outputs": [],
   "source": [
    "monte_carlo_overrides_block = wildfire_branch.OverrideSet.create(**monte_carlo_overrides_dict)"
   ]
  },
  {
   "cell_type": "code",
   "execution_count": null,
   "id": "5140e5dd-ac82-4048-8604-6259fa9942dd",
   "metadata": {},
   "outputs": [],
   "source": []
  },
  {
   "attachments": {},
   "cell_type": "markdown",
   "id": "7f6830dd-b09c-46d1-9193-ddf7690c57ba",
   "metadata": {},
   "source": []
  },
  {
   "cell_type": "code",
   "execution_count": null,
   "id": "a7ea0082-1af5-459f-a2ee-bbbbf1886c1f",
   "metadata": {},
   "outputs": [],
   "source": []
  },
  {
   "attachments": {},
   "cell_type": "markdown",
   "id": "d04c7658-2474-4d5e-bc0b-fd459651eb1e",
   "metadata": {},
   "source": [
    "# Appendix A: Python client plot/statistics features"
   ]
  },
  {
   "attachments": {},
   "cell_type": "markdown",
   "id": "fa97478b-4b7b-42af-a264-299530d81d7d",
   "metadata": {},
   "source": [
    "## Agent level"
   ]
  },
  {
   "attachments": {},
   "cell_type": "markdown",
   "id": "9dad276a-5e10-446c-a875-196dfffabff0",
   "metadata": {},
   "source": [
    "## Block level"
   ]
  },
  {
   "attachments": {},
   "cell_type": "markdown",
   "id": "b47e414d-64c2-4eea-bb13-aa97561018bb",
   "metadata": {},
   "source": [
    "## Parameter level"
   ]
  },
  {
   "attachments": {},
   "cell_type": "markdown",
   "id": "266f47fc-6846-4e82-86cd-0e4d145fb50c",
   "metadata": {},
   "source": [
    "## Study level"
   ]
  },
  {
   "attachments": {},
   "cell_type": "markdown",
   "id": "2548542a-8843-4832-adfe-0e233f8310a0",
   "metadata": {},
   "source": [
    "# Appendix B: fn Signatures\n",
    "\n",
    "\n",
    "fn Random module Signatures:\n",
    "\n",
    "## Functions for integers\n",
    "  - class Randrange(PathFn):\n",
    "    - fn: Literal[\"randrange\"]\n",
    "    - start: int | float | str\n",
    "    - stop:  int | float | str\n",
    "    - step:  int | float | str \n",
    "\n",
    "---\n",
    "\n",
    "## Functions for sequences\n",
    "- class Choices(PathFn):\n",
    "  - fn: Literal[\"choices\"]\n",
    "  - weights: list\n",
    "  - population: list   \n",
    "  - k: int | str\n",
    "- class Sample(PathFn):\n",
    "  - fn: Literal[\"sample\"]\n",
    "  - counts: list\n",
    "  - population: list\n",
    "  - k: int\n",
    "\n",
    "---\n",
    "\n",
    "## Real-valued distributions\n",
    "  - class Uniform(PathFn):\n",
    "    - fn: Literal[\"uniform\"]\n",
    "    - a: float | int | str\n",
    "    - b: float | int | str\n",
    "  - class Triangular(PathFn):\n",
    "    - fn: Literal[\"triangular\"]\n",
    "    - low:  int | float | str\n",
    "    - high: int | float | str\n",
    "    - mode: int | float | str\n",
    "  - class Expovariate(PathFn):\n",
    "    - fn: Literal[\"expovariate\"]\n",
    "    - lambd: float | str\n",
    "  - class GammaVariate(PathFn):\n",
    "    - fn: Literal[\"gammavariate\"]\n",
    "    - alpha: int | float | str\n",
    "    - beta:  int | float | str\n",
    "  - class Gauss(PathFn):\n",
    "    - fn: Literal[\"gauss\"]\n",
    "    - mu:    int | float | str\n",
    "    - sigma: int | float | str\n",
    "  - class NormalVariate(PathFn):\n",
    "    - fn: Literal[\"normalvariate\"]\n",
    "    - mu:    int | float | str\n",
    "    - sigma: int | float | str\n",
    "  - class LogNormVariate(PathFn):\n",
    "    - fn: Literal[\"lognormvariate\"]\n",
    "    - mu:    int | float | str\n",
    "    - sigma: int | float | str\n",
    "  - class VonmisesVariate(PathFn):\n",
    "    - fn: Literal[\"vonmisesvariate\"]\n",
    "    - mu:    int | float | str\n",
    "    - kappa: int | float | str\n",
    "  - class ParetoVariate(PathFn):\n",
    "    - fn: Literal[\"paretovariate\"]\n",
    "    - alpha: int | float | str    \n",
    "  - class WeibullVariate(PathFn):\n",
    "    - fn: Literal[\"weibullvariate\"]\n",
    "    - alpha: int | float | str\n",
    "    - beta:  int | float | str"
   ]
  },
  {
   "attachments": {},
   "cell_type": "markdown",
   "id": "81a83786-39c4-4ed1-a7f4-c6170a25b5b2",
   "metadata": {},
   "source": [
    "# Appendix C: Class methods for the scenario_branch.study Class, along with it's support classes\n",
    "\n",
    "## Study Class\n",
    "| Class Method | Arguments  | Returns | Description |\n",
    "| :-: | :-: | :-: | :- | \n",
    "| start | ( iterations: int ) | StudyHandle | Starts study corresponding to the respective Sedaro Scenario Branch id. |\n",
    "| status | ( job_id: str = None ) | StudyHandle |  Refreshes the local study status. |\n",
    "| terminate | ( job_id: str = None ) | StudyHandle | Terminate latest running simulation job corresponding to the respective Sedaro Scenario Branch id. |\n",
    "|  |  |  | If a `job_id` is provided, that simulation job will be terminated rather than the latest. |\n",
    "| |\n",
    "| results | (job_id: str = None) | StudyResult | Query latest scenario study result. If a `job_id` is passed, query for corresponding sim results rather than latest. |\n",
    "| results_poll | ( job_id: str = None, retry_interval: int = 2) | StudyResult | Query latest scenario study result and wait for sim to finish if it's running. | \n",
    "| | | | If a `job_id` is passed, query for corresponding study results rather than latest. See `results` method for details on using the `streams` kwarg. |\n",
    "| |\n",
    "| stats_results | () | StudyStatsResult | Retuens a 'StudyStatsResult' instance of Statistics based on the study result data |\n",
    "\n",
    "---\n",
    "\n",
    "## StudyHandle\n",
    "By default, this class will lazily load simulation results as requested\n",
    "and cache them in-memory. Different caching options can be enabled with\n",
    "the .set_cache method.\n",
    "\n",
    "| Class Method | Arguments  | Returns | Description |\n",
    "| :-: | :-: | :-: | :- | \n",
    "| get | (key, default=None) | StudyHandle | Returns a Study handle with the given key |\n",
    "| status | (err_if_empty: bool = True) | StudyHandle | Refreshes the local study status. |\n",
    "| terminate | () | StudyHandle | Terminate the running study. |\n",
    "| |\n",
    "| results | () | StudyResults | Query study results. |\n",
    "| results_poll | (retry_interval: int = 2) | StudyResults | Query study results but wait for sim to finish if it's running. See `results` method for details on using the `streams` kwarg. |\n",
    "| |\n",
    "| stats_results | () | StudyStatsResult | Returns a StudyStatResult object |\n",
    "\n",
    "---\n",
    "\n",
    "## StudyResult\n",
    "| Class Method | Arguments  | Returns | Description |\n",
    "| :-: | :-: | :-: | :- | \n",
    "| id | () | int | Returns the id of the StudyResult Object |\n",
    "| branch | () | str | Returns the branch id of the StudyResult Object |\n",
    "| scenario_hash | () | str | Returns a unique hash |\n",
    "| status | () | str | xx |\n",
    "| date_created | () | datetime | xx |\n",
    "| date_modified | () | datetime | xx |\n",
    "| job_ids | () | List[int] | Returns a list of SimJob id's created by the Study.start method |\n",
    "| iterations | () | int | Returns the number of SimJobs created by the Study.start method |\n",
    "| set_cache | (cache: bool = True, cache_dir: str = None) | None | Set caching options for this study result. |\n",
    "| | | | cache: Boolean option to turn caching on or off. |\n",
    "| | | | cache_dir: Path to a directory for on-disk caching. |\n",
    "| result | (id_: str, streams: Optional[List[Tuple[str, ...]]] = None) | SimulationResult | Query results for a particular simulation. |\n",
    "| clear_cache | () | None | Clears the cache files in the cache_dir |\n",
    "| summarize | () | None | Summarize these results in the console.' |\n",
    "\n",
    "---\n",
    "\n",
    "## StudyStatsResult                                                                                                        \n",
    "| Class Method | Arguments  | Returns | Description |\n",
    "| :-: | :-: | :-: | :- | \n",
    "| id | () | int | Returns the id of the StudyResult Object |\n",
    "| branch | () | str | Returns the branch id of the StudyResult Object |\n",
    "| scenario_hash | () | str | Returns a unique hash |\n",
    "| status | () | str | xx |\n",
    "| date_created | () | datetime | xx |\n",
    "| date_modified | () | datetime | xx |\n",
    "| job_ids | () | List[int] | Returns a list of SimJob id's created by the Study.start method |\n",
    "| iterations | () | int | Returns the number of SimJobs created by the Study.start method |\n",
    "| set_cache | (cache: bool = True, cache_dir: str = None) | None | Set caching options for this study result. |\n",
    "| | | | cache: Boolean option to turn caching on or off. |\n",
    "| | | | cache_dir: Path to a directory for on-disk caching. |\n",
    "| result | (id_: str, streams: Optional[List[Tuple[str, ...]]] = None) | SimulationResult | Query results for a particular simulation. |\n",
    "| clear_cache | () | None | Clears the cache files in the cache_dir |\n",
    "| summarize | () | None | Summarize these results in the console.' |\n",
    "| stats_results | (_ids=None ) | dict[simjob_id, pandas.dataframe] | Packages the sim results into a dictory of simjob_id to sim results as a pandas dataframe |\n",
    "| xx | xx | xx | xx |\n",
    "| xx | xx | xx | xx |\n",
    "| xx | xx | xx | xx |"
   ]
  },
  {
   "cell_type": "code",
   "execution_count": null,
   "id": "008f154c-b327-4731-ba57-9ae91844c424",
   "metadata": {},
   "outputs": [],
   "source": []
  }
 ],
 "metadata": {
  "kernelspec": {
   "display_name": "Python 3 (ipykernel)",
   "language": "python",
   "name": "python3"
  },
  "language_info": {
   "codemirror_mode": {
    "name": "ipython",
    "version": 3
   },
   "file_extension": ".py",
   "mimetype": "text/x-python",
   "name": "python",
   "nbconvert_exporter": "python",
   "pygments_lexer": "ipython3",
   "version": "3.11.6"
  }
 },
 "nbformat": 4,
 "nbformat_minor": 5
}
