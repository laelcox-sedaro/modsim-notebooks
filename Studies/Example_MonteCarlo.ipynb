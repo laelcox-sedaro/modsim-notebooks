{
 "cells": [
  {
   "attachments": {},
   "cell_type": "markdown",
   "id": "5a053b78-b637-4e78-93e3-32ac4700d76b",
   "metadata": {},
   "source": [
    "# Sedaro Studies Example Notebook \n",
    "Demonstrates Sedaro Studies support via the sedaro python client using a Jupyter notebook."
   ]
  },
  {
   "attachments": {},
   "cell_type": "markdown",
   "id": "3abf7051-878e-4921-927c-b91b830ac70a",
   "metadata": {},
   "source": [
    "# Introduction  \n",
    "This notebook demonstrates how to use the new Studies support added to Sedaro. \n",
    "The core of this support is the new API python client object **SimStudy**.\n",
    "**SimStudy** will generate and run a series of *SimJobs* in parallel up to account capacity limits. The remaining simjobs will be placed in a queue and will be execute when resources are available. \n",
    "\n",
    "Each *SimJob* of a **SimStudy** will set the random seed to a different value in order to generate different output results from the simulation.\n",
    "The **Overrides** feature takes this a step further by providing a means to adjust any starting value of any model of the simulation using a set of pre-defined functions. In other words, each *SimJob* of a **SimStudy** will run a baseline Scenario branch with model parameters variations in order to observe their effects on performance results."
   ]
  },
  {
   "attachments": {},
   "cell_type": "markdown",
   "id": "159380f4-4e05-4f5f-bacf-fc0127f39cc2",
   "metadata": {},
   "source": [
    "# Setup\n",
    "Running this notebook requires the following:\n",
    "- A Sedaro Account            --> https://www.sedaro.com\n",
    "- A Sedaro API Token          --> https://www.sedaro.com/#/account\n",
    "- The Wildfire Demo Branch ID --> login --> select/click or create workspace --> select/click Project: [DEMO] WildFire --> select/click  Repositories: [DEMO] Wildfire Scenarios --> copy main branch ID via clipboard icon (TODO insert screen shot)\n",
    "- Python 3.10+ installed      --> https://www.python.org\n",
    "- Jupyter notebook or lab     --> https://jupyter.org"
   ]
  },
  {
   "attachments": {},
   "cell_type": "markdown",
   "id": "5506746f-6d01-4235-b05b-6a306f63f483",
   "metadata": {},
   "source": [
    "## Pip requirements\n",
    "Create/activate a python venv if desired"
   ]
  },
  {
   "cell_type": "code",
   "execution_count": 1,
   "id": "ef850272-9617-449e-a66a-df1ce475f89f",
   "metadata": {},
   "outputs": [],
   "source": [
    "#!python -m venv /path/to/new/virtual/environment"
   ]
  },
  {
   "attachments": {},
   "cell_type": "markdown",
   "id": "c1030e59-4909-471c-aa8f-3057015ca840",
   "metadata": {},
   "source": [
    "Activate it via this table\n",
    "| Platform | Shell | Command to activate virtual environment |\n",
    "| :- | :- | :- |\n",
    "| POSIX | bash/zsh |  source <venv>/bin/activate |\n",
    "| | fish |  source <venv>/bin/activate.fish |\n",
    "| | csh/tcsh |  source <venv>/bin/activate.csh |\n",
    "| | PowerShell |  <venv>/bin/Activate.ps1 |\n",
    "| Windows | cmd.exe | C:\\> <venv>\\Scripts\\activate.bat |\n",
    "| | PowerShell | PS C:\\> <venv>\\Scripts\\Activate.ps1 |"
   ]
  },
  {
   "attachments": {},
   "cell_type": "markdown",
   "id": "eb0fe246-e57f-4bd6-893f-492b752b6003",
   "metadata": {},
   "source": [
    "Required python modules:\n",
    "> replace *python* with *python3* if needed "
   ]
  },
  {
   "cell_type": "code",
   "execution_count": 2,
   "id": "1a5a0edc-dafa-431e-8e1e-c9a01d7b5a6f",
   "metadata": {},
   "outputs": [],
   "source": [
    "#!python -m pip install -e sedaro pytest matplotlib pandas sweetviz"
   ]
  },
  {
   "attachments": {},
   "cell_type": "markdown",
   "id": "9a3519f2",
   "metadata": {},
   "source": [
    "or"
   ]
  },
  {
   "cell_type": "code",
   "execution_count": 3,
   "id": "cd7cdb22-bfeb-49c0-8686-d36a311ac7e3",
   "metadata": {},
   "outputs": [],
   "source": [
    "#!python3.10 -m pip install  sedaro pytest matplotlib pandas sweetviz"
   ]
  },
  {
   "cell_type": "code",
   "execution_count": 4,
   "id": "2bebfa21-d791-4f00-992f-08e68821385f",
   "metadata": {},
   "outputs": [],
   "source": [
    "#!python3.10 -m pip install sweetviz IProgress"
   ]
  },
  {
   "attachments": {},
   "cell_type": "markdown",
   "id": "524abc97-18a3-497e-9d80-2468b8ae9870",
   "metadata": {},
   "source": [
    "Run the following cells to test if all required python modules are installed correctly"
   ]
  },
  {
   "attachments": {},
   "cell_type": "markdown",
   "id": "cdf741b3-bb16-4605-a230-38dbb39ec564",
   "metadata": {
    "jp-MarkdownHeadingCollapsed": true
   },
   "source": [
    "Optional module needed by the stats() function if desired "
   ]
  },
  {
   "cell_type": "code",
   "execution_count": 1,
   "id": "ffb9ab5d-dae7-4ca9-9dc9-1ad02389aa03",
   "metadata": {},
   "outputs": [],
   "source": [
    "import sedaro\n",
    "import yaml\n",
    "import json\n",
    "import matplotlib.pyplot as plt\n",
    "import pandas as pd\n",
    "import math\n",
    "import numpy as np"
   ]
  },
  {
   "cell_type": "code",
   "execution_count": 2,
   "id": "ddd2aad9-e196-49b3-9b4c-4e3113efe825",
   "metadata": {},
   "outputs": [
    {
     "name": "stderr",
     "output_type": "stream",
     "text": [
      "/usr/local/lib/python3.10/site-packages/tqdm/auto.py:21: TqdmWarning: IProgress not found. Please update jupyter and ipywidgets. See https://ipywidgets.readthedocs.io/en/stable/user_install.html\n",
      "  from .autonotebook import tqdm as notebook_tqdm\n"
     ]
    }
   ],
   "source": [
    "# optional\n",
    "import sweetviz as sv"
   ]
  },
  {
   "attachments": {},
   "cell_type": "markdown",
   "id": "7604a592-a5b7-414f-9ca9-1e33605988b8",
   "metadata": {},
   "source": [
    "## Important: Read Before Running\n",
    "\n",
    "This notebook makes changes to agent and scenario branches indicated in the settings section. Ensure any changes to the target branches are saved prior to running this code. Sedaro recommends committing current changes and creating new branches in the target repositories to avoid loss of work.\n",
    "\n",
    "This notebook also requires that you have previously generated an API key in the web UI. That key should be stored in a file called `secrets.json` in the same directory as this notebook with the following format:\n",
    "\n",
    "```json\n",
    "{\n",
    "    \"API_KEY\": \"<API_KEY>\"\n",
    "}\n",
    "```\n",
    "\n",
    "API keys grant full access to your repositories and should never be shared. If you think your API key has been compromised, you can revoke it in the user settings interface on the Sedaro website."
   ]
  },
  {
   "attachments": {},
   "cell_type": "markdown",
   "id": "e6a45eb2-0af3-4891-95fd-a79e82bf4227",
   "metadata": {},
   "source": [
    "\n",
    "\n",
    "## Sedaro python client setup\n",
    "Note: More information about the sedaro-python client can be found here: [https://github.com/sedaro/sedaro-python]\n",
    "\n",
    "\n",
    "In the next cell, adjust the following variables as needed\n",
    "- *Sedaro_api_host*\n",
    "- *Sedaro_api_token*"
   ]
  },
  {
   "cell_type": "code",
   "execution_count": 3,
   "id": "9aa55f8b-b408-4b2a-b2f3-b8717cf85f83",
   "metadata": {},
   "outputs": [],
   "source": [
    "Sedaro_api_host  = \"http://localhost:80\" # \"api.sedaro.com\"\n",
    "\n",
    "# Set your API token value either directly or via loading a secrets file\n",
    "# !! NOTE !!  Be careful not to check in your API Key into a source control repo  !! Note !!\n",
    "secretPath = '/Users/sedaro/Documents/sedaro/sedaro-satellite/secrets.json'\n",
    "with open(secretPath, 'r') as file:\n",
    "    Sedaro_api_token = json.load(file)['API_KEY']\n",
    "    \n",
    "sedaroAPI = sedaro.SedaroApiClient(api_key=Sedaro_api_token, host=Sedaro_api_host)"
   ]
  },
  {
   "attachments": {},
   "cell_type": "markdown",
   "id": "2d736410-1076-4fdb-ae30-9bad51d65e96",
   "metadata": {},
   "source": [
    "## Load the wildfire scenario branch data\n",
    "Change the value of the *scenario_branch_id* in the next cell to the branch id noted above during the **Setup** section.\n",
    "then run the following cell:"
   ]
  },
  {
   "cell_type": "code",
   "execution_count": null,
   "metadata": {},
   "outputs": [],
   "source": []
  },
  {
   "cell_type": "code",
   "execution_count": 4,
   "id": "6118aee4-8497-4ceb-9b16-75813455a1f9",
   "metadata": {},
   "outputs": [],
   "source": [
    "scenario_branch_id = \"PKgBt4JWCmLVFBBzQBK3d8\"\n",
    "wildfire_scenario_branch = sedaroAPI.scenario(scenario_branch_id)"
   ]
  },
  {
   "attachments": {},
   "cell_type": "markdown",
   "id": "944c0e9c-d2f6-4827-bae0-dd13effc517f",
   "metadata": {},
   "source": [
    "## Wildfire Monte Carlo Analysis: Understand uncertainty of average pointing error\n",
    "Parameters to vary:\n",
    "- Moment of magnetorquers\n",
    "- Mass of reaction wheels\n",
    "- Initial position, velocity, and attitude\n",
    "- Vary random seeds of sensors by changing simulation-wide seed\n",
    "- \n",
    "\n",
    "\n",
    "\n",
    "\n",
    "### Optional: Load shared workspace to skip setup and running the study\n",
    "\n",
    "#### Tradespace table used\n",
    "#### Overrides used"
   ]
  },
  {
   "attachments": {},
   "cell_type": "markdown",
   "id": "08d25c6e-d541-446a-9f8a-3e5412b91ecf",
   "metadata": {},
   "source": [
    "### Setup\n",
    "We'll reuse the scenario_branch_id from the first example but if it was skipped,  Find or make a branch of the wildfire scenaro and record its branch ID value."
   ]
  },
  {
   "cell_type": "code",
   "execution_count": null,
   "id": "92a49ab0",
   "metadata": {},
   "outputs": [],
   "source": []
  },
  {
   "attachments": {},
   "cell_type": "markdown",
   "id": "9c445cb7-af6c-40d1-9667-72a49631c356",
   "metadata": {},
   "source": [
    "#### Table of Agent parameters to vary"
   ]
  },
  {
   "attachments": {},
   "cell_type": "markdown",
   "id": "5f0575ee-07f5-4dc9-a682-576d768813d7",
   "metadata": {},
   "source": [
    "#### Determine how to vary the parameters"
   ]
  },
  {
   "attachments": {},
   "cell_type": "markdown",
   "id": "72834402-5003-48ef-83a2-eb51154d986e",
   "metadata": {},
   "source": [
    "#### Create Overrides"
   ]
  },
  {
   "attachments": {},
   "cell_type": "markdown",
   "id": "3f81b90f-3cab-4677-ad0c-9d51de415541",
   "metadata": {},
   "source": [
    "#### Create Study"
   ]
  },
  {
   "attachments": {},
   "cell_type": "markdown",
   "id": "ac230593-4a8d-4f1b-a25a-27b3629c7124",
   "metadata": {},
   "source": [
    "### Run Study"
   ]
  },
  {
   "attachments": {},
   "cell_type": "markdown",
   "id": "9b99f834-daa7-4f71-b6e0-b4ed4249a2c3",
   "metadata": {},
   "source": [
    "### Load Study Results"
   ]
  },
  {
   "attachments": {},
   "cell_type": "markdown",
   "id": "606c4ce4-9657-4476-9a3e-9709c0eed0b7",
   "metadata": {},
   "source": [
    "### Analyze Results"
   ]
  },
  {
   "cell_type": "code",
   "execution_count": null,
   "id": "b6c52039-6f0d-4c58-85a2-1de62d5a74bc",
   "metadata": {},
   "outputs": [],
   "source": []
  },
  {
   "cell_type": "code",
   "execution_count": null,
   "id": "f0c8c948-3dac-43b3-8d10-081798dcb3e9",
   "metadata": {},
   "outputs": [],
   "source": [
    "monte_carlo_overrides_block = wildfire_branch.OverrideSet.create(**monte_carlo_overrides_dict)"
   ]
  },
  {
   "cell_type": "code",
   "execution_count": null,
   "id": "5140e5dd-ac82-4048-8604-6259fa9942dd",
   "metadata": {},
   "outputs": [],
   "source": []
  },
  {
   "attachments": {},
   "cell_type": "markdown",
   "id": "7f6830dd-b09c-46d1-9193-ddf7690c57ba",
   "metadata": {},
   "source": []
  },
  {
   "cell_type": "code",
   "execution_count": null,
   "id": "a7ea0082-1af5-459f-a2ee-bbbbf1886c1f",
   "metadata": {},
   "outputs": [],
   "source": []
  },
  {
   "attachments": {},
   "cell_type": "markdown",
   "id": "d04c7658-2474-4d5e-bc0b-fd459651eb1e",
   "metadata": {},
   "source": [
    "# Appendix A: Python client plot/statistics features"
   ]
  },
  {
   "attachments": {},
   "cell_type": "markdown",
   "id": "fa97478b-4b7b-42af-a264-299530d81d7d",
   "metadata": {},
   "source": [
    "## Agent level"
   ]
  },
  {
   "attachments": {},
   "cell_type": "markdown",
   "id": "9dad276a-5e10-446c-a875-196dfffabff0",
   "metadata": {},
   "source": [
    "## Block level"
   ]
  },
  {
   "attachments": {},
   "cell_type": "markdown",
   "id": "b47e414d-64c2-4eea-bb13-aa97561018bb",
   "metadata": {},
   "source": [
    "## Parameter level"
   ]
  },
  {
   "attachments": {},
   "cell_type": "markdown",
   "id": "266f47fc-6846-4e82-86cd-0e4d145fb50c",
   "metadata": {},
   "source": [
    "## Study level"
   ]
  },
  {
   "attachments": {},
   "cell_type": "markdown",
   "id": "2548542a-8843-4832-adfe-0e233f8310a0",
   "metadata": {},
   "source": [
    "# Appendix B: fn Signatures\n",
    "\n",
    "\n",
    "fn Random module Signatures:\n",
    "\n",
    "## Functions for integers\n",
    "  - class Randrange(PathFn):\n",
    "    - fn: Literal[\"randrange\"]\n",
    "    - start: int | float | str\n",
    "    - stop:  int | float | str\n",
    "    - step:  int | float | str \n",
    "\n",
    "---\n",
    "\n",
    "## Functions for sequences\n",
    "- class Choices(PathFn):\n",
    "  - fn: Literal[\"choices\"]\n",
    "  - weights: list\n",
    "  - population: list   \n",
    "  - k: int | str\n",
    "- class Sample(PathFn):\n",
    "  - fn: Literal[\"sample\"]\n",
    "  - counts: list\n",
    "  - population: list\n",
    "  - k: int\n",
    "\n",
    "---\n",
    "\n",
    "## Real-valued distributions\n",
    "  - class Uniform(PathFn):\n",
    "    - fn: Literal[\"uniform\"]\n",
    "    - a: float | int | str\n",
    "    - b: float | int | str\n",
    "  - class Triangular(PathFn):\n",
    "    - fn: Literal[\"triangular\"]\n",
    "    - low:  int | float | str\n",
    "    - high: int | float | str\n",
    "    - mode: int | float | str\n",
    "  - class Expovariate(PathFn):\n",
    "    - fn: Literal[\"expovariate\"]\n",
    "    - lambd: float | str\n",
    "  - class GammaVariate(PathFn):\n",
    "    - fn: Literal[\"gammavariate\"]\n",
    "    - alpha: int | float | str\n",
    "    - beta:  int | float | str\n",
    "  - class Gauss(PathFn):\n",
    "    - fn: Literal[\"gauss\"]\n",
    "    - mu:    int | float | str\n",
    "    - sigma: int | float | str\n",
    "  - class NormalVariate(PathFn):\n",
    "    - fn: Literal[\"normalvariate\"]\n",
    "    - mu:    int | float | str\n",
    "    - sigma: int | float | str\n",
    "  - class LogNormVariate(PathFn):\n",
    "    - fn: Literal[\"lognormvariate\"]\n",
    "    - mu:    int | float | str\n",
    "    - sigma: int | float | str\n",
    "  - class VonmisesVariate(PathFn):\n",
    "    - fn: Literal[\"vonmisesvariate\"]\n",
    "    - mu:    int | float | str\n",
    "    - kappa: int | float | str\n",
    "  - class ParetoVariate(PathFn):\n",
    "    - fn: Literal[\"paretovariate\"]\n",
    "    - alpha: int | float | str    \n",
    "  - class WeibullVariate(PathFn):\n",
    "    - fn: Literal[\"weibullvariate\"]\n",
    "    - alpha: int | float | str\n",
    "    - beta:  int | float | str"
   ]
  },
  {
   "attachments": {},
   "cell_type": "markdown",
   "id": "81a83786-39c4-4ed1-a7f4-c6170a25b5b2",
   "metadata": {},
   "source": [
    "# Appendix C: Class methods for the scenario_branch.study Class, along with it's support classes\n",
    "\n",
    "## Study Class\n",
    "| Class Method | Arguments  | Returns | Description |\n",
    "| :-: | :-: | :-: | :- | \n",
    "| start | ( iterations: int ) | StudyHandle | Starts study corresponding to the respective Sedaro Scenario Branch id. |\n",
    "| status | ( job_id: str = None ) | StudyHandle |  Refreshes the local study status. |\n",
    "| terminate | ( job_id: str = None ) | StudyHandle | Terminate latest running simulation job corresponding to the respective Sedaro Scenario Branch id. |\n",
    "|  |  |  | If a `job_id` is provided, that simulation job will be terminated rather than the latest. |\n",
    "| |\n",
    "| results | (job_id: str = None) | StudyResult | Query latest scenario study result. If a `job_id` is passed, query for corresponding sim results rather than latest. |\n",
    "| results_poll | ( job_id: str = None, retry_interval: int = 2) | StudyResult | Query latest scenario study result and wait for sim to finish if it's running. | \n",
    "| | | | If a `job_id` is passed, query for corresponding study results rather than latest. See `results` method for details on using the `streams` kwarg. |\n",
    "| |\n",
    "| stats_results | () | StudyStatsResult | Retuens a 'StudyStatsResult' instance of Statistics based on the study result data |\n",
    "\n",
    "---\n",
    "\n",
    "## StudyHandle\n",
    "By default, this class will lazily load simulation results as requested\n",
    "and cache them in-memory. Different caching options can be enabled with\n",
    "the .set_cache method.\n",
    "\n",
    "| Class Method | Arguments  | Returns | Description |\n",
    "| :-: | :-: | :-: | :- | \n",
    "| get | (key, default=None) | StudyHandle | Returns a Study handle with the given key |\n",
    "| status | (err_if_empty: bool = True) | StudyHandle | Refreshes the local study status. |\n",
    "| terminate | () | StudyHandle | Terminate the running study. |\n",
    "| |\n",
    "| results | () | StudyResults | Query study results. |\n",
    "| results_poll | (retry_interval: int = 2) | StudyResults | Query study results but wait for sim to finish if it's running. See `results` method for details on using the `streams` kwarg. |\n",
    "| |\n",
    "| stats_results | () | StudyStatsResult | Returns a StudyStatResult object |\n",
    "\n",
    "---\n",
    "\n",
    "## StudyResult\n",
    "| Class Method | Arguments  | Returns | Description |\n",
    "| :-: | :-: | :-: | :- | \n",
    "| id | () | int | Returns the id of the StudyResult Object |\n",
    "| branch | () | str | Returns the branch id of the StudyResult Object |\n",
    "| scenario_hash | () | str | Returns a unique hash |\n",
    "| status | () | str | xx |\n",
    "| date_created | () | datetime | xx |\n",
    "| date_modified | () | datetime | xx |\n",
    "| job_ids | () | List[int] | Returns a list of SimJob id's created by the Study.start method |\n",
    "| iterations | () | int | Returns the number of SimJobs created by the Study.start method |\n",
    "| set_cache | (cache: bool = True, cache_dir: str = None) | None | Set caching options for this study result. |\n",
    "| | | | cache: Boolean option to turn caching on or off. |\n",
    "| | | | cache_dir: Path to a directory for on-disk caching. |\n",
    "| result | (id_: str, streams: Optional[List[Tuple[str, ...]]] = None) | SimulationResult | Query results for a particular simulation. |\n",
    "| clear_cache | () | None | Clears the cache files in the cache_dir |\n",
    "| summarize | () | None | Summarize these results in the console.' |\n",
    "\n",
    "---\n",
    "\n",
    "## StudyStatsResult                                                                                                        \n",
    "| Class Method | Arguments  | Returns | Description |\n",
    "| :-: | :-: | :-: | :- | \n",
    "| id | () | int | Returns the id of the StudyResult Object |\n",
    "| branch | () | str | Returns the branch id of the StudyResult Object |\n",
    "| scenario_hash | () | str | Returns a unique hash |\n",
    "| status | () | str | xx |\n",
    "| date_created | () | datetime | xx |\n",
    "| date_modified | () | datetime | xx |\n",
    "| job_ids | () | List[int] | Returns a list of SimJob id's created by the Study.start method |\n",
    "| iterations | () | int | Returns the number of SimJobs created by the Study.start method |\n",
    "| set_cache | (cache: bool = True, cache_dir: str = None) | None | Set caching options for this study result. |\n",
    "| | | | cache: Boolean option to turn caching on or off. |\n",
    "| | | | cache_dir: Path to a directory for on-disk caching. |\n",
    "| result | (id_: str, streams: Optional[List[Tuple[str, ...]]] = None) | SimulationResult | Query results for a particular simulation. |\n",
    "| clear_cache | () | None | Clears the cache files in the cache_dir |\n",
    "| summarize | () | None | Summarize these results in the console.' |\n",
    "| stats_results | (_ids=None ) | dict[simjob_id, pandas.dataframe] | Packages the sim results into a dictory of simjob_id to sim results as a pandas dataframe |\n",
    "| xx | xx | xx | xx |\n",
    "| xx | xx | xx | xx |\n",
    "| xx | xx | xx | xx |"
   ]
  },
  {
   "cell_type": "code",
   "execution_count": null,
   "id": "008f154c-b327-4731-ba57-9ae91844c424",
   "metadata": {},
   "outputs": [],
   "source": []
  }
 ],
 "metadata": {
  "kernelspec": {
   "display_name": "Python 3 (ipykernel)",
   "language": "python",
   "name": "python3"
  },
  "language_info": {
   "codemirror_mode": {
    "name": "ipython",
    "version": 3
   },
   "file_extension": ".py",
   "mimetype": "text/x-python",
   "name": "python",
   "nbconvert_exporter": "python",
   "pygments_lexer": "ipython3",
   "version": "3.10.13"
  }
 },
 "nbformat": 4,
 "nbformat_minor": 5
}
