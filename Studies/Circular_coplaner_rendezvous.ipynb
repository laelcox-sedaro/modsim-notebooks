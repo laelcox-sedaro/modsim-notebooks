{
 "cells": [
  {
   "cell_type": "markdown",
   "metadata": {},
   "source": [
    "# Sedaro Rendezous Tutorial Notebook \n",
    "Demonstrates using the Sedaro API  to calculate Hohmann Rendezous manevuers between two satelite using a Jupyter notebook.\n",
    "\n",
    "Manuever 1: Start a Hohmann transfer to raise the orbit of the chaser satelite to the same altitude as the target satelite.\n",
    "Manuever 2: Complete the Hohmann transfer to match the velocity of the target satelite.\n",
    "Manuever 3: Engage the Richard WARAT (Wicked Awesome Rendezous Approach Thrust) algorithm "
   ]
  },
  {
   "cell_type": "code",
   "execution_count": 1,
   "metadata": {},
   "outputs": [
    {
     "name": "stderr",
     "output_type": "stream",
     "text": [
      "/usr/local/lib/python3.10/site-packages/tqdm/auto.py:21: TqdmWarning: IProgress not found. Please update jupyter and ipywidgets. See https://ipywidgets.readthedocs.io/en/stable/user_install.html\n",
      "  from .autonotebook import tqdm as notebook_tqdm\n"
     ]
    }
   ],
   "source": [
    "import sedaro\n",
    "import math\n",
    "import yaml\n",
    "import json\n",
    "import matplotlib.pyplot as plt"
   ]
  },
  {
   "cell_type": "markdown",
   "metadata": {},
   "source": [
    "## Important: Read Before Running\n",
    "\n",
    "This notebook makes changes to agent and scenario branches indicated in the settings section. Ensure any changes to the target branches are saved prior to running this code. Sedaro recommends committing current changes and creating new branches in the target repositories to avoid loss of work.\n",
    "\n",
    "This notebook also requires that you have previously generated an API key in the web UI. That key should be stored in a file called `secrets.json` in the same directory as this notebook with the following format:\n",
    "\n",
    "```json\n",
    "{\n",
    "    \"API_KEY\": \"<API_KEY>\"\n",
    "}\n",
    "```\n",
    "\n",
    "API keys grant full access to your repositories and should never be shared. If you think your API key has been compromised, you can revoke it in the user settings interface on the Sedaro website."
   ]
  },
  {
   "cell_type": "markdown",
   "metadata": {},
   "source": [
    "## Sedaro python client setup\n",
    "Note: More information about the sedaro-python client can be found here: [https://github.com/sedaro/sedaro-python]\n",
    "\n",
    "\n",
    "In the next cell, adjust the following variables as needed\n",
    "- *Sedaro_api_host*\n",
    "- *Sedaro_api_token*"
   ]
  },
  {
   "cell_type": "code",
   "execution_count": null,
   "metadata": {},
   "outputs": [],
   "source": [
    "Sedaro_api_host  = \"http://localhost:80\" # \"api.sedaro.com\"\n",
    "\n",
    "# Set your API token value either directly or via loading a secrets file\n",
    "# !! NOTE !!  Be careful not to check in your API Key into a source control repo  !! Note !!\n",
    "secretPath = '/Users/sedaro/Documents/sedaro/sedaro-satellite/secrets.json'\n",
    "with open(secretPath, 'r') as file:\n",
    "    Sedaro_api_token = json.load(file)['API_KEY']\n",
    "    \n",
    "sedaroAPI = sedaro.SedaroApiClient(api_key=Sedaro_api_token, host=Sedaro_api_host)"
   ]
  },
  {
   "cell_type": "markdown",
   "metadata": {},
   "source": [
    "Resources:\n",
    "- Fundamentals of Astrodynamics 1971 (Bate, Mueller, White) pg 163, 362\n",
    "- Fundamentals of Astrodynamics and Applications Fifth Edition 2022 (Vallado) pg 329, 367\n",
    " "
   ]
  },
  {
   "cell_type": "markdown",
   "metadata": {},
   "source": []
  },
  {
   "cell_type": "code",
   "execution_count": 39,
   "metadata": {},
   "outputs": [],
   "source": [
    "# helper functions\n",
    "def phase_angle_between_two_vectors(v1, v2):\n",
    "    return \n",
    "\n",
    "def circuliar_orbit_radius_km(position):\n",
    "    return \n",
    "\n",
    "def position_altitude(position):\n",
    "    return \n",
    "\n",
    "Earth_radius_km = 6378.1363\n",
    "earth_u_ER = 1\n",
    "sec_per_TU = 806.811\n"
   ]
  },
  {
   "cell_type": "code",
   "execution_count": 113,
   "metadata": {},
   "outputs": [],
   "source": [
    "# get the inputs we need to calculate the hohmann transfer\n",
    "# 1. the current position of the chaser satellite\n",
    "# 2. the current position of the target satellite\n",
    "\n",
    "\n",
    "# workspace_id = \"PLkM7LYDBLNQ2gpRvYvRTb\"\n",
    "\n",
    "# scenario_branch_id = \"PLkNJHtS23GqvtxwkvwHHn\"\n",
    "# scenario_branch = sedaroAPI.scenario(scenario_branch_id)\n",
    "\n",
    "# chaser_agent_branch_id = \"PLkNJGQbsZSxf7l47SZHNH\"\n",
    "# chaser_agent_branch = sedaroAPI.agent_template(chaser_agent_branch_id)\n",
    "\n",
    "# target_agent_branch_id = \"PLkNJGQbsZSxf7l47SZHNH\"\n",
    "# target_agent_branch = sedaroAPI.agent_template(target_agent_branch_id)\n",
    "\n",
    "# get the current position of the chaser satellite\n",
    "#chaser_position = chaser_agent_branch.position\n",
    "#chaser_radius_km = calc_circular_orbit_radius_km(chaser_position)\n",
    "chaser_radius_km = 12756.274 # Vallado example pg 368\n",
    "\n",
    "#target_position = target_agent_branch.position\n",
    "#target_radius_km = calc_circular_orbit_radius_km(target_position)\n",
    "target_radius_km = 42159.48 # Vallado example pg 368\n",
    "\n",
    "# get the phase angle between the chaser and target\n",
    "#phase_angle = phase_angle_between_two_vectors(chaser_position, target_position)\n",
    "phase_angle_deg = -20.0 # Vallado example pg 368\n"
   ]
  },
  {
   "cell_type": "code",
   "execution_count": 137,
   "metadata": {},
   "outputs": [],
   "source": [
    "# Circular Coplanar Phasing (different orbits)\n",
    "\n",
    "def calc_radaii_canonical_units(radius_km):\n",
    "    return radius_km / Earth_radius_km\n",
    "\n",
    "def calc_circular_mean_motion(radius_ER):\n",
    "    return math.sqrt(earth_u_ER / (radius_ER**3))\n",
    "\n",
    "\n",
    "def calc_semi_major_axis_of_transfer_orbit(first_radius_ER, second_radius_ER):\n",
    "    return (first_radius_ER + second_radius_ER) / 2\n",
    "\n",
    "def calc_circular_orbit_velocity(radius_ER):\n",
    "    return math.sqrt(earth_u_ER / radius_ER)\n",
    "\n",
    "def calc_hohmann_transfer_dvs(chaser_radius_ER, target_radius_ER):\n",
    "    # calculate the semi-major axis of the transfer orbit\n",
    "    a_transfer = calc_semi_major_axis_of_transfer_orbit(chaser_radius_ER, target_radius_ER)\n",
    "\n",
    "    # calculate the velocity of the chaser satellite in its current orbit\n",
    "    v_chaser = calc_circular_orbit_velocity(chaser_radius_ER)\n",
    "\n",
    "    # calculate the velocity of the target satellite in its current orbit\n",
    "    v_target = calc_circular_orbit_velocity(target_radius_ER)\n",
    "\n",
    "    # calculate the velocity of the chaser satellite at the start transfer orbit point\n",
    "    v_start_transfer = (math.sqrt(earth_u_ER * ((2 / chaser_radius_ER) - (1 / a_transfer))))\n",
    "\n",
    "    # calculate the velocity of the target satellite at the end _transfer orbit point\n",
    "    v_end_transfer = (math.sqrt(earth_u_ER * ((2 / target_radius_ER) - (1 / a_transfer))))\n",
    "\n",
    "    # calculate the velocity change required for the chaser satellite to enter the transfer orbit\n",
    "    dv_to_enter_the_transfer_orbit = math.fabs(v_start_transfer - v_chaser)\n",
    "\n",
    "    # calculate the velocity change required for the chaser satellite to exit the transfer orbit\n",
    "    dv_to_exit_the_transfer_orbit = math.fabs(v_end_transfer - v_target ) \n",
    "\n",
    "    return dv_to_enter_the_transfer_orbit, dv_to_exit_the_transfer_orbit\n",
    "\n",
    "\n",
    "def calc_hohmann_transfer_time(chaser_radius_ER, target_radius_ER):\n",
    "    # calculate the semi-major axis of the transfer orbit\n",
    "    a_transfer = calc_semi_major_axis_of_transfer_orbit(chaser_radius_ER, target_radius_ER)\n",
    "\n",
    "    # calculate the period of the transfer orbit\n",
    "    T_transfer =2 * math.pi * math.sqrt((a_transfer ** 3) / earth_u_ER)\n",
    "\n",
    "    # calculate the time to transfer from the chaser orbit to the target orbit\n",
    "    time_transfer = T_transfer / 2\n",
    "\n",
    "    return time_transfer\n",
    "\n",
    "def calc_lead_angle_for_target(chaser_radius_ER, target_radius_ER):\n",
    "    target_mean_motion = calc_circular_mean_motion(target_radius_ER)\n",
    "    return calc_hohmann_transfer_time(chaser_radius_ER, target_radius_ER) * target_mean_motion\n",
    "\n",
    "def phasing_angle_for_target(chaser_radius_ER, target_radius_ER):\n",
    "    return math.pi - calc_lead_angle_for_target(chaser_radius_ER, target_radius_ER)\n",
    "\n",
    "def calc_hohmann_transfer_wait_time(chaser_radius_ER, target_radius_ER, phase_angle_deg, k):\n",
    "    wait_time = (phasing_angle_for_target(chaser_radius_ER, target_radius_ER) - phase_angle_deg*math.pi/180 + 2*math.pi*k) / (calc_circular_mean_motion(chaser_radius_ER) - calc_circular_mean_motion(target_radius_ER))\n",
    "    return wait_time\n"
   ]
  },
  {
   "cell_type": "code",
   "execution_count": 146,
   "metadata": {},
   "outputs": [],
   "source": [
    "# valldo example pg 368\n",
    "# convert the radii to canonical units\n",
    "a_chaser_ER = calc_radaii_canonical_units(chaser_radius_km)\n",
    "a_target_ER = calc_radaii_canonical_units(target_radius_km) \n",
    "assert a_target_ER, a_chaser_ER == (6.6099998521511685, 2.000000219499856)"
   ]
  },
  {
   "cell_type": "code",
   "execution_count": 145,
   "metadata": {},
   "outputs": [],
   "source": [
    "wait_time_TU = calc_hohmann_transfer_wait_time(a_chaser_ER, a_target_ER, phase_angle_deg, k=1)\n",
    "assert wait_time_TU == 27.561387230783627"
   ]
  },
  {
   "cell_type": "code",
   "execution_count": 144,
   "metadata": {},
   "outputs": [],
   "source": [
    "dv_start, dv_end = calc_hohmann_transfer_dvs(a_chaser_ER, a_target_ER)\n",
    "total_delta_v_ERperTU = dv_start + dv_end \n",
    "assert 0.29292887865895556 == total_delta_v_ERperTU"
   ]
  },
  {
   "cell_type": "code",
   "execution_count": 143,
   "metadata": {},
   "outputs": [
    {
     "data": {
      "text/plain": [
       "2.3157100167114475"
      ]
     },
     "execution_count": 143,
     "metadata": {},
     "output_type": "execute_result"
    }
   ],
   "source": [
    "(dv_start + dv_end)*Earth_radius_km/sec_per_TU # km/s"
   ]
  },
  {
   "cell_type": "code",
   "execution_count": null,
   "metadata": {},
   "outputs": [],
   "source": []
  }
 ],
 "metadata": {
  "kernelspec": {
   "display_name": "Python 3",
   "language": "python",
   "name": "python3"
  },
  "language_info": {
   "codemirror_mode": {
    "name": "ipython",
    "version": 3
   },
   "file_extension": ".py",
   "mimetype": "text/x-python",
   "name": "python",
   "nbconvert_exporter": "python",
   "pygments_lexer": "ipython3",
   "version": "3.10.13"
  }
 },
 "nbformat": 4,
 "nbformat_minor": 2
}
