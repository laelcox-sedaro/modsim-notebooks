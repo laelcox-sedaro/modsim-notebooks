{
 "cells": [
  {
   "cell_type": "markdown",
   "metadata": {},
   "source": [
    "# Wildfire Cosimulation Game\n",
    "*This notebook utilizes newer Python features like the walrus operator (`:=`) from 3.8 and `match`-`case` statements from 3.10. If you are not using an up-to-date version of Python, you will need to make changes to parts of this notebook to account for the absence of newly-supported syntax.*"
   ]
  },
  {
   "cell_type": "markdown",
   "metadata": {},
   "source": [
    "## Necessary Imports & Definitions\n",
    "The following package imports, variables, functions, and classes will be necessary to execute various parts of this notebook."
   ]
  },
  {
   "cell_type": "markdown",
   "metadata": {},
   "source": [
    "### Sedaro Variables\n",
    "To use this notebook, you will need to update some of the string values below. Specifically, input your API key as the `API_KEY` variable and the target Wildfire scenario branch ID as the `SCENARIO_BRANCH_ID` variable. The `WILDFIRE_ID` string should not require changing, but if you run into problems you may need to check this value to verify that it matches the agent ID of Wildfire in the targeted scenario."
   ]
  },
  {
   "cell_type": "code",
   "execution_count": 363,
   "metadata": {},
   "outputs": [],
   "source": [
    "API_KEY = \"API KEY HERE\" # API key, change to match your API key\n",
    "SCENARIO_BRANCH_ID = \"BRANCH ID HERE\" # Scenario branch ID, change to match your scenario branch\n",
    "WILDFIRE_ID = \"NT06aqHUT5djI1_JPAsck\" # Wildfire ID, should not need changing\n",
    "API_HOST = \"https://api.sedaro.com\"\n",
    "WEB_HOST = \"https://satellite.sedaro.com\"\n",
    "\n",
    "from sedaro import SedaroApiClient\n",
    "sedaro = SedaroApiClient(host=API_HOST, api_key=API_KEY)\n",
    "scenario = sedaro.scenario(SCENARIO_BRANCH_ID)\n",
    "simulation = scenario.simulation"
   ]
  },
  {
   "cell_type": "markdown",
   "metadata": {},
   "source": [
    "### Simple Conversion Functions\n",
    "Sedaro outputs the simulation time in MJD dates and angles in radians. These functions will help to easily convert MJD dates to `datetime` objects and radians to degrees."
   ]
  },
  {
   "cell_type": "code",
   "execution_count": 364,
   "metadata": {},
   "outputs": [],
   "source": [
    "from datetime import datetime, timedelta\n",
    "def mjd2dt(mjd: float) -> datetime:\n",
    "    \"\"\"Convert Modified Julian Date (MJD) float to datetime object.\"\"\"\n",
    "    return datetime(1858, 11, 17) + timedelta(days=mjd)\n",
    "\n",
    "from math import pi\n",
    "def rad2deg(rad: float) -> float:\n",
    "    \"\"\"Convert radians to degrees.\"\"\"\n",
    "    return rad * 180 / pi"
   ]
  },
  {
   "cell_type": "markdown",
   "metadata": {},
   "source": [
    "### Rotation & Quaternion Functions\n",
    "Below are functions that will allow us to calculate the rotation matrix of a quaternion and convert between the spacecraft body frame and the Local-Vertical/Local-Horizontal (LVLH) frame."
   ]
  },
  {
   "cell_type": "code",
   "execution_count": 365,
   "metadata": {},
   "outputs": [],
   "source": [
    "import numpy as np\n",
    "def quaternion2RotMat(quaternion: np.ndarray) -> np.ndarray:\n",
    "        if len(quaternion) != 4:\n",
    "            raise ValueError(\"Bad shape\")\n",
    "\n",
    "        rotation = np.zeros((3, 3))\n",
    "\n",
    "        rotation[0, 0] = 1 - 2 * (quaternion[1] * quaternion[1] + quaternion[2] * quaternion[2])\n",
    "        rotation[1, 0] = 2 * (quaternion[0] * quaternion[1] + quaternion[3] * quaternion[2])\n",
    "        rotation[2, 0] = 2 * (quaternion[0] * quaternion[2] - quaternion[3] * quaternion[1])\n",
    "\n",
    "        rotation[0, 1] = 2 * (quaternion[0] * quaternion[1] - quaternion[3] * quaternion[2])\n",
    "        rotation[1, 1] = 1 - 2 * (quaternion[0] * quaternion[0] + quaternion[2] * quaternion[2])\n",
    "        rotation[2, 1] = 2 * (quaternion[1] * quaternion[2] + quaternion[3] * quaternion[0])\n",
    "\n",
    "        rotation[0, 2] = 2 * (quaternion[0] * quaternion[2] + quaternion[3] * quaternion[1])\n",
    "        rotation[1, 2] = 2 * (quaternion[1] * quaternion[2] - quaternion[3] * quaternion[0])\n",
    "        rotation[2, 2] = 1 - 2 * (quaternion[0] * quaternion[0] + quaternion[1] * quaternion[1])\n",
    "\n",
    "        return rotation\n",
    "\n",
    "def body2Lvlh(attitude, lvlh_to_eci):\n",
    "    body_to_eci = quaternion2RotMat(attitude) # body to ECI rotation matrix\n",
    "    eci_to_lvlh = lvlh_to_eci.T # transpose for ECI to LVLH rotation matrix\n",
    "    body_to_lvlh = eci_to_lvlh @ body_to_eci # body to LVLH rotation matrix\n",
    "    return body_to_lvlh"
   ]
  },
  {
   "cell_type": "markdown",
   "metadata": {},
   "source": [
    "### Keyboard Input\n",
    "This notebook utilizes the `pynput` package to interpret keypresses and trigger actions depending on which keys are pressed. These functions define the behavior of the `on_press` and `on_release` callbacks for the keyboard listener. Finally, the `keyboard.Listener` object is initialized and is ready to be started later."
   ]
  },
  {
   "cell_type": "code",
   "execution_count": 366,
   "metadata": {},
   "outputs": [],
   "source": [
    "from pynput import keyboard\n",
    "def on_press(key):\n",
    "    global RWs, thruster\n",
    "    if isinstance(key, keyboard.KeyCode):\n",
    "        match key.char:\n",
    "            case 'w': # pitch down\n",
    "                RWs['Y'].forward()\n",
    "            case 's': # pitch up\n",
    "                RWs['Y'].reverse()\n",
    "            case 'a': # yaw left\n",
    "                RWs['Z'].reverse()\n",
    "            case 'd': # yaw right\n",
    "                RWs['Z'].forward()\n",
    "            case 'q': # roll left\n",
    "                RWs['X'].reverse()\n",
    "            case 'e': # roll right\n",
    "                RWs['X'].forward()\n",
    "            case n if int(n) in range(1, 10): # set op mode\n",
    "                sat.setOpMode(int(n))\n",
    "    elif isinstance(key, keyboard.Key):\n",
    "        if key == keyboard.Key.space: # fire thruster\n",
    "            thruster.burn()\n",
    "        elif key == keyboard.Key.esc:\n",
    "            print('Stopping the keyboard listener.')\n",
    "            return False # stop listener\n",
    "\n",
    "def on_release(key):\n",
    "    global RWs, thruster\n",
    "    if isinstance(key, keyboard.KeyCode):\n",
    "        match key.char:\n",
    "            case 'w' | 's':\n",
    "                RWs['Y'].stop()\n",
    "            case 'a' | 'd':\n",
    "                RWs['Z'].stop()\n",
    "            case 'q' | 'e':\n",
    "                RWs['X'].stop()\n",
    "    elif isinstance(key, keyboard.Key):\n",
    "        if key == keyboard.Key.space:\n",
    "            thruster.stop()\n",
    "\n",
    "listener = keyboard.Listener(on_press=on_press, on_release=on_release)"
   ]
  },
  {
   "cell_type": "markdown",
   "metadata": {},
   "source": [
    "### Game Classes\n",
    "These classes will help logically organize, calculate, and recall information during the game loop. They are separate from classes within the `sedaro` Python package; they are purely for game logic."
   ]
  },
  {
   "cell_type": "code",
   "execution_count": 367,
   "metadata": {},
   "outputs": [],
   "source": [
    "from time import sleep\n",
    "class Game:\n",
    "    def __init__(self, min_loop_time = 0.2):\n",
    "        self.minLoopTime = min_loop_time # minimum game loop time [seconds]\n",
    "        self.prevTime = None\n",
    "        self.time = None\n",
    "        self.loopStart = None\n",
    "        self.loopEnd = None\n",
    "        self.loopTime = None\n",
    "    \n",
    "    def startLoop(self):\n",
    "        self.loopStart = datetime.now()\n",
    "    \n",
    "    def endLoop(self):\n",
    "        self.loopEnd = datetime.now()\n",
    "        self.loopTime = (self.loopEnd - self.loopStart).total_seconds()\n",
    "    \n",
    "    def wait(self):\n",
    "        if self.loopTime < self.minLoopTime:\n",
    "            sleep(self.minLoopTime - self.loopTime) # sleep for the remainder of the minimum game loop time\n",
    "    \n",
    "    def update(self):\n",
    "        if self.prevTime < self.time:\n",
    "            self.prevTime = self.time\n",
    "            return True\n",
    "        else:\n",
    "            return False\n",
    "\n",
    "class Satellite:\n",
    "    def __init__(self, opModes):\n",
    "        self.opModes = opModes\n",
    "        self.activeOpMode = opModes[0]\n",
    "        self.stateOfCharge = None\n",
    "        self.powerLoading = 0\n",
    "        self.solarUtilization = None\n",
    "        self.apogee = None\n",
    "        self.perigee = None\n",
    "        self.attitude = None\n",
    "        self.lvlh2Eci = None\n",
    "        self.yaw = None\n",
    "        self.pitch = None\n",
    "    \n",
    "    def calcYawPitch(self, thruster):\n",
    "        \"\"\"Calculate the yaw and pitch angles of the thrust vector in the ram frame\"\"\"\n",
    "        vector = -thruster.exhaustVector # thrust vector in body frame\n",
    "        vector = body2Lvlh(self.attitude, self.lvlh2Eci) @ vector # vector in LVLH frame\n",
    "        self.yaw = -np.arctan2(vector[2], vector[1]) # yaw angle from ram in LVLH frame\n",
    "        self.pitch = np.arcsin(vector[0]) # pitch angle from ram in LVLH frame\n",
    "    \n",
    "    def setOpMode(self, priority: int):\n",
    "        \"\"\"Set the active op mode based on priority\"\"\"\n",
    "        priority = min(priority, len(self.opModes)) # limit priority input to number of op modes\n",
    "        self.activeOpMode = self.opModes[priority - 1] # set active op mode\n",
    "\n",
    "class RW:\n",
    "    def __init__(self, ratedTorque: float, ratedMomentum: float):\n",
    "        self.ratedTorque = ratedTorque\n",
    "        self.torque = 0\n",
    "        self.ratedMomentum = ratedMomentum\n",
    "        self.momentum = 0\n",
    "    \n",
    "    def forward(self):\n",
    "        self.torque = self.ratedTorque\n",
    "    \n",
    "    def reverse(self):\n",
    "        self.torque = -self.ratedTorque\n",
    "    \n",
    "    def stop(self):\n",
    "        self.torque = 0\n",
    "\n",
    "class Thruster:\n",
    "    def __init__(self, maxThrust: float, exhaustVector, capacity: float):\n",
    "        self.maxThrust = maxThrust\n",
    "        self.thrust = 0\n",
    "        self.exhaustVector = exhaustVector\n",
    "        self.capacity = capacity\n",
    "        self.fuel = capacity\n",
    "    \n",
    "    def burn(self):\n",
    "        self.thrust = self.maxThrust\n",
    "    \n",
    "    def stop(self):\n",
    "        self.thrust = 0"
   ]
  },
  {
   "cell_type": "markdown",
   "metadata": {},
   "source": [
    "### User Interface\n",
    "These functions define the format and logic for displaying information during the game loop. `bar` generates a colored capacity bar that will help to visualize various variables. `display` formats information from the game classes and displays a user interface in the [game loop](#game-loop) output cell."
   ]
  },
  {
   "cell_type": "code",
   "execution_count": 368,
   "metadata": {},
   "outputs": [],
   "source": [
    "def bar(num: float, minimum: float, maximum: float, start: float = 0, width: int = 101):\n",
    "    bar_color = '\\033[34m' # blue\n",
    "    slide_color = '\\033[36m' # cyan\n",
    "    rail_color = '\\033[0m' # reset\n",
    "\n",
    "    num = max(minimum, min(num, maximum)) # keep num within bounds\n",
    "    w = width - 2 # width adjusted for brackets\n",
    "    str = [slide_color + '-'] * w # create list of slide characters\n",
    "    i_start, i_num = [min(int((n - minimum) / (maximum - minimum) * w), w - 1) for n in [start, num]] # get indices of start and num\n",
    "    for i in range(i_start, i_num + 1, 1) if i_num > i_start else range(i_start, i_num - 1, -1): # loop between start and num indices\n",
    "        str[i] = bar_color + '\\u2588' # insert bar\n",
    "    str[i_start] = rail_color + '|' # insert start rail\n",
    "    str.insert(0, rail_color + '[') # add left bracket\n",
    "    str.append(rail_color + ']') # add right bracket\n",
    "    return ''.join(str) # return joined list as string\n",
    "\n",
    "from IPython.display import clear_output\n",
    "def display(update: bool = False):\n",
    "    update_color = '\\033[92m' # green\n",
    "    bold = '\\033[1m' # bold\n",
    "    reset = '\\033[0m'\n",
    "    info_string = \"\\n\".join([\n",
    "        f\"{bold}Loop Time{reset}:           {game.loopTime:.4f} seconds\",\n",
    "        \"\",\n",
    "        f\"{bold}Simulation Time{reset}:     {update_color if update else ''}{mjd2dt(game.time)}{reset}\",\n",
    "        \"\",\n",
    "        f\"{bold}Operational Mode{reset}:    [{sat.activeOpMode.priority + 1}] {sat.activeOpMode.name}\",\n",
    "        \"\",\n",
    "        f\"{bold}---- Orbit ----{reset}\",\n",
    "        f\"  Apogee:            {sat.apogee:9.4f} km\",\n",
    "        f\"  Perigee:           {sat.perigee:9.4f} km\",\n",
    "        \"\",\n",
    "        f\"{bold}---- Attitude ----{reset}\",\n",
    "        f\"  Yaw from Ram:      {bar(rad2deg(sat.yaw), -180, 180)} {rad2deg(sat.yaw):7.2f}\\u00B0\",\n",
    "        f\"  Pitch from Ram:    {bar(rad2deg(sat.pitch), -90, 90)} {rad2deg(sat.pitch):7.2f}\\u00B0\",\n",
    "        \"\",\n",
    "        f\"{bold}---- Actuators ----{reset}\",\n",
    "        f\"                          {bold}Actuation{reset}      |                                                {bold}Capacity{reset}\",\n",
    "        f\"  RW X:              {bar(RWs['X'].torque, -RWs['X'].ratedTorque, RWs['X'].ratedTorque, 0, 9)} {RWs['X'].torque:5.2f} N\\u22C5m | {bar(RWs['X'].momentum, -RWs['X'].ratedMomentum, RWs['X'].ratedMomentum)} {RWs['X'].momentum:5.2f} N\\u22C5s\",\n",
    "        f\"  RW Y:              {bar(RWs['Y'].torque, -RWs['Y'].ratedTorque, RWs['Y'].ratedTorque, 0, 9)} {RWs['Y'].torque:5.2f} N\\u22C5m | {bar(RWs['Y'].momentum, -RWs['Y'].ratedMomentum, RWs['Y'].ratedMomentum)} {RWs['Y'].momentum:5.2f} N\\u22C5s\",\n",
    "        f\"  RW Z:              {bar(RWs['Z'].torque, -RWs['Z'].ratedTorque, RWs['Z'].ratedTorque, 0, 9)} {RWs['Z'].torque:5.2f} N\\u22C5m | {bar(RWs['Z'].momentum, -RWs['Z'].ratedMomentum, RWs['Z'].ratedMomentum)} {RWs['Z'].momentum:5.2f} N\\u22C5s\",\n",
    "        f\"  Thruster:          {bar(thruster.thrust, 0, thruster.maxThrust, 0, 9)} {thruster.thrust:5.1f} N   | {bar(thruster.fuel, 0, thruster.capacity)} {thruster.fuel:5.2f} kg\",\n",
    "        \"\",\n",
    "        f\"{bold}---- Power ----{reset}\",\n",
    "        f\"  Power Loading:     {sat.powerLoading:5.2f} W\",\n",
    "        f\"  Battery Charge:    {bar(sat.stateOfCharge, 0, 1)} {sat.stateOfCharge:7.2%}\",\n",
    "        f\"  Solar Utilization: {bar(sat.solarUtilization, 0, 1)} {sat.solarUtilization:7.2%}\",\n",
    "    ])\n",
    "    clear_output() # clear output of Jupyter Notebook cell output\n",
    "    print(info_string, flush=True)"
   ]
  },
  {
   "cell_type": "markdown",
   "metadata": {},
   "source": [
    "## Scenario Setup"
   ]
  },
  {
   "cell_type": "markdown",
   "metadata": {},
   "source": [
    "### External State Block"
   ]
  },
  {
   "cell_type": "code",
   "execution_count": 369,
   "metadata": {},
   "outputs": [],
   "source": [
    "# Delete existing ExternalState blocks\n",
    "if len(perRoundIDs := scenario.PerRoundExternalState.get_all_ids()) > 0:\n",
    "    scenario.crud(delete=perRoundIDs)\n",
    "if len(spontaneousIDs := scenario.SpontaneousExternalState.get_all_ids()) > 0:\n",
    "    scenario.crud(delete=spontaneousIDs)"
   ]
  },
  {
   "cell_type": "code",
   "execution_count": 370,
   "metadata": {},
   "outputs": [],
   "source": [
    "gnc_state_block = scenario.SpontaneousExternalState.create(**{\n",
    "            'consumed':[\n",
    "                \"time\",\n",
    "                {\"root\": \"attitude\"},\n",
    "                {\"root\": \"lvlhAxes\"},\n",
    "                {\"ReactionWheel\": \"momentum\"},\n",
    "                {\"FuelTank\": \"wetMass\"},\n",
    "                {\"Orbit\": \"radiusApogee\"},\n",
    "                {\"Orbit\": \"radiusPerigee\"}],\n",
    "            'produced': [\n",
    "                {\"ReactionWheel\": \"commandedTorqueMagnitude\"},\n",
    "                {\"Thruster\": \"thrust\"},\n",
    "                \"timeStep\"],\n",
    "            'engineIndex': 0,\n",
    "            'agents': [WILDFIRE_ID],\n",
    "        }\n",
    "    )\n",
    "GNC_STATE_ID = gnc_state_block.id\n",
    "cdh_state_block = scenario.SpontaneousExternalState.create(**{\n",
    "            'consumed': [{\"prev.root\": \"activeCommInterfaces\"}],\n",
    "            'produced': [{\"root\": \"activeOpMode\"}],\n",
    "            'engineIndex': 1,\n",
    "            'agents': [WILDFIRE_ID],\n",
    "        }\n",
    "    )\n",
    "CDH_STATE_ID = cdh_state_block.id\n",
    "power_state_block = scenario.SpontaneousExternalState.create(**{\n",
    "            'consumed':[\n",
    "                {\"Battery\": \"soc\"},\n",
    "                {\"PowerProcessor\": \"outputPowers\"},\n",
    "                {\"SolarArray\": \"utilization\"}],\n",
    "            'engineIndex': 2,\n",
    "            'agents': [WILDFIRE_ID],\n",
    "        }\n",
    "    )\n",
    "POWER_STATE_ID = power_state_block.id"
   ]
  },
  {
   "cell_type": "markdown",
   "metadata": {},
   "source": [
    "### Clock Configuration\n",
    "By default, the scenario clock is configured to not limit the speed of the simulation. To make our game more interactive, we set the `ClockConfig` to run in real-time. This only needs to be done once as every subsequent simulation will now run in real-time until this setting is changed back to `realTime=False`."
   ]
  },
  {
   "cell_type": "code",
   "execution_count": 371,
   "metadata": {},
   "outputs": [],
   "source": [
    "clock_config = scenario.ClockConfig.get_first() # get clock config block\n",
    "_ = clock_config.update(realTime=True, syncTime=False) # set real-time mode with syncTime off"
   ]
  },
  {
   "cell_type": "markdown",
   "metadata": {},
   "source": [
    "### Game Class Initialization\n"
   ]
  },
  {
   "cell_type": "markdown",
   "metadata": {},
   "source": [
    "#### Actuator Initialization\n",
    "If you have changed the names (or orientations) of Wildfire's reaction wheels, you will need to update the `RW_names` dictionary in the block below as it uses these values to determine the maximum torque available to each reaction wheel."
   ]
  },
  {
   "cell_type": "code",
   "execution_count": 372,
   "metadata": {},
   "outputs": [],
   "source": [
    "agent_block = scenario.block(WILDFIRE_ID)\n",
    "AGENT_TEMPLATE_ID = agent_block.templateRef # get referenced agent template branch ID\n",
    "agent_template = sedaro.agent_template(AGENT_TEMPLATE_ID) # get agent template\n",
    "\n",
    "## Reaction Wheels\n",
    "RW_names = {\n",
    "    'X': \"RW-X\",\n",
    "    'Y': \"RW-Y\",\n",
    "    'Z': \"RW-Z\"\n",
    "} # reaction wheel names for their corresponding axes\n",
    "RWs = {}\n",
    "reaction_wheel_IDs = agent_template.data['index']['ReactionWheel'] # list of reaction wheel IDs in agent template\n",
    "for rw_ID in reaction_wheel_IDs: # iterate through reaction wheels to get rated torques\n",
    "    rw_block = agent_template.block(rw_ID) # reaction wheel block\n",
    "    for axis, name in RW_names.items():\n",
    "        if rw_block.name == name:\n",
    "            RWs[axis] = RW(rw_block.ratedTorque, rw_block.ratedMomentum)\n",
    "            break\n",
    "\n",
    "## Thruster\n",
    "thruster_ID = agent_template.data['index']['Thruster'][0] # thruster ID in agent template\n",
    "thruster_block = agent_template.block(thruster_ID) # thruster block\n",
    "thruster = Thruster(thruster_block.maxThrust,\n",
    "                    np.array(thruster_block.orientation.unitVector), # thruster exhaust vector\n",
    "                    sum(tank.capacity for tank in thruster_block.fuelReservoir.fuelTanks), # capacity of thruster's fuel tanks\n",
    "                    ) # initialize thruster"
   ]
  },
  {
   "cell_type": "markdown",
   "metadata": {},
   "source": [
    "#### Operational Mode Sorting"
   ]
  },
  {
   "cell_type": "code",
   "execution_count": 373,
   "metadata": {},
   "outputs": [],
   "source": [
    "op_mode_blocks = agent_template.OperationalMode.get_all()\n",
    "sorted_op_modes = sorted(op_mode_blocks, key=lambda x: x.priority)"
   ]
  },
  {
   "cell_type": "markdown",
   "metadata": {},
   "source": [
    "#### Game & Satellite Initialization"
   ]
  },
  {
   "cell_type": "code",
   "execution_count": 374,
   "metadata": {},
   "outputs": [],
   "source": [
    "game = Game()\n",
    "game.prevTime = clock_config.startTime # initialize previous game loop time to start time\n",
    "sat = Satellite(sorted_op_modes)"
   ]
  },
  {
   "cell_type": "markdown",
   "metadata": {},
   "source": [
    "## Running the Game"
   ]
  },
  {
   "cell_type": "markdown",
   "metadata": {},
   "source": [
    "### Starting Simulation & Listener\n",
    "These blocks will start the simulation and the keyboard listener. Starting the simulation can take longer for more complicated scenarios, so you may need to give it some time (~30 seconds). After the simulation is started, the code block below will print a link that you can use to view the scenario results in a web browser."
   ]
  },
  {
   "cell_type": "code",
   "execution_count": null,
   "metadata": {},
   "outputs": [],
   "source": [
    "simulation_handle = simulation.start() # start the simulation (this will take a few seconds)\n",
    "print(f\"View the scenario results at {WEB_HOST}/#/agent-analyze/{SCENARIO_BRANCH_ID}/custom/playback?agentId={WILDFIRE_ID}\") # print link to scenario results"
   ]
  },
  {
   "cell_type": "code",
   "execution_count": null,
   "metadata": {},
   "outputs": [],
   "source": [
    "listener.start() # start non-blocking keyboard listener in another thread"
   ]
  },
  {
   "cell_type": "markdown",
   "metadata": {},
   "source": [
    "### Game Loop"
   ]
  },
  {
   "cell_type": "code",
   "execution_count": null,
   "metadata": {},
   "outputs": [],
   "source": [
    "while listener.running and simulation.status()['status'] == 'RUNNING':\n",
    "    game.startLoop() # start game loop timer\n",
    "    sim_updated = False\n",
    "\n",
    "    # Consume & produce simulation state\n",
    "    gnc_state = simulation_handle.consume(agent_id = WILDFIRE_ID, external_state_id = GNC_STATE_ID) # query the simulation for the current state\n",
    "    simulation_handle.produce(agent_id = WILDFIRE_ID,\n",
    "                              external_state_id = GNC_STATE_ID,\n",
    "                              values = (\n",
    "                                  [RWs['X'].torque, RWs['Y'].torque, RWs['Z'].torque],\n",
    "                                  [thruster.thrust],\n",
    "                                  2 / 86400)) # Send state (reaction wheel torque and thruster thrust) to the simulation\n",
    "    simulation_handle.consume(agent_id = WILDFIRE_ID, external_state_id = CDH_STATE_ID) # query the simulation for the current state\n",
    "    simulation_handle.produce(agent_id = WILDFIRE_ID,\n",
    "                              external_state_id = CDH_STATE_ID,\n",
    "                              values = (sat.activeOpMode.id,))\n",
    "    power_state = simulation_handle.consume(agent_id = WILDFIRE_ID, external_state_id = POWER_STATE_ID) # query the simulation for the current state\n",
    "    \n",
    "\n",
    "    # Parse simulation output\n",
    "    (\n",
    "        time, # simulation time [MJD]\n",
    "        attitude,\n",
    "        lvlhAxes,\n",
    "        momentum, # reaction wheel momentum list\n",
    "        wetMass, # tank fuel list\n",
    "        apogee, # apogee list [km]\n",
    "        perigee # perigee list [km]\n",
    "    ) = gnc_state # unpack the GNC state tuple\n",
    "    (\n",
    "        stateOfCharge, # battery state of charge list\n",
    "        powerLoading, # power processor output power list\n",
    "        solarUtilization, # solar array utilization list\n",
    "    ) = power_state # unpack the power state tuple\n",
    "\n",
    "    # Update fields\n",
    "    game.time = time # update game time\n",
    "    sat.attitude = attitude # update attitude quaternion\n",
    "    sat.lvlh2Eci = lvlhAxes # update LVLH axes\n",
    "    sat.calcYawPitch(thruster) # calculate yaw and pitch angles\n",
    "    for rw, m in zip(RWs.values(), momentum):\n",
    "        rw.momentum = m # update reaction wheel momentum\n",
    "    thruster.fuel = sum(wetMass) # update thruster fuel\n",
    "    sat.apogee = apogee[0] # apogee [km]\n",
    "    sat.perigee = perigee[0] # perigee [km]\n",
    "    sat.stateOfCharge = stateOfCharge[0]\n",
    "    sat.powerLoading = powerLoading[0]['total']\n",
    "    totalUtilization = sum([(util if util == util else 0) for util in solarUtilization]) # sum utilization values, ignoring NaNs\n",
    "    sat.solarUtilization = totalUtilization / len(solarUtilization)\n",
    "\n",
    "    sim_updated = game.update() # detect if the simulation time has changed\n",
    "    game.endLoop() # end game loop timer\n",
    "    display(sim_updated) # update display output\n",
    "    game.wait() # wait if necessary"
   ]
  },
  {
   "cell_type": "markdown",
   "metadata": {},
   "source": [
    "### Stopping Simulation & Listener"
   ]
  },
  {
   "cell_type": "code",
   "execution_count": 378,
   "metadata": {},
   "outputs": [],
   "source": [
    "listener.stop() # stop keyboard listener if it hasn't been stopped already"
   ]
  },
  {
   "cell_type": "code",
   "execution_count": 379,
   "metadata": {},
   "outputs": [],
   "source": [
    "try:\n",
    "    simulation_handle.terminate() # stop simulation if it hasn't stopped already\n",
    "except:\n",
    "    pass"
   ]
  }
 ],
 "metadata": {
  "kernelspec": {
   "display_name": "Python 3",
   "language": "python",
   "name": "python3"
  },
  "language_info": {
   "codemirror_mode": {
    "name": "ipython",
    "version": 3
   },
   "file_extension": ".py",
   "mimetype": "text/x-python",
   "name": "python",
   "nbconvert_exporter": "python",
   "pygments_lexer": "ipython3",
   "version": "3.11.4"
  },
  "orig_nbformat": 4
 },
 "nbformat": 4,
 "nbformat_minor": 2
}
